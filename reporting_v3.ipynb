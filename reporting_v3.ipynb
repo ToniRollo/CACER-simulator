{
 "cells": [
  {
   "cell_type": "code",
   "execution_count": 89,
   "metadata": {},
   "outputs": [],
   "source": [
    "# Cambiare policy su powershell : Set-ExecutionPolicy remotesigned\n",
    "from Funzioni_Generali import clear_folder_content, province_to_region, get_calendar, check_file_status, province_italian_to_english\n",
    "from Funzioni_Energy_Model import get_coordinates\n",
    "import pandas as pd\n",
    "import yaml\n",
    "import plotly.graph_objects as go\n",
    "import fpdf\n",
    "import dataframe_image as dfi\n",
    "import glob\n",
    "from datetime import datetime\n",
    "import os\n",
    "from plotly.subplots import make_subplots\n",
    "import numpy as np\n",
    "import xlwings as xw\n",
    "from pvlib import solarposition\n",
    "import matplotlib.pyplot as plt"
   ]
  },
  {
   "cell_type": "code",
   "execution_count": 90,
   "metadata": {},
   "outputs": [],
   "source": [
    "global num_graph, flag_show, detailed_report"
   ]
  },
  {
   "cell_type": "code",
   "execution_count": 161,
   "metadata": {},
   "outputs": [],
   "source": [
    "config = yaml.safe_load(open(\"config.yml\", 'r'))"
   ]
  },
  {
   "cell_type": "code",
   "execution_count": 162,
   "metadata": {},
   "outputs": [],
   "source": [
    "repor_yaml = yaml.safe_load(open(config[\"filename_report\"], 'r'))"
   ]
  },
  {
   "cell_type": "code",
   "execution_count": 163,
   "metadata": {},
   "outputs": [],
   "source": [
    "flag_show = repor_yaml['flag_show']\n",
    "num_graph = 0\n",
    "detailed_report = True"
   ]
  },
  {
   "cell_type": "code",
   "execution_count": 94,
   "metadata": {},
   "outputs": [],
   "source": [
    "name_months = ['GEN', 'FEB', 'MAR', 'APR', 'MAG', 'GIU', 'LUG', 'AGO', 'SET', 'OTT', 'NOV', 'DIC']"
   ]
  },
  {
   "cell_type": "code",
   "execution_count": 95,
   "metadata": {},
   "outputs": [],
   "source": [
    "filename_CACER_energy_monthly = config['filename_CACER_energy_monthly']\n",
    "foldername_graphs_energy = config['foldername_graphs_energy']\n",
    "foldername_graphs = config['foldername_graphs']\n",
    "foldername_result_energy = config[\"foldername_result_energy\"]\n",
    "foldername_graphs_generali = config[\"foldername_graphs_generali\"]\n",
    "foldername_graphs_finance = config[\"foldername_graphs_finance\"]\n",
    "\n",
    "day_winter = config[\"day_winter\"]\n",
    "day_summer = config[\"day_summer\"]\n",
    "\n",
    "recap = yaml.safe_load(open(config[\"filename_recap\"], 'r'))\n",
    "utenti = yaml.safe_load(open(config[\"filename_registry_users_yml\"], 'r'))\n",
    "user_types = yaml.safe_load(open(config[\"filename_registry_user_types_yml\"], 'r'))\n",
    "# input_FM = yaml.safe_load(open(config[\"input_FM_yml\"], 'r'))\n",
    "\n",
    "foldername_result_finance = config[\"foldername_result_finance\"]\n",
    "case_denomination = recap[\"case_denomination\"]\n",
    "\n",
    "charts = yaml.safe_load(open(foldername_graphs + \"layout_charts.yml\", 'r'))\n",
    "col = charts[\"colors\"]\n",
    "\n",
    "user_set = recap[\"list_user_types\"]\n",
    "user_type_list_consuming = recap[\"list_types_prosumers\"] + recap[\"list_types_consumers\"]\n",
    "prosumers = recap[\"list_types_prosumers\"]"
   ]
  },
  {
   "cell_type": "code",
   "execution_count": 96,
   "metadata": {},
   "outputs": [
    {
     "name": "stdout",
     "output_type": "stream",
     "text": [
      "All files in assets\\\\energy\\\\ folder deleted\n",
      "All files in assets\\\\finance\\\\ folder deleted\n",
      "All files in assets\\\\general\\\\ folder deleted\n"
     ]
    }
   ],
   "source": [
    "# remove all pictures from previous simulations\n",
    "clear_folder_content(foldername_graphs_energy)\n",
    "clear_folder_content(foldername_graphs_finance)\n",
    "clear_folder_content(foldername_graphs_generali)"
   ]
  },
  {
   "cell_type": "code",
   "execution_count": 97,
   "metadata": {},
   "outputs": [],
   "source": [
    "# tale funzione consente di plottare rapidamente un grafico di tipo scatter\n",
    "\n",
    "def plot_scatter(x, y, title, title_y, output_file):\n",
    "    fig = go.Figure(go.Scatter(x=x, y=y, mode='lines'))\n",
    "    fig.update_layout(\n",
    "        title_text = title, \n",
    "        # xaxis = dict(title='Ora', \n",
    "                    #  rangeslider=dict(visible=True), type='date')\n",
    "                    # )\n",
    "    )\n",
    "    fig.update_layout(plot_bgcolor='white',\n",
    "        legend = dict(orientation='h',\n",
    "                        yanchor=\"top\", y = -0.25, xanchor=\"left\", x=0.01), \n",
    "                    )\n",
    "    fig.update_yaxes(title_text = title_y)\n",
    "    if flag_show:\n",
    "        fig.show()\n",
    "    fig.write_html(output_file + \".html\")\n",
    "    fig.write_image(output_file + \".png\", width=1000, height=1200/13.2*5, scale = 4)"
   ]
  },
  {
   "cell_type": "code",
   "execution_count": 98,
   "metadata": {},
   "outputs": [],
   "source": [
    "# si crea un df con le denominazioni per i vari utenti (saranno usate queste denominazioni nei grafici!)\n",
    "\n",
    "filename_utenze_xls = config['filename_users_CACER_xls'] # si importa il nome del file .xls contenente gli utenti da simulare (tutte le tipologie di utenza!)\n",
    "\n",
    "# si apre il file excel e si importa il foglio \"utenti\" in un df\n",
    "wb = xw.Book(filename_utenze_xls)\n",
    "df = wb.sheets[\"Utenti\"].range('A1').options(pd.DataFrame, \n",
    "                                            header=1,\n",
    "                                            index=False, \n",
    "                                            expand='table').value\n",
    "wb.close() # si chiude il file excel\n",
    "\n",
    "assert len(df.user_type.unique()) == len(df.user_type), \"some user_type share the same ID!\" # si verifica che lo user ID sia unico per ogni utente\n",
    "df.set_index(\"user_type\", inplace=True) # si setta lo user ID come index\n",
    "df.drop(columns=[\"number_type_id\"],inplace=True) # si elimina la prima colonna\n",
    "df.num = df.num.fillna(0).astype(int) # si annulla la numerosità di tutti gli utenti\n",
    "\n",
    "denomination_users = df.denomination.copy()\n",
    "\n",
    "for user in user_type_list_consuming:\n",
    "    denomination_users_list = []\n",
    "    denomination_users_list.append(denomination_users[user])"
   ]
  },
  {
   "cell_type": "markdown",
   "metadata": {},
   "source": [
    "## Generali"
   ]
  },
  {
   "cell_type": "markdown",
   "metadata": {},
   "source": [
    "Tabella tipologie utenti"
   ]
  },
  {
   "cell_type": "code",
   "execution_count": 99,
   "metadata": {},
   "outputs": [],
   "source": [
    "# si leggono le caratteristiche della configurazione in esame e si crea una tabella riassuntiva da aggiungere al report\n",
    "\n",
    "df = pd.read_excel(config[\"filename_users_CACER_xls\"], sheet_name=\"Utenti\") # si legge il foglio excel contenente le caratteristiche della configurazione in esame\n",
    "\n",
    "df = df[df[\"num\"] > 0] # togliamo le tipologie di utenti che non sono inclusi nella simulazione\n",
    "df = df[df[\"flag\"] == True] # togliamo le tipologie di utenti che non sono inclusi nella simulazione\n",
    "\n",
    "# si eliminano dal df tutte le colonne non necessarie\n",
    "df.drop(columns=[\"number_type_id\",\"flag\",\"consuming\",\"producing\",\"wind\",\"error\",\n",
    "                 \"power_range\", \"supplier\", \"tariff\",\n",
    "                 \"flag_cacer\", \"disbursement_month\", \"commissioning_month\", \"entry_month\", \"exit_month\", \"CP\", \"location\", \"denomination\",\n",
    "                 \"dummy_user\", \"grant_private\", \n",
    "                 \"new_plant\", \"pv_mounting\", \"stakeholder\", \"condominium\", \"mv_cabinet\", \"tilt_angle\", \"azimuth\"\n",
    "                 ],inplace=True)\n",
    "\n",
    "# si rinominano le colonne con dei label più adatti alla stesura del report\n",
    "df.rename(columns={\"user_type_id\":\"Tipo utente\", \"num\": \"Utenti\", \"type\":\"Tipologia\", \"category\":\"Categoria\",\n",
    "                #    \"power_range\":\"Classe potenza\", \"supplier\":\"Fornitore\",\"tariff\":\"Schema tariffario\", \n",
    "                   \"load_profile_id\":\"Tipologia carico\",\n",
    "                   \"pv\":\"Capacità PV\", \"battery\":\"Capacità accumulo\",\n",
    "                #    \"new_plant\":\"Nuovo impianto\",\n",
    "                   \"funding_scheme\":\"Modello Finanziamento\",\n",
    "                   \"grant_pnrr\":\"Fondo PNRR\",\n",
    "                   \"debt\":\"Quota di debito\",\n",
    "                   \"voltage\":\"Livello tensione\"}, inplace=True)\n",
    "\n",
    "# df = df.replace(np.nan,0)\n",
    "\n",
    "# si definisce una funzione che assegna un colore in base alla tipologia di utente (prosumer; producer; consumer)\n",
    "def color_tipologia(value):\n",
    "    if value == \"prosumer\":\n",
    "        color = col[\"arancione\"]\n",
    "    elif value == \"producer\":\n",
    "        color = col[\"blu\"]\n",
    "    else:\n",
    "        color = col[\"verde\"]\n",
    "    return 'color: %s' % color\n",
    "\n",
    "# si definisce una funzione che assegna un colore in base alla tipologia di utenza (domestico; industriale; pubblico; commerciale)\n",
    "def color_categoria(value):\n",
    "    if value == \"domestico\":\n",
    "        color = col[\"rosso\"]\n",
    "    elif value == \"industriale\":\n",
    "        color = col[\"violetto\"]\n",
    "    elif value == \"pubblico\":\n",
    "        color = col[\"azzurro\"]\n",
    "    else: \n",
    "        color = col[\"marrone\"]\n",
    "    return 'color: %s' % color\n",
    "\n",
    "df.reset_index(drop=True, inplace=True)\n",
    "# Apply styling to dataframe \n",
    "# ,na_rep=\"\"\n",
    "\n",
    "# si definisce una tabella riassuntiva con le principali informazioni relative alla configurazione in esame\n",
    "\n",
    "if detailed_report:\n",
    "\n",
    "    styled_df = df.style.format(precision=0, thousands=\".\", decimal=\",\",na_rep=\"\")\\\n",
    "        .set_caption(\"Tabella riassuntiva degli utenti della comunità divisi per tipologia\")\\\n",
    "        .format_index(str, axis=1)\\\n",
    "        # .applymap(color_tipologia, subset=['Tipologia'])\\\n",
    "        # .bar(subset=[\"Capacità PV\"], color=col[\"blu\"],vmax=sum(x if not pd.isna(x) else 0 for x in df[\"Capacità PV\"]))\\\n",
    "        # .bar(subset=[\"Capacità accumulo\",], color=col[\"rosso\"],vmax=sum(x if not pd.isna(x) else 0 for x in df[\"Capacità accumulo\"]))\\\n",
    "        # .bar(subset=[\"Utenti\"], color=col[\"giallo\"], vmax=sum(df[\"Utenti\"]))\\\n",
    "        # .applymap(color_categoria, subset=['Categoria'])\\\n",
    "        # .hide(axis=\"index\")\n",
    "\n",
    "        # .relabel_index([\"row 1\", \"row 2\"], axis=0)\n",
    "        # {\":.2f\"}%})\n",
    "        # .hide_index() \\\n",
    "    # .bar(subset=[\"Tipologia\",], color='lightgreen')\n",
    "    # .applymap(color_tipologia, subset=['Tipologia'])\n",
    "\n",
    "    styled_df.set_properties(subset=['Utenti'], **{'width': '80px'})\n",
    "    styled_df.set_properties(subset=['Capacità PV'], **{'width': '80px'})\n",
    "    styled_df.set_properties(subset=['Capacità accumulo'], **{'width': '60px'})\n",
    "    # styled_df.set_properties(subset=['Nuovo impianto'], **{'width': '50px'})\n",
    "    styled_df.set_properties(subset=['Livello tensione'], **{'width': '50px'})\n",
    "    # styled_df.set_properties(subset=['Classe potenza'], **{'width': '50px'})\n",
    "    # styled_df.set_properties(subset=['Schema tariffario'], **{'width': '50px'})\n",
    "\n",
    "    # si genera e si salva la tabella definita sopra\n",
    "\n",
    "    path = foldername_graphs_generali\n",
    "    num_table = 0\n",
    "    title = 'CACER_users_table.png'\n",
    "\n",
    "    # ATTENTION: the following line stopped working due to library issues\n",
    "    # https://stackoverflow.com/questions/75687844/problem-with-dataframe-image-no-such-file-or-directory-appdata-local-tem\n",
    "    # dfi.export(styled_df, path + str(num_table) + \"_\" + title dpi = 550) # This only works for styled dataframes\n",
    "\n",
    "    # As a temporary solution, the following works but losing the coloring\n",
    "    dfi.export(styled_df, path + str(num_table) + \"_\" + title, table_conversion='matplotlib')\n",
    "    styled_df"
   ]
  },
  {
   "cell_type": "markdown",
   "metadata": {},
   "source": [
    "Grafico andamento prelievi annuali per tipologia utente "
   ]
  },
  {
   "cell_type": "code",
   "execution_count": 100,
   "metadata": {},
   "outputs": [],
   "source": [
    "df = pd.read_csv(config[\"filename_carichi\"]) # si legge il grafico contenente le informazioni circa i consumi elettrici\n",
    "\n",
    "df[\"year\"] = df[\"datetime\"].str[:4]\n",
    "df.drop(columns=\"datetime\",inplace=True)\n",
    "df_yearly = df.groupby(\"year\").sum()\n",
    "\n",
    "df_yearly = df_yearly[user_type_list_consuming] # teniamo solo gli users che ci servono, uno per tipo, nell'ordine che abbiamo dato \n",
    "colors = {\"prosumer\":\"orange\",\n",
    "        \"consumer\":\"blue\"} \n",
    "\n",
    "if detailed_report: # usually not needed\n",
    "\n",
    "    for i, user in enumerate(user_type_list_consuming):\n",
    "        \n",
    "        title = 'Andamento consumi per tipologia utenti: ' + denomination_users[str(user)]\n",
    "\n",
    "        fig = go.Figure()\n",
    "        \n",
    "        fig.add_trace(go.Bar(\n",
    "            x = df_yearly.index, y = df_yearly[user]/1000, \n",
    "            # marker_color = colors[utenti[user][\"type\"]], \n",
    "            name = str(denomination_users[str(user)]) + \" (\" + str(user_types[str(user)][\"type\"]) +\")\",\n",
    "            text=round(df_yearly[user]/1000,1), textposition='auto',\n",
    "            ))\n",
    "\n",
    "        fig.update_layout(\n",
    "            title_text = title, \n",
    "            xaxis = dict(title='anni',\n",
    "            # type='category'\n",
    "            ),\n",
    "            yaxis = dict(title='MWh/anno'))\n",
    "\n",
    "        fig.update_layout(plot_bgcolor='white',\n",
    "                    legend = dict(orientation='h',\n",
    "                                yanchor=\"top\", y = -0.2, xanchor=\"left\", x=0.01), \n",
    "                                )\n",
    "\n",
    "        if flag_show: fig.show()\n",
    "\n",
    "        path = foldername_graphs_generali\n",
    "        num_graph+=1\n",
    "        title = 'Andamento consumi per tipologia utenti ' + denomination_users[user]\n",
    "\n",
    "        fig.write_html(path + str(num_graph) + \"_\" + title + \".html\")\n",
    "        fig.write_image(path + str(num_graph) + \"_\" + title + \".png\", width=1000, height=1100/13.2*5, scale = 4)"
   ]
  },
  {
   "cell_type": "markdown",
   "metadata": {},
   "source": [
    "Grafico confronto prelievo annuale nell'anno 1 per tipologia utente "
   ]
  },
  {
   "cell_type": "code",
   "execution_count": 101,
   "metadata": {},
   "outputs": [],
   "source": [
    "valori_anno_1 = df_yearly.iloc[0]\n",
    "\n",
    "title = 'Consumi per tipologia utenti - Anno 1'\n",
    "\n",
    "colors = {\"prosumer\":\"orange\",\n",
    "          \"consumer\":\"blue\"} \n",
    "\n",
    "x = user_type_list_consuming.copy()\n",
    "for i, value in enumerate(x):\n",
    "    x[i] = denomination_users[value]\n",
    "\n",
    "fig = go.Figure(go.Bar(\n",
    "    x = x, \n",
    "    y = valori_anno_1/1000, \n",
    "    # marker_color = colors[user_types[user][\"type\"]], \n",
    "    # name = denomination_users_list,\n",
    "    text=round(valori_anno_1/1000,1), textposition='auto',\n",
    "    ))\n",
    "\n",
    "fig.update_layout(plot_bgcolor='white',\n",
    "    title_text = title, \n",
    "    xaxis = dict(title='anni',\n",
    "    # type='category'\n",
    "    ),\n",
    "    yaxis = dict(title='MWh/anno'))\n",
    "\n",
    "fig.update_layout(\n",
    "            legend = dict(orientation='h',\n",
    "                          yanchor=\"top\", y = -0.2, xanchor=\"left\", x=0.01), \n",
    "                        )\n",
    "\n",
    "if flag_show: fig.show()\n",
    "\n",
    "path = foldername_graphs_generali\n",
    "num_graph+=1\n",
    "\n",
    "fig.write_html(path + str(num_graph) + \"_\" + title + \".html\")\n",
    "fig.write_image(path + str(num_graph) + \"_\" + title + \".png\", width=1000, height=1100/13.2*5, scale = 4)"
   ]
  },
  {
   "cell_type": "markdown",
   "metadata": {},
   "source": [
    "Curve di carico venerdi+sab+domenica"
   ]
  },
  {
   "cell_type": "code",
   "execution_count": 102,
   "metadata": {},
   "outputs": [],
   "source": [
    "cal = get_calendar()\n",
    "friday_flag = 0\n",
    "count = 0\n",
    "while friday_flag == 0: #cerciamo un venerdi che abbia un carico normale non da vacanza\n",
    "    if cal.loc[count,\"day_week\"] == 4: friday_flag = 1\n",
    "    else: count += 1 #count è l'indice della mezzanotte del primo venerdi della serie, che usiamo per plottare i profili"
   ]
  },
  {
   "cell_type": "code",
   "execution_count": 103,
   "metadata": {},
   "outputs": [],
   "source": [
    "df = pd.read_csv(config[\"filename_carichi\"])\n",
    "df = df[count:count+96*3]\n",
    "df.set_index(\"datetime\",inplace=True)\n",
    "\n",
    "if detailed_report:\n",
    "    for user in user_type_list_consuming:\n",
    "\n",
    "        title = \"Esempio curve di carico di tre giorni (giorno feriale, sabato e domenica): \" + str(denomination_users[user])\n",
    "\n",
    "        fig = go.Figure()\n",
    "        fig.add_trace(go.Scatter(\n",
    "            x = df.index, \n",
    "            y = df[user]*4, \n",
    "            # marker_color = colors[user_types[user][\"type\"]], \n",
    "            name = denomination_users[str(user)],\n",
    "            # text=round(df[user]*4,1), textposition='auto',\n",
    "            ))\n",
    "        \n",
    "        fig.update_layout(plot_bgcolor='white',\n",
    "            title_text = title, \n",
    "            xaxis = dict(title='orario',\n",
    "            # type='category'\n",
    "            ),\n",
    "            yaxis = dict(title='Potenza impiegata (kW)'))\n",
    "        \n",
    "        fig.update_layout(\n",
    "                    legend = dict(orientation='h',\n",
    "                                yanchor=\"top\", y = -0.2, xanchor=\"left\", x=0.01), \n",
    "                                )\n",
    "\n",
    "        if flag_show: fig.show()\n",
    "        \n",
    "        path = foldername_graphs_generali\n",
    "        num_graph+=1\n",
    "        title = \"Esempio curve di carico di tre giorni (giorno feriale, sabato e domenica)\" + str(denomination_users[user])\n",
    "\n",
    "        fig.write_html(path + str(num_graph) + \"_\" + title + \".html\")\n",
    "        fig.write_image(path + str(num_graph) + \"_\" + title + \".png\", width=1000, height=1100/13.2*5, scale = 4)"
   ]
  },
  {
   "cell_type": "markdown",
   "metadata": {},
   "source": [
    "Grafico distribuzione consumi suddiviso per categorie di utenza"
   ]
  },
  {
   "cell_type": "markdown",
   "metadata": {},
   "source": [
    "Grafico utenze industriali"
   ]
  },
  {
   "cell_type": "code",
   "execution_count": 104,
   "metadata": {},
   "outputs": [],
   "source": [
    "df = pd.read_csv(config[\"filename_carichi\"])\n",
    "df = df[count:count+96*3]\n",
    "df.set_index(\"datetime\",inplace=True)\n",
    "\n",
    "user_type_list_industrial = [user_type for user_type in user_types if user_types[user_type][\"category\"] == \"industriale\" and user_types[user_type][\"num\"]>0 and user_types[user_type][\"dummy_user\"] != True]\n",
    "\n",
    "if user_type_list_industrial != []:\n",
    "\n",
    "    fig = go.Figure()\n",
    "\n",
    "    for user in user_type_list_industrial:\n",
    "\n",
    "        title = \"Esempio curve di carico di tre giorni (giorno feriale, sabato e domenica) utenze industriali\"\n",
    "\n",
    "        fig.add_trace(go.Scatter(\n",
    "            x = df.index, \n",
    "            y = df[user]*4, \n",
    "            # marker_color = colors[utenti[user][\"type\"]], \n",
    "            name = denomination_users[str(user)],\n",
    "            # text=round(df[user]*4,1), textposition='auto',\n",
    "            ))\n",
    "        \n",
    "        fig.update_layout(plot_bgcolor='white',\n",
    "            title_text = title, \n",
    "            xaxis = dict(title='orario',\n",
    "            # type='category'\n",
    "            ),\n",
    "            yaxis = dict(title='Potenza impiegata (kW)'))\n",
    "        \n",
    "        fig.update_layout(\n",
    "                    legend = dict(orientation='h',\n",
    "                                yanchor=\"top\", y = -0.2, xanchor=\"left\", x=0.01), \n",
    "                                )\n",
    "\n",
    "    title_1 = \"Esempio curve di carico di tre giorni utenze industriali\"\n",
    "\n",
    "    if flag_show: fig.show()\n",
    "\n",
    "    path = foldername_graphs_generali\n",
    "    num_graph+=1\n",
    "\n",
    "    fig.write_html(path + str(num_graph) + \"_\" + title + \".html\")\n",
    "    fig.write_image(path + str(num_graph) + \"_\" + title + \".png\", width=1000, height=1100/13.2*5, scale = 4)"
   ]
  },
  {
   "cell_type": "markdown",
   "metadata": {},
   "source": [
    "Grafico utenze NON industriali"
   ]
  },
  {
   "cell_type": "code",
   "execution_count": 105,
   "metadata": {},
   "outputs": [],
   "source": [
    "greys = [\n",
    "    # 'rgb(255,255,255)',\n",
    "    # 'rgb(240,240,240)',\n",
    "    'rgb(217,217,217)',\n",
    "    'rgb(189,189,189)',\n",
    "    'rgb(150,150,150)',\n",
    "    'rgb(115,115,115)',\n",
    "    'rgb(82,82,82)',\n",
    "    'rgb(37,37,37)',\n",
    "    'rgb(0,0,0,0.5)',\n",
    "    'rgb(0,0,0,1)',\n",
    "    'rgb(0,0,0,0.1)',\n",
    "    ]\n",
    "\n",
    "lines = ['solid', 'dot', 'dash', \n",
    "         'longdash', \n",
    "         'dashdot', \n",
    "         'longdashdot', \n",
    "         'solid', 'dot', 'dash', 'longdash', 'dashdot', 'longdashdot']"
   ]
  },
  {
   "cell_type": "code",
   "execution_count": 106,
   "metadata": {},
   "outputs": [],
   "source": [
    "count = count + 24*4*7*2 # saltiamo di 2 settimane"
   ]
  },
  {
   "cell_type": "code",
   "execution_count": 107,
   "metadata": {},
   "outputs": [],
   "source": [
    "df = pd.read_csv(config[\"filename_carichi\"])\n",
    "\n",
    "df = df[count:count+96*3]\n",
    "df.set_index(\"datetime\",inplace=True)\n",
    "\n",
    "user_type_list_non_industrial = [user_type for user_type in user_types if user_types[user_type][\"category\"] != \"industriale\" and user_types[user_type][\"num\"]>0]\n",
    "# user_type_list_non_industrial.reverse()\n",
    "\n",
    "if detailed_report:\n",
    "\n",
    "    if user_type_list_non_industrial != []:\n",
    "\n",
    "        fig = go.Figure()\n",
    "\n",
    "        for i, user_type in enumerate(user_type_list_non_industrial):\n",
    "            # print(user_type)\n",
    "\n",
    "            title = \"Esempio curve di carico di tre giorni (giorno feriale, sabato e domenica)\"\n",
    "            # title = \"Load profiles samples (Working Day, Saturday and Sunday) per type of user\"\n",
    "\n",
    "            fig.add_trace(go.Scatter(\n",
    "                x = df.index, \n",
    "                y = df[user_type]*4, \n",
    "                # marker_color = colors[user_types[user_type][\"type\"]], \n",
    "                # marker_color = greys[i],\n",
    "                name = denomination_users[str(user_type)],\n",
    "                # text=round(df[user_type]*4,1), textposition='auto',\n",
    "                mode='lines',\n",
    "                # line=dict(dash=lines[i]),\n",
    "                ))\n",
    "            \n",
    "            fig.update_layout(plot_bgcolor='white',\n",
    "                # bgcolor = \"darkgrey\",\n",
    "                \n",
    "                title_text = title, \n",
    "                # xaxis = dict(title='orario',\n",
    "                xaxis = dict(title='Time',\n",
    "                # type='category'\n",
    "                ),\n",
    "                # yaxis = dict(title='Potenza impiegata (kW)'))\n",
    "                yaxis = dict(title='Power (kW)'))\n",
    "            \n",
    "            fig.update_layout(\n",
    "                        legend = dict(orientation='h',\n",
    "                                    yanchor=\"top\", y = -0.2, xanchor=\"left\", x=0.01), \n",
    "                                    )\n",
    "\n",
    "        if flag_show: fig.show()\n",
    "\n",
    "        path = foldername_graphs_generali\n",
    "        num_graph+=1\n",
    "\n",
    "        fig.write_html(path + str(num_graph) + \"_\" + title + \".html\")\n",
    "        fig.write_image(path + str(num_graph) + \"_\" + title + \".png\", width=1000, height=1100/13.2*6, scale = 4)\n",
    "\n",
    "\n",
    "        fig.write_image(config[\"foldername_images_portale\"] + title + \".png\", width=1000, height=1100/13.2*5, scale = 4)\n",
    "    "
   ]
  },
  {
   "cell_type": "markdown",
   "metadata": {},
   "source": [
    "Andamento mensile e stagionalità"
   ]
  },
  {
   "cell_type": "code",
   "execution_count": 108,
   "metadata": {},
   "outputs": [],
   "source": [
    "# # a barre e a colori\n",
    "df = pd.read_csv(config[\"filename_carichi\"])\n",
    "df[\"year\"] = df[\"datetime\"].str[:4]\n",
    "df[\"month\"] = df[\"datetime\"].str[5:7]\n",
    "df = df[df[\"year\"] == df.loc[0,\"year\"]] #prendiamo solo il primo anno\n",
    "df_monthly = df.drop(columns=[\"datetime\",\"year\"]).groupby(\"month\").sum()\n",
    "\n",
    "fig = go.Figure()\n",
    "\n",
    "title = \"Andamento mensile dei consumi ed effetto della stagionalità per tipologia di utenti\"\n",
    "\n",
    "for i, user in enumerate(user_type_list_consuming):\n",
    "    fig.add_trace(go.Bar(\n",
    "        # x = df_monthly.index, \n",
    "        x = name_months,\n",
    "        y = df_monthly[user]/1000, \n",
    "        # marker_color = greys[i],\n",
    "        # marker_color = colors[utenti[user][\"type\"]], \n",
    "        name = denomination_users[user],\n",
    "        # text=round(df_monthly[user]/1000,1), textposition='outside',\n",
    "        ))\n",
    "    \n",
    "    fig.update_layout(plot_bgcolor='white',\n",
    "        title_text = title, \n",
    "        xaxis = dict(title='mese',\n",
    "        # xaxis = dict(title='Month',\n",
    "        # type='category'\n",
    "        ),\n",
    "        # yaxis = dict(title='MWh per month'))\n",
    "        yaxis = dict(title='MWh al mese'))\n",
    "    \n",
    "    fig.update_layout(\n",
    "                legend = dict(orientation='h',\n",
    "                            yanchor=\"top\", y = -0.2, xanchor=\"left\", x=0.01), \n",
    "                            )\n",
    "\n",
    "if flag_show: fig.show()\n",
    "\n",
    "path = foldername_graphs_generali\n",
    "num_graph+=1\n",
    "\n",
    "fig.write_html(path + str(num_graph) + \"_\" + title + \".html\")\n",
    "fig.write_image(path + str(num_graph) + \"_\" + title + \".png\", width=1000, height=1100/13.2*5, scale = 4)\n",
    "\n",
    "fig.write_image(config[\"foldername_images_portale\"] + title + \".png\", width=1000, height=1100/13.2*5, scale = 4)"
   ]
  },
  {
   "cell_type": "markdown",
   "metadata": {},
   "source": [
    "Tabella riassuntiva consumi mensili"
   ]
  },
  {
   "cell_type": "code",
   "execution_count": 109,
   "metadata": {},
   "outputs": [],
   "source": [
    "#ci ricreiamo l'aggregato mensile ma solo delle tipologie di utenti, non di tutti\n",
    "df_table = df_monthly.copy()\n",
    "df_table = df_table[user_type_list_consuming] #facciamo una selezione degli utenti attivi\n",
    "\n",
    "df_table[\"Totale CACER\"] = 0\n",
    "for user in user_type_list_consuming:\n",
    "    df_table[\"Totale CACER\"] += df_table[user].multiply(user_types[user][\"num\"], axis=\"index\") # sommiamo l'aggregato di tutti gli utenti di quel tipo\n",
    "\n",
    "for user in df_table.columns:\n",
    "    if user in user_type_list_consuming:\n",
    "        df_table.rename(columns={str(user) : str(denomination_users[str(user)])}, inplace=True)\n",
    "\n",
    "if flag_show: df_table"
   ]
  },
  {
   "cell_type": "code",
   "execution_count": 110,
   "metadata": {},
   "outputs": [],
   "source": [
    "# si assegna uno stile alla tabella creata in precedenza\n",
    "\n",
    "# more here: https://www.analyticsvidhya.com/blog/2021/06/style-your-pandas-dataframe-and-make-it-stunning/\n",
    "\n",
    "if detailed_report:\n",
    "    df_table.loc['Total'] = df_table.sum(numeric_only=True)\n",
    "    df_table.index.rename(\"Mese\", inplace=True)\n",
    "\n",
    "    styled_df = df_table.style.format(precision=1, thousands=\".\", decimal=\",\") \\\n",
    "        .format_index(str, axis=1)\\\n",
    "        .set_caption(\"Consumi anno 1 per tipologia di utente (kWh/mese)\") \\\n",
    "        .background_gradient()\n",
    "\n",
    "    path = foldername_graphs_generali\n",
    "    num_table+=1\n",
    "    title = 'CACER 2tabella.png'\n",
    "\n",
    "    # dfi.export(styled_df, path + \"table_\" + str(num_table) + \"_\" + title, dpi = 150) # This only works for styled dataframes\n",
    "    dfi.export(styled_df, path + \"table_\" + str(num_table) + \"_\" + title,  table_conversion='matplotlib')\n",
    "    styled_df"
   ]
  },
  {
   "cell_type": "markdown",
   "metadata": {},
   "source": [
    "Consumi mensili differenziati per utente"
   ]
  },
  {
   "cell_type": "code",
   "execution_count": 111,
   "metadata": {},
   "outputs": [],
   "source": [
    "totale_mensile_tutti_utenti = df_table[\"Totale CACER\"]\n",
    "\n",
    "fig = go.Figure()\n",
    "# title = \"Aggregato mensile dei consumi considerando tutti gli utenti della CACER\"\n",
    "title = \"CACER aggregated monthly energy demand\"\n",
    "\n",
    "for user in user_type_list_consuming:\n",
    "    for i in range(user_types[user][\"num\"]):\n",
    "        fig.add_trace(go.Bar(\n",
    "            x = df_monthly.index,\n",
    "            # x = name_months, \n",
    "            y = df_monthly[user]/1000, \n",
    "            # marker_color = colors[utenti[user][\"type\"]], \n",
    "            name = str(denomination_users[str(user)]) + '_' + str(i+1),\n",
    "            # text=round(df_monthly[user]/1000,1), textposition='auto',\n",
    "            ))\n",
    "        fig.update_layout(plot_bgcolor='white',\n",
    "            title_text = title, \n",
    "            xaxis = dict(title='Month',\n",
    "            # type='category'\n",
    "            ),\n",
    "            yaxis = dict(title='MWh/month'))\n",
    "        fig.update_layout(\n",
    "                    legend = dict(orientation='h',\n",
    "                                yanchor=\"top\", y = -0.2, xanchor=\"left\", x=0.01), \n",
    "                                )\n",
    "fig.update_layout(barmode='stack')\n",
    "\n",
    "#aggiungiamo linea trasparente per indicare il totale a numero\n",
    "fig.add_trace(go.Scatter(\n",
    "        x = df_monthly.index,\n",
    "        # x = name_months,\n",
    "        y = totale_mensile_tutti_utenti/1000, \n",
    "        marker_color= 'rgba(255, 0, 0, 0)', \n",
    "        mode='markers+text',\n",
    "        name = \"Total\",\n",
    "        text=round(totale_mensile_tutti_utenti/1000,1), textposition='top center',\n",
    "        ))\n",
    "\n",
    "if flag_show: fig.show()\n",
    "\n",
    "path = foldername_graphs_generali\n",
    "num_graph+=1\n",
    "\n",
    "fig.write_html(path + str(num_graph) + \"_\" + title + \".html\")\n",
    "if len(user_type_list_consuming) > 10: fig.update_layout(showlegend=False) #se abbiamo troppi utenti mutiamo la legenda dal png, che altrimenti non si legge nulla\n",
    "fig.write_image(path + str(num_graph) + \"_\" + title + \".png\", width=1000, height=1100/13.2*5, scale = 4)"
   ]
  },
  {
   "cell_type": "code",
   "execution_count": 112,
   "metadata": {},
   "outputs": [],
   "source": [
    "if detailed_report:\n",
    "    title = \"Plots sun chart 1\"\n",
    "    plt.ioff() # turn off interactive mode\n",
    "\n",
    "    # lat, lon, tilt_angle, azimuth = get_coordinates()  \n",
    "    name_location = str(province_italian_to_english())\n",
    "    lat, lon = get_coordinates(name_location)\n",
    "    lat = float(lat) #float is required\n",
    "    lon = float(lon) #float is required\n",
    "\n",
    "    tz='Europe/Rome'\n",
    "\n",
    "    times = pd.date_range('2019-01-01 00:00:00', '2020-01-01', \n",
    "                        #   closed='left',\n",
    "                        freq='H', tz=tz)\n",
    "    solpos = solarposition.get_solarposition(times, lat, lon)\n",
    "    # remove nighttime\n",
    "    solpos = solpos.loc[solpos['apparent_elevation'] > 0, :]\n",
    "\n",
    "    ax = plt.subplot(1, 1, 1, projection='polar')\n",
    "    # draw the analemma loops\n",
    "    points = ax.scatter(np.radians(solpos.azimuth), solpos.apparent_zenith,\n",
    "                        s=2, label=None, c=solpos.index.dayofyear)\n",
    "    ax.figure.colorbar(points)\n",
    "\n",
    "    # draw hour labels\n",
    "    for hour in np.unique(solpos.index.hour):\n",
    "        # choose label position by the smallest radius for each hour\n",
    "        subset = solpos.loc[solpos.index.hour == hour, :]\n",
    "        r = subset.apparent_zenith\n",
    "        pos = solpos.loc[r.idxmin(), :]\n",
    "        ax.text(np.radians(pos['azimuth']), pos['apparent_zenith'], str(hour))\n",
    "\n",
    "    # draw individual days\n",
    "    for i, date in enumerate(pd.to_datetime(['2019-03-21', '2019-06-21', '2019-12-21'])):\n",
    "        times = pd.date_range(date, date+pd.Timedelta('24h'), freq='5min', tz=tz)\n",
    "        solpos = solarposition.get_solarposition(times, lat, lon)\n",
    "        solpos = solpos.loc[solpos['apparent_elevation'] > 0, :]\n",
    "        #label = date.strftime('%Y-%m-%d')\n",
    "        labels = ['Equinoxes','Solstice March','Solstice December']\n",
    "        ax.plot(np.radians(solpos.azimuth), solpos.apparent_zenith, label=labels[i])\n",
    "\n",
    "    ax.figure.legend(loc='upper left')\n",
    "\n",
    "    # change coordinates to be like a compass\n",
    "    ax.set_theta_zero_location('N')\n",
    "    ax.set_theta_direction(-1)\n",
    "    ax.set_rmax(90)\n",
    "\n",
    "    num_graph+=1\n",
    "    plt.savefig(config[\"foldername_graphs_generali\"] + str(num_graph) + \"_\" + title + \".png\", bbox_inches = 'tight')\n",
    "\n",
    "    if flag_show: plt.show() # after plt.show() is called, a new figure is created"
   ]
  },
  {
   "cell_type": "code",
   "execution_count": 113,
   "metadata": {},
   "outputs": [],
   "source": [
    "if detailed_report:\n",
    "    title = \"Plots sun chart 2\"\n",
    "\n",
    "    name_location = str(province_italian_to_english())\n",
    "    lat, lon = get_coordinates(name_location)\n",
    "    lat = float(lat) #float is required\n",
    "    lon = float(lon) #float is required\n",
    "\n",
    "    tz='Europe/Rome'\n",
    "\n",
    "    times = pd.date_range('2019-01-01 00:00:00', '2020-01-01', \n",
    "                        #   closed='left',\n",
    "                        freq='H', tz=tz)\n",
    "\n",
    "    solpos = solarposition.get_solarposition(times, lat, lon)\n",
    "    # remove nighttime\n",
    "    solpos = solpos.loc[solpos['apparent_elevation'] > 0, :]\n",
    "\n",
    "    fig, ax = plt.subplots()\n",
    "    points = ax.scatter(solpos.azimuth, solpos.apparent_elevation, s=2,\n",
    "                        c=solpos.index.dayofyear, label=None)\n",
    "    fig.colorbar(points)\n",
    "\n",
    "    for hour in np.unique(solpos.index.hour):\n",
    "        # choose label position by the largest elevation for each hour\n",
    "        subset = solpos.loc[solpos.index.hour == hour, :]\n",
    "        height = subset.apparent_elevation\n",
    "        pos = solpos.loc[height.idxmax(), :]\n",
    "        ax.text(pos['azimuth'], pos['apparent_elevation'], str(hour))\n",
    "\n",
    "    for i, date in enumerate(pd.to_datetime(['2019-03-21', '2019-06-21', '2019-12-21'])):\n",
    "        times = pd.date_range(date, date+pd.Timedelta('24h'), freq='5min', tz=tz)\n",
    "        solpos = solarposition.get_solarposition(times, lat, lon)\n",
    "        solpos = solpos.loc[solpos['apparent_elevation'] > 0, :]\n",
    "        #label = date.strftime('%Y-%m-%d')\n",
    "        labels = ['Equinoxes','Solstice March','Solstice December']\n",
    "        ax.plot(solpos.azimuth, solpos.apparent_elevation, label=labels[i])\n",
    "\n",
    "    ax.figure.legend(loc='upper left')\n",
    "    ax.set_xlabel('Solar Azimuth (degrees)')\n",
    "    ax.set_ylabel('Solar Elevation (degrees)')\n",
    "\n",
    "    num_graph+=1\n",
    "\n",
    "    plt.savefig(config[\"foldername_graphs_generali\"] + str(num_graph) + \"_\" + title + \".png\", bbox_inches = 'tight')\n",
    "\n",
    "    \n",
    "    if flag_show: plt.show() # after plt.show() is called, a new figure is created"
   ]
  },
  {
   "cell_type": "markdown",
   "metadata": {},
   "source": [
    "## CACER"
   ]
  },
  {
   "cell_type": "markdown",
   "metadata": {},
   "source": [
    "Sankey flussi energetici intera CACER"
   ]
  },
  {
   "cell_type": "code",
   "execution_count": 114,
   "metadata": {},
   "outputs": [],
   "source": [
    "df = pd.read_excel(filename_CACER_energy_monthly, sheet_name=\"CACER\")"
   ]
  },
  {
   "cell_type": "code",
   "execution_count": 115,
   "metadata": {},
   "outputs": [],
   "source": [
    "def plot_sankey(df, user):\n",
    "  global num_graph, data\n",
    "  df[\"Eprel_non_cond\"] = df[\"Eprel\"] - df[\"Econd\"]\n",
    "  df[\"Evend_non_cond\"] = df[\"Eimm\"] - df[\"Econd\"]\n",
    "\n",
    "  Eaut_tot = df[\"Eaut\"].sum() # energia autoconsumata totale\n",
    "  Eimm_tot = df[\"Eimm\"].sum() # energia immessa totale\n",
    "  Eut_tot = df[\"Eut\"].sum() # energia consumata totale\n",
    "  Econd_tot = df[\"Econd\"].sum() # energia condivisa totale\n",
    "  Eprod_tot = df[\"Eprod\"].sum() # energia prodotta totale\n",
    "  Eprel_tot = df[\"Eprel\"].sum() # energia prelevata totale\n",
    "  Eprel_non_cond_tot = df[\"Eprel\"].sum() - df[\"Econd\"].sum() # energia prelevata non condivisa totale\n",
    "  Evend_non_cond_tot = df[\"Eimm\"].sum() - df[\"Econd\"].sum() # energia venduta non condivisa totale\n",
    "  Eperdite_tot = df[\"Eperdite\"].sum() # perdite di energia\n",
    "\n",
    "  ## ITALIANO\n",
    "  data = {\n",
    "      \"Econd\": {\"value\": Econd_tot, \"col\": col[\"verde\"],\"label\": \"Energia condivisa\"},\n",
    "      \"Eprod\": {\"value\": Eprod_tot,\"col\": col[\"giallo\"],\"label\": \"Energia prodotta dalla CACER\"},\n",
    "      \"Evend_non_cond\": {\"value\": Evend_non_cond_tot,\"col\": col[\"blu\"],\"label\": \"Energia immessa non condivisa\"},\n",
    "      \"Eperdite\": {\"value\": Eperdite_tot,\"col\": col[\"marrone\"],\"label\": \"Perdite conversione\"},\n",
    "      \"Eprel_non_cond\": {\"value\": Eprel_non_cond_tot,\"col\": col[\"rosso\"],\"label\": \"Energia prelevata non condivisa\"},\n",
    "      \"Eprel\": {\"value\": Eprel_tot,\"col\": col[\"rosso\"],\"label\": \"Energia prelevata da rete\"},\n",
    "      \"Eaut\": {\"value\": Eaut_tot,\"col\": col[\"arancione\"],\"label\": \"Energia autoconsumata\"},\n",
    "      \"Eut\": {\"value\": Eut_tot,\"col\": col[\"violetto\"],\"label\": \"Energia consumata dalla CACER\"},\n",
    "      \"Eimm\": {\"value\": Eimm_tot,\"col\": col[\"blu\"],\"label\": \"Energia immessa e venduta in rete\"},         \n",
    "      }\n",
    "\n",
    "\n",
    "  ## INGLESE\n",
    "  # data = {\n",
    "  #     \"Econd\": {\"value\": Econd_tot, \"col\": col[\"verde\"],\"label\": \"Shared Energy\"},\n",
    "  #     \"Eprod\": {\"value\": Eprod_tot,\"col\": col[\"giallo\"],\"label\": \"CACER Energy Produced\"},\n",
    "  #     \"Evend_non_cond\": {\"value\": Evend_non_cond_tot,\"col\": col[\"blu\"],\"label\": \"Energy injected into the grid and not share\"},\n",
    "  #     \"Eperdite\": {\"value\": Eperdite_tot,\"col\": col[\"marrone\"],\"label\": \"Energy Losses\"},\n",
    "  #     \"Eprel_non_cond\": {\"value\": Eprel_non_cond_tot,\"col\": col[\"rosso\"],\"label\": \"Energy purchased from grid and not shared\"},\n",
    "  #     \"Eprel\": {\"value\": Eprel_tot,\"col\": col[\"rosso\"],\"label\": \"Energy purchased from grid\"},\n",
    "  #     \"Eaut\": {\"value\": Eaut_tot,\"col\": col[\"arancione\"],\"label\": \"Self_consumed energy\"}, \n",
    "  #     \"Eut\": {\"value\": Eut_tot,\"col\": col[\"violetto\"],\"label\": \"CACER Energy Demand\"},\n",
    "  #     \"Eimm\": {\"value\": Eimm_tot,\"col\": col[\"blu\"],\"label\": \"Energy injected and sold to grid\"},            \n",
    "  #     }\n",
    "\n",
    "  flows = pd.read_excel(foldername_graphs + \"sankey_inputs.xlsx\", sheet_name=\"CER\")\n",
    "\n",
    "  \"\"\"Plot the Sankey with the energy flows\n",
    "  more info: https://plotly.com/python/sankey-diagram/\n",
    "  \"\"\"\n",
    "  title = \"Energy flows - \" +  user\n",
    "\n",
    "  fig = go.Figure(data=[go.Sankey(\n",
    "      valuesuffix = \"kWh\",\n",
    "      node = dict(\n",
    "        pad = 15,\n",
    "        thickness = 20,\n",
    "        line = dict(color = \"black\", width = 0.5),\n",
    "        label = [data[\"Eprod\"][\"label\"], # node 0 = prod,\n",
    "                data[\"Eaut\"][\"label\"], # node 1 = aut,\n",
    "                data[\"Eut\"][\"label\"], # node 2 = consumi,\n",
    "                data[\"Eimm\"][\"label\"], # node 3 = immessa in rete e venduta ,\n",
    "                data[\"Econd\"][\"label\"], # node 4 = condivisa\n",
    "                data[\"Eprel\"][\"label\"], # node 5 = prelevata da rete e acquistata da fornitore\n",
    "                data[\"Evend_non_cond\"][\"label\"],  # node 6 = venduta ma non condivisa,\n",
    "                data[\"Eperdite\"][\"label\"], # node 7 = perdite\n",
    "                data[\"Eprel_non_cond\"][\"label\"], # node 8 = prelevata da rete ma non condivisa\n",
    "                ], \n",
    "        color = [data[\"Eprod\"][\"col\"], # node 0 = prod,\n",
    "                data[\"Eaut\"][\"col\"], # node 1 = aut,\n",
    "                data[\"Eut\"][\"col\"], # node 2 = consumi,\n",
    "                data[\"Eimm\"][\"col\"], # node 3 = immessa in rete e venduta ,\n",
    "                data[\"Econd\"][\"col\"], # node 4 = condivisa\n",
    "                data[\"Eprel\"][\"col\"], # node 5 = prelevata da rete e acquistata da fornitore\n",
    "                data[\"Evend_non_cond\"][\"col\"],  # node 6 = venduta ma non condivisa,\n",
    "                data[\"Eperdite\"][\"col\"], # node 7 = perdite\n",
    "                data[\"Eprel_non_cond\"][\"col\"], # node 8 = prelevata da rete ma non condivisa\n",
    "                ], \n",
    "      ),\n",
    "      link = dict(\n",
    "        source = flows[\"source\"],\n",
    "        target = flows[\"target\"],\n",
    "        value = [data[flows.loc[i,\"value\"]][\"value\"] for i in range(len(flows[\"value\"]))], # andiamo a prendere il valore del dizionario data corrispondente al nome dato nel csv\n",
    "        color = [data[flows.loc[i,\"color\"]][\"col\"] for i in range(len(flows[\"color\"]))], # stessa cosa di sopra ma per il colore\n",
    "        # label  = [\"%.2f\" % data[flows.loc[i,\"value\"]][\"value\"] for i in range(len(flows[\"value\"]))]\n",
    "    ))])\n",
    "\n",
    "  fig.update_layout(title_text=title, font_size=10)\n",
    "\n",
    "  if flag_show: fig.show()\n",
    "\n",
    "  path = foldername_graphs_energy\n",
    "  num_graph+=1\n",
    "\n",
    "  fig.write_html(path + str(num_graph) + \"_\" + title + \".html\")\n",
    "  fig.write_image(path + str(num_graph) + \"_\" + title + \".png\", width=1000, height=1100/13.2*5, scale = 4)\n",
    "  \n",
    "plot_sankey(df, user=\"CACER\")"
   ]
  },
  {
   "cell_type": "markdown",
   "metadata": {},
   "source": [
    "Diagramma a torta mix energetico CACER su energia consumata"
   ]
  },
  {
   "cell_type": "code",
   "execution_count": 116,
   "metadata": {},
   "outputs": [],
   "source": [
    "fills = [\"o\",\"x\",\"/\"]"
   ]
  },
  {
   "cell_type": "code",
   "execution_count": 117,
   "metadata": {},
   "outputs": [],
   "source": [
    "def plot_pie_consumption(df,  user):\n",
    "  global num_graph, Eaut_tot, Econd_tot, Eprel_non_cond_tot\n",
    "  title = \"Allocazione dell'energia consumata [%] - \" +  user\n",
    "  labels = ['Energia Autoconsumata dai prosumer', 'Energia Condivisa dalla CACER ', 'Energia Acquistata da rete non condivisa']\n",
    "\n",
    "  # title = \"CACER Energy consumption allocation - [%]\"\n",
    "  # labels = ['Prosumers energy self-consumption', 'Energy purchased from grid and shared', 'Energy purchased from grid and not shared']\n",
    "  \n",
    "  Eaut_tot = df[\"Eaut\"].sum() # energia autoconsumata totale\n",
    "  Econd_tot = df[\"Econd\"].sum() # energia condivisa totale\n",
    "  Eprel_non_cond_tot = df[\"Eprel\"].sum() - df[\"Econd\"].sum() # energia prelevata non condivisa totale\n",
    "  \n",
    "  values_kWh = [Eaut_tot,Econd_tot,Eprel_non_cond_tot]\n",
    "\n",
    "  fig = go.Figure(data=[go.Pie(labels=labels, values=values_kWh, pull=[0.05, 0.05, 0.05])])\n",
    "\n",
    "  fig.update_layout(title_text = title)\n",
    "\n",
    "  fig.update_traces(marker=dict(colors=[col[\"arancione\"], col[\"verde\"], col[\"rosso\"]]))\n",
    "  # fig.update_traces(marker=dict(colors=[greys[0],greys[2], greys[4]]))\n",
    "\n",
    "  fig.update_layout(\n",
    "              legend = dict(orientation='h',\n",
    "                            yanchor=\"top\", y = -0.1, xanchor=\"left\", x=0.01), \n",
    "                          )\n",
    "\n",
    "\n",
    "  path = foldername_graphs_energy\n",
    "  num_graph+=1\n",
    "\n",
    "  fig.write_html(path + str(num_graph) + \"_\" + title + \".html\")\n",
    "  fig.write_image(path + str(num_graph) + \"_\" + title + \".png\", width=500, height=500, scale = 4)\n",
    "  if flag_show: fig.show()\n",
    "\n",
    "  fig.write_image(config[\"foldername_images_portale\"] + title + \".png\", width=500, height=500, scale = 4)\n",
    "\n",
    "plot_pie_consumption(df,  user=\"CACER\")"
   ]
  },
  {
   "cell_type": "markdown",
   "metadata": {},
   "source": [
    "Diagramma a torta mix energetico CACER su energia prodotta"
   ]
  },
  {
   "cell_type": "code",
   "execution_count": 118,
   "metadata": {},
   "outputs": [],
   "source": [
    "def plot_pie_generation(df, user):\n",
    "  global num_graph, Eaut_tot, Econd_tot, Evend_non_cond_tot\n",
    "  title = \"Allocazione dell'energia prodotta [%] - \" + user\n",
    "  labels = ['Energia autoconsumata dai prosumer', 'Energia venduta in rete e condivisa con la CACER', 'Energia venduta in rete non condivisa']\n",
    "\n",
    "  # title = \"CACER Energy generation allocation - [%]\"\n",
    "  # labels = ['Prosumers energy self-consumption', 'Energy sold to grid and shared', 'Energy sold to grid and not shared']\n",
    "  \n",
    "  Eaut_tot = df[\"Eaut\"].sum() # energia autoconsumata totale\n",
    "  Econd_tot = df[\"Econd\"].sum() # energia condivisa totale\n",
    "  Evend_non_cond_tot = df[\"Eimm\"].sum() - df[\"Econd\"].sum() # energia venduta non condivisa totale\n",
    "\n",
    "  values_kWh = [Eaut_tot, Econd_tot, Evend_non_cond_tot]\n",
    "\n",
    "  fig = go.Figure(data=[go.Pie(labels=labels, values=values_kWh, pull=[0.05, 0.05, 0.05])])\n",
    "\n",
    "  fig.update_layout(title_text = title)\n",
    "\n",
    "  fig.update_traces(marker=dict(colors=[col[\"arancione\"], col[\"verde\"], col[\"blu\"]]))\n",
    "  # fig.update_traces(marker=dict(colors=[greys[0],greys[2], greys[4]]))\n",
    "\n",
    "  fig.update_layout(\n",
    "              legend = dict(orientation='h',\n",
    "                            yanchor=\"top\", y = -0.1, xanchor=\"left\", x=-0.01), \n",
    "                          )\n",
    "\n",
    "  path = foldername_graphs_energy\n",
    "  num_graph+=1\n",
    "\n",
    "  fig.write_html(path + str(num_graph) + \"_\" + title + \".html\")\n",
    "  fig.write_image(path + str(num_graph) + \"_\" + title + \".png\", width=500, height=500, scale = 4)\n",
    "  if flag_show: fig.show()\n",
    "\n",
    "  fig.write_image(config[\"foldername_images_portale\"] + title + \".png\", width=500, height=500, scale = 4)\n",
    "\n",
    "plot_pie_generation(df, user=\"CACER\")"
   ]
  },
  {
   "cell_type": "markdown",
   "metadata": {},
   "source": [
    "Grafico aree mix energetico CACER su energia consumata"
   ]
  },
  {
   "cell_type": "code",
   "execution_count": 119,
   "metadata": {},
   "outputs": [],
   "source": [
    "def plot_area_lifetime_consumption(df, user):\n",
    "    global num_graph\n",
    "    title = 'Ripartizione energia consumata mensilmente [%] - ' + user\n",
    "    # labels = ['Energia Autoconsumata dai prosumer', 'Energia acquistata da rete e condivisa dalla CACER', 'Energia Acquistata da rete non condivisa']\n",
    "    # title = \"CACER Energy consumption allocation - [%]\"\n",
    "    # labels = ['Prosumers energy self-consumption', 'Energy purchased from grid and shared', 'Energy purchased from grid and not shared']\n",
    "    fig = make_subplots(specs=[[{\"secondary_y\": True}]])\n",
    "\n",
    "    for i in [\"Eaut\",\"Econd\",\"Eprel_non_cond\"]:\n",
    "\n",
    "        ################ IN PERCENTUALE\n",
    "        y_perc = df[i] / (df[\"Eaut\"] + df[\"Econd\"] + df[\"Eprel_non_cond\"]) * 100\n",
    "        fig.add_trace(go.Scatter(\n",
    "            x = df.month, \n",
    "            y = y_perc, \n",
    "            marker_color = data[i][\"col\"], \n",
    "            name = data[i][\"label\"],\n",
    "            text=round(y_perc,1), textposition='middle center',\n",
    "            stackgroup='one',\n",
    "            ),\n",
    "            secondary_y= True)\n",
    "\n",
    "        #     ########## QUESTO È IN MWH \n",
    "        # fig.add_trace(go.Bar(\n",
    "        #     x = df_last_year.month, \n",
    "        #     y = df_last_year[i]/1000, \n",
    "        #     marker_color = data[i][\"col\"], \n",
    "        #     name = data[i][\"label\"],\n",
    "        #     text=round(df_last_year[i]/1000,1), textposition='auto',\n",
    "        #     ))\n",
    "\n",
    "    fig.update_layout(plot_bgcolor='white',\n",
    "        title_text = title, \n",
    "        xaxis = dict(title='mese',\n",
    "        # type='category'\n",
    "        ))\n",
    "\n",
    "    fig.update_layout(\n",
    "                legend = dict(orientation='h',\n",
    "                            yanchor=\"top\", y = -0.2, xanchor=\"left\", x=0.01), \n",
    "                            )\n",
    "\n",
    "    fig.update_layout(barmode='stack')\n",
    "\n",
    "    fig.update_yaxes(title_text = 'Prelievi in MWh', secondary_y=False, exponentformat= \"none\")\n",
    "\n",
    "    fig.update_yaxes(title_text = 'Percentuale sui prelievi (%)', secondary_y=True, exponentformat= \"none\",\n",
    "        mirror=True,\n",
    "        # ticks='outside',\n",
    "        showline=True,\n",
    "        # linecolor='black',\n",
    "        gridcolor='lightgrey')\n",
    "\n",
    "    if flag_show: fig.show()\n",
    "\n",
    "\n",
    "    path = foldername_graphs_energy\n",
    "    num_graph+=1\n",
    "\n",
    "    fig.write_html(path + str(num_graph) + \"_\" + title + \".html\")\n",
    "    fig.write_image(path + str(num_graph) + \"_\" + title + \".png\", width=1000, height=1100/13.2*5, scale = 4)\n",
    "\n",
    "plot_area_lifetime_consumption(df, user=\"CACER\")"
   ]
  },
  {
   "cell_type": "code",
   "execution_count": 120,
   "metadata": {},
   "outputs": [],
   "source": [
    "def plot_area_year1_consumption(df, user):\n",
    "    global num_graph\n",
    "\n",
    "    df[\"year\"] = df.month.str[:4]\n",
    "    df_last_year = df.copy()\n",
    "    df_last_year = df_last_year[df_last_year[\"year\"] == df_last_year[\"year\"][0]]\n",
    "    df_last_year[\"Percentuale autoconsumo\"] = df_last_year[\"Eaut\"] / (df_last_year[\"Eaut\"] + df_last_year[\"Econd\"] + df_last_year[\"Eprel_non_cond\"])\n",
    "    df_last_year[\"Percentuale condivisione\"] = df_last_year[\"Econd\"] / (df_last_year[\"Eaut\"] + df_last_year[\"Econd\"] + df_last_year[\"Eprel_non_cond\"])\n",
    "    df_last_year[\"Percentuale prelievo senza condivisione\"] = df_last_year[\"Eprel_non_cond\"] / (df_last_year[\"Eaut\"] + df_last_year[\"Econd\"] + df_last_year[\"Eprel_non_cond\"])\n",
    "\n",
    "    title = 'Ripartizione energia consumata nel primo anno [%] - ' + user\n",
    "    labels = ['Energia Autoconsumata dai prosumer', 'Energia acquistata da rete e condivisa dalla CACER', 'Energia Acquistata da rete non condivisa']\n",
    "    fig = make_subplots(specs=[[{\"secondary_y\": True}]])\n",
    "\n",
    "    for i in [\"Eaut\",\"Econd\",\"Eprel_non_cond\"]:\n",
    "\n",
    "        ################ IN PERCENTUALE\n",
    "        y_perc = df_last_year[i] / (df_last_year[\"Eaut\"] + df_last_year[\"Econd\"] + df_last_year[\"Eprel_non_cond\"]) * 100\n",
    "        fig.add_trace(go.Scatter(\n",
    "            x = df_last_year.month, \n",
    "            y = y_perc, \n",
    "            marker_color = data[i][\"col\"], \n",
    "            name = data[i][\"label\"],\n",
    "            text=round(y_perc,1), textposition='middle center',\n",
    "            stackgroup='one',\n",
    "            ),\n",
    "            secondary_y= True)\n",
    "\n",
    "        #     ########## QUESTO È IN MWH \n",
    "        # fig.add_trace(go.Bar(\n",
    "        #     x = df_last_year.month, \n",
    "        #     y = df_last_year[i]/1000, \n",
    "        #     marker_color = data[i][\"col\"], \n",
    "        #     name = data[i][\"label\"],\n",
    "        #     text=round(df_last_year[i]/1000,1), textposition='auto',\n",
    "        #     ))\n",
    "\n",
    "    fig.update_layout(plot_bgcolor='white',\n",
    "        title_text = title, \n",
    "        xaxis = dict(title='mese',\n",
    "        # type='category'\n",
    "        ))\n",
    "\n",
    "    fig.update_layout(\n",
    "                legend = dict(orientation='h',\n",
    "                            yanchor=\"top\", y = -0.2, xanchor=\"left\", x=0.01), \n",
    "                            )\n",
    "\n",
    "    fig.update_layout(barmode='stack')\n",
    "\n",
    "    fig.update_yaxes(title_text = 'Prelievi in MWh', secondary_y=False, exponentformat= \"none\")\n",
    "\n",
    "    fig.update_yaxes(title_text = 'Percentuale sui prelievi (%)', secondary_y=True, exponentformat= \"none\",\n",
    "        mirror=True,\n",
    "        # ticks='outside',\n",
    "        showline=True,\n",
    "        # linecolor='black',\n",
    "        gridcolor='lightgrey')\n",
    "\n",
    "    if flag_show: fig.show()\n",
    "\n",
    "    path = foldername_graphs_energy\n",
    "    num_graph+=1\n",
    "\n",
    "    fig.write_html(path + str(num_graph) + \"_\" + title + \".html\")\n",
    "    fig.write_image(path + str(num_graph) + \"_\" + title + \".png\", width=1000, height=1100/13.2*5, scale = 4)\n",
    "\n",
    "plot_area_year1_consumption(df, user=\"CACER\")"
   ]
  },
  {
   "cell_type": "markdown",
   "metadata": {},
   "source": [
    "Grafico aree mix energetico CACER su energia prodotta"
   ]
  },
  {
   "cell_type": "code",
   "execution_count": 121,
   "metadata": {},
   "outputs": [],
   "source": [
    "def plot_area_lifetime_generation(df, user):\n",
    "    global num_graph\n",
    "    title = \"Ripartizione energia prodotta nell'intero progetto - \" + user\n",
    "    labels = ['Energia Autoconsumata dai prosumer', 'Energia prodotta e condivisa dalla CACER', 'Energia prodotta e non condivisa']\n",
    "    fig = make_subplots(specs=[[{\"secondary_y\": True}]])\n",
    "\n",
    "    for i in [\"Eaut\",\"Econd\",\"Evend_non_cond\"]:\n",
    "\n",
    "        ################ IN PERCENTUALE\n",
    "        y_perc = df[i] / (df[\"Eaut\"] + df[\"Econd\"] + df[\"Evend_non_cond\"]) * 100\n",
    "        fig.add_trace(go.Scatter(\n",
    "            x = df.month, \n",
    "            y = y_perc, \n",
    "            marker_color = data[i][\"col\"], \n",
    "            name = data[i][\"label\"],\n",
    "            text=round(y_perc,1), textposition='middle center',\n",
    "            stackgroup='one',\n",
    "            ),\n",
    "            secondary_y= True)\n",
    "\n",
    "        #     ########## QUESTO È IN MWH \n",
    "        # fig.add_trace(go.Bar(\n",
    "        #     x = df_last_year.month, \n",
    "        #     y = df_last_year[i]/1000, \n",
    "        #     marker_color = data[i][\"col\"], \n",
    "        #     name = data[i][\"label\"],\n",
    "        #     text=round(df_last_year[i]/1000,1), textposition='auto',\n",
    "        #     ))\n",
    "\n",
    "    fig.update_layout(plot_bgcolor='white',\n",
    "        title_text = title, \n",
    "        xaxis = dict(title='mese',\n",
    "        # type='category'\n",
    "        ))\n",
    "\n",
    "    fig.update_layout(\n",
    "                legend = dict(orientation='h',\n",
    "                            yanchor=\"top\", y = -0.2, xanchor=\"left\", x=0.01), \n",
    "                            )\n",
    "\n",
    "    fig.update_layout(barmode='stack')\n",
    "\n",
    "    fig.update_yaxes(title_text = 'Prelievi in MWh', secondary_y=False, exponentformat= \"none\")\n",
    "\n",
    "    fig.update_yaxes(title_text = 'Percentuale sulle produzioni (%)', secondary_y=True, exponentformat= \"none\",\n",
    "        mirror=True,\n",
    "        # ticks='outside',\n",
    "        showline=True,\n",
    "        # linecolor='black',\n",
    "        gridcolor='lightgrey')\n",
    "\n",
    "    if flag_show: fig.show()\n",
    "\n",
    "    path = foldername_graphs_energy\n",
    "    num_graph+=1\n",
    "\n",
    "    fig.write_html(path + str(num_graph) + \"_\" + title + \".html\")\n",
    "    fig.write_image(path + str(num_graph) + \"_\" + title + \".png\", width=1000, height=1100/13.2*5, scale = 4)\n",
    "\n",
    "plot_area_lifetime_generation(df, user=\"CACER\")"
   ]
  },
  {
   "cell_type": "code",
   "execution_count": 122,
   "metadata": {},
   "outputs": [],
   "source": [
    "def plot_area_year1_generation(df, user):\n",
    "    global num_graph\n",
    "    \n",
    "    df[\"year\"] = df.month.str[:4]\n",
    "    df_last_year = df.copy()\n",
    "    df_last_year = df_last_year[df_last_year[\"year\"] == df_last_year[\"year\"][0]]\n",
    "    df_last_year[\"Percentuale autoconsumo\"] = df_last_year[\"Eaut\"] / (df_last_year[\"Eaut\"] + df_last_year[\"Econd\"] + df_last_year[\"Evend_non_cond\"])\n",
    "    df_last_year[\"Percentuale condivisione\"] = df_last_year[\"Econd\"] / (df_last_year[\"Eaut\"] + df_last_year[\"Econd\"] + df_last_year[\"Evend_non_cond\"])\n",
    "    df_last_year[\"Percentuale produzione senza condivisione\"] = df_last_year[\"Evend_non_cond\"] / (df_last_year[\"Eaut\"] + df_last_year[\"Econd\"] + df_last_year[\"Evend_non_cond\"])\n",
    "\n",
    "    title = 'Ripartizione energia prodotta nel primo anno - ' + user\n",
    "    labels = ['Energia Autoconsumata dai prosumer', 'Energia prodotta e condivisa dalla CACER', 'Energia prodotta e non condivisa']\n",
    "    fig = make_subplots(specs=[[{\"secondary_y\": True}]])\n",
    "\n",
    "    for i in [\"Eaut\",\"Econd\",\"Evend_non_cond\"]:\n",
    "\n",
    "        ################ IN PERCENTUALE\n",
    "        y_perc = df_last_year[i] / (df_last_year[\"Eaut\"] + df_last_year[\"Econd\"] + df_last_year[\"Evend_non_cond\"]) * 100\n",
    "        fig.add_trace(go.Scatter(\n",
    "            x = df_last_year.month, \n",
    "            y = y_perc, \n",
    "            marker_color = data[i][\"col\"], \n",
    "            name = data[i][\"label\"],\n",
    "            text=round(y_perc,1), textposition='middle center',\n",
    "            stackgroup='one',\n",
    "            ),\n",
    "            secondary_y= True)\n",
    "\n",
    "        #     ########## QUESTO È IN MWH \n",
    "        # fig.add_trace(go.Bar(\n",
    "        #     x = df_last_year.month, \n",
    "        #     y = df_last_year[i]/1000, \n",
    "        #     marker_color = data[i][\"col\"], \n",
    "        #     name = data[i][\"label\"],\n",
    "        #     text=round(df_last_year[i]/1000,1), textposition='auto',\n",
    "        #     ))\n",
    "\n",
    "    fig.update_layout(plot_bgcolor='white',\n",
    "        title_text = title, \n",
    "        xaxis = dict(title='mese',\n",
    "        # type='category'\n",
    "        ))\n",
    "\n",
    "    fig.update_layout(\n",
    "                legend = dict(orientation='h',\n",
    "                            yanchor=\"top\", y = -0.2, xanchor=\"left\", x=0.01), \n",
    "                            )\n",
    "\n",
    "    fig.update_layout(barmode='stack')\n",
    "\n",
    "    fig.update_yaxes(title_text = 'Prelievi in MWh', secondary_y=False, exponentformat= \"none\")\n",
    "\n",
    "    fig.update_yaxes(title_text = 'Percentuale sulle produzioni (%)', secondary_y=True, exponentformat= \"none\",\n",
    "        mirror=True,\n",
    "        # ticks='outside',\n",
    "        showline=True,\n",
    "        # linecolor='black',\n",
    "        gridcolor='lightgrey')\n",
    "\n",
    "    if flag_show: fig.show()\n",
    "\n",
    "    path = foldername_graphs_energy\n",
    "    num_graph+=1\n",
    "\n",
    "    fig.write_html(path + str(num_graph) + \"_\" + title + \".html\")\n",
    "    fig.write_image(path + str(num_graph) + \"_\" + title + \".png\", width=1000, height=1100/13.2*5, scale = 4)\n",
    "\n",
    "plot_area_year1_generation(df, user=\"CACER\")"
   ]
  },
  {
   "cell_type": "code",
   "execution_count": 123,
   "metadata": {},
   "outputs": [],
   "source": [
    "df = pd.read_csv(config[\"filename_CACER_energy_hourly\"]).fillna(0)"
   ]
  },
  {
   "cell_type": "code",
   "execution_count": 124,
   "metadata": {},
   "outputs": [],
   "source": [
    "# ENERGY FLOW FOR ALL CACER!\n",
    "df = pd.read_csv(config[\"filename_CACER_energy_hourly\"]).fillna(0)\n",
    "\n",
    "line_shape = 'linear' # hv, vh, hvh, vhv, spline, linear\n",
    "\n",
    "labels = {\"Eaut\":'Energia Autoconsumata dai prosumer', \n",
    "          \"Econd\":'Energia condivisa dalla CACER', \n",
    "          \"Eprel\": 'Energia prelevata e non condivisa',\n",
    "          \"Eimm\": 'Energia immessa e non condivisa',\n",
    "          \"Eperdite\": \"Perdite conversione\"}\n",
    "\n",
    "# labels = {\"Eaut\":'Prosumers energy self-consumption', \n",
    "#           \"Econd\":'Energy shared with the CACER', \n",
    "#           \"Eprel\": 'Energy purchased from grid and not shared',\n",
    "#           \"Eimm\": 'Energy injected into the grid and not shared',\n",
    "#           \"Eperdite\": \"Energy Losses\"}\n",
    "\n",
    "for active_day_str in [\"day_spring\", \"day_summer\", \"day_autumn\",\"day_winter\"]:\n",
    "\n",
    "    active_day = str(config[active_day_str]) # deve essere una stringa, non un datetime.data\n",
    "\n",
    "    title = \"Flussi energetici - \" + active_day + \" - CACER \"\n",
    "    \n",
    "    df_plot = df[[string.startswith(active_day) for x,string in enumerate(df[\"dayhour\"])]] \n",
    "    assert len(df_plot) > 0, active_day + \" not found! Check inputs\"\n",
    "    assert len(df_plot) <= 24*4, active_day + \"has too may datapoints! Investigate\"\n",
    "\n",
    "    df_plot = df_plot.set_index(\"dayhour\")\n",
    "\n",
    "    # togliamo cio che non ci serve\n",
    "    # df_plot.drop(columns=[\"battery_cumulative_charge\",\"SOCkWh\",\"SOCperc\",\"LCF_aut\",\"SCF_aut\",\"Eprod\",\"Eaut_PV\", \"Eaut_batt\"], inplace=True, errors=\"ignore\")\n",
    "    # fixing order of columns, needed for the stacked area chart\n",
    "    df_plot = df_plot[[\"Eut\", \"Eprod\", \"Eaut\", \"Econd\",  \"Eimm\", \"Eprel\", \"Eperdite\"]]\n",
    "\n",
    "    df_plot[\"Eprel\"] = df_plot[\"Eprel\"] - df_plot[\"Econd\"] # diventa solo la quota non condivisa\n",
    "    df_plot[\"Eimm\"] = df_plot[\"Eimm\"] - df_plot[\"Econd\"] # diventa solo la quota non condivisa\n",
    "\n",
    "    # # se siamo a base quartoraria, dobbiamo allora passare da kWh/quartodora a kW, moltiplicando per 4\n",
    "    # if config[\"delta_t\"] in [\"15min\", \"15Min\"]:\n",
    "    #     print(\"Quarterly!\")\n",
    "    #     df_plot = df_plot * 4 \n",
    "\n",
    "    fig = go.Figure()\n",
    "    fig.add_trace(go.Scatter(\n",
    "        x = df_plot.index, y = df_plot[\"Eut\"], marker_color=data[\"Eut\"][\"col\"], mode='lines+markers',\n",
    "                name = data[\"Eut\"][\"label\"], \n",
    "                line_shape = line_shape,\n",
    "                textposition='top center',stackgroup=None))\n",
    "    \n",
    "    fig.add_trace(go.Scatter(\n",
    "        x = df_plot.index, y = df_plot[\"Eprod\"], marker_color=data[\"Eprod\"][\"col\"], mode='lines+markers',\n",
    "                name = data[\"Eprod\"][\"label\"], \n",
    "                line_shape = line_shape,\n",
    "                textposition='top center',stackgroup=None))\n",
    "    \n",
    "    # tutte queste sono cumulate, quindi stacked area\n",
    "    for column in df_plot.columns:\n",
    "        if column == \"datetime\" or column in [\"Eut\", \"Eprod\"]: continue\n",
    "        fig.add_trace(go.Scatter(\n",
    "            x = df_plot.index, y = df_plot[column], marker_color=data[column][\"col\"], mode='lines',\n",
    "                    name = labels[column], \n",
    "                    line_shape = line_shape,\n",
    "                    textposition='top center',stackgroup='one'))\n",
    "\n",
    "    fig.update_layout(\n",
    "        title_text = title, \n",
    "        # xaxis = dict(title='Ora', \n",
    "                    #  rangeslider=dict(visible=True), type='date')\n",
    "                    # )\n",
    "    )\n",
    "\n",
    "    fig.update_layout(\n",
    "        legend = dict(orientation='h',\n",
    "                        yanchor=\"top\", y = -0.25, xanchor=\"left\", x=0.01), \n",
    "                    )\n",
    "    fig.update_yaxes(title_text = \"Power (kW)\")\n",
    "\n",
    "    ##############################################################################################################################\n",
    "\n",
    "    fig.update_xaxes(\n",
    "        # mirror=True,\n",
    "        # ticks='outside',\n",
    "        # showline=True,\n",
    "        # linecolor='lightgrey',\n",
    "        gridcolor='white'\n",
    "    )\n",
    "\n",
    "    fig.update_yaxes(\n",
    "        # mirror=True,\n",
    "        # ticks='outside',\n",
    "        # showline=True,\n",
    "        # linecolor='lightgrey',\n",
    "        gridcolor='white'\n",
    "    )\n",
    "\n",
    "    fig.update_layout({'plot_bgcolor': 'white',\n",
    "                    'paper_bgcolor': 'white',\n",
    "    })\n",
    "\n",
    "    ##############################################################################################################################\n",
    "\n",
    "    if flag_show: fig.show()\n",
    "    \n",
    "    path = foldername_graphs_energy\n",
    "    num_graph+=1\n",
    "\n",
    "    fig.write_html(path + str(num_graph) + \"_\" + title + \".html\")\n",
    "    fig.write_image(path + str(num_graph) + \"_\" + title + \".png\", width=1000, height=1100/13.2*5, scale = 4)\n",
    "\n",
    "    if active_day_str in [\"day_summer\", \"day_winter\"]:\n",
    "        fig.write_image(config[\"foldername_images_portale\"] + title + \".png\", width=1000, height=1100/13.2*5, scale = 4)"
   ]
  },
  {
   "cell_type": "code",
   "execution_count": 125,
   "metadata": {},
   "outputs": [],
   "source": [
    "# # ENERGY FLOW FOR ALL CACER for 4 days in the same chart\n",
    "# df = pd.read_csv(config[\"filename_CACER_energy_quarterly\"]).fillna(0)\n",
    "\n",
    "# labels = {\"Eaut\":'Energia Autoconsumata dai prosumer', \n",
    "#           \"Econd\":'Energia condivisa dalla CACER', \n",
    "#           \"Eprel\": 'Energia prelevata e non condivisa',\n",
    "#           \"Eimm\": 'Energia immessa e non condivisa',\n",
    "#           \"Eperdite\": \"Perdite conversione\"}\n",
    "\n",
    "# fig = make_subplots(rows=2, cols=2)\n",
    "# title = \"Flussi energetici di un giorno casuale per ogni stagione dell'anno\"\n",
    "\n",
    "# for i, active_day_str in enumerate([\"day_spring\", \"day_summer\", \"day_autumn\",\"day_winter\"]):\n",
    "\n",
    "#     active_day = str(config[active_day_str]) # deve essere una stringa, non un datetime.data\n",
    "    \n",
    "#     df_plot = df[[string.startswith(active_day) for x,string in enumerate(df[\"datetime\"])]] \n",
    "#     assert len(df_plot) > 0, active_day + \" not found! Check inputs\"\n",
    "#     assert len(df_plot) <= 24*4, active_day + \"has too may datapoints! Investigate\"\n",
    "\n",
    "#     df_plot = df_plot.set_index(\"datetime\")\n",
    "#     # df_plot.set_index(\"datetime\")\n",
    "\n",
    "#     # togliamo cio che non ci serve\n",
    "#     # df_plot.drop(columns=[\"battery_cumulative_charge\",\"SOCkWh\",\"SOCperc\",\"LCF_aut\",\"SCF_aut\",\"Eprod\",\"Eaut_PV\", \"Eaut_batt\"], inplace=True, errors=\"ignore\")\n",
    "#     # fixing order of columns, needed for the stacked area chart\n",
    "#     df_plot = df_plot[[\"Eut\", \"Eprod\", \"Eaut\", \"Econd\", \"Eprel\", \"Eimm\", \"Eperdite\"]]\n",
    "\n",
    "#     df_plot[\"Eprel\"] = df_plot[\"Eprel\"] - df_plot[\"Econd\"] # diventa solo la quota non condivisa\n",
    "#     df_plot[\"Eimm\"] = df_plot[\"Eimm\"] - df_plot[\"Econd\"] # diventa solo la quota non condivisa\n",
    "\n",
    "#     # se siamo a base quartoraria, dobbiamo allora passare da kWh/quartodora a kW, moltiplicando per 4\n",
    "#     if config[\"delta_t\"] in [\"15min\", \"15Min\"]:\n",
    "#         df_plot = df_plot * 4 \n",
    "    \n",
    "#     fig.add_trace(go.Scatter(\n",
    "#         x = df_plot.index, y = df_plot[\"Eut\"], marker_color=data[\"Eut\"][\"col\"], mode='lines+markers',\n",
    "#                 name = data[\"Eut\"][\"label\"], \n",
    "#                 textposition='top center',stackgroup=None),\n",
    "#                     row=round((i+1)/4)+1, col=i%2+1)\n",
    "    \n",
    "#     fig.add_trace(go.Scatter(\n",
    "#         x = df_plot.index, y = df_plot[\"Eprod\"], marker_color=data[\"Eprod\"][\"col\"], mode='lines+markers',\n",
    "#                 name = data[\"Eprod\"][\"label\"], \n",
    "#                 textposition='top center',stackgroup=None),\n",
    "#                 row=round((i+1)/4)+1, col=i%2+1)\n",
    "    \n",
    "#     # tutte queste sono cumulate, quindi stacked area\n",
    "#     for column in df_plot.columns:\n",
    "#         if column == \"datetime\" or column in [\"Eut\", \"Eprod\"]: continue\n",
    "#         fig.add_trace(go.Scatter(\n",
    "#             x = df_plot.index, y = df_plot[column], marker_color=data[column][\"col\"], mode='lines',\n",
    "#                     name = labels[column], \n",
    "#                     textposition='top center',stackgroup='one'),\n",
    "#                     row=round((i+1)/4)+1, col=i%2+1)\n",
    "\n",
    "#     fig.update_layout(\n",
    "#         title_text = title, \n",
    "#         # xaxis = dict(title='Ora', \n",
    "#                     #  rangeslider=dict(visible=True), type='date')\n",
    "#                     # )\n",
    "#     )\n",
    "\n",
    "\n",
    "#     ##############################################################################################################################\n",
    "\n",
    "#     fig.update_xaxes(\n",
    "#         # mirror=True,\n",
    "#         # ticks='outside',\n",
    "#         # showline=True,\n",
    "#         # linecolor='lightgrey',\n",
    "#         gridcolor='white'\n",
    "#     )\n",
    "\n",
    "#     fig.update_yaxes(\n",
    "#         # mirror=True,\n",
    "#         # ticks='outside',\n",
    "#         # showline=True,\n",
    "#         # linecolor='lightgrey',\n",
    "#         gridcolor='white'\n",
    "#     )\n",
    "\n",
    "#     fig.update_layout({'plot_bgcolor': 'white',\n",
    "#                     'paper_bgcolor': 'white',\n",
    "#     })\n",
    "\n",
    "#     ##############################################################################################################################\n",
    "\n",
    "# fig.update_layout(\n",
    "#     legend = dict(orientation='h',\n",
    "#                     yanchor=\"top\", y = -0.25, xanchor=\"left\", x=0.01), \n",
    "#                 )\n",
    "# fig.update_yaxes(title_text = \"Power (kW)\")\n",
    "\n",
    "# # fig.show()\n",
    "# if flag_show:\n",
    "#     fig.show()\n",
    "# path = foldername_graphs_energy\n",
    "# num_graph+=1\n",
    "\n",
    "# fig.write_html(path + str(num_graph) + \"_\" + title + \".html\")\n",
    "# fig.write_image(path + str(num_graph) + \"_\" + title + \".png\", width=1000, height=1800/13.2*5, scale = 4)"
   ]
  },
  {
   "cell_type": "code",
   "execution_count": 126,
   "metadata": {},
   "outputs": [],
   "source": [
    "# ENERGY FLOW FOR ALL CACER for 4 days in the same chart\n",
    "df = pd.read_csv(config[\"filename_CACER_energy_hourly\"]).fillna(0)\n",
    "\n",
    "# labels = {\"Eaut\":'Energia Autoconsumata dai prosumer', \n",
    "#           \"Econd\":'Energia condivisa dalla CACER', \n",
    "#           \"Eprel\": 'Energia prelevata e non condivisa',\n",
    "#           \"Eimm\": 'Energia immessa e non condivisa',\n",
    "#           \"Eperdite\": \"Perdite conversione\"}\n",
    "\n",
    "labels = {\"Eaut\":'Sel-consumed energy', \n",
    "          \"Econd\":'Shared energy', \n",
    "          \"Eprel\": 'Energy purchased and not shared',\n",
    "          \"Eimm\": 'Energy injected and not shared',\n",
    "          \"Eperdite\": \"Energy losses\"}\n",
    "\n",
    "fig = make_subplots(rows=2, cols=2)\n",
    "# title = \"Flussi energetici di un giorno casuale per ogni stagione dell'anno\"\n",
    "title = \"Energy flows in 4 days for each of the seasons of the year\"\n",
    "\n",
    "for i, active_day_str in enumerate([\"day_spring\", \"day_summer\", \"day_autumn\",\"day_winter\"]):\n",
    "\n",
    "    active_day = str(config[active_day_str]) # deve essere una stringa, non un datetime.data\n",
    "    \n",
    "    df_plot = df[[string.startswith(active_day) for x,string in enumerate(df[\"dayhour\"])]] \n",
    "    assert len(df_plot) > 0, active_day + \" not found! Check inputs\"\n",
    "    assert len(df_plot) <= 24*4, active_day + \"has too may datapoints! Investigate\"\n",
    "\n",
    "    df_plot = df_plot.set_index(\"dayhour\")\n",
    "    # df_plot.set_index(\"datetime\")\n",
    "\n",
    "    # togliamo cio che non ci serve\n",
    "    # df_plot.drop(columns=[\"battery_cumulative_charge\",\"SOCkWh\",\"SOCperc\",\"LCF_aut\",\"SCF_aut\",\"Eprod\",\"Eaut_PV\", \"Eaut_batt\"], inplace=True, errors=\"ignore\")\n",
    "    # fixing order of columns, needed for the stacked area chart\n",
    "    df_plot = df_plot[[\"Eut\", \"Eprod\", \"Eaut\", \"Econd\", \"Eprel\", \"Eimm\", \"Eperdite\"]]\n",
    "\n",
    "    df_plot[\"Eprel\"] = df_plot[\"Eprel\"] - df_plot[\"Econd\"] # diventa solo la quota non condivisa\n",
    "    df_plot[\"Eimm\"] = df_plot[\"Eimm\"] - df_plot[\"Econd\"] # diventa solo la quota non condivisa\n",
    "\n",
    "    # # se siamo a base quartoraria, dobbiamo allora passare da kWh/quartodora a kW, moltiplicando per 4\n",
    "    # if config[\"delta_t\"] in [\"15min\", \"15Min\"]:\n",
    "    #     df_plot = df_plot * 4 \n",
    "    \n",
    "    fig.add_trace(go.Scatter(\n",
    "        x = df_plot.index, y = df_plot[\"Eut\"], marker_color=data[\"Eut\"][\"col\"], mode='lines+markers',\n",
    "                name = data[\"Eut\"][\"label\"], \n",
    "                line_shape = line_shape,\n",
    "                textposition='top center',stackgroup=None),\n",
    "                    row=round((i+1)/4)+1, col=i%2+1)\n",
    "    \n",
    "    fig.add_trace(go.Scatter(\n",
    "        x = df_plot.index, y = df_plot[\"Eprod\"], marker_color=data[\"Eprod\"][\"col\"], mode='lines+markers',\n",
    "                name = data[\"Eprod\"][\"label\"], \n",
    "                line_shape = line_shape,\n",
    "                textposition='top center',stackgroup=None),\n",
    "                row=round((i+1)/4)+1, col=i%2+1)\n",
    "    \n",
    "    # tutte queste sono cumulate, quindi stacked area\n",
    "    for column in df_plot.columns:\n",
    "        if column == \"datetime\" or column in [\"Eut\", \"Eprod\"]: continue\n",
    "        fig.add_trace(go.Scatter(\n",
    "            x = df_plot.index, y = df_plot[column], marker_color=data[column][\"col\"], mode='lines',\n",
    "                    name = labels[column], \n",
    "                    line_shape = line_shape,\n",
    "                    textposition='top center',stackgroup='one'),\n",
    "                    row=round((i+1)/4)+1, col=i%2+1)\n",
    "\n",
    "    fig.update_layout(\n",
    "        title_text = title, \n",
    "        # xaxis = dict(title='Ora', \n",
    "                    #  rangeslider=dict(visible=True), type='date')\n",
    "                    # )\n",
    "    )\n",
    "\n",
    "\n",
    "    ##############################################################################################################################\n",
    "\n",
    "    fig.update_xaxes(\n",
    "        # mirror=True,\n",
    "        # ticks='outside',\n",
    "        # showline=True,\n",
    "        # linecolor='lightgrey',\n",
    "        gridcolor='white'\n",
    "    )\n",
    "\n",
    "    fig.update_yaxes(\n",
    "        # mirror=True,\n",
    "        # ticks='outside',\n",
    "        # showline=True,\n",
    "        # linecolor='lightgrey',\n",
    "        gridcolor='white'\n",
    "    )\n",
    "\n",
    "    fig.update_layout({'plot_bgcolor': 'white',\n",
    "                    'paper_bgcolor': 'white',\n",
    "    })\n",
    "\n",
    "    ##############################################################################################################################\n",
    "\n",
    "fig.update_layout(\n",
    "    legend = dict(orientation='h',\n",
    "                    yanchor=\"top\", y = -0.25, xanchor=\"left\", x=0.01), \n",
    "                )\n",
    "fig.update_yaxes(title_text = \"Power (kW)\")\n",
    "\n",
    "if flag_show: fig.show()\n",
    "\n",
    "path = foldername_graphs_energy\n",
    "num_graph+=1\n",
    "\n",
    "fig.write_html(path + str(num_graph) + \"_\" + title + \".html\")\n",
    "fig.write_image(path + str(num_graph) + \"_\" + title + \".png\", width=1000, height=1800/13.2*5, scale = 4)"
   ]
  },
  {
   "cell_type": "markdown",
   "metadata": {},
   "source": [
    "## Configurations\n"
   ]
  },
  {
   "cell_type": "code",
   "execution_count": 127,
   "metadata": {},
   "outputs": [
    {
     "name": "stdout",
     "output_type": "stream",
     "text": [
      "1 configurations found\n"
     ]
    }
   ],
   "source": [
    "configurations = recap[\"configurations\"]\n",
    "\n",
    "# print(len(configurations), \"configurations found\")"
   ]
  },
  {
   "cell_type": "code",
   "execution_count": 128,
   "metadata": {},
   "outputs": [],
   "source": [
    "df = pd.read_excel(filename_CACER_energy_monthly, sheet_name=\"CACER\")\n",
    "plot_sankey(df, user = \"CACER\")"
   ]
  },
  {
   "cell_type": "code",
   "execution_count": 129,
   "metadata": {},
   "outputs": [],
   "source": [
    "if len(configurations) > 1: # if we only have 1 configuration, then that is the \"CACER\" itself that was already analyzed\n",
    "# if True: # if we only have 1 configuration, then that is the \"CACER\" itself that was already analyzed\n",
    "    for configuration in configurations: \n",
    "        df = pd.read_excel(filename_CACER_energy_monthly, sheet_name=configuration)\n",
    "        plot_sankey(df, user = configuration)\n",
    "        plot_pie_consumption(df, user = configuration)\n",
    "        plot_pie_generation(df, user = configuration)\n",
    "        plot_area_lifetime_consumption(df, user = configuration)\n",
    "        plot_area_lifetime_generation(df, user = configuration)\n",
    "        plot_area_year1_consumption(df, user = configuration)\n",
    "        plot_area_year1_generation(df, user = configuration)"
   ]
  },
  {
   "cell_type": "markdown",
   "metadata": {},
   "source": [
    "## Prosumers"
   ]
  },
  {
   "cell_type": "code",
   "execution_count": 130,
   "metadata": {},
   "outputs": [
    {
     "name": "stdout",
     "output_type": "stream",
     "text": [
      "1 prosumers found\n"
     ]
    }
   ],
   "source": [
    "filename_utenze_yml = config[\"filename_registry_user_types_yml\"]\n",
    "utenti = yaml.safe_load(open(filename_utenze_yml, 'r'))\n",
    "all_user_set = list(utenti.keys()) # this is the list of all users IDs of the \"utenti.yml\" file\n",
    "prosumers = recap[\"list_types_prosumers\"]\n",
    "\n",
    "# print(len(prosumers), \"prosumers found\")"
   ]
  },
  {
   "cell_type": "markdown",
   "metadata": {},
   "source": [
    "Sankey flussi energetici singolo prosumer"
   ]
  },
  {
   "cell_type": "code",
   "execution_count": 131,
   "metadata": {},
   "outputs": [],
   "source": [
    "if detailed_report:\n",
    "    for prosumer in prosumers:\n",
    "        \n",
    "        df = pd.read_excel(filename_CACER_energy_monthly, sheet_name=prosumer)\n",
    "\n",
    "        Eaut_tot = df[\"Eaut\"].sum()\n",
    "        Eaut_PV_tot = df[\"Eaut_PV\"].sum()\n",
    "        Eaut_batt_tot = df[\"Eaut_batt\"].sum()\n",
    "        Eimm_tot = df[\"Eimm\"].sum()\n",
    "        Eimm_PV_tot = Eimm_tot # DA MODIFICARE QUANDO SI AVRà IL DINAMICO\n",
    "        Eimm_batt_tot = 0 # DA MODIFICARE QUANDO SI AVRà IL DINAMICO\n",
    "        Eut_tot = df[\"Eut\"].sum()\n",
    "        Eprod_tot = df[\"Eprod\"].sum()\n",
    "        Eprel_tot = df[\"Eprel\"].sum()\n",
    "        Eperdite_tot = df[\"Eperdite\"].sum()\n",
    "        Epv2batt_tot = Eprod_tot - Eaut_PV_tot - Eimm_PV_tot - Eperdite_tot\n",
    "\n",
    "        data_prosumers = {\n",
    "            \"Eprod\": {\"value\": Eprod_tot,\"col\": col[\"giallo\"],\"label\": \"Energia prodotta\"},\n",
    "            \"Eperdite\": {\"value\": Eperdite_tot,\"col\": col[\"marrone\"],\"label\": \"Perdite conversione\"},\n",
    "            \"Eprel\": {\"value\": Eprel_tot,\"col\": col[\"rosso\"],\"label\": \"Energia prelevata da rete\"},\n",
    "            \"Eaut\": {\"value\": Eaut_tot,\"col\": col[\"arancione\"],\"label\": \"Energia autoconsumata\"},\n",
    "            \"Eaut_PV\": {\"value\": Eaut_PV_tot,\"col\": col[\"arancione\"],\"label\": \"Energia autoconsumata da PV\"},\n",
    "            \"Eaut_batt\": {\"value\": Eaut_batt_tot,\"col\": col[\"arancione\"],\"label\": \"Energia autoconsumata da accumulo\"},\n",
    "            \"Eut\": {\"value\": Eut_tot,\"col\": col[\"violetto\"],\"label\": \"Energia consumata\"},\n",
    "            \"Eimm\": {\"value\": Eimm_tot,\"col\": col[\"blu\"],\"label\": \"Energia immessa in rete\"},\n",
    "            \"Eimm_PV\": {\"value\": Eimm_PV_tot,\"col\": col[\"blu\"],\"label\": \"Energia immessa da PV\"},\n",
    "            \"Eimm_batt\": {\"value\": Eimm_batt_tot,\"col\": col[\"blu\"],\"label\": \"Energia immessa da accumulo\"}, \n",
    "            \"Ebatt\": {\"col\": col[\"blu\"],\"label\": \"Accumulo\"}, \n",
    "            \"Epv2batt\": {\"value\": Epv2batt_tot,\"col\": col[\"giallo\"],\"label\": \"Ricarica accumulo\"},           \n",
    "            }\n",
    "\n",
    "        flows = pd.read_excel(foldername_graphs + \"sankey_inputs.xlsx\", sheet_name=\"prosumer\")\n",
    "\n",
    "        \"\"\"Plot the Sankey with the energy flows\n",
    "        more info: https://plotly.com/python/sankey-diagram/\n",
    "        \"\"\"\n",
    "        title = \"Energy flows del singolo prosumer\"\n",
    "        \n",
    "        fig = go.Figure(data=[go.Sankey(\n",
    "            valuesuffix = \"kWh\",\n",
    "            node = dict(\n",
    "            pad = 15,\n",
    "            thickness = 20,\n",
    "            line = dict(color = \"black\", width = 0.5),\n",
    "            label = [data_prosumers[\"Eprod\"][\"label\"], # node 0 = prod,\n",
    "                    data_prosumers[\"Eaut\"][\"label\"], # node 1 = aut,\n",
    "                    data_prosumers[\"Eut\"][\"label\"], # node 2 = consumi,\n",
    "                    data_prosumers[\"Eimm\"][\"label\"], # node 3 = immessa in rete e venduta ,\n",
    "                    data_prosumers[\"Ebatt\"][\"label\"], # node 4 = condivisa\n",
    "                    data_prosumers[\"Eperdite\"][\"label\"], # node 5 = perdite\n",
    "                    data_prosumers[\"Eprel\"][\"label\"], # node 6 = prelevata da rete e acquistata da fornitore\n",
    "                    ],\n",
    "            color = [data_prosumers[\"Eprod\"][\"col\"], # node 0 = prod,\n",
    "                    data_prosumers[\"Eaut\"][\"col\"], # node 1 = aut,\n",
    "                    data_prosumers[\"Eut\"][\"col\"], # node 2 = consumi,\n",
    "                    data_prosumers[\"Eimm\"][\"col\"], # node 3 = immessa in rete e venduta ,\n",
    "                    data_prosumers[\"Ebatt\"][\"col\"], # node 4 = condivisa\n",
    "                    data_prosumers[\"Eperdite\"][\"col\"], # node 5 = perdite\n",
    "                    data_prosumers[\"Eprel\"][\"col\"], # node 6 = prelevata da rete e acquistata da fornitore\n",
    "                    ],\n",
    "            ),\n",
    "            link = dict(\n",
    "            source = flows[\"source\"],\n",
    "            target = flows[\"target\"],\n",
    "            value = [data_prosumers[flows.loc[i,\"value\"]][\"value\"] for i in range(len(flows[\"value\"]))], # andiamo a prendere il valore del dizionario data corrispondente al nome dato nel csv\n",
    "            color = [data_prosumers[flows.loc[i,\"color\"]][\"col\"] for i in range(len(flows[\"color\"]))] # stessa cosa di sopra ma per il colore\n",
    "            #label  = [\"%.2f\" % number for number in numbers]\n",
    "        ))])\n",
    "\n",
    "        fig.update_layout(title_text=title + \" - \" + denomination_users[prosumer], font_size=10)\n",
    "        \n",
    "        if flag_show: fig.show()\n",
    "    \n",
    "        path = foldername_graphs_energy\n",
    "        num_graph+=1\n",
    "\n",
    "        fig.write_html(path + str(num_graph) + \"_\" + title + \".html\")\n",
    "        fig.write_image(path + str(num_graph) + \"_\" + title + \".png\", width=1000, height=1100/13.2*5, scale = 4)"
   ]
  },
  {
   "cell_type": "markdown",
   "metadata": {},
   "source": [
    "Flussi energetici per giorni specifici prosumer"
   ]
  },
  {
   "cell_type": "code",
   "execution_count": 132,
   "metadata": {},
   "outputs": [],
   "source": [
    "if detailed_report:\n",
    "    # ENERGY FLOW FOR ALL PROSUMERS!\n",
    "    for prosumer in prosumers:\n",
    "        df = pd.read_csv(foldername_result_energy+prosumer+\".csv\")\n",
    "\n",
    "        for active_day in [\"day_spring\", \"day_summer\", \"day_autumn\",\"day_winter\"]:\n",
    "\n",
    "            active_day = str(config[active_day]) # deve essere una stringa, non un datetime.data\n",
    "\n",
    "            title = \"Flussi energetici - \" + active_day + \" - Prosumer \" + denomination_users[prosumer] \n",
    "            \n",
    "            df_plot = df[[string.startswith(active_day) for x,string in enumerate(df[\"datetime\"])]] \n",
    "            assert len(df_plot) > 0, active_day + \" not found! Check inputs\"\n",
    "            assert len(df_plot) <= 24*4, active_day + \"has too may datapoints! Investigate\"\n",
    "\n",
    "            df_plot = df_plot.set_index(\"datetime\")\n",
    "\n",
    "            # togliamo cio che non ci serve\n",
    "            df_plot.drop(columns=[\"battery_cumulative_charge\",\"SOCkWh\",\"SOCperc\",\"LCF_aut\",\"SCF_aut\",\"Eprod\",\"Eaut_PV\", \"Eaut_batt\"], inplace=True, errors=\"ignore\")\n",
    "\n",
    "            # se siamo a base quartoraria, dobbiamo allora passare da kWh/quartodora a kW, moltiplicando per 4\n",
    "            if config[\"delta_t\"] in [\"15min\", \"15Min\"]:\n",
    "                df_plot = df_plot * 4 \n",
    "\n",
    "            fig = go.Figure()\n",
    "            fig.add_trace(go.Scatter(\n",
    "                x = df_plot.index, y = df_plot[\"Eut\"], marker_color=data_prosumers[\"Eut\"][\"col\"], mode='lines+markers',\n",
    "                        name = data_prosumers[\"Eut\"][\"label\"], \n",
    "                        textposition='top center',stackgroup=None))\n",
    "            \n",
    "            # tutte queste sono cumulate, quindi stacked area\n",
    "            for column in df_plot.columns:\n",
    "                if column == \"datetime\" or column == \"Eut\": continue\n",
    "                fig.add_trace(go.Scatter(\n",
    "                    x = df_plot.index, y = df_plot[column], marker_color=data_prosumers[column][\"col\"], mode='lines',\n",
    "                            name = data_prosumers[column][\"label\"], \n",
    "                            textposition='top center',stackgroup='one'))\n",
    "\n",
    "            fig.update_layout(\n",
    "                title_text = title, \n",
    "                # xaxis = dict(title='Ora', \n",
    "                            #  rangeslider=dict(visible=True), type='date')\n",
    "                            # )\n",
    "            )\n",
    "\n",
    "            fig.update_layout(\n",
    "                legend = dict(orientation='h',\n",
    "                            yanchor=\"top\", y = -0.25, xanchor=\"left\", x=0.01), \n",
    "                            )\n",
    "            fig.update_yaxes(title_text = \"Power (kW)\")\n",
    "\n",
    "            ##############################################################################################################################\n",
    "\n",
    "            fig.update_xaxes(\n",
    "                # mirror=True,\n",
    "                # ticks='outside',\n",
    "                # showline=True,\n",
    "                # linecolor='lightgrey',\n",
    "                gridcolor='white'\n",
    "            )\n",
    "\n",
    "            fig.update_yaxes(\n",
    "                # mirror=True,\n",
    "                # ticks='outside',\n",
    "                # showline=True,\n",
    "                # linecolor='lightgrey',\n",
    "                gridcolor='white'\n",
    "            )\n",
    "\n",
    "            fig.update_layout({'plot_bgcolor': 'white',\n",
    "                            'paper_bgcolor': 'white',\n",
    "            })\n",
    "\n",
    "            ##############################################################################################################################\n",
    "            if flag_show: fig.show()\n",
    "            \n",
    "            path = foldername_graphs_energy\n",
    "            num_graph+=1\n",
    "\n",
    "            fig.write_html(path + str(num_graph) + \"_\" + title + \" - \" + prosumer + \".html\")\n",
    "            fig.write_image(path + str(num_graph) + \"_\" + title + \" - \" + prosumer + \".png\", width=1000, height=1100/13.2*5, scale = 4)\n",
    "\n",
    "            # fig.show()"
   ]
  },
  {
   "cell_type": "code",
   "execution_count": 133,
   "metadata": {},
   "outputs": [],
   "source": [
    "if detailed_report:\n",
    "    # ENERGY FLOW FOR ALL PROSUMERS!\n",
    "    for prosumer in prosumers:\n",
    "        df = pd.read_csv(foldername_result_energy+prosumer+\".csv\")\n",
    "\n",
    "        labels = {\"Eaut\":'Energia Autoconsumata dai prosumer', \n",
    "                  \"Econd\":'Energia condivisa dalla CACER', \n",
    "                  \"Eprel\": 'Energia prelevata e non condivisa',\n",
    "                  \"Eimm\": 'Energia immessa e non condivisa',\n",
    "                  \"Eperdite\": \"Perdite conversione\"}\n",
    "\n",
    "        # labels = {\"Eaut\":'Sel-consumed energy', \n",
    "        #         \"Econd\":'Shared energy', \n",
    "        #         \"Eprel\": 'Energy purchased and not shared',\n",
    "        #         \"Eimm\": 'Energy injected and not shared',\n",
    "        #         \"Eperdite\": \"Energy losses\"}\n",
    "\n",
    "        fig = make_subplots(rows=2, cols=2)\n",
    "        title = \"Flussi energetici di un giorno casuale per ogni stagione dell'anno - utente \" + denomination_users[prosumer]\n",
    "\n",
    "        for i, active_day in enumerate([\"day_spring\", \"day_summer\", \"day_autumn\",\"day_winter\"]):\n",
    "\n",
    "            active_day = str(config[active_day]) # deve essere una stringa, non un datetime.data\n",
    "            \n",
    "            df_plot = df[[string.startswith(active_day) for x,string in enumerate(df[\"datetime\"])]] \n",
    "            assert len(df_plot) > 0, active_day + \" not found! Check inputs\"\n",
    "            assert len(df_plot) <= 24*4, active_day + \"has too may datapoints! Investigate\"\n",
    "\n",
    "            df_plot = df_plot.set_index(\"datetime\")\n",
    "            df_plot.index = pd.to_datetime(df_plot.index)\n",
    "\n",
    "            # togliamo cio che non ci serve\n",
    "            # df_plot.drop(columns=[\"battery_cumulative_charge\",\"SOCkWh\",\"SOCperc\",\"LCF_aut\",\"SCF_aut\",\"Eprod\",\"Eaut_PV\", \"Eaut_batt\"], inplace=True, errors=\"ignore\")\n",
    "            # fixing order of columns, needed for the stacked area chart\n",
    "            df_plot = df_plot[[\"Eut\", \"Eprod\", \"Eaut\", \"Eprel\", \"Eimm\"]]\n",
    "\n",
    "            # df_plot[\"Eprel\"] = df_plot[\"Eprel\"] - df_plot[\"Econd\"] # diventa solo la quota non condivisa\n",
    "            # df_plot[\"Eimm\"] = df_plot[\"Eimm\"] - df_plot[\"Econd\"] # diventa solo la quota non condivisa\n",
    "\n",
    "            # se siamo a base quartoraria, dobbiamo allora passare da kWh/quartodora a kW, moltiplicando per 4\n",
    "            if config[\"delta_t\"] in [\"15min\", \"15Min\"]:\n",
    "                df_plot = df_plot * 4 \n",
    "            \n",
    "            fig.add_trace(go.Scatter(\n",
    "                x = df_plot.index, y = df_plot[\"Eut\"], marker_color=data[\"Eut\"][\"col\"], mode='lines+markers',\n",
    "                        name = data[\"Eut\"][\"label\"], \n",
    "                        line_shape = line_shape,\n",
    "                        textposition='top center',stackgroup=None),\n",
    "                            row=round((i+1)/4)+1, col=i%2+1)\n",
    "            \n",
    "            fig.add_trace(go.Scatter(\n",
    "                x = df_plot.index, y = df_plot[\"Eprod\"], marker_color=data[\"Eprod\"][\"col\"], mode='lines+markers',\n",
    "                        name = data[\"Eprod\"][\"label\"], \n",
    "                        line_shape = line_shape,\n",
    "                        textposition='top center',stackgroup=None),\n",
    "                        row=round((i+1)/4)+1, col=i%2+1)\n",
    "            \n",
    "            # tutte queste sono cumulate, quindi stacked area\n",
    "            for column in df_plot.columns:\n",
    "                if column == \"datetime\" or column in [\"Eut\", \"Eprod\"]: continue\n",
    "                fig.add_trace(go.Scatter(\n",
    "                    x = df_plot.index, y = df_plot[column], marker_color=data[column][\"col\"], mode='lines',\n",
    "                            name = labels[column], \n",
    "                            line_shape = line_shape,\n",
    "                            textposition='top center',stackgroup='one'),\n",
    "                            row=round((i+1)/4)+1, col=i%2+1)\n",
    "\n",
    "            fig.update_layout(\n",
    "                title_text = title, \n",
    "                # xaxis = dict(title='Ora', \n",
    "                            #  rangeslider=dict(visible=True), type='date')\n",
    "                            # )\n",
    "            )\n",
    "\n",
    "\n",
    "            ##############################################################################################################################\n",
    "\n",
    "            fig.update_xaxes(\n",
    "                # mirror=True,\n",
    "                # ticks='outside',\n",
    "                # showline=True,\n",
    "                # linecolor='lightgrey',\n",
    "                gridcolor='white'\n",
    "            )\n",
    "\n",
    "            fig.update_yaxes(\n",
    "                # mirror=True,\n",
    "                # ticks='outside',\n",
    "                # showline=True,\n",
    "                # linecolor='lightgrey',\n",
    "                gridcolor='white'\n",
    "            )\n",
    "\n",
    "            fig.update_layout({'plot_bgcolor': 'white',\n",
    "                            'paper_bgcolor': 'white',\n",
    "            })\n",
    "\n",
    "            ##############################################################################################################################\n",
    "\n",
    "        fig.update_layout(\n",
    "            legend = dict(orientation='h',\n",
    "                            yanchor=\"top\", y = -0.25, xanchor=\"left\", x=0.01), \n",
    "                        )\n",
    "        fig.update_yaxes(title_text = \"Power (kW)\")\n",
    "\n",
    "        if flag_show: fig.show()\n",
    "\n",
    "        path = foldername_graphs_energy\n",
    "        num_graph+=1\n",
    "\n",
    "        fig.write_html(path + str(num_graph) + \"_\" + title + \" - \" + prosumer + \".html\")\n",
    "        fig.write_image(path + str(num_graph) + \"_\" + title + \" - \" + prosumer + \".png\", width=1000, height=1800/13.2*5, scale = 4)"
   ]
  },
  {
   "cell_type": "code",
   "execution_count": 134,
   "metadata": {},
   "outputs": [],
   "source": [
    "if detailed_report:\n",
    "  for prosumer in prosumers:\n",
    "      \n",
    "      df = pd.read_excel(filename_CACER_energy_monthly, sheet_name=prosumer)\n",
    "\n",
    "      Eaut_tot = df[\"Eaut\"].sum()\n",
    "      Eaut_PV_tot = df[\"Eaut_PV\"].sum()\n",
    "      Eaut_batt_tot = df[\"Eaut_batt\"].sum()\n",
    "      Eimm_tot = df[\"Eimm\"].sum()\n",
    "      Eimm_PV_tot = Eimm_tot # DA MODIFICARE QUANDO SI AVRà IL DINAMICO\n",
    "      Eimm_batt_tot = 0 # DA MODIFICARE QUANDO SI AVRà IL DINAMICO\n",
    "      Eut_tot = df[\"Eut\"].sum()\n",
    "      Eprod_tot = df[\"Eprod\"].sum()\n",
    "      Eprel_tot = df[\"Eprel\"].sum()\n",
    "      Eperdite_tot = df[\"Eperdite\"].sum()\n",
    "      Epv2batt_tot = Eprod_tot - Eaut_PV_tot - Eimm_PV_tot - Eperdite_tot\n",
    "\n",
    "    ######################################## chart 1\n",
    "\n",
    "      title = f\"Allocazione dell'energia consumata da {denomination_users[prosumer]} - [%]\"\n",
    "      labels = ['Energia Autoconsumata', 'Energia Acquistata da rete']\n",
    "      values_kWh = [Eaut_tot, Eprel_tot]\n",
    "\n",
    "      fig = go.Figure(data=[go.Pie(labels=labels, values=values_kWh, pull=[0.05, 0.05])])\n",
    "\n",
    "      fig.update_layout(title_text = title)\n",
    "\n",
    "      fig.update_traces(marker=dict(colors=[col[\"arancione\"], col[\"rosso\"]]))\n",
    "\n",
    "      fig.update_layout(\n",
    "                  legend = dict(orientation='h',\n",
    "                                yanchor=\"top\", y = -0.1, xanchor=\"left\", x=0.01), \n",
    "                              )\n",
    "\n",
    "\n",
    "      path = foldername_graphs_energy\n",
    "      num_graph+=1\n",
    "\n",
    "      fig.write_html(path + str(num_graph) + \"_\" + title + \".html\")\n",
    "      fig.write_image(path + str(num_graph) + \"_\" + title + \".png\", width=700, height=450, scale = 4)\n",
    "      \n",
    "      if flag_show: fig.show()\n",
    "\n",
    "      ######################################## chart 2\n",
    "\n",
    "      title = f\"Allocazione dell'energia prodotta da {denomination_users[prosumer]} - [%]\"\n",
    "      labels = ['Energia Autoconsumata', 'Energia Immessa da rete']\n",
    "      values_kWh = [Eaut_tot, Eimm_tot]\n",
    "\n",
    "      fig = go.Figure(data=[go.Pie(labels=labels, values=values_kWh, pull=[0.05, 0.05])])\n",
    "\n",
    "      fig.update_layout(title_text = title)\n",
    "\n",
    "      fig.update_traces(marker=dict(colors=[col[\"arancione\"], col[\"blu\"]]))\n",
    "\n",
    "      fig.update_layout(\n",
    "                  legend = dict(orientation='h',\n",
    "                                yanchor=\"top\", y = -0.1, xanchor=\"left\", x=0.01), \n",
    "                              )\n",
    "\n",
    "\n",
    "      path = foldername_graphs_energy\n",
    "      num_graph+=1\n",
    "\n",
    "      fig.write_html(path + str(num_graph) + \"_\" + title + \" - \" + prosumer + \".html\")\n",
    "      fig.write_image(path + str(num_graph) + \"_\" + title + \" - \" + prosumer + \".png\", width=700, height=450, scale = 4)\n",
    "      \n",
    "      if flag_show: fig.show()"
   ]
  },
  {
   "cell_type": "markdown",
   "metadata": {},
   "source": [
    "## FINANCE"
   ]
  },
  {
   "cell_type": "markdown",
   "metadata": {},
   "source": [
    "Input finanziari"
   ]
  },
  {
   "cell_type": "code",
   "execution_count": 165,
   "metadata": {},
   "outputs": [
    {
     "name": "stdout",
     "output_type": "stream",
     "text": [
      "res_cons\n"
     ]
    },
    {
     "data": {
      "application/vnd.plotly.v1+json": {
       "config": {
        "plotlyServerURL": "https://plot.ly"
       },
       "data": [
        {
         "marker": {
          "color": "rgba(214, 39, 40, 0.7)"
         },
         "name": "me_cost",
         "stackgroup": "one",
         "type": "scatter",
         "x": [
          "2025-01",
          "2025-02",
          "2025-03",
          "2025-04",
          "2025-05",
          "2025-06",
          "2025-07",
          "2025-08",
          "2025-09",
          "2025-10",
          "2025-11",
          "2025-12",
          "2026-01",
          "2026-02",
          "2026-03",
          "2026-04",
          "2026-05",
          "2026-06",
          "2026-07",
          "2026-08",
          "2026-09",
          "2026-10",
          "2026-11",
          "2026-12",
          "2027-01",
          "2027-02",
          "2027-03",
          "2027-04",
          "2027-05",
          "2027-06",
          "2027-07",
          "2027-08",
          "2027-09",
          "2027-10",
          "2027-11",
          "2027-12",
          "2028-01",
          "2028-02",
          "2028-03",
          "2028-04",
          "2028-05",
          "2028-06",
          "2028-07",
          "2028-08",
          "2028-09",
          "2028-10",
          "2028-11",
          "2028-12",
          "2029-01",
          "2029-02",
          "2029-03",
          "2029-04",
          "2029-05",
          "2029-06",
          "2029-07",
          "2029-08",
          "2029-09",
          "2029-10",
          "2029-11",
          "2029-12",
          "2030-01",
          "2030-02",
          "2030-03",
          "2030-04",
          "2030-05",
          "2030-06",
          "2030-07",
          "2030-08",
          "2030-09",
          "2030-10",
          "2030-11",
          "2030-12",
          "2031-01",
          "2031-02",
          "2031-03",
          "2031-04",
          "2031-05",
          "2031-06",
          "2031-07",
          "2031-08",
          "2031-09",
          "2031-10",
          "2031-11",
          "2031-12",
          "2032-01",
          "2032-02",
          "2032-03",
          "2032-04",
          "2032-05",
          "2032-06",
          "2032-07",
          "2032-08",
          "2032-09",
          "2032-10",
          "2032-11",
          "2032-12",
          "2033-01",
          "2033-02",
          "2033-03",
          "2033-04",
          "2033-05",
          "2033-06",
          "2033-07",
          "2033-08",
          "2033-09",
          "2033-10",
          "2033-11",
          "2033-12",
          "2034-01",
          "2034-02",
          "2034-03",
          "2034-04",
          "2034-05",
          "2034-06",
          "2034-07",
          "2034-08",
          "2034-09",
          "2034-10",
          "2034-11",
          "2034-12",
          "2035-01",
          "2035-02",
          "2035-03",
          "2035-04",
          "2035-05",
          "2035-06",
          "2035-07",
          "2035-08",
          "2035-09",
          "2035-10",
          "2035-11",
          "2035-12",
          "2036-01",
          "2036-02",
          "2036-03",
          "2036-04",
          "2036-05",
          "2036-06",
          "2036-07",
          "2036-08",
          "2036-09",
          "2036-10",
          "2036-11",
          "2036-12",
          "2037-01",
          "2037-02",
          "2037-03",
          "2037-04",
          "2037-05",
          "2037-06",
          "2037-07",
          "2037-08",
          "2037-09",
          "2037-10",
          "2037-11",
          "2037-12",
          "2038-01",
          "2038-02",
          "2038-03",
          "2038-04",
          "2038-05",
          "2038-06",
          "2038-07",
          "2038-08",
          "2038-09",
          "2038-10",
          "2038-11",
          "2038-12",
          "2039-01",
          "2039-02",
          "2039-03",
          "2039-04",
          "2039-05",
          "2039-06",
          "2039-07",
          "2039-08",
          "2039-09",
          "2039-10",
          "2039-11",
          "2039-12",
          "2040-01",
          "2040-02",
          "2040-03",
          "2040-04",
          "2040-05",
          "2040-06",
          "2040-07",
          "2040-08",
          "2040-09",
          "2040-10",
          "2040-11",
          "2040-12",
          "2041-01",
          "2041-02",
          "2041-03",
          "2041-04",
          "2041-05",
          "2041-06",
          "2041-07",
          "2041-08",
          "2041-09",
          "2041-10",
          "2041-11",
          "2041-12",
          "2042-01",
          "2042-02",
          "2042-03",
          "2042-04",
          "2042-05",
          "2042-06",
          "2042-07",
          "2042-08",
          "2042-09",
          "2042-10",
          "2042-11",
          "2042-12",
          "2043-01",
          "2043-02",
          "2043-03",
          "2043-04",
          "2043-05",
          "2043-06",
          "2043-07",
          "2043-08",
          "2043-09",
          "2043-10",
          "2043-11",
          "2043-12",
          "2044-01",
          "2044-02",
          "2044-03",
          "2044-04",
          "2044-05",
          "2044-06",
          "2044-07",
          "2044-08",
          "2044-09",
          "2044-10",
          "2044-11",
          "2044-12",
          "2045-01",
          "2045-02",
          "2045-03",
          "2045-04",
          "2045-05",
          "2045-06",
          "2045-07",
          "2045-08",
          "2045-09",
          "2045-10",
          "2045-11",
          "2045-12",
          "2046-01",
          "2046-02",
          "2046-03",
          "2046-04",
          "2046-05",
          "2046-06",
          "2046-07",
          "2046-08",
          "2046-09",
          "2046-10",
          "2046-11",
          "2046-12",
          "2047-01",
          "2047-02",
          "2047-03",
          "2047-04",
          "2047-05",
          "2047-06",
          "2047-07",
          "2047-08",
          "2047-09",
          "2047-10",
          "2047-11",
          "2047-12",
          "2048-01",
          "2048-02",
          "2048-03",
          "2048-04",
          "2048-05",
          "2048-06",
          "2048-07",
          "2048-08",
          "2048-09",
          "2048-10",
          "2048-11",
          "2048-12",
          "2049-01",
          "2049-02",
          "2049-03",
          "2049-04",
          "2049-05",
          "2049-06",
          "2049-07",
          "2049-08",
          "2049-09",
          "2049-10",
          "2049-11",
          "2049-12"
         ],
         "y": [
          71.54873228459623,
          58.96270971541595,
          61.49031300920799,
          56.16785172544222,
          53.44000958621533,
          56.30623930426641,
          59.39075407642429,
          55.36446434000786,
          51.08756176625567,
          57.29068211652285,
          61.37176272015112,
          68.87110682484348,
          65.50359669951541,
          53.84341818699613,
          56.07769987301656,
          51.27956941142874,
          49.18057496144498,
          51.46984188365628,
          54.34487419598335,
          50.57308951673908,
          46.81727344335205,
          52.57856349400205,
          55.95223944763042,
          62.64616955155757,
          65.60470677935783,
          53.88265838462006,
          56.08944462686794,
          51.17115381823203,
          49.01026871663515,
          51.49205780222454,
          54.4120139532909,
          50.44599371039168,
          46.81734914076167,
          52.68048648896305,
          55.95057234314255,
          62.62465760637513,
          62.33991503045974,
          53.13190400228406,
          53.33454389622111,
          49.29864529321364,
          46.68499958082835,
          49.11393303685072,
          51.90971963895484,
          48.16108116338427,
          44.7782765095855,
          50.19726683148104,
          53.31599790718046,
          60.04787836494064,
          58.89991882584321,
          48.80585867467518,
          50.88969416107571,
          46.8150744193355,
          44.47760105294699,
          46.74890296744982,
          49.36533314761524,
          45.84298054539831,
          42.76896926349838,
          47.64919462328838,
          50.71932053486621,
          56.98721914507465,
          58.93376921550071,
          48.78678119943272,
          51.02986127633306,
          46.70531211929654,
          44.45496688614273,
          46.75651741068818,
          49.34969965448288,
          45.94685906698383,
          42.70732304382895,
          47.68078469721115,
          50.83085663837888,
          56.85452589273905,
          55.8639386018681,
          46.23597249112152,
          48.38062529805023,
          44.30816142833768,
          42.34589274537095,
          44.37246754004006,
          46.81486049108747,
          43.71633409292738,
          40.47923886966102,
          45.24403110710877,
          48.2306814292278,
          53.88847606075148,
          56.06928110109509,
          47.94157180741512,
          48.25677504082427,
          44.14805649992591,
          42.37131000413992,
          44.34605521294803,
          46.8374349477433,
          43.53091189134268,
          40.46374187075583,
          45.40184132731257,
          48.08073892276074,
          53.66993121304537,
          56.06254087096936,
          46.20503822595798,
          48.07012794569327,
          44.46109877643421,
          42.26326545409933,
          44.38306587935803,
          46.9105804913352,
          43.53677555884448,
          40.44772642161394,
          45.4122921022343,
          48.04418021586616,
          53.91276906788468,
          55.92494507894181,
          46.25178939942429,
          48.11436208240482,
          44.51221715558496,
          42.2703588960286,
          44.35866130628487,
          46.92317119740296,
          43.53987428051661,
          40.5026722425095,
          45.35658196356486,
          48.05979788021024,
          54.02157572986323,
          55.79757373251239,
          46.27784049216334,
          48.34495607555976,
          44.32968452197046,
          42.23117288319741,
          44.3592162732558,
          46.84379118028849,
          43.55941269576457,
          40.64719397716173,
          45.24490242509034,
          48.06536167698332,
          53.9825771451864,
          52.6599924692408,
          45.20252521597347,
          45.76975925987933,
          41.92873039182366,
          40.09041079074181,
          42.03469279516921,
          44.28139338996528,
          41.42195438227615,
          38.33839643721603,
          42.84065560151814,
          45.57911051943601,
          50.90477606843053,
          49.78689214430926,
          41.17730143827308,
          42.98118242990552,
          39.47147904273831,
          37.98794545818421,
          39.63842058020403,
          41.72028541772014,
          39.00250125434031,
          36.22894510196319,
          40.46161480397317,
          42.80105451443217,
          47.80842926499653,
          49.89741798267426,
          41.16688795587282,
          42.91093467230088,
          39.46805560526083,
          37.96481342477126,
          39.61161136945037,
          41.81850779700998,
          38.94085630309538,
          36.25499049453104,
          40.56096775183251,
          42.80844268648451,
          47.73058539734321,
          49.77569839299753,
          41.14253379391448,
          42.91603000271255,
          39.64653375615107,
          37.82881248984791,
          39.62626367179438,
          41.83348716714389,
          38.94747287805762,
          36.24543242966666,
          40.54180532196202,
          42.82656836298624,
          47.86943937334586,
          49.65755152581701,
          42.60767668582044,
          43.02811783910047,
          39.6562792330846,
          37.86538136943471,
          39.60160511648332,
          41.78730568906858,
          38.95395924698142,
          36.38462547626302,
          40.39028573166505,
          42.84128491486162,
          47.98081762938921,
          49.6102588004587,
          41.16104734723307,
          43.10702547309,
          39.58883206829444,
          37.81723610906186,
          39.62748062172308,
          41.77339579871924,
          39.00140266838483,
          36.31822029513896,
          40.4201092031079,
          42.89692972710628,
          47.88229250861886,
          49.67320977770974,
          41.15017514082238,
          43.14256572995266,
          39.54296522017688,
          37.91240740124938,
          39.68156236994988,
          41.74275482639839,
          39.09130765708343,
          36.2210899511453,
          40.43384318370303,
          42.94315033279641,
          47.89737050072916,
          49.81908991234432,
          41.15560271176378,
          43.13799002642485,
          39.39759203433688,
          37.99987260802025,
          39.62752508021267,
          41.76281522436837,
          39.03477289060374,
          36.2012341664437,
          40.48466159817725,
          42.80498639320193,
          47.8045665000179,
          49.88177504799268,
          42.63599918485667,
          42.90233714679045,
          39.66071076894613,
          37.82399623978217,
          39.63150927548336,
          41.85447886335675,
          38.93869223314586,
          36.22199237896612,
          40.52750362509246,
          42.82600317261593,
          47.88321398877591,
          49.68708113284639,
          41.18905465418966,
          42.88525508202499,
          39.70833519701335,
          37.82130195579323,
          39.6081852350385,
          41.83024357016271,
          38.94810954501483,
          36.30698751326842,
          40.51147156883036,
          42.81005315304499,
          48.06191742708734,
          49.61126917911831,
          41.15124230427266,
          43.12754065897226,
          39.58508396495904,
          37.82666290841335,
          39.61356994762139,
          41.77644615461808,
          38.94442405643309,
          36.35931399436515,
          40.41686395514896,
          42.82266378721904,
          48.01638769235871,
          49.5475839641746,
          41.18279256925545,
          43.15269478059617,
          39.56409240701432,
          37.83936421874007,
          39.63034416553961,
          41.74086099285656,
          39.00611998014958,
          36.32366675930174,
          40.42859790138004,
          42.89483706279334,
          47.87916992900766,
          49.67539047559983,
          42.72533648375303,
          42.99789876666287,
          39.46435932932378,
          37.99614268701878,
          39.60722100954007,
          41.7114571834124,
          39.03853579376201,
          36.23080402967074,
          40.47952608228765,
          42.80341043978495,
          47.84653280203967,
          49.95490298889277,
          41.17300582134713,
          42.93464790856383,
          39.49494096729809,
          37.93574834342571,
          39.6060521218504,
          41.79634947464205,
          38.95825121783948,
          36.27258587367519,
          40.56414327892399,
          42.82468230884148,
          47.71223273052659
         ]
        },
        {
         "marker": {
          "color": "rgba(255, 160, 50, 0.7)"
         },
         "name": "transport_cost",
         "stackgroup": "one",
         "type": "scatter",
         "x": [
          "2025-01",
          "2025-02",
          "2025-03",
          "2025-04",
          "2025-05",
          "2025-06",
          "2025-07",
          "2025-08",
          "2025-09",
          "2025-10",
          "2025-11",
          "2025-12",
          "2026-01",
          "2026-02",
          "2026-03",
          "2026-04",
          "2026-05",
          "2026-06",
          "2026-07",
          "2026-08",
          "2026-09",
          "2026-10",
          "2026-11",
          "2026-12",
          "2027-01",
          "2027-02",
          "2027-03",
          "2027-04",
          "2027-05",
          "2027-06",
          "2027-07",
          "2027-08",
          "2027-09",
          "2027-10",
          "2027-11",
          "2027-12",
          "2028-01",
          "2028-02",
          "2028-03",
          "2028-04",
          "2028-05",
          "2028-06",
          "2028-07",
          "2028-08",
          "2028-09",
          "2028-10",
          "2028-11",
          "2028-12",
          "2029-01",
          "2029-02",
          "2029-03",
          "2029-04",
          "2029-05",
          "2029-06",
          "2029-07",
          "2029-08",
          "2029-09",
          "2029-10",
          "2029-11",
          "2029-12",
          "2030-01",
          "2030-02",
          "2030-03",
          "2030-04",
          "2030-05",
          "2030-06",
          "2030-07",
          "2030-08",
          "2030-09",
          "2030-10",
          "2030-11",
          "2030-12",
          "2031-01",
          "2031-02",
          "2031-03",
          "2031-04",
          "2031-05",
          "2031-06",
          "2031-07",
          "2031-08",
          "2031-09",
          "2031-10",
          "2031-11",
          "2031-12",
          "2032-01",
          "2032-02",
          "2032-03",
          "2032-04",
          "2032-05",
          "2032-06",
          "2032-07",
          "2032-08",
          "2032-09",
          "2032-10",
          "2032-11",
          "2032-12",
          "2033-01",
          "2033-02",
          "2033-03",
          "2033-04",
          "2033-05",
          "2033-06",
          "2033-07",
          "2033-08",
          "2033-09",
          "2033-10",
          "2033-11",
          "2033-12",
          "2034-01",
          "2034-02",
          "2034-03",
          "2034-04",
          "2034-05",
          "2034-06",
          "2034-07",
          "2034-08",
          "2034-09",
          "2034-10",
          "2034-11",
          "2034-12",
          "2035-01",
          "2035-02",
          "2035-03",
          "2035-04",
          "2035-05",
          "2035-06",
          "2035-07",
          "2035-08",
          "2035-09",
          "2035-10",
          "2035-11",
          "2035-12",
          "2036-01",
          "2036-02",
          "2036-03",
          "2036-04",
          "2036-05",
          "2036-06",
          "2036-07",
          "2036-08",
          "2036-09",
          "2036-10",
          "2036-11",
          "2036-12",
          "2037-01",
          "2037-02",
          "2037-03",
          "2037-04",
          "2037-05",
          "2037-06",
          "2037-07",
          "2037-08",
          "2037-09",
          "2037-10",
          "2037-11",
          "2037-12",
          "2038-01",
          "2038-02",
          "2038-03",
          "2038-04",
          "2038-05",
          "2038-06",
          "2038-07",
          "2038-08",
          "2038-09",
          "2038-10",
          "2038-11",
          "2038-12",
          "2039-01",
          "2039-02",
          "2039-03",
          "2039-04",
          "2039-05",
          "2039-06",
          "2039-07",
          "2039-08",
          "2039-09",
          "2039-10",
          "2039-11",
          "2039-12",
          "2040-01",
          "2040-02",
          "2040-03",
          "2040-04",
          "2040-05",
          "2040-06",
          "2040-07",
          "2040-08",
          "2040-09",
          "2040-10",
          "2040-11",
          "2040-12",
          "2041-01",
          "2041-02",
          "2041-03",
          "2041-04",
          "2041-05",
          "2041-06",
          "2041-07",
          "2041-08",
          "2041-09",
          "2041-10",
          "2041-11",
          "2041-12",
          "2042-01",
          "2042-02",
          "2042-03",
          "2042-04",
          "2042-05",
          "2042-06",
          "2042-07",
          "2042-08",
          "2042-09",
          "2042-10",
          "2042-11",
          "2042-12",
          "2043-01",
          "2043-02",
          "2043-03",
          "2043-04",
          "2043-05",
          "2043-06",
          "2043-07",
          "2043-08",
          "2043-09",
          "2043-10",
          "2043-11",
          "2043-12",
          "2044-01",
          "2044-02",
          "2044-03",
          "2044-04",
          "2044-05",
          "2044-06",
          "2044-07",
          "2044-08",
          "2044-09",
          "2044-10",
          "2044-11",
          "2044-12",
          "2045-01",
          "2045-02",
          "2045-03",
          "2045-04",
          "2045-05",
          "2045-06",
          "2045-07",
          "2045-08",
          "2045-09",
          "2045-10",
          "2045-11",
          "2045-12",
          "2046-01",
          "2046-02",
          "2046-03",
          "2046-04",
          "2046-05",
          "2046-06",
          "2046-07",
          "2046-08",
          "2046-09",
          "2046-10",
          "2046-11",
          "2046-12",
          "2047-01",
          "2047-02",
          "2047-03",
          "2047-04",
          "2047-05",
          "2047-06",
          "2047-07",
          "2047-08",
          "2047-09",
          "2047-10",
          "2047-11",
          "2047-12",
          "2048-01",
          "2048-02",
          "2048-03",
          "2048-04",
          "2048-05",
          "2048-06",
          "2048-07",
          "2048-08",
          "2048-09",
          "2048-10",
          "2048-11",
          "2048-12",
          "2049-01",
          "2049-02",
          "2049-03",
          "2049-04",
          "2049-05",
          "2049-06",
          "2049-07",
          "2049-08",
          "2049-09",
          "2049-10",
          "2049-11",
          "2049-12"
         ],
         "y": [
          16.92756803144064,
          14.94435992736433,
          16.31457772075803,
          15.58481824526787,
          15.82396802740151,
          15.59325200037545,
          16.1866242871949,
          15.9412500858566,
          15.27521010156486,
          16.05863958821682,
          15.90196022653491,
          16.76438548580131,
          17.13281566098689,
          15.09646862878245,
          16.46263275481311,
          15.7190494069237,
          15.97224597225403,
          15.73257781284088,
          16.33942854735118,
          16.07125399968466,
          15.40177938634742,
          16.213843548783,
          16.05127706038678,
          16.9296520930583,
          17.14000460527511,
          15.0992586136684,
          16.46346780885765,
          15.71134103936351,
          15.96013716858398,
          15.73415736852067,
          16.3442021957902,
          16.06221746571572,
          15.40178476844643,
          16.22109029147775,
          16.05115852896731,
          16.92812259000886,
          17.3219826475996,
          15.79542254904758,
          16.61175225920237,
          15.89327733634404,
          16.08731985420906,
          15.87870955722391,
          16.49938004593638,
          16.20373460048185,
          15.53676751248031,
          16.36432331096852,
          16.21011557263818,
          17.14121562901632,
          17.29652014215758,
          15.25445524630894,
          16.62529027882075,
          15.88511198247288,
          16.08797846038911,
          15.87956703754751,
          16.49755395711163,
          16.20239266579237,
          15.54606199018683,
          16.35374732554265,
          16.21227466469923,
          17.13624234733196,
          17.29935669086558,
          15.25285661810115,
          16.63703581125661,
          15.87591427120534,
          16.08608179340078,
          15.88020510225957,
          16.49624392301173,
          16.21109733623116,
          15.54089624448859,
          16.35639446740064,
          16.221621014727,
          17.12512309945085,
          17.30377482713846,
          15.25186042353407,
          16.63489326452637,
          15.87377152452109,
          16.09549030544904,
          15.87951940259791,
          16.49494038961067,
          16.21798456872599,
          15.53153064802836,
          16.35453482722207,
          16.22437842831516,
          17.12720190846758,
          17.32212897137608,
          15.8014245290121,
          16.62382314755814,
          15.8594608535188,
          16.09776217822417,
          15.87715858755512,
          16.49695816398814,
          16.20141096196872,
          15.5301454785957,
          16.36864039014594,
          16.21097610584705,
          17.10766769771098,
          17.51263130037298,
          15.40369918834812,
          16.76577273605494,
          16.03259410803922,
          16.22314499344312,
          16.02530225037061,
          16.65741773048688,
          16.34214934636719,
          15.65756074289421,
          16.51740875876829,
          16.36741853274152,
          17.31174384654967,
          17.49977353180538,
          15.40806789584881,
          16.76990623668199,
          16.03737091319428,
          16.2238078468148,
          16.02302174202118,
          16.65859428089105,
          16.34243890933659,
          15.66269520695319,
          16.51220287231402,
          16.36887794011687,
          17.32191138770568,
          17.48787119620048,
          15.41050226478144,
          16.79145430987067,
          16.02031397907975,
          16.22014607288519,
          16.02307360143323,
          16.65117654031985,
          16.34426469497824,
          15.67620017676196,
          16.50176687250413,
          16.36939785435415,
          17.31826712817673,
          17.67586739873757,
          16.1113204771703,
          16.9560190669851,
          16.16201370399364,
          16.36267637498521,
          16.17308399101573,
          16.80052393990591,
          16.50178769442784,
          15.78691814058845,
          16.65000469592773,
          16.54338251478424,
          17.49249340259021,
          17.70327950522077,
          15.56347612293911,
          16.93756797729829,
          16.15231169918141,
          16.375778058048,
          16.17109431922999,
          16.79570424548058,
          16.48992589882251,
          15.78749366809838,
          16.65409100612017,
          16.52692278733407,
          17.48068231876566,
          17.71571478561339,
          15.56230450030837,
          16.92966439044757,
          16.15192652766343,
          16.37317546913489,
          16.16807801048483,
          16.80675526165351,
          16.48299021514112,
          15.79042403953286,
          16.66526922275024,
          16.52775403179617,
          17.47192409231441,
          17.70202009440547,
          15.55956440951006,
          16.93023766691666,
          16.17200713400045,
          16.35787398140633,
          16.16972654344998,
          16.80844059306991,
          16.48373464708673,
          15.78934866007085,
          16.66311325458959,
          16.52979335466347,
          17.48754657616765,
          17.68872737079774,
          16.11478684744667,
          16.94284868796572,
          16.17310359922542,
          16.36198835210945,
          16.16695220530511,
          16.8032447073177,
          16.48446442952938,
          15.80500929281278,
          16.64606576037295,
          16.53144911635404,
          17.50007776221454,
          17.68340645842954,
          15.56164737246231,
          16.95172659894376,
          16.16551510753642,
          16.35657152088547,
          16.16986346268815,
          16.80167970324911,
          16.48980229673458,
          15.79753803487875,
          16.64942120408782,
          16.53770972340206,
          17.48899268454745,
          17.69048908331333,
          15.56042413871712,
          16.9557252391337,
          16.1603546208529,
          16.36727925874284,
          16.17594820914447,
          16.79823228237497,
          16.49991752191361,
          15.78660988377797,
          16.6509664165208,
          16.54291001140871,
          17.49068911193875,
          17.70690208143874,
          15.56103479562328,
          16.95521042597143,
          16.14399865962039,
          16.37711998365282,
          16.16986846472019,
          16.80048928107531,
          16.4935567859671,
          15.78437590615037,
          16.65668400475576,
          16.52736516366611,
          17.48024771843771,
          17.71395479643976,
          16.1179734165073,
          16.92869708142746,
          16.17360219205967,
          16.35733210431321,
          16.17031672719042,
          16.81080237228991,
          16.48274673527244,
          15.78671141608166,
          16.66150416830449,
          16.52972976500123,
          17.48909636043264,
          17.69204975177875,
          15.56479847920983,
          16.92677517548958,
          16.17896042435462,
          16.35702896997507,
          16.16769253553432,
          16.80807565543597,
          16.48380627859161,
          15.79627423272881,
          16.65970039899734,
          16.52793522565581,
          17.50920231389475,
          17.68352013629999,
          15.56054420545378,
          16.95403476590749,
          16.16509340780895,
          16.35763213164287,
          16.16829837043947,
          16.80202289929685,
          16.48339162366046,
          15.80216149378942,
          16.6490560807021,
          16.52935405019677,
          17.50407975589449,
          17.6763549022117,
          15.56409393099602,
          16.95686486030036,
          16.16273164414553,
          16.3590611581728,
          16.17018564047754,
          16.7980192068493,
          16.49033304226307,
          15.79815081746438,
          16.6503762689373,
          16.53747427739339,
          17.48864136259787,
          17.69073443399437,
          16.12802477081259,
          16.93944873511736,
          16.15151065904514,
          16.37670032962276,
          16.16758405036368,
          16.79471097937545,
          16.49398015082509,
          15.78770281636285,
          16.65610620701188,
          16.52718785288598,
          17.48496935403353,
          17.7221824331904,
          15.56299282236683,
          16.93233237058966,
          16.15495140420213,
          16.36990535201555,
          16.16745253861599,
          16.80426222513146,
          16.48494731988195,
          15.79240369855657,
          16.6656265018296,
          16.52958115439905,
          17.46985923072916
         ]
        },
        {
         "marker": {
          "color": "rgba(31, 119, 180, 0.6)"
         },
         "name": "ogs_cost",
         "stackgroup": "one",
         "type": "scatter",
         "x": [
          "2025-01",
          "2025-02",
          "2025-03",
          "2025-04",
          "2025-05",
          "2025-06",
          "2025-07",
          "2025-08",
          "2025-09",
          "2025-10",
          "2025-11",
          "2025-12",
          "2026-01",
          "2026-02",
          "2026-03",
          "2026-04",
          "2026-05",
          "2026-06",
          "2026-07",
          "2026-08",
          "2026-09",
          "2026-10",
          "2026-11",
          "2026-12",
          "2027-01",
          "2027-02",
          "2027-03",
          "2027-04",
          "2027-05",
          "2027-06",
          "2027-07",
          "2027-08",
          "2027-09",
          "2027-10",
          "2027-11",
          "2027-12",
          "2028-01",
          "2028-02",
          "2028-03",
          "2028-04",
          "2028-05",
          "2028-06",
          "2028-07",
          "2028-08",
          "2028-09",
          "2028-10",
          "2028-11",
          "2028-12",
          "2029-01",
          "2029-02",
          "2029-03",
          "2029-04",
          "2029-05",
          "2029-06",
          "2029-07",
          "2029-08",
          "2029-09",
          "2029-10",
          "2029-11",
          "2029-12",
          "2030-01",
          "2030-02",
          "2030-03",
          "2030-04",
          "2030-05",
          "2030-06",
          "2030-07",
          "2030-08",
          "2030-09",
          "2030-10",
          "2030-11",
          "2030-12",
          "2031-01",
          "2031-02",
          "2031-03",
          "2031-04",
          "2031-05",
          "2031-06",
          "2031-07",
          "2031-08",
          "2031-09",
          "2031-10",
          "2031-11",
          "2031-12",
          "2032-01",
          "2032-02",
          "2032-03",
          "2032-04",
          "2032-05",
          "2032-06",
          "2032-07",
          "2032-08",
          "2032-09",
          "2032-10",
          "2032-11",
          "2032-12",
          "2033-01",
          "2033-02",
          "2033-03",
          "2033-04",
          "2033-05",
          "2033-06",
          "2033-07",
          "2033-08",
          "2033-09",
          "2033-10",
          "2033-11",
          "2033-12",
          "2034-01",
          "2034-02",
          "2034-03",
          "2034-04",
          "2034-05",
          "2034-06",
          "2034-07",
          "2034-08",
          "2034-09",
          "2034-10",
          "2034-11",
          "2034-12",
          "2035-01",
          "2035-02",
          "2035-03",
          "2035-04",
          "2035-05",
          "2035-06",
          "2035-07",
          "2035-08",
          "2035-09",
          "2035-10",
          "2035-11",
          "2035-12",
          "2036-01",
          "2036-02",
          "2036-03",
          "2036-04",
          "2036-05",
          "2036-06",
          "2036-07",
          "2036-08",
          "2036-09",
          "2036-10",
          "2036-11",
          "2036-12",
          "2037-01",
          "2037-02",
          "2037-03",
          "2037-04",
          "2037-05",
          "2037-06",
          "2037-07",
          "2037-08",
          "2037-09",
          "2037-10",
          "2037-11",
          "2037-12",
          "2038-01",
          "2038-02",
          "2038-03",
          "2038-04",
          "2038-05",
          "2038-06",
          "2038-07",
          "2038-08",
          "2038-09",
          "2038-10",
          "2038-11",
          "2038-12",
          "2039-01",
          "2039-02",
          "2039-03",
          "2039-04",
          "2039-05",
          "2039-06",
          "2039-07",
          "2039-08",
          "2039-09",
          "2039-10",
          "2039-11",
          "2039-12",
          "2040-01",
          "2040-02",
          "2040-03",
          "2040-04",
          "2040-05",
          "2040-06",
          "2040-07",
          "2040-08",
          "2040-09",
          "2040-10",
          "2040-11",
          "2040-12",
          "2041-01",
          "2041-02",
          "2041-03",
          "2041-04",
          "2041-05",
          "2041-06",
          "2041-07",
          "2041-08",
          "2041-09",
          "2041-10",
          "2041-11",
          "2041-12",
          "2042-01",
          "2042-02",
          "2042-03",
          "2042-04",
          "2042-05",
          "2042-06",
          "2042-07",
          "2042-08",
          "2042-09",
          "2042-10",
          "2042-11",
          "2042-12",
          "2043-01",
          "2043-02",
          "2043-03",
          "2043-04",
          "2043-05",
          "2043-06",
          "2043-07",
          "2043-08",
          "2043-09",
          "2043-10",
          "2043-11",
          "2043-12",
          "2044-01",
          "2044-02",
          "2044-03",
          "2044-04",
          "2044-05",
          "2044-06",
          "2044-07",
          "2044-08",
          "2044-09",
          "2044-10",
          "2044-11",
          "2044-12",
          "2045-01",
          "2045-02",
          "2045-03",
          "2045-04",
          "2045-05",
          "2045-06",
          "2045-07",
          "2045-08",
          "2045-09",
          "2045-10",
          "2045-11",
          "2045-12",
          "2046-01",
          "2046-02",
          "2046-03",
          "2046-04",
          "2046-05",
          "2046-06",
          "2046-07",
          "2046-08",
          "2046-09",
          "2046-10",
          "2046-11",
          "2046-12",
          "2047-01",
          "2047-02",
          "2047-03",
          "2047-04",
          "2047-05",
          "2047-06",
          "2047-07",
          "2047-08",
          "2047-09",
          "2047-10",
          "2047-11",
          "2047-12",
          "2048-01",
          "2048-02",
          "2048-03",
          "2048-04",
          "2048-05",
          "2048-06",
          "2048-07",
          "2048-08",
          "2048-09",
          "2048-10",
          "2048-11",
          "2048-12",
          "2049-01",
          "2049-02",
          "2049-03",
          "2049-04",
          "2049-05",
          "2049-06",
          "2049-07",
          "2049-08",
          "2049-09",
          "2049-10",
          "2049-11",
          "2049-12"
         ],
         "y": [
          14.67800344455176,
          11.92834486356141,
          12.31667676121736,
          11.13551974514301,
          10.42677778592165,
          11.16800778064569,
          11.82378176494829,
          10.87856511319278,
          9.942864725377,
          11.33076632981211,
          12.35719618883343,
          14.04940085074651,
          15.19972850723132,
          12.29673185595719,
          12.66296886705983,
          11.45002017135932,
          10.80676903473099,
          11.50122755640363,
          12.19661937036335,
          11.18153175357283,
          10.24909759362711,
          11.72125816248416,
          12.7075600084549,
          14.43071883132527,
          15.92972176251681,
          12.87532131895934,
          13.25072029403285,
          11.94795846514804,
          11.25759363548807,
          12.03830828742102,
          12.778443317763,
          11.66181890064341,
          10.722154179621,
          12.29093550711999,
          13.29359340841487,
          15.09069536654032,
          16.59468264357081,
          13.90983131322744,
          13.79165855901094,
          12.62606262474383,
          11.72191233872149,
          12.56856883625018,
          13.3481658200834,
          12.18135950253117,
          11.21904648040881,
          12.81514542686814,
          13.87650927100196,
          15.88126018930707,
          16.49419128587446,
          13.44479415892358,
          13.84508825684914,
          12.59383690766142,
          11.72451162060954,
          12.571953002907,
          13.34095890379267,
          12.17606336860621,
          11.25572844345967,
          12.77340581342585,
          13.88503043138426,
          15.86163243390788,
          15.34303498865838,
          12.49211276850586,
          12.91317297228349,
          11.6732032661948,
          10.89188347051303,
          11.68894507310191,
          12.39664862284446,
          11.35052901277553,
          10.44411989741969,
          11.88358178370039,
          12.94150041754515,
          14.70382278987464,
          15.12652802548344,
          12.2992389604376,
          12.70977755431138,
          11.48859454555371,
          10.76084903188212,
          11.50936232841223,
          12.20411078862334,
          11.20343570946128,
          10.25203661698989,
          11.69680840801546,
          12.75537994868478,
          14.48854858600298,
          14.95910772365293,
          12.55979174852682,
          12.47486018437948,
          11.26093622152541,
          10.60337977565181,
          11.32389653308355,
          12.02353354137573,
          10.97211397087629,
          10.08938518773233,
          11.56703854585977,
          12.51146410032653,
          14.196154196416,
          12.38623617861588,
          10.02046430815496,
          10.28159380411554,
          9.40789624204696,
          8.75247250157936,
          9.387347836537009,
          9.97625013249817,
          9.087825961899783,
          8.35105475980946,
          9.581705798714928,
          10.35142920252068,
          11.82013669469542,
          4.427359592530188,
          3.59665529489827,
          3.690030144088807,
          3.377467692181821,
          3.138348451696455,
          3.362971815277424,
          3.577580136372835,
          3.258192396591147,
          2.998961306606041,
          3.429692024021659,
          3.712364042447735,
          4.247678988283542,
          2.323860825056649,
          1.894270817255693,
          1.953578170781725,
          1.768545456949707,
          1.649815389389418,
          1.770012739420735,
          1.878992924696168,
          1.715808867916009,
          1.585581237390959,
          1.799552277205983,
          1.954152248569012,
          2.233682878891918,
          1.625977781499074,
          1.369783628384166,
          1.369222307237414,
          1.236940696268344,
          1.157588859517613,
          1.240889245801896,
          1.313760311512009,
          1.2072070793886,
          1.103151625671928,
          1.260073113572634,
          1.372967308492011,
          1.560571951866255,
          1.40207582618254,
          1.135973756745191,
          1.167978148546077,
          1.057268730496147,
          0.996224543408527,
          1.063011059784608,
          1.124606762654222,
          1.031122469661552,
          0.9457344898296143,
          1.081311958739235,
          1.171796960195576,
          1.334022149964638,
          1.171564675614866,
          0.9463463013496517,
          0.9713015159007424,
          0.8809591447265468,
          0.829524054285865,
          0.8850740806184122,
          0.9399877850745979,
          0.8575017108759025,
          0.7888586496911455,
          0.9039411888506639,
          0.9767092441450685,
          1.109453779355281,
          0.93446052796967,
          0.7565185636644844,
          0.7771580562795286,
          0.7088600871340746,
          0.6605005382670966,
          0.7083952637360236,
          0.7523337274553288,
          0.686153096675963,
          0.6308677390079884,
          0.7227135278590697,
          0.781783044229757,
          0.8907471531515069,
          0.9317512433260764,
          0.7834400075406286,
          0.779728398270869,
          0.709083565518484,
          0.6613391174546984,
          0.7078298061252402,
          0.7512747169851087,
          0.6863018388316994,
          0.6340596440718976,
          0.7192389566834505,
          0.7821205168090485,
          0.8933012234026241,
          0.6980000627182907,
          0.5677073303809652,
          0.5861534013889776,
          0.5306526757475765,
          0.4951763058860478,
          0.5313173776656223,
          0.5632168067722161,
          0.5155423406645789,
          0.474402655347371,
          0.5399421401684755,
          0.5875474017805924,
          0.6682814210975881,
          0.699082732873045,
          0.5675203433966293,
          0.5867646448847548,
          0.5298638290970868,
          0.4968131211054514,
          0.5322475092899273,
          0.5626898242265418,
          0.5170885827132027,
          0.4727321471335969,
          0.5401783457294637,
          0.5883423325743722,
          0.6685407418065636,
          0.467727780253501,
          0.3784091267637348,
          0.3911239660551157,
          0.3515757402742112,
          0.3322116015089024,
          0.3542120948602965,
          0.3753565569719123,
          0.3440775083677355,
          0.3149271033125534,
          0.3607015683368694,
          0.3906440686668501,
          0.4446297604946012,
          0.468446512283586,
          0.3920447424347337,
          0.3884220292909502,
          0.3545925936370236,
          0.3301950472192725,
          0.3542577766431552,
          0.3764075492470933,
          0.3429758716675458,
          0.3151651117665969,
          0.3611927842632488,
          0.3908850417839669,
          0.4455315128585625,
          0.466214200724698,
          0.3787926783384641,
          0.3882261706242993,
          0.3551386433745307,
          0.330164155235376,
          0.3539903490502285,
          0.3761296734588878,
          0.3430838482014963,
          0.3161396446409792,
          0.3610089647305235,
          0.3907021628633496,
          0.4475804816240005,
          0.4653449598936125,
          0.3783591314259937,
          0.3910041562309107,
          0.3537254756863917,
          0.3302256225724088,
          0.3540520888130304,
          0.3755128457965115,
          0.3430415913145517,
          0.3167396069382107,
          0.3599242175805106,
          0.3908467532292606,
          0.4470584491145025,
          0.4646147612053675,
          0.3787208788445207,
          0.3912925670752482,
          0.3534847917523106,
          0.3303712526083247,
          0.3542444177850068,
          0.3751048352643618,
          0.3437489812889384,
          0.3163308846891633,
          0.3600587560625342,
          0.391674273890018,
          0.4454851446844019,
          0.4660801585833045,
          0.3930690614783787,
          0.3895177148364741,
          0.3523412773185658,
          0.3321688351709863,
          0.353979293482704,
          0.3747676985662364,
          0.3441206528707821,
          0.3152661439416705,
          0.3606426858007993,
          0.3906259991805678,
          0.4451109355791774,
          0.4692849788973283,
          0.3786086664496789,
          0.3887924963747776,
          0.3526919187029589,
          0.3314763687875714,
          0.3539658913098692,
          0.3757410522677634,
          0.3432001300763353,
          0.3157452040769227,
          0.3616128853367739,
          0.3908698970914931,
          0.4435710846712902
         ]
        },
        {
         "marker": {
          "color": "rgba(44, 160, 44, 0.7)"
         },
         "name": "duty_cost",
         "stackgroup": "one",
         "type": "scatter",
         "x": [
          "2025-01",
          "2025-02",
          "2025-03",
          "2025-04",
          "2025-05",
          "2025-06",
          "2025-07",
          "2025-08",
          "2025-09",
          "2025-10",
          "2025-11",
          "2025-12",
          "2026-01",
          "2026-02",
          "2026-03",
          "2026-04",
          "2026-05",
          "2026-06",
          "2026-07",
          "2026-08",
          "2026-09",
          "2026-10",
          "2026-11",
          "2026-12",
          "2027-01",
          "2027-02",
          "2027-03",
          "2027-04",
          "2027-05",
          "2027-06",
          "2027-07",
          "2027-08",
          "2027-09",
          "2027-10",
          "2027-11",
          "2027-12",
          "2028-01",
          "2028-02",
          "2028-03",
          "2028-04",
          "2028-05",
          "2028-06",
          "2028-07",
          "2028-08",
          "2028-09",
          "2028-10",
          "2028-11",
          "2028-12",
          "2029-01",
          "2029-02",
          "2029-03",
          "2029-04",
          "2029-05",
          "2029-06",
          "2029-07",
          "2029-08",
          "2029-09",
          "2029-10",
          "2029-11",
          "2029-12",
          "2030-01",
          "2030-02",
          "2030-03",
          "2030-04",
          "2030-05",
          "2030-06",
          "2030-07",
          "2030-08",
          "2030-09",
          "2030-10",
          "2030-11",
          "2030-12",
          "2031-01",
          "2031-02",
          "2031-03",
          "2031-04",
          "2031-05",
          "2031-06",
          "2031-07",
          "2031-08",
          "2031-09",
          "2031-10",
          "2031-11",
          "2031-12",
          "2032-01",
          "2032-02",
          "2032-03",
          "2032-04",
          "2032-05",
          "2032-06",
          "2032-07",
          "2032-08",
          "2032-09",
          "2032-10",
          "2032-11",
          "2032-12",
          "2033-01",
          "2033-02",
          "2033-03",
          "2033-04",
          "2033-05",
          "2033-06",
          "2033-07",
          "2033-08",
          "2033-09",
          "2033-10",
          "2033-11",
          "2033-12",
          "2034-01",
          "2034-02",
          "2034-03",
          "2034-04",
          "2034-05",
          "2034-06",
          "2034-07",
          "2034-08",
          "2034-09",
          "2034-10",
          "2034-11",
          "2034-12",
          "2035-01",
          "2035-02",
          "2035-03",
          "2035-04",
          "2035-05",
          "2035-06",
          "2035-07",
          "2035-08",
          "2035-09",
          "2035-10",
          "2035-11",
          "2035-12",
          "2036-01",
          "2036-02",
          "2036-03",
          "2036-04",
          "2036-05",
          "2036-06",
          "2036-07",
          "2036-08",
          "2036-09",
          "2036-10",
          "2036-11",
          "2036-12",
          "2037-01",
          "2037-02",
          "2037-03",
          "2037-04",
          "2037-05",
          "2037-06",
          "2037-07",
          "2037-08",
          "2037-09",
          "2037-10",
          "2037-11",
          "2037-12",
          "2038-01",
          "2038-02",
          "2038-03",
          "2038-04",
          "2038-05",
          "2038-06",
          "2038-07",
          "2038-08",
          "2038-09",
          "2038-10",
          "2038-11",
          "2038-12",
          "2039-01",
          "2039-02",
          "2039-03",
          "2039-04",
          "2039-05",
          "2039-06",
          "2039-07",
          "2039-08",
          "2039-09",
          "2039-10",
          "2039-11",
          "2039-12",
          "2040-01",
          "2040-02",
          "2040-03",
          "2040-04",
          "2040-05",
          "2040-06",
          "2040-07",
          "2040-08",
          "2040-09",
          "2040-10",
          "2040-11",
          "2040-12",
          "2041-01",
          "2041-02",
          "2041-03",
          "2041-04",
          "2041-05",
          "2041-06",
          "2041-07",
          "2041-08",
          "2041-09",
          "2041-10",
          "2041-11",
          "2041-12",
          "2042-01",
          "2042-02",
          "2042-03",
          "2042-04",
          "2042-05",
          "2042-06",
          "2042-07",
          "2042-08",
          "2042-09",
          "2042-10",
          "2042-11",
          "2042-12",
          "2043-01",
          "2043-02",
          "2043-03",
          "2043-04",
          "2043-05",
          "2043-06",
          "2043-07",
          "2043-08",
          "2043-09",
          "2043-10",
          "2043-11",
          "2043-12",
          "2044-01",
          "2044-02",
          "2044-03",
          "2044-04",
          "2044-05",
          "2044-06",
          "2044-07",
          "2044-08",
          "2044-09",
          "2044-10",
          "2044-11",
          "2044-12",
          "2045-01",
          "2045-02",
          "2045-03",
          "2045-04",
          "2045-05",
          "2045-06",
          "2045-07",
          "2045-08",
          "2045-09",
          "2045-10",
          "2045-11",
          "2045-12",
          "2046-01",
          "2046-02",
          "2046-03",
          "2046-04",
          "2046-05",
          "2046-06",
          "2046-07",
          "2046-08",
          "2046-09",
          "2046-10",
          "2046-11",
          "2046-12",
          "2047-01",
          "2047-02",
          "2047-03",
          "2047-04",
          "2047-05",
          "2047-06",
          "2047-07",
          "2047-08",
          "2047-09",
          "2047-10",
          "2047-11",
          "2047-12",
          "2048-01",
          "2048-02",
          "2048-03",
          "2048-04",
          "2048-05",
          "2048-06",
          "2048-07",
          "2048-08",
          "2048-09",
          "2048-10",
          "2048-11",
          "2048-12",
          "2049-01",
          "2049-02",
          "2049-03",
          "2049-04",
          "2049-05",
          "2049-06",
          "2049-07",
          "2049-08",
          "2049-09",
          "2049-10",
          "2049-11",
          "2049-12"
         ],
         "y": [
          7.839651539652873,
          6.371034557144801,
          6.578446060409217,
          5.947579644917528,
          5.569034292150987,
          5.964931792197708,
          6.315186480795048,
          5.81033790195164,
          5.31057204389711,
          6.051862573716077,
          6.600087845294754,
          7.503909331186212,
          7.868515374024251,
          6.365707361997975,
          6.555299008390002,
          5.92738611800637,
          5.594391258558015,
          5.953894887310574,
          6.313881657897264,
          5.788396448414879,
          5.305698845013095,
          6.06779917223756,
          6.578382715539473,
          7.470418496520064,
          7.882602034850665,
          6.371174308078437,
          6.556935288019609,
          5.912281652734099,
          5.57066418494681,
          5.956990010074853,
          6.323235571875307,
          5.770689455014562,
          5.305709391179574,
          6.081999088434495,
          6.578150454467981,
          7.467421451359248,
          7.864677638472901,
          6.592252568713802,
          6.536247242337565,
          5.983839192324202,
          5.555337443358632,
          5.95659130078997,
          6.326063805776346,
          5.773082121752569,
          5.317015448538474,
          6.073450745472106,
          6.576460334177729,
          7.526567067554195,
          7.817052013403148,
          6.371858639702472,
          6.561569049258726,
          5.968566536500327,
          5.556569314710442,
          5.958195150673837,
          6.322648249443545,
          5.770572137865282,
          5.334400042190413,
          6.05366919185467,
          6.580498747020679,
          7.517264933111674,
          7.82235755592202,
          6.368868530664565,
          6.583538149090956,
          5.951362936904631,
          5.553021747442404,
          5.959388600816284,
          6.320197933114208,
          5.786853543150301,
          5.324737918862049,
          6.058620463673618,
          6.597980363792695,
          7.496467249558925,
          7.830621334288922,
          6.367005226636742,
          6.579530682995339,
          5.947355096810663,
          5.570619633412234,
          5.958106053226031,
          6.31775977583364,
          5.799735572898464,
          5.307220303143328,
          6.055142152157458,
          6.603137890258856,
          7.500355499246206,
          7.864951325653186,
          6.603478802837437,
          6.558824894972719,
          5.920588105903064,
          5.574868993760563,
          5.953690333322001,
          6.321533865001569,
          5.768735937639769,
          5.304629452050203,
          6.081525504445385,
          6.578069894244743,
          7.463818285748276,
          7.863824466659648,
          6.361833510796514,
          6.527620477045922,
          5.9729237825878,
          5.556805667932679,
          5.95987792655294,
          6.333762633470333,
          5.769716249340744,
          5.301951924345,
          6.08327270735839,
          6.571957861437584,
          7.504416902648981,
          7.840820644412197,
          6.369649561479688,
          6.535015719321777,
          5.981469960419504,
          5.557991578307255,
          5.955797871104096,
          6.335867598746411,
          5.770234306190373,
          5.311137989401907,
          6.07395886055793,
          6.574568885867892,
          7.522607641439828,
          7.819526186424019,
          6.374004888760342,
          6.573567357796331,
          5.950953414846758,
          5.551440301843986,
          5.955890652731822,
          6.32259652572308,
          5.773500817649319,
          5.335299718811243,
          6.055287822629452,
          6.575499063964932,
          7.516087699975134,
          7.816042106606732,
          6.584522026199217,
          6.581823766869808,
          5.945948754905745,
          5.564506090474941,
          5.964929352159547,
          6.315219082083433,
          5.803019863651444,
          5.30282741519022,
          6.057145814136923,
          6.599825911688932,
          7.501637614586957,
          7.863041624505206,
          6.370703186540838,
          6.550188389978456,
          5.929314150443559,
          5.586969624533769,
          5.961517953813967,
          6.306955459054407,
          5.782682182736539,
          5.303814187787226,
          6.064152010802096,
          6.571604831511373,
          7.481386881723629,
          7.884362575660258,
          6.368694377081492,
          6.536637268984518,
          5.928653753342578,
          5.582507347098826,
          5.956346331671671,
          6.325903015410016,
          5.770790583325113,
          5.308838465829067,
          6.083317659122482,
          6.57303004445509,
          7.466370435573945,
          7.860882297523481,
          6.363996345334189,
          6.537620182052023,
          5.963083023399848,
          5.556272130669464,
          5.959172829323323,
          6.328792605968052,
          5.772066951581353,
          5.306994670413218,
          6.079621136776897,
          6.5765265722269,
          7.493156016971308,
          7.83809121426601,
          6.590465302829441,
          6.559242449931235,
          5.964962971480374,
          5.563326438576095,
          5.954416078674621,
          6.319883982854422,
          5.773318202483801,
          5.333845660113955,
          6.050392299144499,
          6.579365463913653,
          7.51464140348331,
          7.828968226354135,
          6.367567696358087,
          6.57446410158246,
          5.95195209793885,
          5.554038992672568,
          5.959407584656303,
          6.317200699948835,
          5.782470260367589,
          5.321035790095029,
          6.056145386271575,
          6.590099608448999,
          7.495635446880176,
          7.841111764290485,
          6.365470396891655,
          6.581319983354688,
          5.943104168415609,
          5.572397980056063,
          5.969840206832083,
          6.311289913078902,
          5.799813353177329,
          5.302298892455552,
          6.058794735362837,
          6.599015779462532,
          7.498544062078716,
          7.869252724549615,
          6.366517400711249,
          6.580437308743396,
          5.915061000949977,
          5.589270427520972,
          5.959416160906878,
          6.315159657670717,
          5.788907532307686,
          5.298468618720192,
          6.068597845194984,
          6.572363309315637,
          7.480641736292921,
          7.881344980397454,
          6.595928845359166,
          6.534978766102531,
          5.96581783547456,
          5.555343053505959,
          5.96018473080886,
          6.332842002346644,
          5.770373124110394,
          5.302472975002885,
          6.076862272561064,
          6.576417544361044,
          7.495813204712277,
          7.843787613573311,
          6.37297043686148,
          6.53168355591567,
          5.975004810390374,
          5.554823313523202,
          5.955685414319432,
          6.32816690093993,
          5.77218976761512,
          5.318868933935962,
          6.073769613925436,
          6.573340710986834,
          7.530285933766773,
          7.829163133123162,
          6.365676257712385,
          6.578421576889619,
          5.951229071275399,
          5.555857466357046,
          5.956724150561222,
          6.317789127868376,
          5.771478819630504,
          5.328962956872887,
          6.055519362762121,
          6.575773361299525,
          7.521503034992952,
          7.816877957301831,
          6.371762451389611,
          6.583273924597857,
          5.947179701569379,
          5.558307608523684,
          5.959959975651437,
          6.310924583731135,
          5.783380251870096,
          5.322086438505393,
          6.057782895870304,
          6.589695923715547,
          7.495033086668726,
          7.841532431112706,
          6.613162428150939,
          6.553413049522026,
          5.927940724426667,
          5.588550908314774,
          5.955499410711059,
          6.305252451366385,
          5.789633413926188,
          5.304172783636304,
          6.067607180160834,
          6.572059300530697,
          7.488737232231252,
          7.895451702219835,
          6.369874541945024,
          6.541211663167541,
          5.933840065423644,
          5.576900556968541,
          5.955273926808781,
          6.321628571389746,
          5.774146143736067,
          5.312232696760373,
          6.083930233150516,
          6.576162743561214,
          7.462830120308749
         ]
        },
        {
         "marker": {
          "color": "rgba(148, 103, 189, 0.7)"
         },
         "name": "vat_cost",
         "stackgroup": "one",
         "type": "scatter",
         "x": [
          "2025-01",
          "2025-02",
          "2025-03",
          "2025-04",
          "2025-05",
          "2025-06",
          "2025-07",
          "2025-08",
          "2025-09",
          "2025-10",
          "2025-11",
          "2025-12",
          "2026-01",
          "2026-02",
          "2026-03",
          "2026-04",
          "2026-05",
          "2026-06",
          "2026-07",
          "2026-08",
          "2026-09",
          "2026-10",
          "2026-11",
          "2026-12",
          "2027-01",
          "2027-02",
          "2027-03",
          "2027-04",
          "2027-05",
          "2027-06",
          "2027-07",
          "2027-08",
          "2027-09",
          "2027-10",
          "2027-11",
          "2027-12",
          "2028-01",
          "2028-02",
          "2028-03",
          "2028-04",
          "2028-05",
          "2028-06",
          "2028-07",
          "2028-08",
          "2028-09",
          "2028-10",
          "2028-11",
          "2028-12",
          "2029-01",
          "2029-02",
          "2029-03",
          "2029-04",
          "2029-05",
          "2029-06",
          "2029-07",
          "2029-08",
          "2029-09",
          "2029-10",
          "2029-11",
          "2029-12",
          "2030-01",
          "2030-02",
          "2030-03",
          "2030-04",
          "2030-05",
          "2030-06",
          "2030-07",
          "2030-08",
          "2030-09",
          "2030-10",
          "2030-11",
          "2030-12",
          "2031-01",
          "2031-02",
          "2031-03",
          "2031-04",
          "2031-05",
          "2031-06",
          "2031-07",
          "2031-08",
          "2031-09",
          "2031-10",
          "2031-11",
          "2031-12",
          "2032-01",
          "2032-02",
          "2032-03",
          "2032-04",
          "2032-05",
          "2032-06",
          "2032-07",
          "2032-08",
          "2032-09",
          "2032-10",
          "2032-11",
          "2032-12",
          "2033-01",
          "2033-02",
          "2033-03",
          "2033-04",
          "2033-05",
          "2033-06",
          "2033-07",
          "2033-08",
          "2033-09",
          "2033-10",
          "2033-11",
          "2033-12",
          "2034-01",
          "2034-02",
          "2034-03",
          "2034-04",
          "2034-05",
          "2034-06",
          "2034-07",
          "2034-08",
          "2034-09",
          "2034-10",
          "2034-11",
          "2034-12",
          "2035-01",
          "2035-02",
          "2035-03",
          "2035-04",
          "2035-05",
          "2035-06",
          "2035-07",
          "2035-08",
          "2035-09",
          "2035-10",
          "2035-11",
          "2035-12",
          "2036-01",
          "2036-02",
          "2036-03",
          "2036-04",
          "2036-05",
          "2036-06",
          "2036-07",
          "2036-08",
          "2036-09",
          "2036-10",
          "2036-11",
          "2036-12",
          "2037-01",
          "2037-02",
          "2037-03",
          "2037-04",
          "2037-05",
          "2037-06",
          "2037-07",
          "2037-08",
          "2037-09",
          "2037-10",
          "2037-11",
          "2037-12",
          "2038-01",
          "2038-02",
          "2038-03",
          "2038-04",
          "2038-05",
          "2038-06",
          "2038-07",
          "2038-08",
          "2038-09",
          "2038-10",
          "2038-11",
          "2038-12",
          "2039-01",
          "2039-02",
          "2039-03",
          "2039-04",
          "2039-05",
          "2039-06",
          "2039-07",
          "2039-08",
          "2039-09",
          "2039-10",
          "2039-11",
          "2039-12",
          "2040-01",
          "2040-02",
          "2040-03",
          "2040-04",
          "2040-05",
          "2040-06",
          "2040-07",
          "2040-08",
          "2040-09",
          "2040-10",
          "2040-11",
          "2040-12",
          "2041-01",
          "2041-02",
          "2041-03",
          "2041-04",
          "2041-05",
          "2041-06",
          "2041-07",
          "2041-08",
          "2041-09",
          "2041-10",
          "2041-11",
          "2041-12",
          "2042-01",
          "2042-02",
          "2042-03",
          "2042-04",
          "2042-05",
          "2042-06",
          "2042-07",
          "2042-08",
          "2042-09",
          "2042-10",
          "2042-11",
          "2042-12",
          "2043-01",
          "2043-02",
          "2043-03",
          "2043-04",
          "2043-05",
          "2043-06",
          "2043-07",
          "2043-08",
          "2043-09",
          "2043-10",
          "2043-11",
          "2043-12",
          "2044-01",
          "2044-02",
          "2044-03",
          "2044-04",
          "2044-05",
          "2044-06",
          "2044-07",
          "2044-08",
          "2044-09",
          "2044-10",
          "2044-11",
          "2044-12",
          "2045-01",
          "2045-02",
          "2045-03",
          "2045-04",
          "2045-05",
          "2045-06",
          "2045-07",
          "2045-08",
          "2045-09",
          "2045-10",
          "2045-11",
          "2045-12",
          "2046-01",
          "2046-02",
          "2046-03",
          "2046-04",
          "2046-05",
          "2046-06",
          "2046-07",
          "2046-08",
          "2046-09",
          "2046-10",
          "2046-11",
          "2046-12",
          "2047-01",
          "2047-02",
          "2047-03",
          "2047-04",
          "2047-05",
          "2047-06",
          "2047-07",
          "2047-08",
          "2047-09",
          "2047-10",
          "2047-11",
          "2047-12",
          "2048-01",
          "2048-02",
          "2048-03",
          "2048-04",
          "2048-05",
          "2048-06",
          "2048-07",
          "2048-08",
          "2048-09",
          "2048-10",
          "2048-11",
          "2048-12",
          "2049-01",
          "2049-02",
          "2049-03",
          "2049-04",
          "2049-05",
          "2049-06",
          "2049-07",
          "2049-08",
          "2049-09",
          "2049-10",
          "2049-11",
          "2049-12"
         ],
         "y": [
          11.09939553002415,
          9.22064490634865,
          9.67000135515926,
          8.883576936077063,
          8.525978969168948,
          8.903243087748526,
          9.371634660936252,
          8.799461744100888,
          8.161620863709464,
          9.073195060826786,
          9.623100698081421,
          10.71888024925775,
          10.57046562417579,
          8.760232603373375,
          9.17586005032795,
          8.437602510771814,
          8.1553981226988,
          8.465754214021137,
          8.919480377159516,
          8.361427171841147,
          7.777384926833967,
          8.658146437750679,
          9.128945923201158,
          10.14769589724612,
          10.65570351820004,
          8.822841262532624,
          9.236056801777805,
          8.474273497547768,
          8.179866370565403,
          8.522151346824108,
          8.98578950387194,
          8.394071953176539,
          7.824699748000868,
          8.72745113759953,
          9.18734747349927,
          10.21108970142836,
          10.41212579601031,
          8.94294104332729,
          9.027420195677198,
          8.380182444662571,
          8.004956921711754,
          8.351780273111478,
          8.808332931075098,
          8.231925738814986,
          7.685110595101309,
          8.545018631478982,
          8.997908308499834,
          10.05969212508182,
          10.05076822672784,
          8.387696671961017,
          8.792164174600433,
          8.126258984597014,
          7.784666044865609,
          8.115861815857818,
          8.552649425796309,
          7.999200871766218,
          7.49051597393353,
          8.283001695411155,
          8.739712437797039,
          9.750235885942617,
          9.93985184509467,
          8.290061911670431,
          8.716360820896412,
          8.020579259360131,
          7.698595389749894,
          8.028505618686594,
          8.456279013345329,
          7.929533895914083,
          7.401707710459929,
          8.19793814119858,
          8.659195843444373,
          9.617993903162347,
          9.612486278877892,
          8.015407710172994,
          8.430482679988332,
          7.761788259522315,
          7.477285171611435,
          7.771945532427624,
          8.183167144515512,
          7.693748994401313,
          7.157002643782262,
          7.935051649450375,
          8.381357769648659,
          9.300458205446825,
          9.62154691217773,
          8.290626688779149,
          8.391428326773461,
          7.718904168087318,
          7.464732095177647,
          7.750080066690871,
          8.167946051810874,
          7.647317276182747,
          7.138790198913407,
          7.941904576776366,
          8.338124902317906,
          9.243757139292063,
          9.382523281661788,
          7.799103523325758,
          8.164511496290968,
          7.58745129091082,
          7.279568861705449,
          7.575559389281858,
          7.98780109877906,
          7.473646711645221,
          6.975829384866262,
          7.759467936707592,
          8.133498581256594,
          9.054906651177875,
          8.569289884768958,
          7.162616215165107,
          7.51093141824974,
          6.990852572138056,
          6.719050677284711,
          6.970045273468757,
          7.349521321341326,
          6.891073989263472,
          6.447546674547064,
          7.137243572045849,
          7.471560874864275,
          8.311377374729227,
          8.342883194019354,
          6.995661846296081,
          7.36635559140085,
          6.806949737284668,
          6.5652574647316,
          6.810819326684158,
          7.169655717102759,
          6.739298707630814,
          6.32442751101259,
          6.960150939742991,
          7.296441084387142,
          8.105061485223018,
          7.977787975608418,
          6.926815134772716,
          7.067682440097166,
          6.52736335469914,
          6.317518211571959,
          6.541359538414638,
          6.871089672346663,
          6.493396901974403,
          6.053129361866663,
          6.680787922515543,
          7.00952862544012,
          7.745947903747395,
          7.675528910021779,
          6.424745450449822,
          6.763691694572835,
          6.261037362285943,
          6.094691768417451,
          6.28340439130326,
          6.594755188490935,
          6.230623180556091,
          5.826598744767841,
          6.426116977963467,
          6.70713790934732,
          7.410452061545046,
          7.666906001956278,
          6.404423313461233,
          6.734853784763371,
          6.242959503099339,
          6.075002029529085,
          6.26211097922253,
          6.589115385914811,
          6.205213881243752,
          5.814311164958411,
          6.421349582255589,
          6.688593600688084,
          7.377833370458686,
          7.627306131289616,
          6.382261311242321,
          6.716104590796077,
          6.249048400068544,
          6.04034591401908,
          6.24635583083037,
          6.572305409363718,
          6.188942757340167,
          5.797264349915872,
          6.400725324118758,
          6.671467133410637,
          7.374088911963633,
          7.611612135420684,
          6.609636884363717,
          6.73099373752683,
          6.250342936930889,
          6.045203527757495,
          6.243080320658829,
          6.566170909622581,
          6.18980437178263,
          5.815754007326166,
          6.380598274786595,
          6.673422001193837,
          7.388883801848968,
          7.582063354796067,
          6.365796974643443,
          6.721936957500521,
          6.223695194951729,
          6.022302292850594,
          6.228806904673316,
          6.545549300868941,
          6.178921756615158,
          5.791119677546011,
          6.366561793363577,
          6.661228646073793,
          7.353520206114408,
          7.59038933581866,
          6.364359001982779,
          6.726637559732581,
          6.217628783854249,
          6.034889776115373,
          6.235959829521637,
          6.54149668460788,
          6.190812711488757,
          5.778273087451242,
          6.368378268131614,
          6.667341845624203,
          7.35551444165532,
          7.586297249858618,
          6.346156403486204,
          6.706476172719479,
          6.180822743518146,
          6.029847462070295,
          6.211102180070004,
          6.525382072008631,
          6.166131471724627,
          5.759900579462681,
          6.357064501646488,
          6.629535893485054,
          7.321008571524314,
          7.594552133711348,
          6.574194618915788,
          6.67544350236114,
          6.215472339011739,
          6.006686644482062,
          6.211626851012579,
          6.53745307872404,
          6.153478796419623,
          5.762634188181726,
          6.362706285022127,
          6.632303552376218,
          7.33136550667794,
          7.568913269892315,
          6.350561624859943,
          6.673193998405455,
          6.221743907513288,
          6.006331839452688,
          6.208555353394248,
          6.534261579999751,
          6.154718943942306,
          5.773827032457417,
          6.360595054648366,
          6.630203125255099,
          7.354898615637287,
          7.558929740843507,
          6.345582189886481,
          6.70510011580003,
          6.205513191972979,
          6.007037812898568,
          6.209264455743511,
          6.527177102757982,
          6.154233609103861,
          5.780717805196567,
          6.34813636161937,
          6.631863795194461,
          7.348902893236066,
          7.550543158489351,
          6.349736983048561,
          6.708412613256963,
          6.202748854448154,
          6.008710423804487,
          6.21147341994536,
          6.522490961870136,
          6.162358225557169,
          5.776023489996069,
          6.349681582225018,
          6.641368153779229,
          7.330832952295866,
          7.567373749929021,
          6.585959274419493,
          6.688027826613874,
          6.189615199011415,
          6.029356276012729,
          6.208428376409752,
          6.518618831272048,
          6.166627001138407,
          5.763794577361157,
          6.356388215526116,
          6.62932835923822,
          7.326535032388364,
          7.604182210320034,
          6.348448185210867,
          6.679698443869582,
          6.193642435562682,
          6.021403062119737,
          6.208274447858505,
          6.529798132343101,
          6.156054481153384,
          5.769296747306906,
          6.367531289924089,
          6.632129610389325,
          7.308849316623579
         ]
        }
       ],
       "layout": {
        "plot_bgcolor": "white",
        "template": {
         "data": {
          "bar": [
           {
            "error_x": {
             "color": "#2a3f5f"
            },
            "error_y": {
             "color": "#2a3f5f"
            },
            "marker": {
             "line": {
              "color": "#E5ECF6",
              "width": 0.5
             },
             "pattern": {
              "fillmode": "overlay",
              "size": 10,
              "solidity": 0.2
             }
            },
            "type": "bar"
           }
          ],
          "barpolar": [
           {
            "marker": {
             "line": {
              "color": "#E5ECF6",
              "width": 0.5
             },
             "pattern": {
              "fillmode": "overlay",
              "size": 10,
              "solidity": 0.2
             }
            },
            "type": "barpolar"
           }
          ],
          "carpet": [
           {
            "aaxis": {
             "endlinecolor": "#2a3f5f",
             "gridcolor": "white",
             "linecolor": "white",
             "minorgridcolor": "white",
             "startlinecolor": "#2a3f5f"
            },
            "baxis": {
             "endlinecolor": "#2a3f5f",
             "gridcolor": "white",
             "linecolor": "white",
             "minorgridcolor": "white",
             "startlinecolor": "#2a3f5f"
            },
            "type": "carpet"
           }
          ],
          "choropleth": [
           {
            "colorbar": {
             "outlinewidth": 0,
             "ticks": ""
            },
            "type": "choropleth"
           }
          ],
          "contour": [
           {
            "colorbar": {
             "outlinewidth": 0,
             "ticks": ""
            },
            "colorscale": [
             [
              0,
              "#0d0887"
             ],
             [
              0.1111111111111111,
              "#46039f"
             ],
             [
              0.2222222222222222,
              "#7201a8"
             ],
             [
              0.3333333333333333,
              "#9c179e"
             ],
             [
              0.4444444444444444,
              "#bd3786"
             ],
             [
              0.5555555555555556,
              "#d8576b"
             ],
             [
              0.6666666666666666,
              "#ed7953"
             ],
             [
              0.7777777777777778,
              "#fb9f3a"
             ],
             [
              0.8888888888888888,
              "#fdca26"
             ],
             [
              1,
              "#f0f921"
             ]
            ],
            "type": "contour"
           }
          ],
          "contourcarpet": [
           {
            "colorbar": {
             "outlinewidth": 0,
             "ticks": ""
            },
            "type": "contourcarpet"
           }
          ],
          "heatmap": [
           {
            "colorbar": {
             "outlinewidth": 0,
             "ticks": ""
            },
            "colorscale": [
             [
              0,
              "#0d0887"
             ],
             [
              0.1111111111111111,
              "#46039f"
             ],
             [
              0.2222222222222222,
              "#7201a8"
             ],
             [
              0.3333333333333333,
              "#9c179e"
             ],
             [
              0.4444444444444444,
              "#bd3786"
             ],
             [
              0.5555555555555556,
              "#d8576b"
             ],
             [
              0.6666666666666666,
              "#ed7953"
             ],
             [
              0.7777777777777778,
              "#fb9f3a"
             ],
             [
              0.8888888888888888,
              "#fdca26"
             ],
             [
              1,
              "#f0f921"
             ]
            ],
            "type": "heatmap"
           }
          ],
          "heatmapgl": [
           {
            "colorbar": {
             "outlinewidth": 0,
             "ticks": ""
            },
            "colorscale": [
             [
              0,
              "#0d0887"
             ],
             [
              0.1111111111111111,
              "#46039f"
             ],
             [
              0.2222222222222222,
              "#7201a8"
             ],
             [
              0.3333333333333333,
              "#9c179e"
             ],
             [
              0.4444444444444444,
              "#bd3786"
             ],
             [
              0.5555555555555556,
              "#d8576b"
             ],
             [
              0.6666666666666666,
              "#ed7953"
             ],
             [
              0.7777777777777778,
              "#fb9f3a"
             ],
             [
              0.8888888888888888,
              "#fdca26"
             ],
             [
              1,
              "#f0f921"
             ]
            ],
            "type": "heatmapgl"
           }
          ],
          "histogram": [
           {
            "marker": {
             "pattern": {
              "fillmode": "overlay",
              "size": 10,
              "solidity": 0.2
             }
            },
            "type": "histogram"
           }
          ],
          "histogram2d": [
           {
            "colorbar": {
             "outlinewidth": 0,
             "ticks": ""
            },
            "colorscale": [
             [
              0,
              "#0d0887"
             ],
             [
              0.1111111111111111,
              "#46039f"
             ],
             [
              0.2222222222222222,
              "#7201a8"
             ],
             [
              0.3333333333333333,
              "#9c179e"
             ],
             [
              0.4444444444444444,
              "#bd3786"
             ],
             [
              0.5555555555555556,
              "#d8576b"
             ],
             [
              0.6666666666666666,
              "#ed7953"
             ],
             [
              0.7777777777777778,
              "#fb9f3a"
             ],
             [
              0.8888888888888888,
              "#fdca26"
             ],
             [
              1,
              "#f0f921"
             ]
            ],
            "type": "histogram2d"
           }
          ],
          "histogram2dcontour": [
           {
            "colorbar": {
             "outlinewidth": 0,
             "ticks": ""
            },
            "colorscale": [
             [
              0,
              "#0d0887"
             ],
             [
              0.1111111111111111,
              "#46039f"
             ],
             [
              0.2222222222222222,
              "#7201a8"
             ],
             [
              0.3333333333333333,
              "#9c179e"
             ],
             [
              0.4444444444444444,
              "#bd3786"
             ],
             [
              0.5555555555555556,
              "#d8576b"
             ],
             [
              0.6666666666666666,
              "#ed7953"
             ],
             [
              0.7777777777777778,
              "#fb9f3a"
             ],
             [
              0.8888888888888888,
              "#fdca26"
             ],
             [
              1,
              "#f0f921"
             ]
            ],
            "type": "histogram2dcontour"
           }
          ],
          "mesh3d": [
           {
            "colorbar": {
             "outlinewidth": 0,
             "ticks": ""
            },
            "type": "mesh3d"
           }
          ],
          "parcoords": [
           {
            "line": {
             "colorbar": {
              "outlinewidth": 0,
              "ticks": ""
             }
            },
            "type": "parcoords"
           }
          ],
          "pie": [
           {
            "automargin": true,
            "type": "pie"
           }
          ],
          "scatter": [
           {
            "fillpattern": {
             "fillmode": "overlay",
             "size": 10,
             "solidity": 0.2
            },
            "type": "scatter"
           }
          ],
          "scatter3d": [
           {
            "line": {
             "colorbar": {
              "outlinewidth": 0,
              "ticks": ""
             }
            },
            "marker": {
             "colorbar": {
              "outlinewidth": 0,
              "ticks": ""
             }
            },
            "type": "scatter3d"
           }
          ],
          "scattercarpet": [
           {
            "marker": {
             "colorbar": {
              "outlinewidth": 0,
              "ticks": ""
             }
            },
            "type": "scattercarpet"
           }
          ],
          "scattergeo": [
           {
            "marker": {
             "colorbar": {
              "outlinewidth": 0,
              "ticks": ""
             }
            },
            "type": "scattergeo"
           }
          ],
          "scattergl": [
           {
            "marker": {
             "colorbar": {
              "outlinewidth": 0,
              "ticks": ""
             }
            },
            "type": "scattergl"
           }
          ],
          "scattermapbox": [
           {
            "marker": {
             "colorbar": {
              "outlinewidth": 0,
              "ticks": ""
             }
            },
            "type": "scattermapbox"
           }
          ],
          "scatterpolar": [
           {
            "marker": {
             "colorbar": {
              "outlinewidth": 0,
              "ticks": ""
             }
            },
            "type": "scatterpolar"
           }
          ],
          "scatterpolargl": [
           {
            "marker": {
             "colorbar": {
              "outlinewidth": 0,
              "ticks": ""
             }
            },
            "type": "scatterpolargl"
           }
          ],
          "scatterternary": [
           {
            "marker": {
             "colorbar": {
              "outlinewidth": 0,
              "ticks": ""
             }
            },
            "type": "scatterternary"
           }
          ],
          "surface": [
           {
            "colorbar": {
             "outlinewidth": 0,
             "ticks": ""
            },
            "colorscale": [
             [
              0,
              "#0d0887"
             ],
             [
              0.1111111111111111,
              "#46039f"
             ],
             [
              0.2222222222222222,
              "#7201a8"
             ],
             [
              0.3333333333333333,
              "#9c179e"
             ],
             [
              0.4444444444444444,
              "#bd3786"
             ],
             [
              0.5555555555555556,
              "#d8576b"
             ],
             [
              0.6666666666666666,
              "#ed7953"
             ],
             [
              0.7777777777777778,
              "#fb9f3a"
             ],
             [
              0.8888888888888888,
              "#fdca26"
             ],
             [
              1,
              "#f0f921"
             ]
            ],
            "type": "surface"
           }
          ],
          "table": [
           {
            "cells": {
             "fill": {
              "color": "#EBF0F8"
             },
             "line": {
              "color": "white"
             }
            },
            "header": {
             "fill": {
              "color": "#C8D4E3"
             },
             "line": {
              "color": "white"
             }
            },
            "type": "table"
           }
          ]
         },
         "layout": {
          "annotationdefaults": {
           "arrowcolor": "#2a3f5f",
           "arrowhead": 0,
           "arrowwidth": 1
          },
          "autotypenumbers": "strict",
          "coloraxis": {
           "colorbar": {
            "outlinewidth": 0,
            "ticks": ""
           }
          },
          "colorscale": {
           "diverging": [
            [
             0,
             "#8e0152"
            ],
            [
             0.1,
             "#c51b7d"
            ],
            [
             0.2,
             "#de77ae"
            ],
            [
             0.3,
             "#f1b6da"
            ],
            [
             0.4,
             "#fde0ef"
            ],
            [
             0.5,
             "#f7f7f7"
            ],
            [
             0.6,
             "#e6f5d0"
            ],
            [
             0.7,
             "#b8e186"
            ],
            [
             0.8,
             "#7fbc41"
            ],
            [
             0.9,
             "#4d9221"
            ],
            [
             1,
             "#276419"
            ]
           ],
           "sequential": [
            [
             0,
             "#0d0887"
            ],
            [
             0.1111111111111111,
             "#46039f"
            ],
            [
             0.2222222222222222,
             "#7201a8"
            ],
            [
             0.3333333333333333,
             "#9c179e"
            ],
            [
             0.4444444444444444,
             "#bd3786"
            ],
            [
             0.5555555555555556,
             "#d8576b"
            ],
            [
             0.6666666666666666,
             "#ed7953"
            ],
            [
             0.7777777777777778,
             "#fb9f3a"
            ],
            [
             0.8888888888888888,
             "#fdca26"
            ],
            [
             1,
             "#f0f921"
            ]
           ],
           "sequentialminus": [
            [
             0,
             "#0d0887"
            ],
            [
             0.1111111111111111,
             "#46039f"
            ],
            [
             0.2222222222222222,
             "#7201a8"
            ],
            [
             0.3333333333333333,
             "#9c179e"
            ],
            [
             0.4444444444444444,
             "#bd3786"
            ],
            [
             0.5555555555555556,
             "#d8576b"
            ],
            [
             0.6666666666666666,
             "#ed7953"
            ],
            [
             0.7777777777777778,
             "#fb9f3a"
            ],
            [
             0.8888888888888888,
             "#fdca26"
            ],
            [
             1,
             "#f0f921"
            ]
           ]
          },
          "colorway": [
           "#636efa",
           "#EF553B",
           "#00cc96",
           "#ab63fa",
           "#FFA15A",
           "#19d3f3",
           "#FF6692",
           "#B6E880",
           "#FF97FF",
           "#FECB52"
          ],
          "font": {
           "color": "#2a3f5f"
          },
          "geo": {
           "bgcolor": "white",
           "lakecolor": "white",
           "landcolor": "#E5ECF6",
           "showlakes": true,
           "showland": true,
           "subunitcolor": "white"
          },
          "hoverlabel": {
           "align": "left"
          },
          "hovermode": "closest",
          "mapbox": {
           "style": "light"
          },
          "paper_bgcolor": "white",
          "plot_bgcolor": "#E5ECF6",
          "polar": {
           "angularaxis": {
            "gridcolor": "white",
            "linecolor": "white",
            "ticks": ""
           },
           "bgcolor": "#E5ECF6",
           "radialaxis": {
            "gridcolor": "white",
            "linecolor": "white",
            "ticks": ""
           }
          },
          "scene": {
           "xaxis": {
            "backgroundcolor": "#E5ECF6",
            "gridcolor": "white",
            "gridwidth": 2,
            "linecolor": "white",
            "showbackground": true,
            "ticks": "",
            "zerolinecolor": "white"
           },
           "yaxis": {
            "backgroundcolor": "#E5ECF6",
            "gridcolor": "white",
            "gridwidth": 2,
            "linecolor": "white",
            "showbackground": true,
            "ticks": "",
            "zerolinecolor": "white"
           },
           "zaxis": {
            "backgroundcolor": "#E5ECF6",
            "gridcolor": "white",
            "gridwidth": 2,
            "linecolor": "white",
            "showbackground": true,
            "ticks": "",
            "zerolinecolor": "white"
           }
          },
          "shapedefaults": {
           "line": {
            "color": "#2a3f5f"
           }
          },
          "ternary": {
           "aaxis": {
            "gridcolor": "white",
            "linecolor": "white",
            "ticks": ""
           },
           "baxis": {
            "gridcolor": "white",
            "linecolor": "white",
            "ticks": ""
           },
           "bgcolor": "#E5ECF6",
           "caxis": {
            "gridcolor": "white",
            "linecolor": "white",
            "ticks": ""
           }
          },
          "title": {
           "x": 0.05
          },
          "xaxis": {
           "automargin": true,
           "gridcolor": "white",
           "linecolor": "white",
           "ticks": "",
           "title": {
            "standoff": 15
           },
           "zerolinecolor": "white",
           "zerolinewidth": 2
          },
          "yaxis": {
           "automargin": true,
           "gridcolor": "white",
           "linecolor": "white",
           "ticks": "",
           "title": {
            "standoff": 15
           },
           "zerolinecolor": "white",
           "zerolinewidth": 2
          }
         }
        },
        "title": {
         "text": "Bills user res_cons in scenario bau - line chart"
        },
        "xaxis": {
         "title": {
          "text": "mese"
         }
        },
        "yaxis": {
         "exponentformat": "none",
         "title": {
          "text": "€/month"
         }
        }
       }
      }
     },
     "metadata": {},
     "output_type": "display_data"
    },
    {
     "data": {
      "application/vnd.plotly.v1+json": {
       "config": {
        "plotlyServerURL": "https://plot.ly"
       },
       "data": [
        {
         "labels": [
          "me_cost",
          "transport_cost",
          "ogs_cost",
          "duty_cost",
          "vat_cost"
         ],
         "marker": {
          "colors": [
           "rgba(214, 39, 40, 0.7)",
           "rgba(255, 160, 50, 0.7)",
           "rgba(31, 119, 180, 0.6)",
           "rgba(44, 160, 44, 0.7)",
           "rgba(148, 103, 189, 0.7)"
          ]
         },
         "pull": [
          0.05,
          0.05,
          0.05,
          0.05,
          0.05
         ],
         "type": "pie",
         "values": [
          13639.766218103596,
          4927.432186782549,
          1490.314604806942,
          1896.595956959537,
          2195.410896665263
         ]
        }
       ],
       "layout": {
        "plot_bgcolor": "white",
        "template": {
         "data": {
          "bar": [
           {
            "error_x": {
             "color": "#2a3f5f"
            },
            "error_y": {
             "color": "#2a3f5f"
            },
            "marker": {
             "line": {
              "color": "#E5ECF6",
              "width": 0.5
             },
             "pattern": {
              "fillmode": "overlay",
              "size": 10,
              "solidity": 0.2
             }
            },
            "type": "bar"
           }
          ],
          "barpolar": [
           {
            "marker": {
             "line": {
              "color": "#E5ECF6",
              "width": 0.5
             },
             "pattern": {
              "fillmode": "overlay",
              "size": 10,
              "solidity": 0.2
             }
            },
            "type": "barpolar"
           }
          ],
          "carpet": [
           {
            "aaxis": {
             "endlinecolor": "#2a3f5f",
             "gridcolor": "white",
             "linecolor": "white",
             "minorgridcolor": "white",
             "startlinecolor": "#2a3f5f"
            },
            "baxis": {
             "endlinecolor": "#2a3f5f",
             "gridcolor": "white",
             "linecolor": "white",
             "minorgridcolor": "white",
             "startlinecolor": "#2a3f5f"
            },
            "type": "carpet"
           }
          ],
          "choropleth": [
           {
            "colorbar": {
             "outlinewidth": 0,
             "ticks": ""
            },
            "type": "choropleth"
           }
          ],
          "contour": [
           {
            "colorbar": {
             "outlinewidth": 0,
             "ticks": ""
            },
            "colorscale": [
             [
              0,
              "#0d0887"
             ],
             [
              0.1111111111111111,
              "#46039f"
             ],
             [
              0.2222222222222222,
              "#7201a8"
             ],
             [
              0.3333333333333333,
              "#9c179e"
             ],
             [
              0.4444444444444444,
              "#bd3786"
             ],
             [
              0.5555555555555556,
              "#d8576b"
             ],
             [
              0.6666666666666666,
              "#ed7953"
             ],
             [
              0.7777777777777778,
              "#fb9f3a"
             ],
             [
              0.8888888888888888,
              "#fdca26"
             ],
             [
              1,
              "#f0f921"
             ]
            ],
            "type": "contour"
           }
          ],
          "contourcarpet": [
           {
            "colorbar": {
             "outlinewidth": 0,
             "ticks": ""
            },
            "type": "contourcarpet"
           }
          ],
          "heatmap": [
           {
            "colorbar": {
             "outlinewidth": 0,
             "ticks": ""
            },
            "colorscale": [
             [
              0,
              "#0d0887"
             ],
             [
              0.1111111111111111,
              "#46039f"
             ],
             [
              0.2222222222222222,
              "#7201a8"
             ],
             [
              0.3333333333333333,
              "#9c179e"
             ],
             [
              0.4444444444444444,
              "#bd3786"
             ],
             [
              0.5555555555555556,
              "#d8576b"
             ],
             [
              0.6666666666666666,
              "#ed7953"
             ],
             [
              0.7777777777777778,
              "#fb9f3a"
             ],
             [
              0.8888888888888888,
              "#fdca26"
             ],
             [
              1,
              "#f0f921"
             ]
            ],
            "type": "heatmap"
           }
          ],
          "heatmapgl": [
           {
            "colorbar": {
             "outlinewidth": 0,
             "ticks": ""
            },
            "colorscale": [
             [
              0,
              "#0d0887"
             ],
             [
              0.1111111111111111,
              "#46039f"
             ],
             [
              0.2222222222222222,
              "#7201a8"
             ],
             [
              0.3333333333333333,
              "#9c179e"
             ],
             [
              0.4444444444444444,
              "#bd3786"
             ],
             [
              0.5555555555555556,
              "#d8576b"
             ],
             [
              0.6666666666666666,
              "#ed7953"
             ],
             [
              0.7777777777777778,
              "#fb9f3a"
             ],
             [
              0.8888888888888888,
              "#fdca26"
             ],
             [
              1,
              "#f0f921"
             ]
            ],
            "type": "heatmapgl"
           }
          ],
          "histogram": [
           {
            "marker": {
             "pattern": {
              "fillmode": "overlay",
              "size": 10,
              "solidity": 0.2
             }
            },
            "type": "histogram"
           }
          ],
          "histogram2d": [
           {
            "colorbar": {
             "outlinewidth": 0,
             "ticks": ""
            },
            "colorscale": [
             [
              0,
              "#0d0887"
             ],
             [
              0.1111111111111111,
              "#46039f"
             ],
             [
              0.2222222222222222,
              "#7201a8"
             ],
             [
              0.3333333333333333,
              "#9c179e"
             ],
             [
              0.4444444444444444,
              "#bd3786"
             ],
             [
              0.5555555555555556,
              "#d8576b"
             ],
             [
              0.6666666666666666,
              "#ed7953"
             ],
             [
              0.7777777777777778,
              "#fb9f3a"
             ],
             [
              0.8888888888888888,
              "#fdca26"
             ],
             [
              1,
              "#f0f921"
             ]
            ],
            "type": "histogram2d"
           }
          ],
          "histogram2dcontour": [
           {
            "colorbar": {
             "outlinewidth": 0,
             "ticks": ""
            },
            "colorscale": [
             [
              0,
              "#0d0887"
             ],
             [
              0.1111111111111111,
              "#46039f"
             ],
             [
              0.2222222222222222,
              "#7201a8"
             ],
             [
              0.3333333333333333,
              "#9c179e"
             ],
             [
              0.4444444444444444,
              "#bd3786"
             ],
             [
              0.5555555555555556,
              "#d8576b"
             ],
             [
              0.6666666666666666,
              "#ed7953"
             ],
             [
              0.7777777777777778,
              "#fb9f3a"
             ],
             [
              0.8888888888888888,
              "#fdca26"
             ],
             [
              1,
              "#f0f921"
             ]
            ],
            "type": "histogram2dcontour"
           }
          ],
          "mesh3d": [
           {
            "colorbar": {
             "outlinewidth": 0,
             "ticks": ""
            },
            "type": "mesh3d"
           }
          ],
          "parcoords": [
           {
            "line": {
             "colorbar": {
              "outlinewidth": 0,
              "ticks": ""
             }
            },
            "type": "parcoords"
           }
          ],
          "pie": [
           {
            "automargin": true,
            "type": "pie"
           }
          ],
          "scatter": [
           {
            "fillpattern": {
             "fillmode": "overlay",
             "size": 10,
             "solidity": 0.2
            },
            "type": "scatter"
           }
          ],
          "scatter3d": [
           {
            "line": {
             "colorbar": {
              "outlinewidth": 0,
              "ticks": ""
             }
            },
            "marker": {
             "colorbar": {
              "outlinewidth": 0,
              "ticks": ""
             }
            },
            "type": "scatter3d"
           }
          ],
          "scattercarpet": [
           {
            "marker": {
             "colorbar": {
              "outlinewidth": 0,
              "ticks": ""
             }
            },
            "type": "scattercarpet"
           }
          ],
          "scattergeo": [
           {
            "marker": {
             "colorbar": {
              "outlinewidth": 0,
              "ticks": ""
             }
            },
            "type": "scattergeo"
           }
          ],
          "scattergl": [
           {
            "marker": {
             "colorbar": {
              "outlinewidth": 0,
              "ticks": ""
             }
            },
            "type": "scattergl"
           }
          ],
          "scattermapbox": [
           {
            "marker": {
             "colorbar": {
              "outlinewidth": 0,
              "ticks": ""
             }
            },
            "type": "scattermapbox"
           }
          ],
          "scatterpolar": [
           {
            "marker": {
             "colorbar": {
              "outlinewidth": 0,
              "ticks": ""
             }
            },
            "type": "scatterpolar"
           }
          ],
          "scatterpolargl": [
           {
            "marker": {
             "colorbar": {
              "outlinewidth": 0,
              "ticks": ""
             }
            },
            "type": "scatterpolargl"
           }
          ],
          "scatterternary": [
           {
            "marker": {
             "colorbar": {
              "outlinewidth": 0,
              "ticks": ""
             }
            },
            "type": "scatterternary"
           }
          ],
          "surface": [
           {
            "colorbar": {
             "outlinewidth": 0,
             "ticks": ""
            },
            "colorscale": [
             [
              0,
              "#0d0887"
             ],
             [
              0.1111111111111111,
              "#46039f"
             ],
             [
              0.2222222222222222,
              "#7201a8"
             ],
             [
              0.3333333333333333,
              "#9c179e"
             ],
             [
              0.4444444444444444,
              "#bd3786"
             ],
             [
              0.5555555555555556,
              "#d8576b"
             ],
             [
              0.6666666666666666,
              "#ed7953"
             ],
             [
              0.7777777777777778,
              "#fb9f3a"
             ],
             [
              0.8888888888888888,
              "#fdca26"
             ],
             [
              1,
              "#f0f921"
             ]
            ],
            "type": "surface"
           }
          ],
          "table": [
           {
            "cells": {
             "fill": {
              "color": "#EBF0F8"
             },
             "line": {
              "color": "white"
             }
            },
            "header": {
             "fill": {
              "color": "#C8D4E3"
             },
             "line": {
              "color": "white"
             }
            },
            "type": "table"
           }
          ]
         },
         "layout": {
          "annotationdefaults": {
           "arrowcolor": "#2a3f5f",
           "arrowhead": 0,
           "arrowwidth": 1
          },
          "autotypenumbers": "strict",
          "coloraxis": {
           "colorbar": {
            "outlinewidth": 0,
            "ticks": ""
           }
          },
          "colorscale": {
           "diverging": [
            [
             0,
             "#8e0152"
            ],
            [
             0.1,
             "#c51b7d"
            ],
            [
             0.2,
             "#de77ae"
            ],
            [
             0.3,
             "#f1b6da"
            ],
            [
             0.4,
             "#fde0ef"
            ],
            [
             0.5,
             "#f7f7f7"
            ],
            [
             0.6,
             "#e6f5d0"
            ],
            [
             0.7,
             "#b8e186"
            ],
            [
             0.8,
             "#7fbc41"
            ],
            [
             0.9,
             "#4d9221"
            ],
            [
             1,
             "#276419"
            ]
           ],
           "sequential": [
            [
             0,
             "#0d0887"
            ],
            [
             0.1111111111111111,
             "#46039f"
            ],
            [
             0.2222222222222222,
             "#7201a8"
            ],
            [
             0.3333333333333333,
             "#9c179e"
            ],
            [
             0.4444444444444444,
             "#bd3786"
            ],
            [
             0.5555555555555556,
             "#d8576b"
            ],
            [
             0.6666666666666666,
             "#ed7953"
            ],
            [
             0.7777777777777778,
             "#fb9f3a"
            ],
            [
             0.8888888888888888,
             "#fdca26"
            ],
            [
             1,
             "#f0f921"
            ]
           ],
           "sequentialminus": [
            [
             0,
             "#0d0887"
            ],
            [
             0.1111111111111111,
             "#46039f"
            ],
            [
             0.2222222222222222,
             "#7201a8"
            ],
            [
             0.3333333333333333,
             "#9c179e"
            ],
            [
             0.4444444444444444,
             "#bd3786"
            ],
            [
             0.5555555555555556,
             "#d8576b"
            ],
            [
             0.6666666666666666,
             "#ed7953"
            ],
            [
             0.7777777777777778,
             "#fb9f3a"
            ],
            [
             0.8888888888888888,
             "#fdca26"
            ],
            [
             1,
             "#f0f921"
            ]
           ]
          },
          "colorway": [
           "#636efa",
           "#EF553B",
           "#00cc96",
           "#ab63fa",
           "#FFA15A",
           "#19d3f3",
           "#FF6692",
           "#B6E880",
           "#FF97FF",
           "#FECB52"
          ],
          "font": {
           "color": "#2a3f5f"
          },
          "geo": {
           "bgcolor": "white",
           "lakecolor": "white",
           "landcolor": "#E5ECF6",
           "showlakes": true,
           "showland": true,
           "subunitcolor": "white"
          },
          "hoverlabel": {
           "align": "left"
          },
          "hovermode": "closest",
          "mapbox": {
           "style": "light"
          },
          "paper_bgcolor": "white",
          "plot_bgcolor": "#E5ECF6",
          "polar": {
           "angularaxis": {
            "gridcolor": "white",
            "linecolor": "white",
            "ticks": ""
           },
           "bgcolor": "#E5ECF6",
           "radialaxis": {
            "gridcolor": "white",
            "linecolor": "white",
            "ticks": ""
           }
          },
          "scene": {
           "xaxis": {
            "backgroundcolor": "#E5ECF6",
            "gridcolor": "white",
            "gridwidth": 2,
            "linecolor": "white",
            "showbackground": true,
            "ticks": "",
            "zerolinecolor": "white"
           },
           "yaxis": {
            "backgroundcolor": "#E5ECF6",
            "gridcolor": "white",
            "gridwidth": 2,
            "linecolor": "white",
            "showbackground": true,
            "ticks": "",
            "zerolinecolor": "white"
           },
           "zaxis": {
            "backgroundcolor": "#E5ECF6",
            "gridcolor": "white",
            "gridwidth": 2,
            "linecolor": "white",
            "showbackground": true,
            "ticks": "",
            "zerolinecolor": "white"
           }
          },
          "shapedefaults": {
           "line": {
            "color": "#2a3f5f"
           }
          },
          "ternary": {
           "aaxis": {
            "gridcolor": "white",
            "linecolor": "white",
            "ticks": ""
           },
           "baxis": {
            "gridcolor": "white",
            "linecolor": "white",
            "ticks": ""
           },
           "bgcolor": "#E5ECF6",
           "caxis": {
            "gridcolor": "white",
            "linecolor": "white",
            "ticks": ""
           }
          },
          "title": {
           "x": 0.05
          },
          "xaxis": {
           "automargin": true,
           "gridcolor": "white",
           "linecolor": "white",
           "ticks": "",
           "title": {
            "standoff": 15
           },
           "zerolinecolor": "white",
           "zerolinewidth": 2
          },
          "yaxis": {
           "automargin": true,
           "gridcolor": "white",
           "linecolor": "white",
           "ticks": "",
           "title": {
            "standoff": 15
           },
           "zerolinecolor": "white",
           "zerolinewidth": 2
          }
         }
        },
        "title": {
         "text": "Bills user res_cons in scenario bau - pie chart"
        },
        "xaxis": {
         "title": {
          "text": "mese"
         }
        }
       }
      }
     },
     "metadata": {},
     "output_type": "display_data"
    },
    {
     "name": "stdout",
     "output_type": "stream",
     "text": [
      "res_pros\n"
     ]
    },
    {
     "data": {
      "application/vnd.plotly.v1+json": {
       "config": {
        "plotlyServerURL": "https://plot.ly"
       },
       "data": [
        {
         "marker": {
          "color": "rgba(214, 39, 40, 0.7)"
         },
         "name": "me_cost",
         "stackgroup": "one",
         "type": "scatter",
         "x": [
          "2025-01",
          "2025-02",
          "2025-03",
          "2025-04",
          "2025-05",
          "2025-06",
          "2025-07",
          "2025-08",
          "2025-09",
          "2025-10",
          "2025-11",
          "2025-12",
          "2026-01",
          "2026-02",
          "2026-03",
          "2026-04",
          "2026-05",
          "2026-06",
          "2026-07",
          "2026-08",
          "2026-09",
          "2026-10",
          "2026-11",
          "2026-12",
          "2027-01",
          "2027-02",
          "2027-03",
          "2027-04",
          "2027-05",
          "2027-06",
          "2027-07",
          "2027-08",
          "2027-09",
          "2027-10",
          "2027-11",
          "2027-12",
          "2028-01",
          "2028-02",
          "2028-03",
          "2028-04",
          "2028-05",
          "2028-06",
          "2028-07",
          "2028-08",
          "2028-09",
          "2028-10",
          "2028-11",
          "2028-12",
          "2029-01",
          "2029-02",
          "2029-03",
          "2029-04",
          "2029-05",
          "2029-06",
          "2029-07",
          "2029-08",
          "2029-09",
          "2029-10",
          "2029-11",
          "2029-12",
          "2030-01",
          "2030-02",
          "2030-03",
          "2030-04",
          "2030-05",
          "2030-06",
          "2030-07",
          "2030-08",
          "2030-09",
          "2030-10",
          "2030-11",
          "2030-12",
          "2031-01",
          "2031-02",
          "2031-03",
          "2031-04",
          "2031-05",
          "2031-06",
          "2031-07",
          "2031-08",
          "2031-09",
          "2031-10",
          "2031-11",
          "2031-12",
          "2032-01",
          "2032-02",
          "2032-03",
          "2032-04",
          "2032-05",
          "2032-06",
          "2032-07",
          "2032-08",
          "2032-09",
          "2032-10",
          "2032-11",
          "2032-12",
          "2033-01",
          "2033-02",
          "2033-03",
          "2033-04",
          "2033-05",
          "2033-06",
          "2033-07",
          "2033-08",
          "2033-09",
          "2033-10",
          "2033-11",
          "2033-12",
          "2034-01",
          "2034-02",
          "2034-03",
          "2034-04",
          "2034-05",
          "2034-06",
          "2034-07",
          "2034-08",
          "2034-09",
          "2034-10",
          "2034-11",
          "2034-12",
          "2035-01",
          "2035-02",
          "2035-03",
          "2035-04",
          "2035-05",
          "2035-06",
          "2035-07",
          "2035-08",
          "2035-09",
          "2035-10",
          "2035-11",
          "2035-12",
          "2036-01",
          "2036-02",
          "2036-03",
          "2036-04",
          "2036-05",
          "2036-06",
          "2036-07",
          "2036-08",
          "2036-09",
          "2036-10",
          "2036-11",
          "2036-12",
          "2037-01",
          "2037-02",
          "2037-03",
          "2037-04",
          "2037-05",
          "2037-06",
          "2037-07",
          "2037-08",
          "2037-09",
          "2037-10",
          "2037-11",
          "2037-12",
          "2038-01",
          "2038-02",
          "2038-03",
          "2038-04",
          "2038-05",
          "2038-06",
          "2038-07",
          "2038-08",
          "2038-09",
          "2038-10",
          "2038-11",
          "2038-12",
          "2039-01",
          "2039-02",
          "2039-03",
          "2039-04",
          "2039-05",
          "2039-06",
          "2039-07",
          "2039-08",
          "2039-09",
          "2039-10",
          "2039-11",
          "2039-12",
          "2040-01",
          "2040-02",
          "2040-03",
          "2040-04",
          "2040-05",
          "2040-06",
          "2040-07",
          "2040-08",
          "2040-09",
          "2040-10",
          "2040-11",
          "2040-12",
          "2041-01",
          "2041-02",
          "2041-03",
          "2041-04",
          "2041-05",
          "2041-06",
          "2041-07",
          "2041-08",
          "2041-09",
          "2041-10",
          "2041-11",
          "2041-12",
          "2042-01",
          "2042-02",
          "2042-03",
          "2042-04",
          "2042-05",
          "2042-06",
          "2042-07",
          "2042-08",
          "2042-09",
          "2042-10",
          "2042-11",
          "2042-12",
          "2043-01",
          "2043-02",
          "2043-03",
          "2043-04",
          "2043-05",
          "2043-06",
          "2043-07",
          "2043-08",
          "2043-09",
          "2043-10",
          "2043-11",
          "2043-12",
          "2044-01",
          "2044-02",
          "2044-03",
          "2044-04",
          "2044-05",
          "2044-06",
          "2044-07",
          "2044-08",
          "2044-09",
          "2044-10",
          "2044-11",
          "2044-12",
          "2045-01",
          "2045-02",
          "2045-03",
          "2045-04",
          "2045-05",
          "2045-06",
          "2045-07",
          "2045-08",
          "2045-09",
          "2045-10",
          "2045-11",
          "2045-12",
          "2046-01",
          "2046-02",
          "2046-03",
          "2046-04",
          "2046-05",
          "2046-06",
          "2046-07",
          "2046-08",
          "2046-09",
          "2046-10",
          "2046-11",
          "2046-12",
          "2047-01",
          "2047-02",
          "2047-03",
          "2047-04",
          "2047-05",
          "2047-06",
          "2047-07",
          "2047-08",
          "2047-09",
          "2047-10",
          "2047-11",
          "2047-12",
          "2048-01",
          "2048-02",
          "2048-03",
          "2048-04",
          "2048-05",
          "2048-06",
          "2048-07",
          "2048-08",
          "2048-09",
          "2048-10",
          "2048-11",
          "2048-12",
          "2049-01",
          "2049-02",
          "2049-03",
          "2049-04",
          "2049-05",
          "2049-06",
          "2049-07",
          "2049-08",
          "2049-09",
          "2049-10",
          "2049-11",
          "2049-12"
         ],
         "y": [
          71.52452774602192,
          58.96022672625206,
          61.48578960802192,
          56.10560834949863,
          53.43437801122192,
          56.29430425689863,
          59.38234529362192,
          55.24682184442192,
          51.00326956509863,
          57.31121626222192,
          61.39501369929863,
          68.82917969062193,
          65.42579020684192,
          53.89434537429206,
          56.10890307586192,
          51.30841997637863,
          49.08578731906192,
          51.50581475967864,
          54.33613009960192,
          50.55243952036192,
          46.82168461755863,
          52.52930387554192,
          55.90089963099863,
          62.72525360236192,
          65.54075657836192,
          53.90164482645206,
          56.06170103812192,
          51.15990545307864,
          49.01311866586192,
          51.48334613349864,
          54.40420400836192,
          50.44561985884192,
          46.83212869977864,
          52.68280418536192,
          55.92550269519863,
          62.56531739164192,
          62.36129390197192,
          53.11771572399535,
          53.34052881721192,
          49.32849064785863,
          46.67699435677192,
          49.17322340715863,
          51.96588284308192,
          48.13412124370192,
          44.72953345359863,
          50.19202001806192,
          53.29323733089863,
          60.08331266215192,
          58.95128657410192,
          48.82610328681206,
          50.88786853714192,
          46.79089548489863,
          44.42252361682192,
          46.71678576921863,
          49.36732313362192,
          45.84054358018192,
          42.75770195481864,
          47.62478169298192,
          50.72228772681864,
          56.89415902162192,
          58.89051573826193,
          48.76300068153206,
          51.00531150850193,
          46.69274392281864,
          44.45069312962192,
          46.69929025689864,
          49.30126598818192,
          45.92245965442192,
          42.70640302713863,
          47.66824529602192,
          50.79073457385864,
          56.80791251842192,
          55.88284002007192,
          46.22505430485206,
          48.39241539982192,
          44.33107786749864,
          42.37110057172192,
          44.42832242919863,
          46.78354879762192,
          43.71621743767192,
          40.44701167434863,
          45.22842332572192,
          48.18187832814863,
          53.88514452742192,
          56.04853052362192,
          47.96779743762534,
          48.22134806767192,
          44.08504722549863,
          42.37475301337192,
          44.33752734624863,
          46.89677448877192,
          43.51195226227192,
          40.48103776644863,
          45.43378830697192,
          48.07290250404863,
          53.65498639207192,
          56.05738328182192,
          46.25508850905206,
          48.13026784987192,
          44.39835611424864,
          42.27221309017192,
          44.38456101864863,
          46.90929326647192,
          43.51583552737192,
          40.48110565569863,
          45.39515932372192,
          48.07878171309864,
          53.83525950652192,
          55.91879416687192,
          46.28980707150205,
          48.11470763377192,
          44.52517323324863,
          42.26287152937192,
          44.36411277654863,
          46.88225976712192,
          43.54248884692192,
          40.50853291269863,
          45.35184598222192,
          48.05965052244864,
          54.08449452112192,
          55.79748965497192,
          46.20768823470205,
          48.45126180172192,
          44.33813834949864,
          42.26763735472192,
          44.38189976004863,
          46.83595929862192,
          43.52295032077192,
          40.61851349769864,
          45.23131540777192,
          48.09419257284863,
          53.92761604222192,
          52.69488847186192,
          45.25935580887534,
          45.75279265120191,
          41.95700708841863,
          40.12367311516192,
          42.03897385329863,
          44.29620978346192,
          41.40991008718192,
          38.35717327083863,
          42.83136434140192,
          45.57292251153863,
          50.89553549644192,
          49.80680283571192,
          41.21880324933206,
          43.00265163472192,
          39.50133705159863,
          37.97084616031192,
          39.59194657059864,
          41.77992912943192,
          39.02993022778193,
          36.27449673060863,
          40.48309509808193,
          42.80886691437863,
          47.84187069511192,
          49.84889507590192,
          41.17700519589206,
          42.91191267355192,
          39.47360112480863,
          37.92054022606192,
          39.61857635520863,
          41.81785568524192,
          38.91009031330192,
          36.22858006266863,
          40.55265261325192,
          42.80527783602864,
          47.70130826596192,
          49.77927872338192,
          41.13657216897206,
          42.92683382551192,
          39.67476602445863,
          37.82277608530192,
          39.61837630821864,
          41.84443839997192,
          38.95085282938192,
          36.23448733260864,
          40.58447185213192,
          42.84049787373863,
          47.87284267615192,
          49.67871392476192,
          42.64841943654535,
          43.08157605601193,
          39.65128992180863,
          37.85916110254193,
          39.60919768161863,
          41.80300513810192,
          38.93295450751192,
          36.38565225222863,
          40.43647238194193,
          42.81703353855863,
          47.92206600316192,
          49.61239246384192,
          41.17994706339206,
          43.16318346046192,
          39.56522264622863,
          37.83905049631192,
          39.63359164692864,
          41.75509976773192,
          39.00334751305192,
          36.33732325293863,
          40.40481788764193,
          42.92916576018863,
          47.88411591241192,
          49.68745715497192,
          41.16729703314206,
          43.13444729872192,
          39.60817391172863,
          37.89274546192192,
          39.63407411319864,
          41.75831228704192,
          39.10805446111192,
          36.23387542416864,
          40.43323632769192,
          42.93887392293863,
          47.85027266869192,
          49.78655101984192,
          41.13338318460206,
          43.12914016975192,
          39.35850350073864,
          37.96805726992192,
          39.57786090900863,
          41.77604586433192,
          39.00901943359192,
          36.24180669894864,
          40.49934597415192,
          42.85430111604863,
          47.84833103614192,
          49.88752767991192,
          42.59593652034535,
          42.89297881432192,
          39.63996961566863,
          37.83624983845192,
          39.62305976127863,
          41.84141416018192,
          38.91924540496192,
          36.23479328682863,
          40.55903058199192,
          42.82259955186863,
          47.88671652328192,
          49.67591326690192,
          41.15583551736206,
          42.90805294339192,
          39.75198416259863,
          37.85605449046192,
          39.61517555637864,
          41.82266858047192,
          38.92342285681192,
          36.29453673201863,
          40.49155590901192,
          42.81404460117864,
          48.05900405155192,
          49.58415053584192,
          41.15747119569206,
          43.12994035771192,
          39.53579220375863,
          37.82432939134192,
          39.61530499854864,
          41.76035982682193,
          38.94488672209192,
          36.35998740015864,
          40.42219844083192,
          42.81416227587864,
          47.96788853134192,
          49.56275727538192,
          41.17562840190206,
          43.13398836739192,
          39.59091103323863,
          37.80632516224192,
          39.65125461939864,
          41.71145422150192,
          39.01317335050192,
          36.30264451884864,
          40.42446956254192,
          42.91819847814863,
          47.88708131485192,
          49.68275016697192,
          42.71310521913534,
          42.99000160447192,
          39.46650534039863,
          38.01127918723192,
          39.60272557311863,
          41.74802751826192,
          39.03003613501193,
          36.21901310955864,
          40.47544624258192,
          42.82913049771864,
          47.80199073928192,
          49.86786423754192,
          41.19013769241206,
          42.88816591909193,
          39.48756911169863,
          37.93872096721192,
          39.61623462867863,
          41.82222141661192,
          38.94028564132192,
          36.23105123136863,
          40.55845397596192,
          42.82016368557863,
          47.74926070621192
         ]
        },
        {
         "marker": {
          "color": "rgba(255, 160, 50, 0.7)"
         },
         "name": "transport_cost",
         "stackgroup": "one",
         "type": "scatter",
         "x": [
          "2025-01",
          "2025-02",
          "2025-03",
          "2025-04",
          "2025-05",
          "2025-06",
          "2025-07",
          "2025-08",
          "2025-09",
          "2025-10",
          "2025-11",
          "2025-12",
          "2026-01",
          "2026-02",
          "2026-03",
          "2026-04",
          "2026-05",
          "2026-06",
          "2026-07",
          "2026-08",
          "2026-09",
          "2026-10",
          "2026-11",
          "2026-12",
          "2027-01",
          "2027-02",
          "2027-03",
          "2027-04",
          "2027-05",
          "2027-06",
          "2027-07",
          "2027-08",
          "2027-09",
          "2027-10",
          "2027-11",
          "2027-12",
          "2028-01",
          "2028-02",
          "2028-03",
          "2028-04",
          "2028-05",
          "2028-06",
          "2028-07",
          "2028-08",
          "2028-09",
          "2028-10",
          "2028-11",
          "2028-12",
          "2029-01",
          "2029-02",
          "2029-03",
          "2029-04",
          "2029-05",
          "2029-06",
          "2029-07",
          "2029-08",
          "2029-09",
          "2029-10",
          "2029-11",
          "2029-12",
          "2030-01",
          "2030-02",
          "2030-03",
          "2030-04",
          "2030-05",
          "2030-06",
          "2030-07",
          "2030-08",
          "2030-09",
          "2030-10",
          "2030-11",
          "2030-12",
          "2031-01",
          "2031-02",
          "2031-03",
          "2031-04",
          "2031-05",
          "2031-06",
          "2031-07",
          "2031-08",
          "2031-09",
          "2031-10",
          "2031-11",
          "2031-12",
          "2032-01",
          "2032-02",
          "2032-03",
          "2032-04",
          "2032-05",
          "2032-06",
          "2032-07",
          "2032-08",
          "2032-09",
          "2032-10",
          "2032-11",
          "2032-12",
          "2033-01",
          "2033-02",
          "2033-03",
          "2033-04",
          "2033-05",
          "2033-06",
          "2033-07",
          "2033-08",
          "2033-09",
          "2033-10",
          "2033-11",
          "2033-12",
          "2034-01",
          "2034-02",
          "2034-03",
          "2034-04",
          "2034-05",
          "2034-06",
          "2034-07",
          "2034-08",
          "2034-09",
          "2034-10",
          "2034-11",
          "2034-12",
          "2035-01",
          "2035-02",
          "2035-03",
          "2035-04",
          "2035-05",
          "2035-06",
          "2035-07",
          "2035-08",
          "2035-09",
          "2035-10",
          "2035-11",
          "2035-12",
          "2036-01",
          "2036-02",
          "2036-03",
          "2036-04",
          "2036-05",
          "2036-06",
          "2036-07",
          "2036-08",
          "2036-09",
          "2036-10",
          "2036-11",
          "2036-12",
          "2037-01",
          "2037-02",
          "2037-03",
          "2037-04",
          "2037-05",
          "2037-06",
          "2037-07",
          "2037-08",
          "2037-09",
          "2037-10",
          "2037-11",
          "2037-12",
          "2038-01",
          "2038-02",
          "2038-03",
          "2038-04",
          "2038-05",
          "2038-06",
          "2038-07",
          "2038-08",
          "2038-09",
          "2038-10",
          "2038-11",
          "2038-12",
          "2039-01",
          "2039-02",
          "2039-03",
          "2039-04",
          "2039-05",
          "2039-06",
          "2039-07",
          "2039-08",
          "2039-09",
          "2039-10",
          "2039-11",
          "2039-12",
          "2040-01",
          "2040-02",
          "2040-03",
          "2040-04",
          "2040-05",
          "2040-06",
          "2040-07",
          "2040-08",
          "2040-09",
          "2040-10",
          "2040-11",
          "2040-12",
          "2041-01",
          "2041-02",
          "2041-03",
          "2041-04",
          "2041-05",
          "2041-06",
          "2041-07",
          "2041-08",
          "2041-09",
          "2041-10",
          "2041-11",
          "2041-12",
          "2042-01",
          "2042-02",
          "2042-03",
          "2042-04",
          "2042-05",
          "2042-06",
          "2042-07",
          "2042-08",
          "2042-09",
          "2042-10",
          "2042-11",
          "2042-12",
          "2043-01",
          "2043-02",
          "2043-03",
          "2043-04",
          "2043-05",
          "2043-06",
          "2043-07",
          "2043-08",
          "2043-09",
          "2043-10",
          "2043-11",
          "2043-12",
          "2044-01",
          "2044-02",
          "2044-03",
          "2044-04",
          "2044-05",
          "2044-06",
          "2044-07",
          "2044-08",
          "2044-09",
          "2044-10",
          "2044-11",
          "2044-12",
          "2045-01",
          "2045-02",
          "2045-03",
          "2045-04",
          "2045-05",
          "2045-06",
          "2045-07",
          "2045-08",
          "2045-09",
          "2045-10",
          "2045-11",
          "2045-12",
          "2046-01",
          "2046-02",
          "2046-03",
          "2046-04",
          "2046-05",
          "2046-06",
          "2046-07",
          "2046-08",
          "2046-09",
          "2046-10",
          "2046-11",
          "2046-12",
          "2047-01",
          "2047-02",
          "2047-03",
          "2047-04",
          "2047-05",
          "2047-06",
          "2047-07",
          "2047-08",
          "2047-09",
          "2047-10",
          "2047-11",
          "2047-12",
          "2048-01",
          "2048-02",
          "2048-03",
          "2048-04",
          "2048-05",
          "2048-06",
          "2048-07",
          "2048-08",
          "2048-09",
          "2048-10",
          "2048-11",
          "2048-12",
          "2049-01",
          "2049-02",
          "2049-03",
          "2049-04",
          "2049-05",
          "2049-06",
          "2049-07",
          "2049-08",
          "2049-09",
          "2049-10",
          "2049-11",
          "2049-12"
         ],
         "y": [
          16.92609293409041,
          14.94420860653973,
          16.31430205109041,
          15.58102494680685,
          15.82362482229041,
          15.59252464270685,
          16.18611183069041,
          15.93408059849041,
          15.27007308140685,
          16.05989100079041,
          15.90337721110685,
          16.76183032019041,
          17.12728360580541,
          15.10008956066973,
          16.46485130797041,
          15.72110068711685,
          15.96550655437041,
          15.73513549059185,
          16.33880684057541,
          16.06978578134541,
          15.40209302160185,
          16.21034118133041,
          16.04762679048185,
          16.93527498284541,
          17.13545773484541,
          15.10060855298973,
          16.46149523486541,
          15.71054127864185,
          15.96033980047041,
          15.73353796735685,
          16.34364690734541,
          16.06219088480541,
          15.40283559766685,
          16.22125508009541,
          16.04937607263185,
          16.92390349040541,
          17.32366874404041,
          15.79430355614329,
          16.61222427448041,
          15.89563116246685,
          16.08668850284041,
          15.88338563576685,
          16.50380949295041,
          16.20160834117041,
          15.53292327340685,
          16.36390950833041,
          16.20832050470685,
          17.14401024062041,
          17.30082458655041,
          15.25615167665973,
          16.62513729768041,
          15.88308586915685,
          16.08336315664041,
          15.87687572444685,
          16.49772071124041,
          16.20218845631041,
          15.54511782764685,
          16.35170160416041,
          16.21252330539685,
          17.12844422224041,
          17.29573219507041,
          15.25086389074973,
          16.63497862335041,
          15.87486109864685,
          16.08572366699041,
          15.87540965940685,
          16.49218534481041,
          16.20905274759041,
          15.54081915018685,
          16.35534370779041,
          16.21825892077685,
          17.12121705559041,
          17.30546429404041,
          15.25088452245973,
          16.63594710009041,
          15.87581986634685,
          16.09774345851041,
          15.88451188440685,
          16.49214165413041,
          16.21797414172041,
          15.52865008217685,
          16.35313975571041,
          16.22001625701685,
          17.12690412577041,
          17.32027422093041,
          15.80376865651329,
          16.62065657572041,
          15.85382889074685,
          16.09806992498041,
          15.87639634059685,
          16.50226211470041,
          16.19971629200041,
          15.53169143895685,
          16.37149590946041,
          16.21027566263685,
          17.10633188364041,
          17.51214934459041,
          15.40837618425973,
          16.77139256612541,
          16.02673106079185,
          16.22398111373541,
          16.02544196507185,
          16.65729744454541,
          16.34019258537541,
          15.66067989690685,
          16.51580777012041,
          16.37065190228685,
          17.30450089248041,
          17.49919875402541,
          15.41162049307473,
          16.76993852705541,
          16.03858160609185,
          16.22310818277541,
          16.02353115980185,
          16.65477127370041,
          16.34268322996041,
          15.66324286280685,
          16.51176031407041,
          16.36886417013185,
          17.32779089350041,
          17.48786333949541,
          15.40394682091473,
          16.80138814872041,
          16.02110395496685,
          16.22355352982041,
          16.02519328125185,
          16.65044468275041,
          16.34085743395541,
          15.67352010230685,
          16.50049722085541,
          16.37209198461185,
          17.31313123607041,
          17.67951311413041,
          16.11725778092329,
          16.95424650217041,
          16.16496787582685,
          16.36615141393041,
          16.17353124910685,
          16.80207186373041,
          16.50052938205041,
          15.78887982634685,
          16.64903400337041,
          16.54273603054685,
          17.49152800561041,
          17.70551966041041,
          15.56814549857973,
          16.93998348109041,
          16.15567102870685,
          16.37385421321041,
          16.16586552070685,
          16.80241476937041,
          16.49301193717041,
          15.79261868938685,
          16.65650775757041,
          16.52780176174685,
          17.48444481961041,
          17.71025546533041,
          15.56344279265973,
          16.92977442553041,
          16.15255045498685,
          16.36819428421041,
          16.16886164218685,
          16.80668189245041,
          16.47952872853041,
          15.78745259746685,
          16.66433368513041,
          16.52739795394685,
          17.46863011741041,
          17.70242291797041,
          15.55889366609973,
          16.93145320681041,
          16.17518355118685,
          16.35719482453041,
          16.16883913486685,
          16.80967271809041,
          16.48411492597041,
          15.78811722538685,
          16.66791367297041,
          16.53136056622685,
          17.48792948233041,
          17.69110835581041,
          16.11937082108329,
          16.94886328081041,
          16.17254225098685,
          16.36128850885041,
          16.16780644606685,
          16.80501105493041,
          16.48210118281041,
          15.80512481554685,
          16.65126222805041,
          16.52872058998685,
          17.49346760701041,
          17.68364651725041,
          15.56377378265973,
          16.95804494341041,
          16.16285880754685,
          16.35902586121041,
          16.17055101514685,
          16.79962121377041,
          16.49002111153041,
          15.79968731182685,
          16.64770077565041,
          16.54133660482685,
          17.48919783601041,
          17.69209205809041,
          15.56235052565973,
          16.95481183309041,
          16.16769126154685,
          16.36506709069041,
          16.17060529750685,
          16.79998265485041,
          16.50180170761041,
          15.78804837946685,
          16.65089813905041,
          16.54242887182685,
          17.48539012705041,
          17.70324112525041,
          15.55853487293973,
          16.95421472713041,
          16.13960080222685,
          16.37354043469041,
          16.16428074058685,
          16.80197786257041,
          16.49065926025041,
          15.78894072850685,
          16.65833614633041,
          16.53291357130685,
          17.48517167365041,
          17.71460202601041,
          16.11346595948329,
          16.92764417389041,
          16.17126860146685,
          16.35871075873041,
          16.16936607094685,
          16.80933246037041,
          16.48055876941041,
          15.78815164834685,
          16.66505127145041,
          16.52934682306685,
          17.48949043117041,
          17.69079325333041,
          15.56106098861973,
          16.92934016665041,
          16.18387137670685,
          16.36093898341041,
          16.16847901774685,
          16.80722339209041,
          16.48102877521041,
          15.79487339326685,
          16.65745968481041,
          16.52838430414685,
          17.50887452953041,
          17.68046901325041,
          15.56124501905973,
          16.95430475641041,
          16.15954758358685,
          16.35736958725041,
          16.16849358130685,
          16.80021302389041,
          16.48344367825041,
          15.80223725878685,
          16.64965626457041,
          16.52839754374685,
          17.49862310725041,
          17.67806205397041,
          15.56328788933973,
          16.95476019865041,
          16.16574901222685,
          16.35534392845041,
          16.17253827910685,
          16.79471064613041,
          16.49112661813041,
          15.79578560170685,
          16.64991178885041,
          16.54010267410685,
          17.48953147393041,
          17.69156247409041,
          16.12664862920329,
          16.93856022409041,
          16.15175210710685,
          16.37840333977041,
          16.16707826806685,
          16.79882551381041,
          16.49302385281041,
          15.78637621798685,
          16.65564718357041,
          16.53008162086685,
          17.47995791917041,
          17.71238968885041,
          15.56492033201973,
          16.92710267425041,
          16.15412199550685,
          16.37023980241041,
          16.16859817414685,
          16.80717308161041,
          16.48292600989041,
          15.78773062906685,
          16.66498639741041,
          16.52907276334685,
          17.47402525441041
         ]
        },
        {
         "marker": {
          "color": "rgba(31, 119, 180, 0.6)"
         },
         "name": "ogs_cost",
         "stackgroup": "one",
         "type": "scatter",
         "x": [
          "2025-01",
          "2025-02",
          "2025-03",
          "2025-04",
          "2025-05",
          "2025-06",
          "2025-07",
          "2025-08",
          "2025-09",
          "2025-10",
          "2025-11",
          "2025-12",
          "2026-01",
          "2026-02",
          "2026-03",
          "2026-04",
          "2026-05",
          "2026-06",
          "2026-07",
          "2026-08",
          "2026-09",
          "2026-10",
          "2026-11",
          "2026-12",
          "2027-01",
          "2027-02",
          "2027-03",
          "2027-04",
          "2027-05",
          "2027-06",
          "2027-07",
          "2027-08",
          "2027-09",
          "2027-10",
          "2027-11",
          "2027-12",
          "2028-01",
          "2028-02",
          "2028-03",
          "2028-04",
          "2028-05",
          "2028-06",
          "2028-07",
          "2028-08",
          "2028-09",
          "2028-10",
          "2028-11",
          "2028-12",
          "2029-01",
          "2029-02",
          "2029-03",
          "2029-04",
          "2029-05",
          "2029-06",
          "2029-07",
          "2029-08",
          "2029-09",
          "2029-10",
          "2029-11",
          "2029-12",
          "2030-01",
          "2030-02",
          "2030-03",
          "2030-04",
          "2030-05",
          "2030-06",
          "2030-07",
          "2030-08",
          "2030-09",
          "2030-10",
          "2030-11",
          "2030-12",
          "2031-01",
          "2031-02",
          "2031-03",
          "2031-04",
          "2031-05",
          "2031-06",
          "2031-07",
          "2031-08",
          "2031-09",
          "2031-10",
          "2031-11",
          "2031-12",
          "2032-01",
          "2032-02",
          "2032-03",
          "2032-04",
          "2032-05",
          "2032-06",
          "2032-07",
          "2032-08",
          "2032-09",
          "2032-10",
          "2032-11",
          "2032-12",
          "2033-01",
          "2033-02",
          "2033-03",
          "2033-04",
          "2033-05",
          "2033-06",
          "2033-07",
          "2033-08",
          "2033-09",
          "2033-10",
          "2033-11",
          "2033-12",
          "2034-01",
          "2034-02",
          "2034-03",
          "2034-04",
          "2034-05",
          "2034-06",
          "2034-07",
          "2034-08",
          "2034-09",
          "2034-10",
          "2034-11",
          "2034-12",
          "2035-01",
          "2035-02",
          "2035-03",
          "2035-04",
          "2035-05",
          "2035-06",
          "2035-07",
          "2035-08",
          "2035-09",
          "2035-10",
          "2035-11",
          "2035-12",
          "2036-01",
          "2036-02",
          "2036-03",
          "2036-04",
          "2036-05",
          "2036-06",
          "2036-07",
          "2036-08",
          "2036-09",
          "2036-10",
          "2036-11",
          "2036-12",
          "2037-01",
          "2037-02",
          "2037-03",
          "2037-04",
          "2037-05",
          "2037-06",
          "2037-07",
          "2037-08",
          "2037-09",
          "2037-10",
          "2037-11",
          "2037-12",
          "2038-01",
          "2038-02",
          "2038-03",
          "2038-04",
          "2038-05",
          "2038-06",
          "2038-07",
          "2038-08",
          "2038-09",
          "2038-10",
          "2038-11",
          "2038-12",
          "2039-01",
          "2039-02",
          "2039-03",
          "2039-04",
          "2039-05",
          "2039-06",
          "2039-07",
          "2039-08",
          "2039-09",
          "2039-10",
          "2039-11",
          "2039-12",
          "2040-01",
          "2040-02",
          "2040-03",
          "2040-04",
          "2040-05",
          "2040-06",
          "2040-07",
          "2040-08",
          "2040-09",
          "2040-10",
          "2040-11",
          "2040-12",
          "2041-01",
          "2041-02",
          "2041-03",
          "2041-04",
          "2041-05",
          "2041-06",
          "2041-07",
          "2041-08",
          "2041-09",
          "2041-10",
          "2041-11",
          "2041-12",
          "2042-01",
          "2042-02",
          "2042-03",
          "2042-04",
          "2042-05",
          "2042-06",
          "2042-07",
          "2042-08",
          "2042-09",
          "2042-10",
          "2042-11",
          "2042-12",
          "2043-01",
          "2043-02",
          "2043-03",
          "2043-04",
          "2043-05",
          "2043-06",
          "2043-07",
          "2043-08",
          "2043-09",
          "2043-10",
          "2043-11",
          "2043-12",
          "2044-01",
          "2044-02",
          "2044-03",
          "2044-04",
          "2044-05",
          "2044-06",
          "2044-07",
          "2044-08",
          "2044-09",
          "2044-10",
          "2044-11",
          "2044-12",
          "2045-01",
          "2045-02",
          "2045-03",
          "2045-04",
          "2045-05",
          "2045-06",
          "2045-07",
          "2045-08",
          "2045-09",
          "2045-10",
          "2045-11",
          "2045-12",
          "2046-01",
          "2046-02",
          "2046-03",
          "2046-04",
          "2046-05",
          "2046-06",
          "2046-07",
          "2046-08",
          "2046-09",
          "2046-10",
          "2046-11",
          "2046-12",
          "2047-01",
          "2047-02",
          "2047-03",
          "2047-04",
          "2047-05",
          "2047-06",
          "2047-07",
          "2047-08",
          "2047-09",
          "2047-10",
          "2047-11",
          "2047-12",
          "2048-01",
          "2048-02",
          "2048-03",
          "2048-04",
          "2048-05",
          "2048-06",
          "2048-07",
          "2048-08",
          "2048-09",
          "2048-10",
          "2048-11",
          "2048-12",
          "2049-01",
          "2049-02",
          "2049-03",
          "2049-04",
          "2049-05",
          "2049-06",
          "2049-07",
          "2049-08",
          "2049-09",
          "2049-10",
          "2049-11",
          "2049-12"
         ],
         "y": [
          14.67232115778,
          11.92776195402,
          12.31561484208,
          11.12090741487,
          10.42545571056,
          11.16520589448,
          11.82180770892,
          10.85094721854,
          9.92307618621,
          11.33558695071,
          12.36265461684,
          14.03955798597,
          15.17878870977857,
          12.31043771712857,
          12.6713664792,
          11.45778462604286,
          10.78125915805714,
          11.51090881450714,
          12.19426610136429,
          11.17597429009286,
          10.25028475797857,
          11.70800108845715,
          12.69374309775,
          14.45200245366429,
          15.91171672181143,
          12.88066691057143,
          13.24290914665715,
          11.94479151228,
          11.25839603252572,
          12.03585553594286,
          12.77624444466857,
          11.66171364354857,
          10.72631533248,
          12.29158804952572,
          13.28653510328572,
          15.07398825749143,
          16.60133706023572,
          13.90541505040286,
          13.79352143367,
          12.63535233048,
          11.71942062177857,
          12.58702363766572,
          13.36564725549429,
          12.17296792121143,
          11.20387465041429,
          12.81351229657715,
          13.86942478302858,
          15.89228951691858,
          16.51117938086572,
          13.45148935981715,
          13.84448449527,
          12.58584056659286,
          11.70629667546429,
          12.56133135736286,
          13.34161702240715,
          12.17525742717429,
          11.25200217324857,
          12.76533208636715,
          13.88601172685572,
          15.83085603683572,
          15.32973777135429,
          12.48480203340858,
          12.90562575022286,
          11.66933948343429,
          10.89056960922857,
          11.67135199277143,
          12.38175888387429,
          11.34302801374286,
          10.44383706092572,
          11.87972685334286,
          12.92916587603143,
          14.68949265488572,
          15.13263227496429,
          12.29571291111429,
          12.71358519042858,
          11.4959954538,
          10.76898994804286,
          11.52740077264286,
          12.19399861680001,
          11.20339803542143,
          10.24162878207857,
          11.6917678449,
          12.73961889302143,
          14.48747266088572,
          14.95250938368001,
          12.56813106459429,
          12.46359499364572,
          11.24090031579429,
          10.60447459556572,
          11.32118481270858,
          12.04240253266286,
          10.96608512283429,
          10.09488499611429,
          11.57719715629715,
          12.50897224896001,
          14.19140199085715,
          12.38487803048572,
          10.03364405094857,
          10.29743044718143,
          9.391374214624289,
          8.754828682898575,
          9.387741551618575,
          9.975911167530004,
          9.082311822681431,
          8.359844514685717,
          9.577194223551432,
          10.36054081599429,
          11.79972609919715,
          4.426778938230001,
          3.600244213830001,
          3.690062764598572,
          3.378690763187143,
          3.137641634301429,
          3.363486441338572,
          3.573718042808572,
          3.258439215145715,
          2.999514561685715,
          3.429244941068572,
          3.712350131678572,
          4.253618606065715,
          2.323856647671429,
          1.8907853085,
          1.958859961457143,
          1.768965484628572,
          1.651627123457143,
          1.771139766471429,
          1.878603798342857,
          1.713997238014286,
          1.584156250285714,
          1.798877207442857,
          1.9555847091,
          2.230952141314286,
          1.62727813512,
          1.37190134565,
          1.36859006889,
          1.23799439016,
          1.15882833627,
          1.2410487738,
          1.31431242492,
          1.20675826458,
          1.10385131967,
          1.25972688699,
          1.37273672052,
          1.56022761411,
          1.402760699151429,
          1.137401304788572,
          1.168716630085715,
          1.0582957638,
          0.995636374637143,
          1.0614124818,
          1.126658342134286,
          1.032065950834286,
          0.9473013404485716,
          1.08205082172,
          1.172065685245715,
          1.335172443094286,
          1.170173796942857,
          0.9466363056857144,
          0.9713295496928573,
          0.8811181035642859,
          0.8282549908285716,
          0.8852737275642859,
          0.9399690927000002,
          0.8566198230857145,
          0.7881016112357144,
          0.9037028406214287,
          0.9766185256928573,
          1.108614568757143,
          0.9345426303085717,
          0.7563818546742859,
          0.7774058041200002,
          0.709507495337143,
          0.6603621144685716,
          0.7082143946742859,
          0.7525848556285716,
          0.6862306040228573,
          0.630616751537143,
          0.7236919353085716,
          0.7821024687771431,
          0.8908251959828574,
          0.932236528834286,
          0.7843742998457145,
          0.7809542752628573,
          0.708969153137143,
          0.661196477417143,
          0.708003915017143,
          0.7516347288685716,
          0.6858201686914287,
          0.6340831895828573,
          0.7202980857600002,
          0.7815643964228574,
          0.8919539606057145,
          0.6980367587914286,
          0.5680323794828571,
          0.5871192414685714,
          0.5302466261871429,
          0.4955514833185715,
          0.5314224788871429,
          0.5629021402242858,
          0.5155757893157144,
          0.4747311999257143,
          0.5396791505914286,
          0.5881018171757143,
          0.6683127811328572,
          0.69932776815,
          0.5678148163757143,
          0.5866250190428571,
          0.53098532883,
          0.4964749628142857,
          0.5314307766428572,
          0.5629573911342857,
          0.51737660469,
          0.47295203967,
          0.5401679086414286,
          0.5882687842114286,
          0.6677307239271428,
          0.4673546974800001,
          0.3781543632428572,
          0.3910224958200001,
          0.3511275609600001,
          0.3318468148285715,
          0.3536426579400001,
          0.3755082561685715,
          0.3437822256942858,
          0.3153922977857144,
          0.3608699357057144,
          0.3912094989000001,
          0.4451315536800001,
          0.468512470517143,
          0.3915853939800001,
          0.3883147290000001,
          0.3543547807800001,
          0.3303355439057143,
          0.3541608966342858,
          0.3762577526400001,
          0.3427528992171429,
          0.3153118837628572,
          0.3615542644371429,
          0.3908460167228572,
          0.4455716720400001,
          0.4660861527771429,
          0.3784117960542858,
          0.3884875651800001,
          0.3556391114571429,
          0.3305626190742858,
          0.3540704983200001,
          0.3760428205285715,
          0.3428007968314287,
          0.3159968871085715,
          0.3607806167742858,
          0.3907479278057144,
          0.4475470775914287,
          0.465034024337143,
          0.3784305503314286,
          0.3910316705742858,
          0.3531603087257144,
          0.3301988670514286,
          0.3540719824714286,
          0.3753284040000001,
          0.3430468961228572,
          0.3167473280400001,
          0.3599853814542858,
          0.3907492770342858,
          0.4465023699085715,
          0.4647887345828572,
          0.3786387363000001,
          0.3910780840371429,
          0.3537922873885715,
          0.3299924350800001,
          0.3544841718000001,
          0.3747676646057144,
          0.3438298534628572,
          0.3160898489571429,
          0.3600114215657144,
          0.3919421300142858,
          0.4455758546485715,
          0.466164542957143,
          0.3929288208685715,
          0.3894271679571429,
          0.3523658829428572,
          0.3323423864828572,
          0.3539277499371429,
          0.3751870048457144,
          0.3440231979171429,
          0.3151309522114286,
          0.3605959073828572,
          0.3909208989085715,
          0.4446002274685715,
          0.4682870144228573,
          0.3788050961828572,
          0.3882595455514287,
          0.3526073948571429,
          0.3315104521457143,
          0.354082641377143,
          0.3760376934600001,
          0.3429941412857144,
          0.3152689782942858,
          0.3615476532171429,
          0.3908180876914287,
          0.4439956381457144
         ]
        },
        {
         "marker": {
          "color": "rgba(44, 160, 44, 0.7)"
         },
         "name": "duty_cost",
         "stackgroup": "one",
         "type": "scatter",
         "x": [
          "2025-01",
          "2025-02",
          "2025-03",
          "2025-04",
          "2025-05",
          "2025-06",
          "2025-07",
          "2025-08",
          "2025-09",
          "2025-10",
          "2025-11",
          "2025-12",
          "2026-01",
          "2026-02",
          "2026-03",
          "2026-04",
          "2026-05",
          "2026-06",
          "2026-07",
          "2026-08",
          "2026-09",
          "2026-10",
          "2026-11",
          "2026-12",
          "2027-01",
          "2027-02",
          "2027-03",
          "2027-04",
          "2027-05",
          "2027-06",
          "2027-07",
          "2027-08",
          "2027-09",
          "2027-10",
          "2027-11",
          "2027-12",
          "2028-01",
          "2028-02",
          "2028-03",
          "2028-04",
          "2028-05",
          "2028-06",
          "2028-07",
          "2028-08",
          "2028-09",
          "2028-10",
          "2028-11",
          "2028-12",
          "2029-01",
          "2029-02",
          "2029-03",
          "2029-04",
          "2029-05",
          "2029-06",
          "2029-07",
          "2029-08",
          "2029-09",
          "2029-10",
          "2029-11",
          "2029-12",
          "2030-01",
          "2030-02",
          "2030-03",
          "2030-04",
          "2030-05",
          "2030-06",
          "2030-07",
          "2030-08",
          "2030-09",
          "2030-10",
          "2030-11",
          "2030-12",
          "2031-01",
          "2031-02",
          "2031-03",
          "2031-04",
          "2031-05",
          "2031-06",
          "2031-07",
          "2031-08",
          "2031-09",
          "2031-10",
          "2031-11",
          "2031-12",
          "2032-01",
          "2032-02",
          "2032-03",
          "2032-04",
          "2032-05",
          "2032-06",
          "2032-07",
          "2032-08",
          "2032-09",
          "2032-10",
          "2032-11",
          "2032-12",
          "2033-01",
          "2033-02",
          "2033-03",
          "2033-04",
          "2033-05",
          "2033-06",
          "2033-07",
          "2033-08",
          "2033-09",
          "2033-10",
          "2033-11",
          "2033-12",
          "2034-01",
          "2034-02",
          "2034-03",
          "2034-04",
          "2034-05",
          "2034-06",
          "2034-07",
          "2034-08",
          "2034-09",
          "2034-10",
          "2034-11",
          "2034-12",
          "2035-01",
          "2035-02",
          "2035-03",
          "2035-04",
          "2035-05",
          "2035-06",
          "2035-07",
          "2035-08",
          "2035-09",
          "2035-10",
          "2035-11",
          "2035-12",
          "2036-01",
          "2036-02",
          "2036-03",
          "2036-04",
          "2036-05",
          "2036-06",
          "2036-07",
          "2036-08",
          "2036-09",
          "2036-10",
          "2036-11",
          "2036-12",
          "2037-01",
          "2037-02",
          "2037-03",
          "2037-04",
          "2037-05",
          "2037-06",
          "2037-07",
          "2037-08",
          "2037-09",
          "2037-10",
          "2037-11",
          "2037-12",
          "2038-01",
          "2038-02",
          "2038-03",
          "2038-04",
          "2038-05",
          "2038-06",
          "2038-07",
          "2038-08",
          "2038-09",
          "2038-10",
          "2038-11",
          "2038-12",
          "2039-01",
          "2039-02",
          "2039-03",
          "2039-04",
          "2039-05",
          "2039-06",
          "2039-07",
          "2039-08",
          "2039-09",
          "2039-10",
          "2039-11",
          "2039-12",
          "2040-01",
          "2040-02",
          "2040-03",
          "2040-04",
          "2040-05",
          "2040-06",
          "2040-07",
          "2040-08",
          "2040-09",
          "2040-10",
          "2040-11",
          "2040-12",
          "2041-01",
          "2041-02",
          "2041-03",
          "2041-04",
          "2041-05",
          "2041-06",
          "2041-07",
          "2041-08",
          "2041-09",
          "2041-10",
          "2041-11",
          "2041-12",
          "2042-01",
          "2042-02",
          "2042-03",
          "2042-04",
          "2042-05",
          "2042-06",
          "2042-07",
          "2042-08",
          "2042-09",
          "2042-10",
          "2042-11",
          "2042-12",
          "2043-01",
          "2043-02",
          "2043-03",
          "2043-04",
          "2043-05",
          "2043-06",
          "2043-07",
          "2043-08",
          "2043-09",
          "2043-10",
          "2043-11",
          "2043-12",
          "2044-01",
          "2044-02",
          "2044-03",
          "2044-04",
          "2044-05",
          "2044-06",
          "2044-07",
          "2044-08",
          "2044-09",
          "2044-10",
          "2044-11",
          "2044-12",
          "2045-01",
          "2045-02",
          "2045-03",
          "2045-04",
          "2045-05",
          "2045-06",
          "2045-07",
          "2045-08",
          "2045-09",
          "2045-10",
          "2045-11",
          "2045-12",
          "2046-01",
          "2046-02",
          "2046-03",
          "2046-04",
          "2046-05",
          "2046-06",
          "2046-07",
          "2046-08",
          "2046-09",
          "2046-10",
          "2046-11",
          "2046-12",
          "2047-01",
          "2047-02",
          "2047-03",
          "2047-04",
          "2047-05",
          "2047-06",
          "2047-07",
          "2047-08",
          "2047-09",
          "2047-10",
          "2047-11",
          "2047-12",
          "2048-01",
          "2048-02",
          "2048-03",
          "2048-04",
          "2048-05",
          "2048-06",
          "2048-07",
          "2048-08",
          "2048-09",
          "2048-10",
          "2048-11",
          "2048-12",
          "2049-01",
          "2049-02",
          "2049-03",
          "2049-04",
          "2049-05",
          "2049-06",
          "2049-07",
          "2049-08",
          "2049-09",
          "2049-10",
          "2049-11",
          "2049-12"
         ],
         "y": [
          7.83661658,
          6.37072322,
          6.57787888,
          5.93977507,
          5.56832816,
          5.963435280000001,
          6.31413212,
          5.795586940000001,
          5.300002810000001,
          6.05443731,
          6.60300324,
          7.498652170000001,
          7.857675370000001,
          6.37280254,
          6.55964624,
          5.931405580000001,
          5.58118544,
          5.95890663,
          6.312663430000001,
          5.78551949,
          5.30631341,
          6.060936320000001,
          6.57123005,
          7.48143649,
          7.873692490000001,
          6.373819500000001,
          6.553070050000001,
          5.910714530000001,
          5.571061240000001,
          5.9557763,
          6.322147490000001,
          5.77063737,
          5.30776848,
          6.082321990000001,
          6.57465775,
          7.459154170000001,
          7.86783135,
          6.590159580000001,
          6.537130110000001,
          5.988241840000001,
          5.55415655,
          5.96533754,
          6.33434874,
          5.769105120000001,
          5.3098251,
          6.07267676,
          6.5731028,
          7.53179417,
          7.82510314,
          6.37503168,
          6.56128291,
          5.964776850000001,
          5.547936750000001,
          5.953161260000001,
          6.32296015,
          5.77019018,
          5.33263406,
          6.04984283,
          6.58096381,
          7.502679150000001,
          7.815578220000001,
          6.36514129,
          6.579690340000001,
          5.94939306,
          5.552351900000001,
          5.9504191,
          6.31260668,
          5.783029300000001,
          5.32459372,
          6.0566551,
          6.59169183,
          7.4891613,
          7.833781350000001,
          6.36517988,
          6.581501800000001,
          5.95118636,
          5.57483398,
          5.967444100000001,
          6.31252496,
          5.799716070000001,
          5.30183243,
          6.05253278,
          6.594978790000001,
          7.499798520000001,
          7.86148216,
          6.607863310000001,
          6.55290207,
          5.91005396,
          5.575444610000001,
          5.95226461,
          6.33145449,
          5.76556619,
          5.30752105,
          6.08686653,
          6.576759770000001,
          7.46131975,
          7.8629622,
          6.370201120000001,
          6.537674910000001,
          5.962434210000001,
          5.55830157,
          5.960127890000001,
          6.33354743,
          5.76621541,
          5.3075324,
          6.080408380000001,
          6.57774268,
          7.491458540000001,
          7.839792310000001,
          6.376005510000001,
          6.53507349,
          5.983636010000001,
          5.556739810000001,
          5.95670927,
          6.32902786,
          5.77067142,
          5.3121178,
          6.07316708,
          6.574544250000001,
          7.533126660000001,
          7.819512130000001,
          6.362276550000001,
          6.591339980000001,
          5.95236676,
          5.557536580000001,
          5.95968297,
          6.321287160000001,
          5.767404890000001,
          5.3305048,
          6.05301629,
          6.58031913,
          7.50689908,
          7.822292880000001,
          6.594701850000001,
          6.57878461,
          5.951013840000001,
          5.570464230000001,
          5.9656962,
          6.31787308,
          5.800862420000001,
          5.30619083,
          6.055481510000001,
          6.59871748,
          7.49998239,
          7.86688249,
          6.37870908,
          6.554329900000001,
          5.935073900000001,
          5.58367109,
          5.952552900000001,
          6.31846101,
          5.787973360000001,
          5.312601310000001,
          6.06829566,
          6.573111880000001,
          7.487837890000001,
          7.87500228,
          6.37064604,
          6.53682593,
          5.929723510000001,
          5.573966840000001,
          5.95768991,
          6.32577722,
          5.76485568,
          5.303743770000001,
          6.08171363,
          6.57241953,
          7.46072274,
          7.86157296,
          6.36284632,
          6.53970429,
          5.96852916,
          5.555107680000001,
          5.95765132,
          6.33090515,
          5.772718960000001,
          5.30488331,
          6.087851710000001,
          6.579213640000001,
          7.49381253,
          7.84217354,
          6.598324770000001,
          6.569554790000001,
          5.96400051,
          5.562126520000001,
          5.955880720000001,
          6.32291248,
          5.76926629,
          5.33404373,
          6.05930192,
          6.57468726,
          7.503307940000001,
          7.829379820000001,
          6.37121354,
          6.58529724,
          5.94739773,
          5.55824709,
          5.96058643,
          6.31367131,
          5.78284543,
          5.32472084,
          6.05319562,
          6.59631809,
          7.49598719,
          7.84386015,
          6.36877329,
          6.5797539,
          5.95568323,
          5.5686051,
          5.9606795,
          6.314291020000001,
          5.803043890000001,
          5.304765270000001,
          6.058677670000001,
          6.59819084,
          7.48945867,
          7.862975820000001,
          6.36223115,
          6.57873013,
          5.90752064,
          5.5831331,
          5.94983571,
          6.317711910000001,
          5.78393957,
          5.306295250000001,
          6.071430530000001,
          6.581876350000001,
          7.48908412,
          7.88245469,
          6.588200570000001,
          6.5331735,
          5.96181677,
          5.557706830000001,
          5.95855478,
          6.33032176,
          5.766621740000001,
          5.30494233,
          6.082943970000001,
          6.57576097,
          7.49648886,
          7.841633280000001,
          6.366562310000001,
          6.536081370000001,
          5.9834249,
          5.56152724,
          5.95703388,
          6.32670565,
          5.76742759,
          5.31646712,
          6.06992779,
          6.57411068,
          7.52972393,
          7.82393182,
          6.366877840000001,
          6.57888449,
          5.94172046,
          5.55540732,
          5.95705885,
          6.314686,
          5.771568070000001,
          5.32909286,
          6.05654841,
          6.57413338,
          7.51214732,
          7.819804960000001,
          6.370380450000001,
          6.579665370000001,
          5.95235314,
          5.551934220000001,
          5.963993700000001,
          6.30525188,
          5.78474088,
          5.31803115,
          6.056986520000001,
          6.59420245,
          7.496559230000001,
          7.84295215,
          6.61080296,
          6.551889650000001,
          5.928354700000001,
          5.591470810000001,
          5.954632220000001,
          6.31230704,
          5.787993790000001,
          5.301898260000001,
          6.066820160000001,
          6.57702082,
          7.48014486,
          7.878661520000001,
          6.373179360000001,
          6.53224507,
          5.932418,
          5.577473990000001,
          5.95723818,
          6.32661939,
          5.7706805,
          5.304220470000001,
          6.082832740000001,
          6.57529108,
          7.46997299
         ]
        },
        {
         "marker": {
          "color": "rgba(148, 103, 189, 0.7)"
         },
         "name": "vat_cost",
         "stackgroup": "one",
         "type": "scatter",
         "x": [
          "2025-01",
          "2025-02",
          "2025-03",
          "2025-04",
          "2025-05",
          "2025-06",
          "2025-07",
          "2025-08",
          "2025-09",
          "2025-10",
          "2025-11",
          "2025-12",
          "2026-01",
          "2026-02",
          "2026-03",
          "2026-04",
          "2026-05",
          "2026-06",
          "2026-07",
          "2026-08",
          "2026-09",
          "2026-10",
          "2026-11",
          "2026-12",
          "2027-01",
          "2027-02",
          "2027-03",
          "2027-04",
          "2027-05",
          "2027-06",
          "2027-07",
          "2027-08",
          "2027-09",
          "2027-10",
          "2027-11",
          "2027-12",
          "2028-01",
          "2028-02",
          "2028-03",
          "2028-04",
          "2028-05",
          "2028-06",
          "2028-07",
          "2028-08",
          "2028-09",
          "2028-10",
          "2028-11",
          "2028-12",
          "2029-01",
          "2029-02",
          "2029-03",
          "2029-04",
          "2029-05",
          "2029-06",
          "2029-07",
          "2029-08",
          "2029-09",
          "2029-10",
          "2029-11",
          "2029-12",
          "2030-01",
          "2030-02",
          "2030-03",
          "2030-04",
          "2030-05",
          "2030-06",
          "2030-07",
          "2030-08",
          "2030-09",
          "2030-10",
          "2030-11",
          "2030-12",
          "2031-01",
          "2031-02",
          "2031-03",
          "2031-04",
          "2031-05",
          "2031-06",
          "2031-07",
          "2031-08",
          "2031-09",
          "2031-10",
          "2031-11",
          "2031-12",
          "2032-01",
          "2032-02",
          "2032-03",
          "2032-04",
          "2032-05",
          "2032-06",
          "2032-07",
          "2032-08",
          "2032-09",
          "2032-10",
          "2032-11",
          "2032-12",
          "2033-01",
          "2033-02",
          "2033-03",
          "2033-04",
          "2033-05",
          "2033-06",
          "2033-07",
          "2033-08",
          "2033-09",
          "2033-10",
          "2033-11",
          "2033-12",
          "2034-01",
          "2034-02",
          "2034-03",
          "2034-04",
          "2034-05",
          "2034-06",
          "2034-07",
          "2034-08",
          "2034-09",
          "2034-10",
          "2034-11",
          "2034-12",
          "2035-01",
          "2035-02",
          "2035-03",
          "2035-04",
          "2035-05",
          "2035-06",
          "2035-07",
          "2035-08",
          "2035-09",
          "2035-10",
          "2035-11",
          "2035-12",
          "2036-01",
          "2036-02",
          "2036-03",
          "2036-04",
          "2036-05",
          "2036-06",
          "2036-07",
          "2036-08",
          "2036-09",
          "2036-10",
          "2036-11",
          "2036-12",
          "2037-01",
          "2037-02",
          "2037-03",
          "2037-04",
          "2037-05",
          "2037-06",
          "2037-07",
          "2037-08",
          "2037-09",
          "2037-10",
          "2037-11",
          "2037-12",
          "2038-01",
          "2038-02",
          "2038-03",
          "2038-04",
          "2038-05",
          "2038-06",
          "2038-07",
          "2038-08",
          "2038-09",
          "2038-10",
          "2038-11",
          "2038-12",
          "2039-01",
          "2039-02",
          "2039-03",
          "2039-04",
          "2039-05",
          "2039-06",
          "2039-07",
          "2039-08",
          "2039-09",
          "2039-10",
          "2039-11",
          "2039-12",
          "2040-01",
          "2040-02",
          "2040-03",
          "2040-04",
          "2040-05",
          "2040-06",
          "2040-07",
          "2040-08",
          "2040-09",
          "2040-10",
          "2040-11",
          "2040-12",
          "2041-01",
          "2041-02",
          "2041-03",
          "2041-04",
          "2041-05",
          "2041-06",
          "2041-07",
          "2041-08",
          "2041-09",
          "2041-10",
          "2041-11",
          "2041-12",
          "2042-01",
          "2042-02",
          "2042-03",
          "2042-04",
          "2042-05",
          "2042-06",
          "2042-07",
          "2042-08",
          "2042-09",
          "2042-10",
          "2042-11",
          "2042-12",
          "2043-01",
          "2043-02",
          "2043-03",
          "2043-04",
          "2043-05",
          "2043-06",
          "2043-07",
          "2043-08",
          "2043-09",
          "2043-10",
          "2043-11",
          "2043-12",
          "2044-01",
          "2044-02",
          "2044-03",
          "2044-04",
          "2044-05",
          "2044-06",
          "2044-07",
          "2044-08",
          "2044-09",
          "2044-10",
          "2044-11",
          "2044-12",
          "2045-01",
          "2045-02",
          "2045-03",
          "2045-04",
          "2045-05",
          "2045-06",
          "2045-07",
          "2045-08",
          "2045-09",
          "2045-10",
          "2045-11",
          "2045-12",
          "2046-01",
          "2046-02",
          "2046-03",
          "2046-04",
          "2046-05",
          "2046-06",
          "2046-07",
          "2046-08",
          "2046-09",
          "2046-10",
          "2046-11",
          "2046-12",
          "2047-01",
          "2047-02",
          "2047-03",
          "2047-04",
          "2047-05",
          "2047-06",
          "2047-07",
          "2047-08",
          "2047-09",
          "2047-10",
          "2047-11",
          "2047-12",
          "2048-01",
          "2048-02",
          "2048-03",
          "2048-04",
          "2048-05",
          "2048-06",
          "2048-07",
          "2048-08",
          "2048-09",
          "2048-10",
          "2048-11",
          "2048-12",
          "2049-01",
          "2049-02",
          "2049-03",
          "2049-04",
          "2049-05",
          "2049-06",
          "2049-07",
          "2049-08",
          "2049-09",
          "2049-10",
          "2049-11",
          "2049-12"
         ],
         "y": [
          11.09595584178923,
          9.220292050681179,
          9.669358538119234,
          8.874731578117549,
          8.525178670407234,
          8.90154700740855,
          9.370439695323233,
          8.782743660145234,
          8.14964216427155,
          9.076113152372233,
          9.62640487672455,
          10.71292201667823,
          10.55895378924259,
          8.767767519209036,
          9.180476710303234,
          8.441871086953835,
          8.141373847148948,
          8.471076569477763,
          8.918186647154162,
          8.35837190818002,
          7.778037580713907,
          8.650858246532948,
          9.12134995692305,
          10.15939675288716,
          10.64616235250188,
          8.825673979001323,
          9.231917546964448,
          8.47259527740005,
          8.180291573885805,
          8.520851593679835,
          8.984624285037592,
          8.39401617571959,
          7.826904810992549,
          8.727796930498306,
          9.18360716211162,
          10.20223633095388,
          10.41541310562481,
          8.940759391054149,
          9.028340463536233,
          8.38477159808055,
          8.003726003139091,
          8.36089702205912,
          8.816968833152663,
          8.227780262608377,
          7.677615647741978,
          8.544211858296949,
          8.994408541863406,
          10.06514065896909,
          10.05883936815181,
          8.390877600328894,
          8.791877324009235,
          8.122459877064834,
          7.776012019892663,
          8.110815411102834,
          8.552962101726948,
          7.998817964366663,
          7.488745601571407,
          8.279165821350949,
          8.740178656907121,
          9.735613843069807,
          9.933156392468662,
          8.286380789569037,
          8.712560622207521,
          8.018633756489978,
          7.697933830584091,
          8.019647100907692,
          8.448781689686664,
          7.92575697157552,
          7.401565295825121,
          8.19599709571552,
          8.652985120066692,
          9.610778352889806,
          9.615471793907663,
          8.013683161842607,
          8.432344949034091,
          7.765407954764549,
          7.48126679582752,
          7.780767918624835,
          8.178221402855234,
          7.693730568481377,
          7.151912296860406,
          7.932586370633234,
          8.373649226818692,
          9.299931983407806,
          9.618279628823235,
          8.294756046873292,
          8.385850170703806,
          7.708983039203978,
          7.465274214391806,
          7.748737310955407,
          8.17728936261352,
          7.644331986710663,
          7.141513525151978,
          7.946934790272948,
          8.336891018564549,
          9.24140400165695,
          9.381737285689805,
          7.806730986426036,
          8.173676577317877,
          7.577889559966478,
          7.280932445680591,
          7.575787242533906,
          7.987604930854734,
          7.470455534542877,
          6.98091624672912,
          7.756856969739377,
          8.138771711137977,
          9.043094503819948,
          8.568456416912733,
          7.167767728840679,
          7.510978241542591,
          6.992608161252763,
          6.718036115644876,
          6.970783964768906,
          7.343977694363091,
          6.891428271202805,
          6.44834081371912,
          7.13660183173609,
          7.471540907425906,
          8.319903068068806,
          8.342872177213877,
          6.986469691411679,
          7.380284989189948,
          6.808057454909406,
          6.570035458799948,
          6.813791577777192,
          7.16862949397152,
          6.734520988274162,
          6.32066946502912,
          6.95837061260702,
          7.300218839656049,
          8.097859849960662,
          7.982397260111234,
          6.934321678544864,
          7.065441383226234,
          6.531098319440549,
          6.321911709536233,
          6.541925007620549,
          6.873046715211234,
          6.491806015381234,
          6.055609524685549,
          6.679560674176233,
          7.008711274260548,
          7.744727350616233,
          7.678196568527377,
          6.430305913270036,
          6.766568164589805,
          6.265037774410549,
          6.092400783815948,
          6.277177747310549,
          6.602746325093662,
          6.234298147578662,
          5.832701807044406,
          6.428994933737234,
          6.70818462413712,
          7.414932584781663,
          7.66043266181752,
          6.405773033423751,
          6.734984257877519,
          6.243699319335978,
          6.069095634110091,
          6.263040163495978,
          6.589028389039234,
          6.201109454491805,
          5.81078780413712,
          6.420240276900377,
          6.688171384566835,
          7.373927569212948,
          7.627781723166091,
          6.381469400974607,
          6.717539712644234,
          6.252798623098263,
          6.039544070430091,
          6.245308115775978,
          6.573760112369091,
          6.189391731937519,
          5.795810461953264,
          6.406392917041091,
          6.673317454874264,
          7.37454098844652,
          7.614423234940663,
          6.615048932747436,
          6.73809484020852,
          6.249680183593263,
          6.044377260880948,
          6.244088876270263,
          6.568256340190091,
          6.187014214901376,
          5.815890398735834,
          6.386733461575234,
          6.670200578496835,
          7.381079551077805,
          7.582345555988376,
          6.368296676553465,
          6.729364488534091,
          6.220572580996263,
          6.025187493084091,
          6.229615157096263,
          6.543129443172663,
          6.179178984389806,
          5.79364626046912,
          6.364539343388377,
          6.66549222721912,
          7.353761371955519,
          7.592273713121234,
          6.366623566517751,
          6.725563805085519,
          6.226253373210549,
          6.032289261542663,
          6.229678968734834,
          6.543554335302662,
          6.193027666341234,
          5.779964111330549,
          6.368298004538377,
          6.666776241897692,
          7.349285218966948,
          7.582012266257234,
          6.343230357078465,
          6.705310752270234,
          6.175675250392548,
          6.025657761944091,
          6.204562001753549,
          6.527124389307091,
          6.162740048953663,
          5.76524349752412,
          6.358998258618805,
          6.636030053625549,
          7.326771838347234,
          7.595309686643948,
          6.568918844380864,
          6.674211121721234,
          6.212740976791549,
          6.008300297108805,
          6.210514150885977,
          6.535732613319234,
          6.150917881358948,
          5.764319914893835,
          6.366858008787948,
          6.631855336165835,
          7.331826748649234,
          7.567442595300948,
          6.346187061203607,
          6.676196204522234,
          6.227491955076263,
          6.010908333294663,
          6.209475895244549,
          6.533264044309091,
          6.151468001885377,
          5.772187413239406,
          6.357972400059662,
          6.630728751313121,
          7.354514958867377,
          7.555358539342948,
          6.346402460508322,
          6.705416127469662,
          6.19902205560712,
          6.006730516564376,
          6.209492941232692,
          6.525058725471234,
          6.154294536646519,
          5.780806484698549,
          6.348838849685662,
          6.630744247665977,
          7.342516132850091,
          7.55254130239352,
          6.348793547754179,
          6.705949202007948,
          6.206280547285406,
          6.004359574577234,
          6.214227077030549,
          6.518618441223805,
          6.163287070209519,
          5.773255111951263,
          6.349137929295805,
          6.644444573226977,
          7.331874787343091,
          7.568342933401948,
          6.584348562920721,
          6.686987864651948,
          6.189897803044834,
          6.031349572348519,
          6.207836381112263,
          6.523434707691806,
          6.165507697573948,
          5.762241853975691,
          6.35585094935352,
          6.632715383749406,
          7.320669374592091,
          7.59272024608152,
          6.350704248061465,
          6.673577320889376,
          6.192671650206263,
          6.021794521176806,
          6.209615362420263,
          6.533205158168234,
          6.153688629249805,
          5.763827130872977,
          6.366782076658948,
          6.631534561661692,
          7.313725458876806
         ]
        }
       ],
       "layout": {
        "plot_bgcolor": "white",
        "template": {
         "data": {
          "bar": [
           {
            "error_x": {
             "color": "#2a3f5f"
            },
            "error_y": {
             "color": "#2a3f5f"
            },
            "marker": {
             "line": {
              "color": "#E5ECF6",
              "width": 0.5
             },
             "pattern": {
              "fillmode": "overlay",
              "size": 10,
              "solidity": 0.2
             }
            },
            "type": "bar"
           }
          ],
          "barpolar": [
           {
            "marker": {
             "line": {
              "color": "#E5ECF6",
              "width": 0.5
             },
             "pattern": {
              "fillmode": "overlay",
              "size": 10,
              "solidity": 0.2
             }
            },
            "type": "barpolar"
           }
          ],
          "carpet": [
           {
            "aaxis": {
             "endlinecolor": "#2a3f5f",
             "gridcolor": "white",
             "linecolor": "white",
             "minorgridcolor": "white",
             "startlinecolor": "#2a3f5f"
            },
            "baxis": {
             "endlinecolor": "#2a3f5f",
             "gridcolor": "white",
             "linecolor": "white",
             "minorgridcolor": "white",
             "startlinecolor": "#2a3f5f"
            },
            "type": "carpet"
           }
          ],
          "choropleth": [
           {
            "colorbar": {
             "outlinewidth": 0,
             "ticks": ""
            },
            "type": "choropleth"
           }
          ],
          "contour": [
           {
            "colorbar": {
             "outlinewidth": 0,
             "ticks": ""
            },
            "colorscale": [
             [
              0,
              "#0d0887"
             ],
             [
              0.1111111111111111,
              "#46039f"
             ],
             [
              0.2222222222222222,
              "#7201a8"
             ],
             [
              0.3333333333333333,
              "#9c179e"
             ],
             [
              0.4444444444444444,
              "#bd3786"
             ],
             [
              0.5555555555555556,
              "#d8576b"
             ],
             [
              0.6666666666666666,
              "#ed7953"
             ],
             [
              0.7777777777777778,
              "#fb9f3a"
             ],
             [
              0.8888888888888888,
              "#fdca26"
             ],
             [
              1,
              "#f0f921"
             ]
            ],
            "type": "contour"
           }
          ],
          "contourcarpet": [
           {
            "colorbar": {
             "outlinewidth": 0,
             "ticks": ""
            },
            "type": "contourcarpet"
           }
          ],
          "heatmap": [
           {
            "colorbar": {
             "outlinewidth": 0,
             "ticks": ""
            },
            "colorscale": [
             [
              0,
              "#0d0887"
             ],
             [
              0.1111111111111111,
              "#46039f"
             ],
             [
              0.2222222222222222,
              "#7201a8"
             ],
             [
              0.3333333333333333,
              "#9c179e"
             ],
             [
              0.4444444444444444,
              "#bd3786"
             ],
             [
              0.5555555555555556,
              "#d8576b"
             ],
             [
              0.6666666666666666,
              "#ed7953"
             ],
             [
              0.7777777777777778,
              "#fb9f3a"
             ],
             [
              0.8888888888888888,
              "#fdca26"
             ],
             [
              1,
              "#f0f921"
             ]
            ],
            "type": "heatmap"
           }
          ],
          "heatmapgl": [
           {
            "colorbar": {
             "outlinewidth": 0,
             "ticks": ""
            },
            "colorscale": [
             [
              0,
              "#0d0887"
             ],
             [
              0.1111111111111111,
              "#46039f"
             ],
             [
              0.2222222222222222,
              "#7201a8"
             ],
             [
              0.3333333333333333,
              "#9c179e"
             ],
             [
              0.4444444444444444,
              "#bd3786"
             ],
             [
              0.5555555555555556,
              "#d8576b"
             ],
             [
              0.6666666666666666,
              "#ed7953"
             ],
             [
              0.7777777777777778,
              "#fb9f3a"
             ],
             [
              0.8888888888888888,
              "#fdca26"
             ],
             [
              1,
              "#f0f921"
             ]
            ],
            "type": "heatmapgl"
           }
          ],
          "histogram": [
           {
            "marker": {
             "pattern": {
              "fillmode": "overlay",
              "size": 10,
              "solidity": 0.2
             }
            },
            "type": "histogram"
           }
          ],
          "histogram2d": [
           {
            "colorbar": {
             "outlinewidth": 0,
             "ticks": ""
            },
            "colorscale": [
             [
              0,
              "#0d0887"
             ],
             [
              0.1111111111111111,
              "#46039f"
             ],
             [
              0.2222222222222222,
              "#7201a8"
             ],
             [
              0.3333333333333333,
              "#9c179e"
             ],
             [
              0.4444444444444444,
              "#bd3786"
             ],
             [
              0.5555555555555556,
              "#d8576b"
             ],
             [
              0.6666666666666666,
              "#ed7953"
             ],
             [
              0.7777777777777778,
              "#fb9f3a"
             ],
             [
              0.8888888888888888,
              "#fdca26"
             ],
             [
              1,
              "#f0f921"
             ]
            ],
            "type": "histogram2d"
           }
          ],
          "histogram2dcontour": [
           {
            "colorbar": {
             "outlinewidth": 0,
             "ticks": ""
            },
            "colorscale": [
             [
              0,
              "#0d0887"
             ],
             [
              0.1111111111111111,
              "#46039f"
             ],
             [
              0.2222222222222222,
              "#7201a8"
             ],
             [
              0.3333333333333333,
              "#9c179e"
             ],
             [
              0.4444444444444444,
              "#bd3786"
             ],
             [
              0.5555555555555556,
              "#d8576b"
             ],
             [
              0.6666666666666666,
              "#ed7953"
             ],
             [
              0.7777777777777778,
              "#fb9f3a"
             ],
             [
              0.8888888888888888,
              "#fdca26"
             ],
             [
              1,
              "#f0f921"
             ]
            ],
            "type": "histogram2dcontour"
           }
          ],
          "mesh3d": [
           {
            "colorbar": {
             "outlinewidth": 0,
             "ticks": ""
            },
            "type": "mesh3d"
           }
          ],
          "parcoords": [
           {
            "line": {
             "colorbar": {
              "outlinewidth": 0,
              "ticks": ""
             }
            },
            "type": "parcoords"
           }
          ],
          "pie": [
           {
            "automargin": true,
            "type": "pie"
           }
          ],
          "scatter": [
           {
            "fillpattern": {
             "fillmode": "overlay",
             "size": 10,
             "solidity": 0.2
            },
            "type": "scatter"
           }
          ],
          "scatter3d": [
           {
            "line": {
             "colorbar": {
              "outlinewidth": 0,
              "ticks": ""
             }
            },
            "marker": {
             "colorbar": {
              "outlinewidth": 0,
              "ticks": ""
             }
            },
            "type": "scatter3d"
           }
          ],
          "scattercarpet": [
           {
            "marker": {
             "colorbar": {
              "outlinewidth": 0,
              "ticks": ""
             }
            },
            "type": "scattercarpet"
           }
          ],
          "scattergeo": [
           {
            "marker": {
             "colorbar": {
              "outlinewidth": 0,
              "ticks": ""
             }
            },
            "type": "scattergeo"
           }
          ],
          "scattergl": [
           {
            "marker": {
             "colorbar": {
              "outlinewidth": 0,
              "ticks": ""
             }
            },
            "type": "scattergl"
           }
          ],
          "scattermapbox": [
           {
            "marker": {
             "colorbar": {
              "outlinewidth": 0,
              "ticks": ""
             }
            },
            "type": "scattermapbox"
           }
          ],
          "scatterpolar": [
           {
            "marker": {
             "colorbar": {
              "outlinewidth": 0,
              "ticks": ""
             }
            },
            "type": "scatterpolar"
           }
          ],
          "scatterpolargl": [
           {
            "marker": {
             "colorbar": {
              "outlinewidth": 0,
              "ticks": ""
             }
            },
            "type": "scatterpolargl"
           }
          ],
          "scatterternary": [
           {
            "marker": {
             "colorbar": {
              "outlinewidth": 0,
              "ticks": ""
             }
            },
            "type": "scatterternary"
           }
          ],
          "surface": [
           {
            "colorbar": {
             "outlinewidth": 0,
             "ticks": ""
            },
            "colorscale": [
             [
              0,
              "#0d0887"
             ],
             [
              0.1111111111111111,
              "#46039f"
             ],
             [
              0.2222222222222222,
              "#7201a8"
             ],
             [
              0.3333333333333333,
              "#9c179e"
             ],
             [
              0.4444444444444444,
              "#bd3786"
             ],
             [
              0.5555555555555556,
              "#d8576b"
             ],
             [
              0.6666666666666666,
              "#ed7953"
             ],
             [
              0.7777777777777778,
              "#fb9f3a"
             ],
             [
              0.8888888888888888,
              "#fdca26"
             ],
             [
              1,
              "#f0f921"
             ]
            ],
            "type": "surface"
           }
          ],
          "table": [
           {
            "cells": {
             "fill": {
              "color": "#EBF0F8"
             },
             "line": {
              "color": "white"
             }
            },
            "header": {
             "fill": {
              "color": "#C8D4E3"
             },
             "line": {
              "color": "white"
             }
            },
            "type": "table"
           }
          ]
         },
         "layout": {
          "annotationdefaults": {
           "arrowcolor": "#2a3f5f",
           "arrowhead": 0,
           "arrowwidth": 1
          },
          "autotypenumbers": "strict",
          "coloraxis": {
           "colorbar": {
            "outlinewidth": 0,
            "ticks": ""
           }
          },
          "colorscale": {
           "diverging": [
            [
             0,
             "#8e0152"
            ],
            [
             0.1,
             "#c51b7d"
            ],
            [
             0.2,
             "#de77ae"
            ],
            [
             0.3,
             "#f1b6da"
            ],
            [
             0.4,
             "#fde0ef"
            ],
            [
             0.5,
             "#f7f7f7"
            ],
            [
             0.6,
             "#e6f5d0"
            ],
            [
             0.7,
             "#b8e186"
            ],
            [
             0.8,
             "#7fbc41"
            ],
            [
             0.9,
             "#4d9221"
            ],
            [
             1,
             "#276419"
            ]
           ],
           "sequential": [
            [
             0,
             "#0d0887"
            ],
            [
             0.1111111111111111,
             "#46039f"
            ],
            [
             0.2222222222222222,
             "#7201a8"
            ],
            [
             0.3333333333333333,
             "#9c179e"
            ],
            [
             0.4444444444444444,
             "#bd3786"
            ],
            [
             0.5555555555555556,
             "#d8576b"
            ],
            [
             0.6666666666666666,
             "#ed7953"
            ],
            [
             0.7777777777777778,
             "#fb9f3a"
            ],
            [
             0.8888888888888888,
             "#fdca26"
            ],
            [
             1,
             "#f0f921"
            ]
           ],
           "sequentialminus": [
            [
             0,
             "#0d0887"
            ],
            [
             0.1111111111111111,
             "#46039f"
            ],
            [
             0.2222222222222222,
             "#7201a8"
            ],
            [
             0.3333333333333333,
             "#9c179e"
            ],
            [
             0.4444444444444444,
             "#bd3786"
            ],
            [
             0.5555555555555556,
             "#d8576b"
            ],
            [
             0.6666666666666666,
             "#ed7953"
            ],
            [
             0.7777777777777778,
             "#fb9f3a"
            ],
            [
             0.8888888888888888,
             "#fdca26"
            ],
            [
             1,
             "#f0f921"
            ]
           ]
          },
          "colorway": [
           "#636efa",
           "#EF553B",
           "#00cc96",
           "#ab63fa",
           "#FFA15A",
           "#19d3f3",
           "#FF6692",
           "#B6E880",
           "#FF97FF",
           "#FECB52"
          ],
          "font": {
           "color": "#2a3f5f"
          },
          "geo": {
           "bgcolor": "white",
           "lakecolor": "white",
           "landcolor": "#E5ECF6",
           "showlakes": true,
           "showland": true,
           "subunitcolor": "white"
          },
          "hoverlabel": {
           "align": "left"
          },
          "hovermode": "closest",
          "mapbox": {
           "style": "light"
          },
          "paper_bgcolor": "white",
          "plot_bgcolor": "#E5ECF6",
          "polar": {
           "angularaxis": {
            "gridcolor": "white",
            "linecolor": "white",
            "ticks": ""
           },
           "bgcolor": "#E5ECF6",
           "radialaxis": {
            "gridcolor": "white",
            "linecolor": "white",
            "ticks": ""
           }
          },
          "scene": {
           "xaxis": {
            "backgroundcolor": "#E5ECF6",
            "gridcolor": "white",
            "gridwidth": 2,
            "linecolor": "white",
            "showbackground": true,
            "ticks": "",
            "zerolinecolor": "white"
           },
           "yaxis": {
            "backgroundcolor": "#E5ECF6",
            "gridcolor": "white",
            "gridwidth": 2,
            "linecolor": "white",
            "showbackground": true,
            "ticks": "",
            "zerolinecolor": "white"
           },
           "zaxis": {
            "backgroundcolor": "#E5ECF6",
            "gridcolor": "white",
            "gridwidth": 2,
            "linecolor": "white",
            "showbackground": true,
            "ticks": "",
            "zerolinecolor": "white"
           }
          },
          "shapedefaults": {
           "line": {
            "color": "#2a3f5f"
           }
          },
          "ternary": {
           "aaxis": {
            "gridcolor": "white",
            "linecolor": "white",
            "ticks": ""
           },
           "baxis": {
            "gridcolor": "white",
            "linecolor": "white",
            "ticks": ""
           },
           "bgcolor": "#E5ECF6",
           "caxis": {
            "gridcolor": "white",
            "linecolor": "white",
            "ticks": ""
           }
          },
          "title": {
           "x": 0.05
          },
          "xaxis": {
           "automargin": true,
           "gridcolor": "white",
           "linecolor": "white",
           "ticks": "",
           "title": {
            "standoff": 15
           },
           "zerolinecolor": "white",
           "zerolinewidth": 2
          },
          "yaxis": {
           "automargin": true,
           "gridcolor": "white",
           "linecolor": "white",
           "ticks": "",
           "title": {
            "standoff": 15
           },
           "zerolinecolor": "white",
           "zerolinewidth": 2
          }
         }
        },
        "title": {
         "text": "Bills user res_pros in scenario bau - line chart"
        },
        "xaxis": {
         "title": {
          "text": "mese"
         }
        },
        "yaxis": {
         "exponentformat": "none",
         "title": {
          "text": "€/month"
         }
        }
       }
      }
     },
     "metadata": {},
     "output_type": "display_data"
    },
    {
     "data": {
      "application/vnd.plotly.v1+json": {
       "config": {
        "plotlyServerURL": "https://plot.ly"
       },
       "data": [
        {
         "labels": [
          "me_cost",
          "transport_cost",
          "ogs_cost",
          "duty_cost",
          "vat_cost"
         ],
         "marker": {
          "colors": [
           "rgba(214, 39, 40, 0.7)",
           "rgba(255, 160, 50, 0.7)",
           "rgba(31, 119, 180, 0.6)",
           "rgba(44, 160, 44, 0.7)",
           "rgba(148, 103, 189, 0.7)"
          ]
         },
         "pull": [
          0.05,
          0.05,
          0.05,
          0.05,
          0.05
         ],
         "type": "pie",
         "values": [
          13638.92998736639,
          4927.374771698841,
          1490.0443847850477,
          1896.4809999499998,
          2195.2830143800284
         ]
        }
       ],
       "layout": {
        "plot_bgcolor": "white",
        "template": {
         "data": {
          "bar": [
           {
            "error_x": {
             "color": "#2a3f5f"
            },
            "error_y": {
             "color": "#2a3f5f"
            },
            "marker": {
             "line": {
              "color": "#E5ECF6",
              "width": 0.5
             },
             "pattern": {
              "fillmode": "overlay",
              "size": 10,
              "solidity": 0.2
             }
            },
            "type": "bar"
           }
          ],
          "barpolar": [
           {
            "marker": {
             "line": {
              "color": "#E5ECF6",
              "width": 0.5
             },
             "pattern": {
              "fillmode": "overlay",
              "size": 10,
              "solidity": 0.2
             }
            },
            "type": "barpolar"
           }
          ],
          "carpet": [
           {
            "aaxis": {
             "endlinecolor": "#2a3f5f",
             "gridcolor": "white",
             "linecolor": "white",
             "minorgridcolor": "white",
             "startlinecolor": "#2a3f5f"
            },
            "baxis": {
             "endlinecolor": "#2a3f5f",
             "gridcolor": "white",
             "linecolor": "white",
             "minorgridcolor": "white",
             "startlinecolor": "#2a3f5f"
            },
            "type": "carpet"
           }
          ],
          "choropleth": [
           {
            "colorbar": {
             "outlinewidth": 0,
             "ticks": ""
            },
            "type": "choropleth"
           }
          ],
          "contour": [
           {
            "colorbar": {
             "outlinewidth": 0,
             "ticks": ""
            },
            "colorscale": [
             [
              0,
              "#0d0887"
             ],
             [
              0.1111111111111111,
              "#46039f"
             ],
             [
              0.2222222222222222,
              "#7201a8"
             ],
             [
              0.3333333333333333,
              "#9c179e"
             ],
             [
              0.4444444444444444,
              "#bd3786"
             ],
             [
              0.5555555555555556,
              "#d8576b"
             ],
             [
              0.6666666666666666,
              "#ed7953"
             ],
             [
              0.7777777777777778,
              "#fb9f3a"
             ],
             [
              0.8888888888888888,
              "#fdca26"
             ],
             [
              1,
              "#f0f921"
             ]
            ],
            "type": "contour"
           }
          ],
          "contourcarpet": [
           {
            "colorbar": {
             "outlinewidth": 0,
             "ticks": ""
            },
            "type": "contourcarpet"
           }
          ],
          "heatmap": [
           {
            "colorbar": {
             "outlinewidth": 0,
             "ticks": ""
            },
            "colorscale": [
             [
              0,
              "#0d0887"
             ],
             [
              0.1111111111111111,
              "#46039f"
             ],
             [
              0.2222222222222222,
              "#7201a8"
             ],
             [
              0.3333333333333333,
              "#9c179e"
             ],
             [
              0.4444444444444444,
              "#bd3786"
             ],
             [
              0.5555555555555556,
              "#d8576b"
             ],
             [
              0.6666666666666666,
              "#ed7953"
             ],
             [
              0.7777777777777778,
              "#fb9f3a"
             ],
             [
              0.8888888888888888,
              "#fdca26"
             ],
             [
              1,
              "#f0f921"
             ]
            ],
            "type": "heatmap"
           }
          ],
          "heatmapgl": [
           {
            "colorbar": {
             "outlinewidth": 0,
             "ticks": ""
            },
            "colorscale": [
             [
              0,
              "#0d0887"
             ],
             [
              0.1111111111111111,
              "#46039f"
             ],
             [
              0.2222222222222222,
              "#7201a8"
             ],
             [
              0.3333333333333333,
              "#9c179e"
             ],
             [
              0.4444444444444444,
              "#bd3786"
             ],
             [
              0.5555555555555556,
              "#d8576b"
             ],
             [
              0.6666666666666666,
              "#ed7953"
             ],
             [
              0.7777777777777778,
              "#fb9f3a"
             ],
             [
              0.8888888888888888,
              "#fdca26"
             ],
             [
              1,
              "#f0f921"
             ]
            ],
            "type": "heatmapgl"
           }
          ],
          "histogram": [
           {
            "marker": {
             "pattern": {
              "fillmode": "overlay",
              "size": 10,
              "solidity": 0.2
             }
            },
            "type": "histogram"
           }
          ],
          "histogram2d": [
           {
            "colorbar": {
             "outlinewidth": 0,
             "ticks": ""
            },
            "colorscale": [
             [
              0,
              "#0d0887"
             ],
             [
              0.1111111111111111,
              "#46039f"
             ],
             [
              0.2222222222222222,
              "#7201a8"
             ],
             [
              0.3333333333333333,
              "#9c179e"
             ],
             [
              0.4444444444444444,
              "#bd3786"
             ],
             [
              0.5555555555555556,
              "#d8576b"
             ],
             [
              0.6666666666666666,
              "#ed7953"
             ],
             [
              0.7777777777777778,
              "#fb9f3a"
             ],
             [
              0.8888888888888888,
              "#fdca26"
             ],
             [
              1,
              "#f0f921"
             ]
            ],
            "type": "histogram2d"
           }
          ],
          "histogram2dcontour": [
           {
            "colorbar": {
             "outlinewidth": 0,
             "ticks": ""
            },
            "colorscale": [
             [
              0,
              "#0d0887"
             ],
             [
              0.1111111111111111,
              "#46039f"
             ],
             [
              0.2222222222222222,
              "#7201a8"
             ],
             [
              0.3333333333333333,
              "#9c179e"
             ],
             [
              0.4444444444444444,
              "#bd3786"
             ],
             [
              0.5555555555555556,
              "#d8576b"
             ],
             [
              0.6666666666666666,
              "#ed7953"
             ],
             [
              0.7777777777777778,
              "#fb9f3a"
             ],
             [
              0.8888888888888888,
              "#fdca26"
             ],
             [
              1,
              "#f0f921"
             ]
            ],
            "type": "histogram2dcontour"
           }
          ],
          "mesh3d": [
           {
            "colorbar": {
             "outlinewidth": 0,
             "ticks": ""
            },
            "type": "mesh3d"
           }
          ],
          "parcoords": [
           {
            "line": {
             "colorbar": {
              "outlinewidth": 0,
              "ticks": ""
             }
            },
            "type": "parcoords"
           }
          ],
          "pie": [
           {
            "automargin": true,
            "type": "pie"
           }
          ],
          "scatter": [
           {
            "fillpattern": {
             "fillmode": "overlay",
             "size": 10,
             "solidity": 0.2
            },
            "type": "scatter"
           }
          ],
          "scatter3d": [
           {
            "line": {
             "colorbar": {
              "outlinewidth": 0,
              "ticks": ""
             }
            },
            "marker": {
             "colorbar": {
              "outlinewidth": 0,
              "ticks": ""
             }
            },
            "type": "scatter3d"
           }
          ],
          "scattercarpet": [
           {
            "marker": {
             "colorbar": {
              "outlinewidth": 0,
              "ticks": ""
             }
            },
            "type": "scattercarpet"
           }
          ],
          "scattergeo": [
           {
            "marker": {
             "colorbar": {
              "outlinewidth": 0,
              "ticks": ""
             }
            },
            "type": "scattergeo"
           }
          ],
          "scattergl": [
           {
            "marker": {
             "colorbar": {
              "outlinewidth": 0,
              "ticks": ""
             }
            },
            "type": "scattergl"
           }
          ],
          "scattermapbox": [
           {
            "marker": {
             "colorbar": {
              "outlinewidth": 0,
              "ticks": ""
             }
            },
            "type": "scattermapbox"
           }
          ],
          "scatterpolar": [
           {
            "marker": {
             "colorbar": {
              "outlinewidth": 0,
              "ticks": ""
             }
            },
            "type": "scatterpolar"
           }
          ],
          "scatterpolargl": [
           {
            "marker": {
             "colorbar": {
              "outlinewidth": 0,
              "ticks": ""
             }
            },
            "type": "scatterpolargl"
           }
          ],
          "scatterternary": [
           {
            "marker": {
             "colorbar": {
              "outlinewidth": 0,
              "ticks": ""
             }
            },
            "type": "scatterternary"
           }
          ],
          "surface": [
           {
            "colorbar": {
             "outlinewidth": 0,
             "ticks": ""
            },
            "colorscale": [
             [
              0,
              "#0d0887"
             ],
             [
              0.1111111111111111,
              "#46039f"
             ],
             [
              0.2222222222222222,
              "#7201a8"
             ],
             [
              0.3333333333333333,
              "#9c179e"
             ],
             [
              0.4444444444444444,
              "#bd3786"
             ],
             [
              0.5555555555555556,
              "#d8576b"
             ],
             [
              0.6666666666666666,
              "#ed7953"
             ],
             [
              0.7777777777777778,
              "#fb9f3a"
             ],
             [
              0.8888888888888888,
              "#fdca26"
             ],
             [
              1,
              "#f0f921"
             ]
            ],
            "type": "surface"
           }
          ],
          "table": [
           {
            "cells": {
             "fill": {
              "color": "#EBF0F8"
             },
             "line": {
              "color": "white"
             }
            },
            "header": {
             "fill": {
              "color": "#C8D4E3"
             },
             "line": {
              "color": "white"
             }
            },
            "type": "table"
           }
          ]
         },
         "layout": {
          "annotationdefaults": {
           "arrowcolor": "#2a3f5f",
           "arrowhead": 0,
           "arrowwidth": 1
          },
          "autotypenumbers": "strict",
          "coloraxis": {
           "colorbar": {
            "outlinewidth": 0,
            "ticks": ""
           }
          },
          "colorscale": {
           "diverging": [
            [
             0,
             "#8e0152"
            ],
            [
             0.1,
             "#c51b7d"
            ],
            [
             0.2,
             "#de77ae"
            ],
            [
             0.3,
             "#f1b6da"
            ],
            [
             0.4,
             "#fde0ef"
            ],
            [
             0.5,
             "#f7f7f7"
            ],
            [
             0.6,
             "#e6f5d0"
            ],
            [
             0.7,
             "#b8e186"
            ],
            [
             0.8,
             "#7fbc41"
            ],
            [
             0.9,
             "#4d9221"
            ],
            [
             1,
             "#276419"
            ]
           ],
           "sequential": [
            [
             0,
             "#0d0887"
            ],
            [
             0.1111111111111111,
             "#46039f"
            ],
            [
             0.2222222222222222,
             "#7201a8"
            ],
            [
             0.3333333333333333,
             "#9c179e"
            ],
            [
             0.4444444444444444,
             "#bd3786"
            ],
            [
             0.5555555555555556,
             "#d8576b"
            ],
            [
             0.6666666666666666,
             "#ed7953"
            ],
            [
             0.7777777777777778,
             "#fb9f3a"
            ],
            [
             0.8888888888888888,
             "#fdca26"
            ],
            [
             1,
             "#f0f921"
            ]
           ],
           "sequentialminus": [
            [
             0,
             "#0d0887"
            ],
            [
             0.1111111111111111,
             "#46039f"
            ],
            [
             0.2222222222222222,
             "#7201a8"
            ],
            [
             0.3333333333333333,
             "#9c179e"
            ],
            [
             0.4444444444444444,
             "#bd3786"
            ],
            [
             0.5555555555555556,
             "#d8576b"
            ],
            [
             0.6666666666666666,
             "#ed7953"
            ],
            [
             0.7777777777777778,
             "#fb9f3a"
            ],
            [
             0.8888888888888888,
             "#fdca26"
            ],
            [
             1,
             "#f0f921"
            ]
           ]
          },
          "colorway": [
           "#636efa",
           "#EF553B",
           "#00cc96",
           "#ab63fa",
           "#FFA15A",
           "#19d3f3",
           "#FF6692",
           "#B6E880",
           "#FF97FF",
           "#FECB52"
          ],
          "font": {
           "color": "#2a3f5f"
          },
          "geo": {
           "bgcolor": "white",
           "lakecolor": "white",
           "landcolor": "#E5ECF6",
           "showlakes": true,
           "showland": true,
           "subunitcolor": "white"
          },
          "hoverlabel": {
           "align": "left"
          },
          "hovermode": "closest",
          "mapbox": {
           "style": "light"
          },
          "paper_bgcolor": "white",
          "plot_bgcolor": "#E5ECF6",
          "polar": {
           "angularaxis": {
            "gridcolor": "white",
            "linecolor": "white",
            "ticks": ""
           },
           "bgcolor": "#E5ECF6",
           "radialaxis": {
            "gridcolor": "white",
            "linecolor": "white",
            "ticks": ""
           }
          },
          "scene": {
           "xaxis": {
            "backgroundcolor": "#E5ECF6",
            "gridcolor": "white",
            "gridwidth": 2,
            "linecolor": "white",
            "showbackground": true,
            "ticks": "",
            "zerolinecolor": "white"
           },
           "yaxis": {
            "backgroundcolor": "#E5ECF6",
            "gridcolor": "white",
            "gridwidth": 2,
            "linecolor": "white",
            "showbackground": true,
            "ticks": "",
            "zerolinecolor": "white"
           },
           "zaxis": {
            "backgroundcolor": "#E5ECF6",
            "gridcolor": "white",
            "gridwidth": 2,
            "linecolor": "white",
            "showbackground": true,
            "ticks": "",
            "zerolinecolor": "white"
           }
          },
          "shapedefaults": {
           "line": {
            "color": "#2a3f5f"
           }
          },
          "ternary": {
           "aaxis": {
            "gridcolor": "white",
            "linecolor": "white",
            "ticks": ""
           },
           "baxis": {
            "gridcolor": "white",
            "linecolor": "white",
            "ticks": ""
           },
           "bgcolor": "#E5ECF6",
           "caxis": {
            "gridcolor": "white",
            "linecolor": "white",
            "ticks": ""
           }
          },
          "title": {
           "x": 0.05
          },
          "xaxis": {
           "automargin": true,
           "gridcolor": "white",
           "linecolor": "white",
           "ticks": "",
           "title": {
            "standoff": 15
           },
           "zerolinecolor": "white",
           "zerolinewidth": 2
          },
          "yaxis": {
           "automargin": true,
           "gridcolor": "white",
           "linecolor": "white",
           "ticks": "",
           "title": {
            "standoff": 15
           },
           "zerolinecolor": "white",
           "zerolinewidth": 2
          }
         }
        },
        "title": {
         "text": "Bills user res_pros in scenario bau - pie chart"
        },
        "xaxis": {
         "title": {
          "text": "mese"
         }
        }
       }
      }
     },
     "metadata": {},
     "output_type": "display_data"
    },
    {
     "data": {
      "application/vnd.plotly.v1+json": {
       "config": {
        "plotlyServerURL": "https://plot.ly"
       },
       "data": [
        {
         "marker": {
          "color": "rgba(214, 39, 40, 0.7)"
         },
         "name": "me_cost",
         "stackgroup": "one",
         "type": "scatter",
         "x": [
          "2025-01",
          "2025-02",
          "2025-03",
          "2025-04",
          "2025-05",
          "2025-06",
          "2025-07",
          "2025-08",
          "2025-09",
          "2025-10",
          "2025-11",
          "2025-12",
          "2026-01",
          "2026-02",
          "2026-03",
          "2026-04",
          "2026-05",
          "2026-06",
          "2026-07",
          "2026-08",
          "2026-09",
          "2026-10",
          "2026-11",
          "2026-12",
          "2027-01",
          "2027-02",
          "2027-03",
          "2027-04",
          "2027-05",
          "2027-06",
          "2027-07",
          "2027-08",
          "2027-09",
          "2027-10",
          "2027-11",
          "2027-12",
          "2028-01",
          "2028-02",
          "2028-03",
          "2028-04",
          "2028-05",
          "2028-06",
          "2028-07",
          "2028-08",
          "2028-09",
          "2028-10",
          "2028-11",
          "2028-12",
          "2029-01",
          "2029-02",
          "2029-03",
          "2029-04",
          "2029-05",
          "2029-06",
          "2029-07",
          "2029-08",
          "2029-09",
          "2029-10",
          "2029-11",
          "2029-12",
          "2030-01",
          "2030-02",
          "2030-03",
          "2030-04",
          "2030-05",
          "2030-06",
          "2030-07",
          "2030-08",
          "2030-09",
          "2030-10",
          "2030-11",
          "2030-12",
          "2031-01",
          "2031-02",
          "2031-03",
          "2031-04",
          "2031-05",
          "2031-06",
          "2031-07",
          "2031-08",
          "2031-09",
          "2031-10",
          "2031-11",
          "2031-12",
          "2032-01",
          "2032-02",
          "2032-03",
          "2032-04",
          "2032-05",
          "2032-06",
          "2032-07",
          "2032-08",
          "2032-09",
          "2032-10",
          "2032-11",
          "2032-12",
          "2033-01",
          "2033-02",
          "2033-03",
          "2033-04",
          "2033-05",
          "2033-06",
          "2033-07",
          "2033-08",
          "2033-09",
          "2033-10",
          "2033-11",
          "2033-12",
          "2034-01",
          "2034-02",
          "2034-03",
          "2034-04",
          "2034-05",
          "2034-06",
          "2034-07",
          "2034-08",
          "2034-09",
          "2034-10",
          "2034-11",
          "2034-12",
          "2035-01",
          "2035-02",
          "2035-03",
          "2035-04",
          "2035-05",
          "2035-06",
          "2035-07",
          "2035-08",
          "2035-09",
          "2035-10",
          "2035-11",
          "2035-12",
          "2036-01",
          "2036-02",
          "2036-03",
          "2036-04",
          "2036-05",
          "2036-06",
          "2036-07",
          "2036-08",
          "2036-09",
          "2036-10",
          "2036-11",
          "2036-12",
          "2037-01",
          "2037-02",
          "2037-03",
          "2037-04",
          "2037-05",
          "2037-06",
          "2037-07",
          "2037-08",
          "2037-09",
          "2037-10",
          "2037-11",
          "2037-12",
          "2038-01",
          "2038-02",
          "2038-03",
          "2038-04",
          "2038-05",
          "2038-06",
          "2038-07",
          "2038-08",
          "2038-09",
          "2038-10",
          "2038-11",
          "2038-12",
          "2039-01",
          "2039-02",
          "2039-03",
          "2039-04",
          "2039-05",
          "2039-06",
          "2039-07",
          "2039-08",
          "2039-09",
          "2039-10",
          "2039-11",
          "2039-12",
          "2040-01",
          "2040-02",
          "2040-03",
          "2040-04",
          "2040-05",
          "2040-06",
          "2040-07",
          "2040-08",
          "2040-09",
          "2040-10",
          "2040-11",
          "2040-12",
          "2041-01",
          "2041-02",
          "2041-03",
          "2041-04",
          "2041-05",
          "2041-06",
          "2041-07",
          "2041-08",
          "2041-09",
          "2041-10",
          "2041-11",
          "2041-12",
          "2042-01",
          "2042-02",
          "2042-03",
          "2042-04",
          "2042-05",
          "2042-06",
          "2042-07",
          "2042-08",
          "2042-09",
          "2042-10",
          "2042-11",
          "2042-12",
          "2043-01",
          "2043-02",
          "2043-03",
          "2043-04",
          "2043-05",
          "2043-06",
          "2043-07",
          "2043-08",
          "2043-09",
          "2043-10",
          "2043-11",
          "2043-12",
          "2044-01",
          "2044-02",
          "2044-03",
          "2044-04",
          "2044-05",
          "2044-06",
          "2044-07",
          "2044-08",
          "2044-09",
          "2044-10",
          "2044-11",
          "2044-12",
          "2045-01",
          "2045-02",
          "2045-03",
          "2045-04",
          "2045-05",
          "2045-06",
          "2045-07",
          "2045-08",
          "2045-09",
          "2045-10",
          "2045-11",
          "2045-12",
          "2046-01",
          "2046-02",
          "2046-03",
          "2046-04",
          "2046-05",
          "2046-06",
          "2046-07",
          "2046-08",
          "2046-09",
          "2046-10",
          "2046-11",
          "2046-12",
          "2047-01",
          "2047-02",
          "2047-03",
          "2047-04",
          "2047-05",
          "2047-06",
          "2047-07",
          "2047-08",
          "2047-09",
          "2047-10",
          "2047-11",
          "2047-12",
          "2048-01",
          "2048-02",
          "2048-03",
          "2048-04",
          "2048-05",
          "2048-06",
          "2048-07",
          "2048-08",
          "2048-09",
          "2048-10",
          "2048-11",
          "2048-12",
          "2049-01",
          "2049-02",
          "2049-03",
          "2049-04",
          "2049-05",
          "2049-06",
          "2049-07",
          "2049-08",
          "2049-09",
          "2049-10",
          "2049-11",
          "2049-12"
         ],
         "y": [
          13.00035538222192,
          9.573368090852055,
          9.025611780821919,
          8.734463013698631,
          9.025611780821919,
          8.734463013698631,
          9.025611780821919,
          9.025611780821919,
          8.734463013698631,
          9.025611780821919,
          12.10701991569863,
          19.16453634802192,
          13.34494854256192,
          9.648830160392055,
          9.025611780821919,
          8.734463013698631,
          9.025611780821919,
          8.734463013698631,
          9.025611780821919,
          9.025611780821919,
          8.734463013698631,
          9.025611780821919,
          11.80373600619863,
          18.30225416440192,
          13.57563078292192,
          9.845654673992055,
          9.025611780821919,
          8.734463013698631,
          9.025611780821919,
          8.734463013698631,
          9.025611780821919,
          9.025611780821919,
          8.734463013698631,
          9.025611780821919,
          11.77416344889863,
          18.56837459326192,
          13.73774940673192,
          10.12877169024534,
          9.025611780821919,
          8.734463013698631,
          9.025611780821919,
          8.734463013698631,
          9.025611780821919,
          9.025611780821919,
          8.734463013698631,
          9.025611780821919,
          11.46636626205863,
          18.52770531175192,
          13.94626806994192,
          9.596428711292056,
          9.025611780821919,
          8.734463013698631,
          9.025611780821919,
          8.734463013698631,
          9.025611780821919,
          9.025611780821919,
          8.734463013698631,
          9.025611780821919,
          11.44901920089863,
          18.24448674898192,
          14.33849775922192,
          9.636358452572056,
          9.025611780821919,
          8.734463013698631,
          9.025611780821919,
          8.734463013698631,
          9.025611780821919,
          9.025611780821919,
          8.734463013698631,
          9.046901849621918,
          11.63380830825863,
          18.73847427730192,
          14.51762128237192,
          9.600080247752055,
          9.025611780821919,
          8.734463013698631,
          9.025611780821919,
          8.734463013698631,
          9.025611780821919,
          9.025611780821919,
          8.734463013698631,
          9.025611780821919,
          11.48522680089863,
          18.53464178272192,
          15.06119692927192,
          9.956714985425343,
          9.025611780821919,
          8.734463013698631,
          9.025611780821919,
          8.734463013698631,
          9.025611780821919,
          9.025611780821919,
          8.734463013698631,
          9.057750551771917,
          11.49087518649863,
          18.69213126487192,
          15.25751906242192,
          9.921128511002056,
          9.025611780821919,
          8.734463013698631,
          9.025611780821919,
          8.734463013698631,
          9.025611780821919,
          9.025611780821919,
          8.734463013698631,
          9.120140772521918,
          11.39919754329863,
          19.00701518422192,
          15.75506579782192,
          9.912764555402056,
          9.025611780821919,
          8.734463013698631,
          9.025611780821919,
          8.734463013698631,
          9.025611780821919,
          9.025611780821919,
          8.734463013698631,
          9.098728503071918,
          11.48484662109863,
          19.50681584272192,
          16.12678659727192,
          9.905785540502055,
          9.025611780821919,
          8.734463013698631,
          9.025611780821919,
          8.734463013698631,
          9.025611780821919,
          9.025611780821919,
          8.734463013698631,
          9.197195071271919,
          11.80212024204863,
          19.78793164912192,
          16.00111273324192,
          10.21670094165534,
          9.025611780821919,
          8.734463013698631,
          9.025611780821919,
          8.734463013698631,
          9.025611780821919,
          9.025611780821919,
          8.734463013698631,
          9.196160439101918,
          12.02531203515863,
          19.53406025134192,
          16.05409802989192,
          9.960554966642055,
          9.025611780821919,
          8.734463013698631,
          9.025611780821919,
          8.734463013698631,
          9.025611780821919,
          9.025611780821919,
          8.734463013698631,
          9.215244559871918,
          12.14980643661863,
          18.94269419320192,
          16.26488872000192,
          10.25657744196206,
          9.025611780821919,
          8.734463013698631,
          9.025611780821919,
          8.734463013698631,
          9.025611780821919,
          9.025611780821919,
          8.734463013698631,
          9.309160737941918,
          12.40214806329863,
          19.13941098919192,
          16.46820706666192,
          10.57904142237206,
          9.025611780821919,
          8.734463013698631,
          9.025611780821919,
          8.734463013698631,
          9.025611780821919,
          9.025611780821919,
          8.734463013698631,
          9.41953960654192,
          12.58822706640863,
          19.44315292483192,
          16.88914123603192,
          11.14883211162534,
          9.039850419521919,
          8.734463013698631,
          9.025611780821919,
          8.734463013698631,
          9.025611780821919,
          9.025611780821919,
          8.734463013698631,
          9.378835927811918,
          12.93892120734863,
          19.74745969903192,
          17.17081916542192,
          11.00585932674205,
          9.051300167831918,
          8.734463013698631,
          9.025611780821919,
          8.734463013698631,
          9.025611780821919,
          9.025611780821919,
          8.734463013698631,
          9.459737284061918,
          13.34926465371863,
          20.11487541484192,
          17.56120498267192,
          11.25095219190205,
          9.074670363251919,
          8.734463013698631,
          9.025611780821919,
          8.734463013698631,
          9.025611780821919,
          9.025611780821919,
          8.734463013698631,
          9.465915205811918,
          13.60161804786863,
          20.37694873921192,
          17.95275577945192,
          11.46508484349206,
          9.091391938121918,
          8.734463013698631,
          9.025611780821919,
          8.734463013698631,
          9.025611780821919,
          9.025611780821919,
          8.734463013698631,
          9.549982011491918,
          13.96772757450863,
          20.58007880635192,
          18.16395833101192,
          12.20092630191534,
          9.098064093611919,
          8.734463013698631,
          9.025611780821919,
          8.734463013698631,
          9.025611780821919,
          9.025611780821919,
          8.734463013698631,
          9.730953932621919,
          14.00366542788863,
          20.72910204643192,
          18.42166592401192,
          12.09242043666206,
          9.127376861381919,
          8.734463013698631,
          9.025611780821919,
          8.734463013698631,
          9.025611780821919,
          9.025611780821919,
          8.734463013698631,
          9.66524438014192,
          14.27812989816863,
          21.08692727419192,
          18.68814028216192,
          12.24736271415206,
          9.202912251311918,
          8.734463013698631,
          9.025611780821919,
          8.734463013698631,
          9.025611780821919,
          9.025611780821919,
          8.734463013698631,
          9.828365049281919,
          14.59489842309863,
          21.27866643037192,
          18.90274363255192,
          12.51229553373206,
          9.254194885571918,
          8.734463013698631,
          9.025611780821919,
          8.734463013698631,
          9.025611780821919,
          9.025611780821919,
          8.734463013698631,
          10.03939108879192,
          14.97083378718863,
          21.60455474455192,
          19.30042528120192,
          13.13250983193534,
          9.303477049931919,
          8.734463013698631,
          9.025611780821919,
          8.734463013698631,
          9.025611780821919,
          9.025611780821919,
          8.734463013698631,
          10.24546302343192,
          15.19407446055863,
          21.74661164239192,
          19.54531809937192,
          13.08009949617206,
          9.422481474041918,
          8.734463013698631,
          9.025611780821919,
          8.734463013698631,
          9.025611780821919,
          9.025611780821919,
          8.734463013698631,
          10.58183615338192,
          15.35324125977863,
          21.96105024820192
         ]
        },
        {
         "marker": {
          "color": "rgba(255, 160, 50, 0.7)"
         },
         "name": "transport_cost",
         "stackgroup": "one",
         "type": "scatter",
         "x": [
          "2025-01",
          "2025-02",
          "2025-03",
          "2025-04",
          "2025-05",
          "2025-06",
          "2025-07",
          "2025-08",
          "2025-09",
          "2025-10",
          "2025-11",
          "2025-12",
          "2026-01",
          "2026-02",
          "2026-03",
          "2026-04",
          "2026-05",
          "2026-06",
          "2026-07",
          "2026-08",
          "2026-09",
          "2026-10",
          "2026-11",
          "2026-12",
          "2027-01",
          "2027-02",
          "2027-03",
          "2027-04",
          "2027-05",
          "2027-06",
          "2027-07",
          "2027-08",
          "2027-09",
          "2027-10",
          "2027-11",
          "2027-12",
          "2028-01",
          "2028-02",
          "2028-03",
          "2028-04",
          "2028-05",
          "2028-06",
          "2028-07",
          "2028-08",
          "2028-09",
          "2028-10",
          "2028-11",
          "2028-12",
          "2029-01",
          "2029-02",
          "2029-03",
          "2029-04",
          "2029-05",
          "2029-06",
          "2029-07",
          "2029-08",
          "2029-09",
          "2029-10",
          "2029-11",
          "2029-12",
          "2030-01",
          "2030-02",
          "2030-03",
          "2030-04",
          "2030-05",
          "2030-06",
          "2030-07",
          "2030-08",
          "2030-09",
          "2030-10",
          "2030-11",
          "2030-12",
          "2031-01",
          "2031-02",
          "2031-03",
          "2031-04",
          "2031-05",
          "2031-06",
          "2031-07",
          "2031-08",
          "2031-09",
          "2031-10",
          "2031-11",
          "2031-12",
          "2032-01",
          "2032-02",
          "2032-03",
          "2032-04",
          "2032-05",
          "2032-06",
          "2032-07",
          "2032-08",
          "2032-09",
          "2032-10",
          "2032-11",
          "2032-12",
          "2033-01",
          "2033-02",
          "2033-03",
          "2033-04",
          "2033-05",
          "2033-06",
          "2033-07",
          "2033-08",
          "2033-09",
          "2033-10",
          "2033-11",
          "2033-12",
          "2034-01",
          "2034-02",
          "2034-03",
          "2034-04",
          "2034-05",
          "2034-06",
          "2034-07",
          "2034-08",
          "2034-09",
          "2034-10",
          "2034-11",
          "2034-12",
          "2035-01",
          "2035-02",
          "2035-03",
          "2035-04",
          "2035-05",
          "2035-06",
          "2035-07",
          "2035-08",
          "2035-09",
          "2035-10",
          "2035-11",
          "2035-12",
          "2036-01",
          "2036-02",
          "2036-03",
          "2036-04",
          "2036-05",
          "2036-06",
          "2036-07",
          "2036-08",
          "2036-09",
          "2036-10",
          "2036-11",
          "2036-12",
          "2037-01",
          "2037-02",
          "2037-03",
          "2037-04",
          "2037-05",
          "2037-06",
          "2037-07",
          "2037-08",
          "2037-09",
          "2037-10",
          "2037-11",
          "2037-12",
          "2038-01",
          "2038-02",
          "2038-03",
          "2038-04",
          "2038-05",
          "2038-06",
          "2038-07",
          "2038-08",
          "2038-09",
          "2038-10",
          "2038-11",
          "2038-12",
          "2039-01",
          "2039-02",
          "2039-03",
          "2039-04",
          "2039-05",
          "2039-06",
          "2039-07",
          "2039-08",
          "2039-09",
          "2039-10",
          "2039-11",
          "2039-12",
          "2040-01",
          "2040-02",
          "2040-03",
          "2040-04",
          "2040-05",
          "2040-06",
          "2040-07",
          "2040-08",
          "2040-09",
          "2040-10",
          "2040-11",
          "2040-12",
          "2041-01",
          "2041-02",
          "2041-03",
          "2041-04",
          "2041-05",
          "2041-06",
          "2041-07",
          "2041-08",
          "2041-09",
          "2041-10",
          "2041-11",
          "2041-12",
          "2042-01",
          "2042-02",
          "2042-03",
          "2042-04",
          "2042-05",
          "2042-06",
          "2042-07",
          "2042-08",
          "2042-09",
          "2042-10",
          "2042-11",
          "2042-12",
          "2043-01",
          "2043-02",
          "2043-03",
          "2043-04",
          "2043-05",
          "2043-06",
          "2043-07",
          "2043-08",
          "2043-09",
          "2043-10",
          "2043-11",
          "2043-12",
          "2044-01",
          "2044-02",
          "2044-03",
          "2044-04",
          "2044-05",
          "2044-06",
          "2044-07",
          "2044-08",
          "2044-09",
          "2044-10",
          "2044-11",
          "2044-12",
          "2045-01",
          "2045-02",
          "2045-03",
          "2045-04",
          "2045-05",
          "2045-06",
          "2045-07",
          "2045-08",
          "2045-09",
          "2045-10",
          "2045-11",
          "2045-12",
          "2046-01",
          "2046-02",
          "2046-03",
          "2046-04",
          "2046-05",
          "2046-06",
          "2046-07",
          "2046-08",
          "2046-09",
          "2046-10",
          "2046-11",
          "2046-12",
          "2047-01",
          "2047-02",
          "2047-03",
          "2047-04",
          "2047-05",
          "2047-06",
          "2047-07",
          "2047-08",
          "2047-09",
          "2047-10",
          "2047-11",
          "2047-12",
          "2048-01",
          "2048-02",
          "2048-03",
          "2048-04",
          "2048-05",
          "2048-06",
          "2048-07",
          "2048-08",
          "2048-09",
          "2048-10",
          "2048-11",
          "2048-12",
          "2049-01",
          "2049-02",
          "2049-03",
          "2049-04",
          "2049-05",
          "2049-06",
          "2049-07",
          "2049-08",
          "2049-09",
          "2049-10",
          "2049-11",
          "2049-12"
         ],
         "y": [
          13.35945392079041,
          11.93442496263973,
          13.11722109589041,
          12.69408493150685,
          13.11722109589041,
          12.69408493150685,
          13.11722109589041,
          13.11722109589041,
          12.69408493150685,
          13.11722109589041,
          12.89961868850685,
          13.73511764109041,
          13.42432669199541,
          11.95422572224473,
          13.11722109589041,
          12.69408493150685,
          13.11722109589041,
          12.69408493150685,
          13.11722109589041,
          13.11722109589041,
          12.69408493150685,
          13.11722109589041,
          12.91231077588185,
          13.77679198517541,
          13.44072823946541,
          11.96821997944473,
          13.11722109589041,
          12.69408493150685,
          13.11722109589041,
          12.69408493150685,
          13.11722109589041,
          13.11722109589041,
          12.69408493150685,
          13.11722109589041,
          12.91020816190685,
          13.79571319402041,
          13.48885523360041,
          12.40387644739329,
          13.11722109589041,
          12.69408493150685,
          13.11722109589041,
          12.69408493150685,
          13.11722109589041,
          13.11722109589041,
          12.69408493150685,
          13.11722109589041,
          12.90954309266685,
          13.86662669822041,
          13.52955552928041,
          11.96883699996973,
          13.11722109589041,
          12.69408493150685,
          13.11722109589041,
          12.69408493150685,
          13.11722109589041,
          13.11722109589041,
          12.69408493150685,
          13.11722109589041,
          12.92155560240685,
          13.88973178616041,
          13.56242305694041,
          11.97218297787973,
          13.11722109589041,
          12.69408493150685,
          13.11722109589041,
          12.69408493150685,
          13.11722109589041,
          13.11722109589041,
          12.69408493150685,
          13.11900513199041,
          12.93704030757685,
          13.93112627820041,
          13.60811379918041,
          11.97723167867973,
          13.11722109589041,
          12.69408493150685,
          13.11722109589041,
          12.69408493150685,
          13.11722109589041,
          13.11722109589041,
          12.69408493150685,
          13.11722109589041,
          12.93995666046685,
          13.96716744831041,
          13.65670026260041,
          12.40622118055329,
          13.11722109589041,
          12.69408493150685,
          13.11722109589041,
          12.69408493150685,
          13.11722109589041,
          13.11722109589041,
          12.69408493150685,
          13.12009375810041,
          12.94046153054685,
          13.98124434268041,
          13.69956754981041,
          12.01311502172473,
          13.11722109589041,
          12.69408493150685,
          13.11722109589041,
          12.69408493150685,
          13.11722109589041,
          13.11722109589041,
          12.69408493150685,
          13.12605444668041,
          12.94309356302685,
          14.04994275147041,
          13.74606127379041,
          12.01233344400473,
          13.11722109589041,
          12.69408493150685,
          13.11722109589041,
          12.69408493150685,
          13.11722109589041,
          13.11722109589041,
          12.69408493150685,
          13.12405355696541,
          12.95109712188685,
          14.09664709542041,
          13.78079707450541,
          12.01168128337473,
          13.11722109589041,
          12.69408493150685,
          13.11722109589041,
          12.69408493150685,
          13.11722109589041,
          13.11722109589041,
          12.69408493150685,
          13.13325485830541,
          12.98074505465185,
          14.12291622710041,
          13.84597766641041,
          12.45622108160329,
          13.11722109589041,
          12.69408493150685,
          13.11722109589041,
          12.69408493150685,
          13.11722109589041,
          13.11722109589041,
          12.69408493150685,
          13.13503894957041,
          13.03789218826685,
          14.21507785501041,
          13.90799724865041,
          12.05127480365973,
          13.11722109589041,
          12.69408493150685,
          13.11722109589041,
          12.69408493150685,
          13.11722109589041,
          13.11722109589041,
          12.69408493150685,
          13.13855671129041,
          13.07834578606685,
          14.23299368173041,
          13.93171334413041,
          12.08458034141973,
          13.11722109589041,
          12.69408493150685,
          13.11722109589041,
          12.69408493150685,
          13.11722109589041,
          13.11722109589041,
          12.69408493150685,
          13.14912323605041,
          13.10673678430685,
          14.25512632105041,
          13.95458872501041,
          12.12086081729973,
          13.11722109589041,
          12.69408493150685,
          13.11722109589041,
          12.69408493150685,
          13.11722109589041,
          13.11722109589041,
          12.69408493150685,
          13.16154198085041,
          13.12767256378685,
          14.28930037657041,
          14.00194809817041,
          12.57534703052329,
          13.11882308749041,
          12.69408493150685,
          13.11722109589041,
          12.69408493150685,
          13.11722109589041,
          13.11722109589041,
          12.69408493150685,
          13.15696240321041,
          13.16712921970685,
          14.32353798217041,
          14.03363972869041,
          12.16888217045973,
          13.12011130057041,
          12.69408493150685,
          13.11722109589041,
          12.69408493150685,
          13.11722109589041,
          13.11722109589041,
          12.69408493150685,
          13.16606462821041,
          13.21329702886685,
          14.36487598525041,
          14.07756210169041,
          12.19645760933973,
          13.12274068513041,
          12.69408493150685,
          13.11722109589041,
          12.69408493150685,
          13.11722109589041,
          13.11722109589041,
          12.69408493150685,
          13.16675970721041,
          13.24168935106685,
          14.39436189841041,
          14.12161554673041,
          12.22054970945973,
          13.12462203229041,
          12.69408493150685,
          13.11722109589041,
          12.69408493150685,
          13.11722109589041,
          13.11722109589041,
          12.69408493150685,
          13.17621807745041,
          13.28288039458685,
          14.41721609593041,
          14.14537798081041,
          12.69371832224329,
          13.12537271761041,
          12.69408493150685,
          13.11722109589041,
          12.69408493150685,
          13.11722109589041,
          13.11722109589041,
          12.69408493150685,
          13.19657925829041,
          13.28692376842685,
          14.43398272537041,
          14.17437270481041,
          12.29113134101973,
          13.12867070197041,
          12.69408493150685,
          13.11722109589041,
          12.69408493150685,
          13.11722109589041,
          13.11722109589041,
          12.69408493150685,
          13.18918626565041,
          13.31780381146685,
          14.47424170105041,
          14.20435377901041,
          12.30856392233973,
          13.13716920121041,
          12.69408493150685,
          13.11722109589041,
          12.69408493150685,
          13.11722109589041,
          13.11722109589041,
          12.69408493150685,
          13.20753899917041,
          13.35344349070685,
          14.49581430529041,
          14.22849883753041,
          12.33837155777973,
          13.14293901889041,
          12.69408493150685,
          13.11722109589041,
          12.69408493150685,
          13.11722109589041,
          13.11722109589041,
          12.69408493150685,
          13.23128157385041,
          13.39574004082685,
          14.53248005353041,
          14.27324206573041,
          12.79853093960329,
          13.14848376337041,
          12.69408493150685,
          13.11722109589041,
          12.69408493150685,
          13.11722109589041,
          13.11722109589041,
          12.69408493150685,
          13.25446676137041,
          13.42085688598685,
          14.54846289865041,
          14.30079499729041,
          12.40225527569973,
          13.16187297085041,
          12.69408493150685,
          13.11722109589041,
          12.69408493150685,
          13.11722109589041,
          13.11722109589041,
          12.69408493150685,
          13.29231215797041,
          13.43876476894685,
          14.57258942173041
         ]
        },
        {
         "marker": {
          "color": "rgba(31, 119, 180, 0.6)"
         },
         "name": "ogs_cost",
         "stackgroup": "one",
         "type": "scatter",
         "x": [
          "2025-01",
          "2025-02",
          "2025-03",
          "2025-04",
          "2025-05",
          "2025-06",
          "2025-07",
          "2025-08",
          "2025-09",
          "2025-10",
          "2025-11",
          "2025-12",
          "2026-01",
          "2026-02",
          "2026-03",
          "2026-04",
          "2026-05",
          "2026-06",
          "2026-07",
          "2026-08",
          "2026-09",
          "2026-10",
          "2026-11",
          "2026-12",
          "2027-01",
          "2027-02",
          "2027-03",
          "2027-04",
          "2027-05",
          "2027-06",
          "2027-07",
          "2027-08",
          "2027-09",
          "2027-10",
          "2027-11",
          "2027-12",
          "2028-01",
          "2028-02",
          "2028-03",
          "2028-04",
          "2028-05",
          "2028-06",
          "2028-07",
          "2028-08",
          "2028-09",
          "2028-10",
          "2028-11",
          "2028-12",
          "2029-01",
          "2029-02",
          "2029-03",
          "2029-04",
          "2029-05",
          "2029-06",
          "2029-07",
          "2029-08",
          "2029-09",
          "2029-10",
          "2029-11",
          "2029-12",
          "2030-01",
          "2030-02",
          "2030-03",
          "2030-04",
          "2030-05",
          "2030-06",
          "2030-07",
          "2030-08",
          "2030-09",
          "2030-10",
          "2030-11",
          "2030-12",
          "2031-01",
          "2031-02",
          "2031-03",
          "2031-04",
          "2031-05",
          "2031-06",
          "2031-07",
          "2031-08",
          "2031-09",
          "2031-10",
          "2031-11",
          "2031-12",
          "2032-01",
          "2032-02",
          "2032-03",
          "2032-04",
          "2032-05",
          "2032-06",
          "2032-07",
          "2032-08",
          "2032-09",
          "2032-10",
          "2032-11",
          "2032-12",
          "2033-01",
          "2033-02",
          "2033-03",
          "2033-04",
          "2033-05",
          "2033-06",
          "2033-07",
          "2033-08",
          "2033-09",
          "2033-10",
          "2033-11",
          "2033-12",
          "2034-01",
          "2034-02",
          "2034-03",
          "2034-04",
          "2034-05",
          "2034-06",
          "2034-07",
          "2034-08",
          "2034-09",
          "2034-10",
          "2034-11",
          "2034-12",
          "2035-01",
          "2035-02",
          "2035-03",
          "2035-04",
          "2035-05",
          "2035-06",
          "2035-07",
          "2035-08",
          "2035-09",
          "2035-10",
          "2035-11",
          "2035-12",
          "2036-01",
          "2036-02",
          "2036-03",
          "2036-04",
          "2036-05",
          "2036-06",
          "2036-07",
          "2036-08",
          "2036-09",
          "2036-10",
          "2036-11",
          "2036-12",
          "2037-01",
          "2037-02",
          "2037-03",
          "2037-04",
          "2037-05",
          "2037-06",
          "2037-07",
          "2037-08",
          "2037-09",
          "2037-10",
          "2037-11",
          "2037-12",
          "2038-01",
          "2038-02",
          "2038-03",
          "2038-04",
          "2038-05",
          "2038-06",
          "2038-07",
          "2038-08",
          "2038-09",
          "2038-10",
          "2038-11",
          "2038-12",
          "2039-01",
          "2039-02",
          "2039-03",
          "2039-04",
          "2039-05",
          "2039-06",
          "2039-07",
          "2039-08",
          "2039-09",
          "2039-10",
          "2039-11",
          "2039-12",
          "2040-01",
          "2040-02",
          "2040-03",
          "2040-04",
          "2040-05",
          "2040-06",
          "2040-07",
          "2040-08",
          "2040-09",
          "2040-10",
          "2040-11",
          "2040-12",
          "2041-01",
          "2041-02",
          "2041-03",
          "2041-04",
          "2041-05",
          "2041-06",
          "2041-07",
          "2041-08",
          "2041-09",
          "2041-10",
          "2041-11",
          "2041-12",
          "2042-01",
          "2042-02",
          "2042-03",
          "2042-04",
          "2042-05",
          "2042-06",
          "2042-07",
          "2042-08",
          "2042-09",
          "2042-10",
          "2042-11",
          "2042-12",
          "2043-01",
          "2043-02",
          "2043-03",
          "2043-04",
          "2043-05",
          "2043-06",
          "2043-07",
          "2043-08",
          "2043-09",
          "2043-10",
          "2043-11",
          "2043-12",
          "2044-01",
          "2044-02",
          "2044-03",
          "2044-04",
          "2044-05",
          "2044-06",
          "2044-07",
          "2044-08",
          "2044-09",
          "2044-10",
          "2044-11",
          "2044-12",
          "2045-01",
          "2045-02",
          "2045-03",
          "2045-04",
          "2045-05",
          "2045-06",
          "2045-07",
          "2045-08",
          "2045-09",
          "2045-10",
          "2045-11",
          "2045-12",
          "2046-01",
          "2046-02",
          "2046-03",
          "2046-04",
          "2046-05",
          "2046-06",
          "2046-07",
          "2046-08",
          "2046-09",
          "2046-10",
          "2046-11",
          "2046-12",
          "2047-01",
          "2047-02",
          "2047-03",
          "2047-04",
          "2047-05",
          "2047-06",
          "2047-07",
          "2047-08",
          "2047-09",
          "2047-10",
          "2047-11",
          "2047-12",
          "2048-01",
          "2048-02",
          "2048-03",
          "2048-04",
          "2048-05",
          "2048-06",
          "2048-07",
          "2048-08",
          "2048-09",
          "2048-10",
          "2048-11",
          "2048-12",
          "2049-01",
          "2049-02",
          "2049-03",
          "2049-04",
          "2049-05",
          "2049-06",
          "2049-07",
          "2049-08",
          "2049-09",
          "2049-10",
          "2049-11",
          "2049-12"
         ],
         "y": [
          0.93311561871,
          0.3336432452100001,
          0,
          0,
          0,
          0,
          0,
          0,
          0,
          0,
          0.7917455403000001,
          2.38022620308,
          1.16244845145,
          0.4027922888785715,
          0,
          0,
          0,
          0,
          0,
          0,
          0,
          0,
          0.8260230294642859,
          2.496591298221429,
          1.281048004028572,
          0.476798218097143,
          0,
          0,
          0,
          0,
          0,
          0,
          0,
          0,
          0.8558210797714287,
          2.686744219782858,
          1.466706375372858,
          0.5246177795100001,
          0,
          0,
          0,
          0,
          0,
          0,
          0,
          0,
          0.8503359259371431,
          2.957634574290001,
          1.627335814641429,
          0.4776397994185715,
          0,
          0,
          0,
          0,
          0,
          0,
          0,
          0,
          0.8977449845571431,
          3.048822052367143,
          1.633316067900001,
          0.4562786102914287,
          0,
          0,
          0,
          0,
          0,
          0,
          0,
          0.006545107800000003,
          0.8913323710028574,
          2.985980584808572,
          1.773655065835715,
          0.4676068683000002,
          0,
          0,
          0,
          0,
          0,
          0,
          0,
          0,
          0.8883644729142861,
          3.070959587614287,
          1.919216118034287,
          0.4812363705600002,
          0,
          0,
          0,
          0,
          0,
          0,
          0,
          0.01021959689142858,
          0.876493420251429,
          3.073793102537144,
          1.64104836192,
          0.4658210968242859,
          0,
          0,
          0,
          0,
          0,
          0,
          0,
          0.02489232268285715,
          0.7017046366628574,
          2.628403306508572,
          0.6352694313428573,
          0.1662029001128572,
          0,
          0,
          0,
          0,
          0,
          0,
          0,
          0.006902316064285715,
          0.2596398795257143,
          0.9894396376542859,
          0.3528212475857144,
          0.08712845884285716,
          0,
          0,
          0,
          0,
          0,
          0,
          0,
          0.00852510072857143,
          0.1524162801857143,
          0.5347249182000001,
          0.25993286451,
          0.06608292174000001,
          0,
          0,
          0,
          0,
          0,
          0,
          0,
          0.006355271340000001,
          0.12262915863,
          0.3915835050600001,
          0.2417605771114286,
          0.06220361975142858,
          0,
          0,
          0,
          0,
          0,
          0,
          0,
          0.00652284552857143,
          0.1174784110971429,
          0.3411203326457143,
          0.2075093304428572,
          0.06032164827857144,
          0,
          0,
          0,
          0,
          0,
          0,
          0,
          0.008127752914285715,
          0.1051318902857143,
          0.2899057073785715,
          0.1706698586057143,
          0.05565190073142858,
          0,
          0,
          0,
          0,
          0,
          0,
          0,
          0.009033355131428573,
          0.08837258250857145,
          0.2388898234800001,
          0.1803225096514286,
          0.06204157740000001,
          0.0003265133142857144,
          0,
          0,
          0,
          0,
          0,
          0,
          0.008099958805714288,
          0.0964145244857143,
          0.2458680336514286,
          0.1400863548857143,
          0.04907960597571429,
          0.0004418048957142857,
          0,
          0,
          0,
          0,
          0,
          0,
          0.007466361068571428,
          0.07936823579142857,
          0.1907200697914286,
          0.1468004535642857,
          0.05329486587857143,
          0.0008437400871428571,
          0,
          0,
          0,
          0,
          0,
          0,
          0.007572612818571429,
          0.08370836679857142,
          0.1952273702185714,
          0.1023563921914286,
          0.03798510181714287,
          0.0007542187714285716,
          0,
          0,
          0,
          0,
          0,
          0,
          0.006012297437142858,
          0.06000329779714287,
          0.1324806185057143,
          0.1047779876314286,
          0.04308383658857144,
          0.0008307200314285716,
          0,
          0,
          0,
          0,
          0,
          0,
          0.008087276057142859,
          0.06041535220285715,
          0.1341892815685715,
          0.1077327982028572,
          0.04517797425428573,
          0.001166812868571429,
          0,
          0,
          0,
          0,
          0,
          0,
          0.007333866822857145,
          0.06356229292285716,
          0.1382920158085715,
          0.1107881263028572,
          0.04695450351428573,
          0.002032882688571429,
          0,
          0,
          0,
          0,
          0,
          0,
          0.00920416746857143,
          0.06719428131428573,
          0.1404904488428572,
          0.1132487144485715,
          0.04999215672000001,
          0.0026208765,
          0,
          0,
          0,
          0,
          0,
          0,
          0.01162373906571429,
          0.07150466183142859,
          0.1442270024485715,
          0.1178084324057143,
          0.05376513949714287,
          0.003185933425714286,
          0,
          0,
          0,
          0,
          0,
          0,
          0.01398650814,
          0.07406428335428573,
          0.14585579118,
          0.1206163119857143,
          0.05650245442285715,
          0.004550408280000001,
          0,
          0,
          0,
          0,
          0,
          0,
          0.01784327801142857,
          0.07588924992000001,
          0.1483144904057143
         ]
        },
        {
         "marker": {
          "color": "rgba(44, 160, 44, 0.7)"
         },
         "name": "duty_cost",
         "stackgroup": "one",
         "type": "scatter",
         "x": [
          "2025-01",
          "2025-02",
          "2025-03",
          "2025-04",
          "2025-05",
          "2025-06",
          "2025-07",
          "2025-08",
          "2025-09",
          "2025-10",
          "2025-11",
          "2025-12",
          "2026-01",
          "2026-02",
          "2026-03",
          "2026-04",
          "2026-05",
          "2026-06",
          "2026-07",
          "2026-08",
          "2026-09",
          "2026-10",
          "2026-11",
          "2026-12",
          "2027-01",
          "2027-02",
          "2027-03",
          "2027-04",
          "2027-05",
          "2027-06",
          "2027-07",
          "2027-08",
          "2027-09",
          "2027-10",
          "2027-11",
          "2027-12",
          "2028-01",
          "2028-02",
          "2028-03",
          "2028-04",
          "2028-05",
          "2028-06",
          "2028-07",
          "2028-08",
          "2028-09",
          "2028-10",
          "2028-11",
          "2028-12",
          "2029-01",
          "2029-02",
          "2029-03",
          "2029-04",
          "2029-05",
          "2029-06",
          "2029-07",
          "2029-08",
          "2029-09",
          "2029-10",
          "2029-11",
          "2029-12",
          "2030-01",
          "2030-02",
          "2030-03",
          "2030-04",
          "2030-05",
          "2030-06",
          "2030-07",
          "2030-08",
          "2030-09",
          "2030-10",
          "2030-11",
          "2030-12",
          "2031-01",
          "2031-02",
          "2031-03",
          "2031-04",
          "2031-05",
          "2031-06",
          "2031-07",
          "2031-08",
          "2031-09",
          "2031-10",
          "2031-11",
          "2031-12",
          "2032-01",
          "2032-02",
          "2032-03",
          "2032-04",
          "2032-05",
          "2032-06",
          "2032-07",
          "2032-08",
          "2032-09",
          "2032-10",
          "2032-11",
          "2032-12",
          "2033-01",
          "2033-02",
          "2033-03",
          "2033-04",
          "2033-05",
          "2033-06",
          "2033-07",
          "2033-08",
          "2033-09",
          "2033-10",
          "2033-11",
          "2033-12",
          "2034-01",
          "2034-02",
          "2034-03",
          "2034-04",
          "2034-05",
          "2034-06",
          "2034-07",
          "2034-08",
          "2034-09",
          "2034-10",
          "2034-11",
          "2034-12",
          "2035-01",
          "2035-02",
          "2035-03",
          "2035-04",
          "2035-05",
          "2035-06",
          "2035-07",
          "2035-08",
          "2035-09",
          "2035-10",
          "2035-11",
          "2035-12",
          "2036-01",
          "2036-02",
          "2036-03",
          "2036-04",
          "2036-05",
          "2036-06",
          "2036-07",
          "2036-08",
          "2036-09",
          "2036-10",
          "2036-11",
          "2036-12",
          "2037-01",
          "2037-02",
          "2037-03",
          "2037-04",
          "2037-05",
          "2037-06",
          "2037-07",
          "2037-08",
          "2037-09",
          "2037-10",
          "2037-11",
          "2037-12",
          "2038-01",
          "2038-02",
          "2038-03",
          "2038-04",
          "2038-05",
          "2038-06",
          "2038-07",
          "2038-08",
          "2038-09",
          "2038-10",
          "2038-11",
          "2038-12",
          "2039-01",
          "2039-02",
          "2039-03",
          "2039-04",
          "2039-05",
          "2039-06",
          "2039-07",
          "2039-08",
          "2039-09",
          "2039-10",
          "2039-11",
          "2039-12",
          "2040-01",
          "2040-02",
          "2040-03",
          "2040-04",
          "2040-05",
          "2040-06",
          "2040-07",
          "2040-08",
          "2040-09",
          "2040-10",
          "2040-11",
          "2040-12",
          "2041-01",
          "2041-02",
          "2041-03",
          "2041-04",
          "2041-05",
          "2041-06",
          "2041-07",
          "2041-08",
          "2041-09",
          "2041-10",
          "2041-11",
          "2041-12",
          "2042-01",
          "2042-02",
          "2042-03",
          "2042-04",
          "2042-05",
          "2042-06",
          "2042-07",
          "2042-08",
          "2042-09",
          "2042-10",
          "2042-11",
          "2042-12",
          "2043-01",
          "2043-02",
          "2043-03",
          "2043-04",
          "2043-05",
          "2043-06",
          "2043-07",
          "2043-08",
          "2043-09",
          "2043-10",
          "2043-11",
          "2043-12",
          "2044-01",
          "2044-02",
          "2044-03",
          "2044-04",
          "2044-05",
          "2044-06",
          "2044-07",
          "2044-08",
          "2044-09",
          "2044-10",
          "2044-11",
          "2044-12",
          "2045-01",
          "2045-02",
          "2045-03",
          "2045-04",
          "2045-05",
          "2045-06",
          "2045-07",
          "2045-08",
          "2045-09",
          "2045-10",
          "2045-11",
          "2045-12",
          "2046-01",
          "2046-02",
          "2046-03",
          "2046-04",
          "2046-05",
          "2046-06",
          "2046-07",
          "2046-08",
          "2046-09",
          "2046-10",
          "2046-11",
          "2046-12",
          "2047-01",
          "2047-02",
          "2047-03",
          "2047-04",
          "2047-05",
          "2047-06",
          "2047-07",
          "2047-08",
          "2047-09",
          "2047-10",
          "2047-11",
          "2047-12",
          "2048-01",
          "2048-02",
          "2048-03",
          "2048-04",
          "2048-05",
          "2048-06",
          "2048-07",
          "2048-08",
          "2048-09",
          "2048-10",
          "2048-11",
          "2048-12",
          "2049-01",
          "2049-02",
          "2049-03",
          "2049-04",
          "2049-05",
          "2049-06",
          "2049-07",
          "2049-08",
          "2049-09",
          "2049-10",
          "2049-11",
          "2049-12"
         ],
         "y": [
          0.49838531,
          0.17820181,
          0,
          0,
          0,
          0,
          0,
          0,
          0,
          0,
          0.4228783,
          1.27129988,
          0.60177019,
          0.20851539,
          0,
          0,
          0,
          0,
          0,
          0,
          0,
          0,
          0.4276112500000001,
          1.29242223,
          0.6339088500000001,
          0.23593699,
          0,
          0,
          0,
          0,
          0,
          0,
          0,
          0,
          0.4234912,
          1.32949814,
          0.69511259,
          0.24863083,
          0,
          0,
          0,
          0,
          0,
          0,
          0,
          0,
          0.40299764,
          1.40170457,
          0.77123931,
          0.22636667,
          0,
          0,
          0,
          0,
          0,
          0,
          0,
          0,
          0.4254661,
          1.44492083,
          0.83271545,
          0.23262506,
          0,
          0,
          0,
          0,
          0,
          0,
          0,
          0.0033369,
          0.45442903,
          1.52234599,
          0.91817641,
          0.24206826,
          0,
          0,
          0,
          0,
          0,
          0,
          0,
          0,
          0.45988384,
          1.58975818,
          1.00905359,
          0.25301647,
          0,
          0,
          0,
          0,
          0,
          0,
          0,
          0.005373090000000001,
          0.46082816,
          1.61608791,
          1.04187552,
          0.29574241,
          0,
          0,
          0,
          0,
          0,
          0,
          0,
          0.01580374,
          0.44550112,
          1.66873148,
          1.1250574,
          0.29434409,
          0,
          0,
          0,
          0,
          0,
          0,
          0,
          0.01222395,
          0.45982028,
          1.75229018,
          1.18720319,
          0.29317731,
          0,
          0,
          0,
          0,
          0,
          0,
          0,
          0.02868599,
          0.51286337,
          1.79928826,
          1.24949199,
          0.31765926,
          0,
          0,
          0,
          0,
          0,
          0,
          0,
          0.03054966,
          0.58947587,
          1.88233394,
          1.35582787,
          0.34884679,
          0,
          0,
          0,
          0,
          0,
          0,
          0,
          0.03658105,
          0.65883572,
          1.91305158,
          1.39649038,
          0.4059509100000001,
          0,
          0,
          0,
          0,
          0,
          0,
          0,
          0.05469792,
          0.7075136000000001,
          1.95099917,
          1.43571144,
          0.4681557200000001,
          0,
          0,
          0,
          0,
          0,
          0,
          0,
          0.07599052,
          0.7434091100000001,
          2.00959241,
          1.51691161,
          0.52190705,
          0.0027467,
          0,
          0,
          0,
          0,
          0,
          0,
          0.06813859,
          0.81105965,
          2.06829461,
          1.5712486,
          0.5504908900000001,
          0.00495541,
          0,
          0,
          0,
          0,
          0,
          0,
          0.08374484,
          0.89021682,
          2.13917082,
          1.64655585,
          0.5977704500000001,
          0.00946363,
          0,
          0,
          0,
          0,
          0,
          0,
          0.08493659,
          0.93889697,
          2.18972599,
          1.72208783,
          0.63907764,
          0.0126893,
          0,
          0,
          0,
          0,
          0,
          0,
          0.10115347,
          1.00952121,
          2.22891073,
          1.76282979,
          0.72486094,
          0.01397639,
          0,
          0,
          0,
          0,
          0,
          0,
          0.1360638,
          1.01645379,
          2.25765801,
          1.81254279,
          0.7600936100000001,
          0.01963096,
          0,
          0,
          0,
          0,
          0,
          0,
          0.12338812,
          1.06939927,
          2.32668417,
          1.86394694,
          0.7899827,
          0.03420209,
          0,
          0,
          0,
          0,
          0,
          0,
          0.15485486,
          1.1305054,
          2.36367155,
          1.90534493,
          0.8410894800000001,
          0.04409475,
          0,
          0,
          0,
          0,
          0,
          0,
          0.19556277,
          1.20302509,
          2.42653693,
          1.98205958,
          0.90456776,
          0.05360151,
          0,
          0,
          0,
          0,
          0,
          0,
          0.23531501,
          1.24608926,
          2.45394037,
          2.02930055,
          0.9506215200000001,
          0.07655802,
          0,
          0,
          0,
          0,
          0,
          0,
          0.30020296,
          1.27679328,
          2.49530658
         ]
        },
        {
         "marker": {
          "color": "rgba(148, 103, 189, 0.7)"
         },
         "name": "vat_cost",
         "stackgroup": "one",
         "type": "scatter",
         "x": [
          "2025-01",
          "2025-02",
          "2025-03",
          "2025-04",
          "2025-05",
          "2025-06",
          "2025-07",
          "2025-08",
          "2025-09",
          "2025-10",
          "2025-11",
          "2025-12",
          "2026-01",
          "2026-02",
          "2026-03",
          "2026-04",
          "2026-05",
          "2026-06",
          "2026-07",
          "2026-08",
          "2026-09",
          "2026-10",
          "2026-11",
          "2026-12",
          "2027-01",
          "2027-02",
          "2027-03",
          "2027-04",
          "2027-05",
          "2027-06",
          "2027-07",
          "2027-08",
          "2027-09",
          "2027-10",
          "2027-11",
          "2027-12",
          "2028-01",
          "2028-02",
          "2028-03",
          "2028-04",
          "2028-05",
          "2028-06",
          "2028-07",
          "2028-08",
          "2028-09",
          "2028-10",
          "2028-11",
          "2028-12",
          "2029-01",
          "2029-02",
          "2029-03",
          "2029-04",
          "2029-05",
          "2029-06",
          "2029-07",
          "2029-08",
          "2029-09",
          "2029-10",
          "2029-11",
          "2029-12",
          "2030-01",
          "2030-02",
          "2030-03",
          "2030-04",
          "2030-05",
          "2030-06",
          "2030-07",
          "2030-08",
          "2030-09",
          "2030-10",
          "2030-11",
          "2030-12",
          "2031-01",
          "2031-02",
          "2031-03",
          "2031-04",
          "2031-05",
          "2031-06",
          "2031-07",
          "2031-08",
          "2031-09",
          "2031-10",
          "2031-11",
          "2031-12",
          "2032-01",
          "2032-02",
          "2032-03",
          "2032-04",
          "2032-05",
          "2032-06",
          "2032-07",
          "2032-08",
          "2032-09",
          "2032-10",
          "2032-11",
          "2032-12",
          "2033-01",
          "2033-02",
          "2033-03",
          "2033-04",
          "2033-05",
          "2033-06",
          "2033-07",
          "2033-08",
          "2033-09",
          "2033-10",
          "2033-11",
          "2033-12",
          "2034-01",
          "2034-02",
          "2034-03",
          "2034-04",
          "2034-05",
          "2034-06",
          "2034-07",
          "2034-08",
          "2034-09",
          "2034-10",
          "2034-11",
          "2034-12",
          "2035-01",
          "2035-02",
          "2035-03",
          "2035-04",
          "2035-05",
          "2035-06",
          "2035-07",
          "2035-08",
          "2035-09",
          "2035-10",
          "2035-11",
          "2035-12",
          "2036-01",
          "2036-02",
          "2036-03",
          "2036-04",
          "2036-05",
          "2036-06",
          "2036-07",
          "2036-08",
          "2036-09",
          "2036-10",
          "2036-11",
          "2036-12",
          "2037-01",
          "2037-02",
          "2037-03",
          "2037-04",
          "2037-05",
          "2037-06",
          "2037-07",
          "2037-08",
          "2037-09",
          "2037-10",
          "2037-11",
          "2037-12",
          "2038-01",
          "2038-02",
          "2038-03",
          "2038-04",
          "2038-05",
          "2038-06",
          "2038-07",
          "2038-08",
          "2038-09",
          "2038-10",
          "2038-11",
          "2038-12",
          "2039-01",
          "2039-02",
          "2039-03",
          "2039-04",
          "2039-05",
          "2039-06",
          "2039-07",
          "2039-08",
          "2039-09",
          "2039-10",
          "2039-11",
          "2039-12",
          "2040-01",
          "2040-02",
          "2040-03",
          "2040-04",
          "2040-05",
          "2040-06",
          "2040-07",
          "2040-08",
          "2040-09",
          "2040-10",
          "2040-11",
          "2040-12",
          "2041-01",
          "2041-02",
          "2041-03",
          "2041-04",
          "2041-05",
          "2041-06",
          "2041-07",
          "2041-08",
          "2041-09",
          "2041-10",
          "2041-11",
          "2041-12",
          "2042-01",
          "2042-02",
          "2042-03",
          "2042-04",
          "2042-05",
          "2042-06",
          "2042-07",
          "2042-08",
          "2042-09",
          "2042-10",
          "2042-11",
          "2042-12",
          "2043-01",
          "2043-02",
          "2043-03",
          "2043-04",
          "2043-05",
          "2043-06",
          "2043-07",
          "2043-08",
          "2043-09",
          "2043-10",
          "2043-11",
          "2043-12",
          "2044-01",
          "2044-02",
          "2044-03",
          "2044-04",
          "2044-05",
          "2044-06",
          "2044-07",
          "2044-08",
          "2044-09",
          "2044-10",
          "2044-11",
          "2044-12",
          "2045-01",
          "2045-02",
          "2045-03",
          "2045-04",
          "2045-05",
          "2045-06",
          "2045-07",
          "2045-08",
          "2045-09",
          "2045-10",
          "2045-11",
          "2045-12",
          "2046-01",
          "2046-02",
          "2046-03",
          "2046-04",
          "2046-05",
          "2046-06",
          "2046-07",
          "2046-08",
          "2046-09",
          "2046-10",
          "2046-11",
          "2046-12",
          "2047-01",
          "2047-02",
          "2047-03",
          "2047-04",
          "2047-05",
          "2047-06",
          "2047-07",
          "2047-08",
          "2047-09",
          "2047-10",
          "2047-11",
          "2047-12",
          "2048-01",
          "2048-02",
          "2048-03",
          "2048-04",
          "2048-05",
          "2048-06",
          "2048-07",
          "2048-08",
          "2048-09",
          "2048-10",
          "2048-11",
          "2048-12",
          "2049-01",
          "2049-02",
          "2049-03",
          "2049-04",
          "2049-05",
          "2049-06",
          "2049-07",
          "2049-08",
          "2049-09",
          "2049-10",
          "2049-11",
          "2049-12"
         ],
         "y": [
          2.779131023172233,
          2.201963810870178,
          2.214283287671233,
          2.142854794520548,
          2.214283287671233,
          2.142854794520548,
          2.214283287671233,
          2.214283287671233,
          2.142854794520548,
          2.214283287671233,
          2.622126244450548,
          3.655118007219234,
          2.853349387600733,
          2.221436356151536,
          2.214283287671233,
          2.142854794520548,
          2.214283287671233,
          2.142854794520548,
          2.214283287671233,
          2.214283287671233,
          2.142854794520548,
          2.214283287671233,
          2.596968106154477,
          3.586805967779876,
          2.89313158764159,
          2.252660986153393,
          2.214283287671233,
          2.142854794520548,
          2.214283287671233,
          2.142854794520548,
          2.214283287671233,
          2.214283287671233,
          2.142854794520548,
          2.214283287671233,
          2.596368389057691,
          3.638033014706519,
          2.938842360570519,
          2.330589674714863,
          2.214283287671233,
          2.142854794520548,
          2.214283287671233,
          2.142854794520548,
          2.214283287671233,
          2.214283287671233,
          2.142854794520548,
          2.214283287671233,
          2.562924292066262,
          3.675367115426233,
          2.987439872386376,
          2.226927218068036,
          2.214283287671233,
          2.142854794520548,
          2.214283287671233,
          2.142854794520548,
          2.214283287671233,
          2.214283287671233,
          2.142854794520548,
          2.214283287671233,
          2.569378588786262,
          3.662796141750948,
          3.036695233406233,
          2.229744510074321,
          2.214283287671233,
          2.142854794520548,
          2.214283287671233,
          2.142854794520548,
          2.214283287671233,
          2.214283287671233,
          2.142854794520548,
          2.217578898941233,
          2.591661001683834,
          3.71779271303109,
          3.081756655738805,
          2.228698705473178,
          2.214283287671233,
          2.142854794520548,
          2.214283287671233,
          2.142854794520548,
          2.214283287671233,
          2.214283287671233,
          2.142854794520548,
          2.214283287671233,
          2.577343177427977,
          3.716252699864662,
          3.164616689990662,
          2.309718900653863,
          2.214283287671233,
          2.142854794520548,
          2.214283287671233,
          2.142854794520548,
          2.214283287671233,
          2.214283287671233,
          2.142854794520548,
          2.219343699676376,
          2.576865829729691,
          3.736325662008948,
          3.164001049415233,
          2.269580703955107,
          2.214283287671233,
          2.142854794520548,
          2.214283287671233,
          2.142854794520548,
          2.214283287671233,
          2.214283287671233,
          2.142854794520548,
          2.228689128188519,
          2.548949686298834,
          3.735409272220091,
          3.126145390295519,
          2.238564498951964,
          2.214283287671233,
          2.142854794520548,
          2.214283287671233,
          2.142854794520548,
          2.214283287671233,
          2.214283287671233,
          2.142854794520548,
          2.224190832610162,
          2.51554039025112,
          3.634519275579662,
          3.144760810936305,
          2.229777259271964,
          2.214283287671233,
          2.142854794520548,
          2.214283287671233,
          2.142854794520548,
          2.214283287671233,
          2.214283287671233,
          2.142854794520548,
          2.23676610203059,
          2.54481449468862,
          3.624486105442233,
          3.135651525416233,
          2.305666420499863,
          2.214283287671233,
          2.142854794520548,
          2.214283287671233,
          2.142854794520548,
          2.214283287671233,
          2.214283287671233,
          2.142854794520548,
          2.236810432001233,
          2.577530925205548,
          3.602305555141233,
          3.155968372565376,
          2.242288018005321,
          2.214283287671233,
          2.142854794520548,
          2.214283287671233,
          2.142854794520548,
          2.214283287671233,
          2.214283287671233,
          2.142854794520548,
          2.23969051666909,
          2.600446635378263,
          3.542985978757805,
          3.180060177457519,
          2.280743034166036,
          2.214283287671233,
          2.142854794520548,
          2.214283287671233,
          2.142854794520548,
          2.214283287671233,
          2.214283287671233,
          2.142854794520548,
          2.252110964690662,
          2.63215303378912,
          3.56354421876209,
          3.202917709027805,
          2.322370986040321,
          2.214283287671233,
          2.142854794520548,
          2.214283287671233,
          2.142854794520548,
          2.214283287671233,
          2.214283287671233,
          2.142854794520548,
          2.266610546252376,
          2.654768132270406,
          3.598093553488233,
          3.258832345385376,
          2.430812776954863,
          2.216174672032662,
          2.142854794520548,
          2.214283287671233,
          2.142854794520548,
          2.214283287671233,
          2.214283287671233,
          2.142854794520548,
          2.261203687982805,
          2.70135246015412,
          3.638516032485376,
          3.291579384899805,
          2.37743119931775,
          2.217680868329805,
          2.142854794520548,
          2.214283287671233,
          2.142854794520548,
          2.214283287671233,
          2.214283287671233,
          2.142854794520548,
          2.27170131133409,
          2.753214673837691,
          3.680964228988376,
          3.343212338792662,
          2.409847511712035,
          2.220771841846947,
          2.142854794520548,
          2.214283287671233,
          2.142854794520548,
          2.214283287671233,
          2.214283287671233,
          2.142854794520548,
          2.27251841158409,
          2.786591273573405,
          3.715626399784091,
          3.389881554837376,
          2.436269729476892,
          2.222945748918376,
          2.142854794520548,
          2.214283287671233,
          2.142854794520548,
          2.214283287671233,
          2.214283287671233,
          2.142854794520548,
          2.283336585637947,
          2.832013247689263,
          3.735868625078805,
          3.417694408945376,
          2.566258940074721,
          2.223824392125376,
          2.142854794520548,
          2.214283287671233,
          2.142854794520548,
          2.214283287671233,
          2.214283287671233,
          2.142854794520548,
          2.307168426696947,
          2.836745833851834,
          3.75549320633709,
          3.451631421702519,
          2.518882336193607,
          2.22768453362209,
          2.142854794520548,
          2.214283287671233,
          2.142854794520548,
          2.214283287671233,
          2.214283287671233,
          2.142854794520548,
          2.298515263261519,
          2.872889527255834,
          3.80261451610509,
          3.486722912747519,
          2.539286384000607,
          2.23763164252109,
          2.142854794520548,
          2.214283287671233,
          2.142854794520548,
          2.214283287671233,
          2.214283287671233,
          2.142854794520548,
          2.31999630759209,
          2.914604159511977,
          3.827864273450519,
          3.51498361145309,
          2.574174872823178,
          2.244384953096233,
          2.142854794520548,
          2.214283287671233,
          2.142854794520548,
          2.214283287671233,
          2.214283287671233,
          2.142854794520548,
          2.347785917170805,
          2.964110357984691,
          3.87077987305309,
          3.567353535933805,
          2.688937367103577,
          2.250874825672804,
          2.142854794520548,
          2.214283287671233,
          2.142854794520548,
          2.214283287671233,
          2.214283287671233,
          2.142854794520548,
          2.374923130294233,
          2.993508488989977,
          3.889487070222233,
          3.599602995864805,
          2.648947874629464,
          2.266546287317233,
          2.142854794520548,
          2.214283287671233,
          2.142854794520548,
          2.214283287671233,
          2.214283287671233,
          2.142854794520548,
          2.419219454936376,
          3.014468855864548,
          3.917726074033805
         ]
        }
       ],
       "layout": {
        "plot_bgcolor": "white",
        "template": {
         "data": {
          "bar": [
           {
            "error_x": {
             "color": "#2a3f5f"
            },
            "error_y": {
             "color": "#2a3f5f"
            },
            "marker": {
             "line": {
              "color": "#E5ECF6",
              "width": 0.5
             },
             "pattern": {
              "fillmode": "overlay",
              "size": 10,
              "solidity": 0.2
             }
            },
            "type": "bar"
           }
          ],
          "barpolar": [
           {
            "marker": {
             "line": {
              "color": "#E5ECF6",
              "width": 0.5
             },
             "pattern": {
              "fillmode": "overlay",
              "size": 10,
              "solidity": 0.2
             }
            },
            "type": "barpolar"
           }
          ],
          "carpet": [
           {
            "aaxis": {
             "endlinecolor": "#2a3f5f",
             "gridcolor": "white",
             "linecolor": "white",
             "minorgridcolor": "white",
             "startlinecolor": "#2a3f5f"
            },
            "baxis": {
             "endlinecolor": "#2a3f5f",
             "gridcolor": "white",
             "linecolor": "white",
             "minorgridcolor": "white",
             "startlinecolor": "#2a3f5f"
            },
            "type": "carpet"
           }
          ],
          "choropleth": [
           {
            "colorbar": {
             "outlinewidth": 0,
             "ticks": ""
            },
            "type": "choropleth"
           }
          ],
          "contour": [
           {
            "colorbar": {
             "outlinewidth": 0,
             "ticks": ""
            },
            "colorscale": [
             [
              0,
              "#0d0887"
             ],
             [
              0.1111111111111111,
              "#46039f"
             ],
             [
              0.2222222222222222,
              "#7201a8"
             ],
             [
              0.3333333333333333,
              "#9c179e"
             ],
             [
              0.4444444444444444,
              "#bd3786"
             ],
             [
              0.5555555555555556,
              "#d8576b"
             ],
             [
              0.6666666666666666,
              "#ed7953"
             ],
             [
              0.7777777777777778,
              "#fb9f3a"
             ],
             [
              0.8888888888888888,
              "#fdca26"
             ],
             [
              1,
              "#f0f921"
             ]
            ],
            "type": "contour"
           }
          ],
          "contourcarpet": [
           {
            "colorbar": {
             "outlinewidth": 0,
             "ticks": ""
            },
            "type": "contourcarpet"
           }
          ],
          "heatmap": [
           {
            "colorbar": {
             "outlinewidth": 0,
             "ticks": ""
            },
            "colorscale": [
             [
              0,
              "#0d0887"
             ],
             [
              0.1111111111111111,
              "#46039f"
             ],
             [
              0.2222222222222222,
              "#7201a8"
             ],
             [
              0.3333333333333333,
              "#9c179e"
             ],
             [
              0.4444444444444444,
              "#bd3786"
             ],
             [
              0.5555555555555556,
              "#d8576b"
             ],
             [
              0.6666666666666666,
              "#ed7953"
             ],
             [
              0.7777777777777778,
              "#fb9f3a"
             ],
             [
              0.8888888888888888,
              "#fdca26"
             ],
             [
              1,
              "#f0f921"
             ]
            ],
            "type": "heatmap"
           }
          ],
          "heatmapgl": [
           {
            "colorbar": {
             "outlinewidth": 0,
             "ticks": ""
            },
            "colorscale": [
             [
              0,
              "#0d0887"
             ],
             [
              0.1111111111111111,
              "#46039f"
             ],
             [
              0.2222222222222222,
              "#7201a8"
             ],
             [
              0.3333333333333333,
              "#9c179e"
             ],
             [
              0.4444444444444444,
              "#bd3786"
             ],
             [
              0.5555555555555556,
              "#d8576b"
             ],
             [
              0.6666666666666666,
              "#ed7953"
             ],
             [
              0.7777777777777778,
              "#fb9f3a"
             ],
             [
              0.8888888888888888,
              "#fdca26"
             ],
             [
              1,
              "#f0f921"
             ]
            ],
            "type": "heatmapgl"
           }
          ],
          "histogram": [
           {
            "marker": {
             "pattern": {
              "fillmode": "overlay",
              "size": 10,
              "solidity": 0.2
             }
            },
            "type": "histogram"
           }
          ],
          "histogram2d": [
           {
            "colorbar": {
             "outlinewidth": 0,
             "ticks": ""
            },
            "colorscale": [
             [
              0,
              "#0d0887"
             ],
             [
              0.1111111111111111,
              "#46039f"
             ],
             [
              0.2222222222222222,
              "#7201a8"
             ],
             [
              0.3333333333333333,
              "#9c179e"
             ],
             [
              0.4444444444444444,
              "#bd3786"
             ],
             [
              0.5555555555555556,
              "#d8576b"
             ],
             [
              0.6666666666666666,
              "#ed7953"
             ],
             [
              0.7777777777777778,
              "#fb9f3a"
             ],
             [
              0.8888888888888888,
              "#fdca26"
             ],
             [
              1,
              "#f0f921"
             ]
            ],
            "type": "histogram2d"
           }
          ],
          "histogram2dcontour": [
           {
            "colorbar": {
             "outlinewidth": 0,
             "ticks": ""
            },
            "colorscale": [
             [
              0,
              "#0d0887"
             ],
             [
              0.1111111111111111,
              "#46039f"
             ],
             [
              0.2222222222222222,
              "#7201a8"
             ],
             [
              0.3333333333333333,
              "#9c179e"
             ],
             [
              0.4444444444444444,
              "#bd3786"
             ],
             [
              0.5555555555555556,
              "#d8576b"
             ],
             [
              0.6666666666666666,
              "#ed7953"
             ],
             [
              0.7777777777777778,
              "#fb9f3a"
             ],
             [
              0.8888888888888888,
              "#fdca26"
             ],
             [
              1,
              "#f0f921"
             ]
            ],
            "type": "histogram2dcontour"
           }
          ],
          "mesh3d": [
           {
            "colorbar": {
             "outlinewidth": 0,
             "ticks": ""
            },
            "type": "mesh3d"
           }
          ],
          "parcoords": [
           {
            "line": {
             "colorbar": {
              "outlinewidth": 0,
              "ticks": ""
             }
            },
            "type": "parcoords"
           }
          ],
          "pie": [
           {
            "automargin": true,
            "type": "pie"
           }
          ],
          "scatter": [
           {
            "fillpattern": {
             "fillmode": "overlay",
             "size": 10,
             "solidity": 0.2
            },
            "type": "scatter"
           }
          ],
          "scatter3d": [
           {
            "line": {
             "colorbar": {
              "outlinewidth": 0,
              "ticks": ""
             }
            },
            "marker": {
             "colorbar": {
              "outlinewidth": 0,
              "ticks": ""
             }
            },
            "type": "scatter3d"
           }
          ],
          "scattercarpet": [
           {
            "marker": {
             "colorbar": {
              "outlinewidth": 0,
              "ticks": ""
             }
            },
            "type": "scattercarpet"
           }
          ],
          "scattergeo": [
           {
            "marker": {
             "colorbar": {
              "outlinewidth": 0,
              "ticks": ""
             }
            },
            "type": "scattergeo"
           }
          ],
          "scattergl": [
           {
            "marker": {
             "colorbar": {
              "outlinewidth": 0,
              "ticks": ""
             }
            },
            "type": "scattergl"
           }
          ],
          "scattermapbox": [
           {
            "marker": {
             "colorbar": {
              "outlinewidth": 0,
              "ticks": ""
             }
            },
            "type": "scattermapbox"
           }
          ],
          "scatterpolar": [
           {
            "marker": {
             "colorbar": {
              "outlinewidth": 0,
              "ticks": ""
             }
            },
            "type": "scatterpolar"
           }
          ],
          "scatterpolargl": [
           {
            "marker": {
             "colorbar": {
              "outlinewidth": 0,
              "ticks": ""
             }
            },
            "type": "scatterpolargl"
           }
          ],
          "scatterternary": [
           {
            "marker": {
             "colorbar": {
              "outlinewidth": 0,
              "ticks": ""
             }
            },
            "type": "scatterternary"
           }
          ],
          "surface": [
           {
            "colorbar": {
             "outlinewidth": 0,
             "ticks": ""
            },
            "colorscale": [
             [
              0,
              "#0d0887"
             ],
             [
              0.1111111111111111,
              "#46039f"
             ],
             [
              0.2222222222222222,
              "#7201a8"
             ],
             [
              0.3333333333333333,
              "#9c179e"
             ],
             [
              0.4444444444444444,
              "#bd3786"
             ],
             [
              0.5555555555555556,
              "#d8576b"
             ],
             [
              0.6666666666666666,
              "#ed7953"
             ],
             [
              0.7777777777777778,
              "#fb9f3a"
             ],
             [
              0.8888888888888888,
              "#fdca26"
             ],
             [
              1,
              "#f0f921"
             ]
            ],
            "type": "surface"
           }
          ],
          "table": [
           {
            "cells": {
             "fill": {
              "color": "#EBF0F8"
             },
             "line": {
              "color": "white"
             }
            },
            "header": {
             "fill": {
              "color": "#C8D4E3"
             },
             "line": {
              "color": "white"
             }
            },
            "type": "table"
           }
          ]
         },
         "layout": {
          "annotationdefaults": {
           "arrowcolor": "#2a3f5f",
           "arrowhead": 0,
           "arrowwidth": 1
          },
          "autotypenumbers": "strict",
          "coloraxis": {
           "colorbar": {
            "outlinewidth": 0,
            "ticks": ""
           }
          },
          "colorscale": {
           "diverging": [
            [
             0,
             "#8e0152"
            ],
            [
             0.1,
             "#c51b7d"
            ],
            [
             0.2,
             "#de77ae"
            ],
            [
             0.3,
             "#f1b6da"
            ],
            [
             0.4,
             "#fde0ef"
            ],
            [
             0.5,
             "#f7f7f7"
            ],
            [
             0.6,
             "#e6f5d0"
            ],
            [
             0.7,
             "#b8e186"
            ],
            [
             0.8,
             "#7fbc41"
            ],
            [
             0.9,
             "#4d9221"
            ],
            [
             1,
             "#276419"
            ]
           ],
           "sequential": [
            [
             0,
             "#0d0887"
            ],
            [
             0.1111111111111111,
             "#46039f"
            ],
            [
             0.2222222222222222,
             "#7201a8"
            ],
            [
             0.3333333333333333,
             "#9c179e"
            ],
            [
             0.4444444444444444,
             "#bd3786"
            ],
            [
             0.5555555555555556,
             "#d8576b"
            ],
            [
             0.6666666666666666,
             "#ed7953"
            ],
            [
             0.7777777777777778,
             "#fb9f3a"
            ],
            [
             0.8888888888888888,
             "#fdca26"
            ],
            [
             1,
             "#f0f921"
            ]
           ],
           "sequentialminus": [
            [
             0,
             "#0d0887"
            ],
            [
             0.1111111111111111,
             "#46039f"
            ],
            [
             0.2222222222222222,
             "#7201a8"
            ],
            [
             0.3333333333333333,
             "#9c179e"
            ],
            [
             0.4444444444444444,
             "#bd3786"
            ],
            [
             0.5555555555555556,
             "#d8576b"
            ],
            [
             0.6666666666666666,
             "#ed7953"
            ],
            [
             0.7777777777777778,
             "#fb9f3a"
            ],
            [
             0.8888888888888888,
             "#fdca26"
            ],
            [
             1,
             "#f0f921"
            ]
           ]
          },
          "colorway": [
           "#636efa",
           "#EF553B",
           "#00cc96",
           "#ab63fa",
           "#FFA15A",
           "#19d3f3",
           "#FF6692",
           "#B6E880",
           "#FF97FF",
           "#FECB52"
          ],
          "font": {
           "color": "#2a3f5f"
          },
          "geo": {
           "bgcolor": "white",
           "lakecolor": "white",
           "landcolor": "#E5ECF6",
           "showlakes": true,
           "showland": true,
           "subunitcolor": "white"
          },
          "hoverlabel": {
           "align": "left"
          },
          "hovermode": "closest",
          "mapbox": {
           "style": "light"
          },
          "paper_bgcolor": "white",
          "plot_bgcolor": "#E5ECF6",
          "polar": {
           "angularaxis": {
            "gridcolor": "white",
            "linecolor": "white",
            "ticks": ""
           },
           "bgcolor": "#E5ECF6",
           "radialaxis": {
            "gridcolor": "white",
            "linecolor": "white",
            "ticks": ""
           }
          },
          "scene": {
           "xaxis": {
            "backgroundcolor": "#E5ECF6",
            "gridcolor": "white",
            "gridwidth": 2,
            "linecolor": "white",
            "showbackground": true,
            "ticks": "",
            "zerolinecolor": "white"
           },
           "yaxis": {
            "backgroundcolor": "#E5ECF6",
            "gridcolor": "white",
            "gridwidth": 2,
            "linecolor": "white",
            "showbackground": true,
            "ticks": "",
            "zerolinecolor": "white"
           },
           "zaxis": {
            "backgroundcolor": "#E5ECF6",
            "gridcolor": "white",
            "gridwidth": 2,
            "linecolor": "white",
            "showbackground": true,
            "ticks": "",
            "zerolinecolor": "white"
           }
          },
          "shapedefaults": {
           "line": {
            "color": "#2a3f5f"
           }
          },
          "ternary": {
           "aaxis": {
            "gridcolor": "white",
            "linecolor": "white",
            "ticks": ""
           },
           "baxis": {
            "gridcolor": "white",
            "linecolor": "white",
            "ticks": ""
           },
           "bgcolor": "#E5ECF6",
           "caxis": {
            "gridcolor": "white",
            "linecolor": "white",
            "ticks": ""
           }
          },
          "title": {
           "x": 0.05
          },
          "xaxis": {
           "automargin": true,
           "gridcolor": "white",
           "linecolor": "white",
           "ticks": "",
           "title": {
            "standoff": 15
           },
           "zerolinecolor": "white",
           "zerolinewidth": 2
          },
          "yaxis": {
           "automargin": true,
           "gridcolor": "white",
           "linecolor": "white",
           "ticks": "",
           "title": {
            "standoff": 15
           },
           "zerolinecolor": "white",
           "zerolinewidth": 2
          }
         }
        },
        "title": {
         "text": "Bills user res_pros in scenario pv - line chart"
        },
        "xaxis": {
         "title": {
          "text": "mese"
         }
        },
        "yaxis": {
         "exponentformat": "none",
         "title": {
          "text": "€/month"
         }
        }
       }
      }
     },
     "metadata": {},
     "output_type": "display_data"
    },
    {
     "data": {
      "application/vnd.plotly.v1+json": {
       "config": {
        "plotlyServerURL": "https://plot.ly"
       },
       "data": [
        {
         "labels": [
          "me_cost",
          "transport_cost",
          "ogs_cost",
          "duty_cost",
          "vat_cost"
         ],
         "marker": {
          "colors": [
           "rgba(214, 39, 40, 0.7)",
           "rgba(255, 160, 50, 0.7)",
           "rgba(31, 119, 180, 0.6)",
           "rgba(44, 160, 44, 0.7)",
           "rgba(148, 103, 189, 0.7)"
          ]
         },
         "pull": [
          0.05,
          0.05,
          0.05,
          0.05,
          0.05
         ],
         "type": "pie",
         "values": [
          3281.41115314526,
          3927.189746479187,
          60.72124404258002,
          111.69426039999999,
          738.1016404067027
         ]
        }
       ],
       "layout": {
        "plot_bgcolor": "white",
        "template": {
         "data": {
          "bar": [
           {
            "error_x": {
             "color": "#2a3f5f"
            },
            "error_y": {
             "color": "#2a3f5f"
            },
            "marker": {
             "line": {
              "color": "#E5ECF6",
              "width": 0.5
             },
             "pattern": {
              "fillmode": "overlay",
              "size": 10,
              "solidity": 0.2
             }
            },
            "type": "bar"
           }
          ],
          "barpolar": [
           {
            "marker": {
             "line": {
              "color": "#E5ECF6",
              "width": 0.5
             },
             "pattern": {
              "fillmode": "overlay",
              "size": 10,
              "solidity": 0.2
             }
            },
            "type": "barpolar"
           }
          ],
          "carpet": [
           {
            "aaxis": {
             "endlinecolor": "#2a3f5f",
             "gridcolor": "white",
             "linecolor": "white",
             "minorgridcolor": "white",
             "startlinecolor": "#2a3f5f"
            },
            "baxis": {
             "endlinecolor": "#2a3f5f",
             "gridcolor": "white",
             "linecolor": "white",
             "minorgridcolor": "white",
             "startlinecolor": "#2a3f5f"
            },
            "type": "carpet"
           }
          ],
          "choropleth": [
           {
            "colorbar": {
             "outlinewidth": 0,
             "ticks": ""
            },
            "type": "choropleth"
           }
          ],
          "contour": [
           {
            "colorbar": {
             "outlinewidth": 0,
             "ticks": ""
            },
            "colorscale": [
             [
              0,
              "#0d0887"
             ],
             [
              0.1111111111111111,
              "#46039f"
             ],
             [
              0.2222222222222222,
              "#7201a8"
             ],
             [
              0.3333333333333333,
              "#9c179e"
             ],
             [
              0.4444444444444444,
              "#bd3786"
             ],
             [
              0.5555555555555556,
              "#d8576b"
             ],
             [
              0.6666666666666666,
              "#ed7953"
             ],
             [
              0.7777777777777778,
              "#fb9f3a"
             ],
             [
              0.8888888888888888,
              "#fdca26"
             ],
             [
              1,
              "#f0f921"
             ]
            ],
            "type": "contour"
           }
          ],
          "contourcarpet": [
           {
            "colorbar": {
             "outlinewidth": 0,
             "ticks": ""
            },
            "type": "contourcarpet"
           }
          ],
          "heatmap": [
           {
            "colorbar": {
             "outlinewidth": 0,
             "ticks": ""
            },
            "colorscale": [
             [
              0,
              "#0d0887"
             ],
             [
              0.1111111111111111,
              "#46039f"
             ],
             [
              0.2222222222222222,
              "#7201a8"
             ],
             [
              0.3333333333333333,
              "#9c179e"
             ],
             [
              0.4444444444444444,
              "#bd3786"
             ],
             [
              0.5555555555555556,
              "#d8576b"
             ],
             [
              0.6666666666666666,
              "#ed7953"
             ],
             [
              0.7777777777777778,
              "#fb9f3a"
             ],
             [
              0.8888888888888888,
              "#fdca26"
             ],
             [
              1,
              "#f0f921"
             ]
            ],
            "type": "heatmap"
           }
          ],
          "heatmapgl": [
           {
            "colorbar": {
             "outlinewidth": 0,
             "ticks": ""
            },
            "colorscale": [
             [
              0,
              "#0d0887"
             ],
             [
              0.1111111111111111,
              "#46039f"
             ],
             [
              0.2222222222222222,
              "#7201a8"
             ],
             [
              0.3333333333333333,
              "#9c179e"
             ],
             [
              0.4444444444444444,
              "#bd3786"
             ],
             [
              0.5555555555555556,
              "#d8576b"
             ],
             [
              0.6666666666666666,
              "#ed7953"
             ],
             [
              0.7777777777777778,
              "#fb9f3a"
             ],
             [
              0.8888888888888888,
              "#fdca26"
             ],
             [
              1,
              "#f0f921"
             ]
            ],
            "type": "heatmapgl"
           }
          ],
          "histogram": [
           {
            "marker": {
             "pattern": {
              "fillmode": "overlay",
              "size": 10,
              "solidity": 0.2
             }
            },
            "type": "histogram"
           }
          ],
          "histogram2d": [
           {
            "colorbar": {
             "outlinewidth": 0,
             "ticks": ""
            },
            "colorscale": [
             [
              0,
              "#0d0887"
             ],
             [
              0.1111111111111111,
              "#46039f"
             ],
             [
              0.2222222222222222,
              "#7201a8"
             ],
             [
              0.3333333333333333,
              "#9c179e"
             ],
             [
              0.4444444444444444,
              "#bd3786"
             ],
             [
              0.5555555555555556,
              "#d8576b"
             ],
             [
              0.6666666666666666,
              "#ed7953"
             ],
             [
              0.7777777777777778,
              "#fb9f3a"
             ],
             [
              0.8888888888888888,
              "#fdca26"
             ],
             [
              1,
              "#f0f921"
             ]
            ],
            "type": "histogram2d"
           }
          ],
          "histogram2dcontour": [
           {
            "colorbar": {
             "outlinewidth": 0,
             "ticks": ""
            },
            "colorscale": [
             [
              0,
              "#0d0887"
             ],
             [
              0.1111111111111111,
              "#46039f"
             ],
             [
              0.2222222222222222,
              "#7201a8"
             ],
             [
              0.3333333333333333,
              "#9c179e"
             ],
             [
              0.4444444444444444,
              "#bd3786"
             ],
             [
              0.5555555555555556,
              "#d8576b"
             ],
             [
              0.6666666666666666,
              "#ed7953"
             ],
             [
              0.7777777777777778,
              "#fb9f3a"
             ],
             [
              0.8888888888888888,
              "#fdca26"
             ],
             [
              1,
              "#f0f921"
             ]
            ],
            "type": "histogram2dcontour"
           }
          ],
          "mesh3d": [
           {
            "colorbar": {
             "outlinewidth": 0,
             "ticks": ""
            },
            "type": "mesh3d"
           }
          ],
          "parcoords": [
           {
            "line": {
             "colorbar": {
              "outlinewidth": 0,
              "ticks": ""
             }
            },
            "type": "parcoords"
           }
          ],
          "pie": [
           {
            "automargin": true,
            "type": "pie"
           }
          ],
          "scatter": [
           {
            "fillpattern": {
             "fillmode": "overlay",
             "size": 10,
             "solidity": 0.2
            },
            "type": "scatter"
           }
          ],
          "scatter3d": [
           {
            "line": {
             "colorbar": {
              "outlinewidth": 0,
              "ticks": ""
             }
            },
            "marker": {
             "colorbar": {
              "outlinewidth": 0,
              "ticks": ""
             }
            },
            "type": "scatter3d"
           }
          ],
          "scattercarpet": [
           {
            "marker": {
             "colorbar": {
              "outlinewidth": 0,
              "ticks": ""
             }
            },
            "type": "scattercarpet"
           }
          ],
          "scattergeo": [
           {
            "marker": {
             "colorbar": {
              "outlinewidth": 0,
              "ticks": ""
             }
            },
            "type": "scattergeo"
           }
          ],
          "scattergl": [
           {
            "marker": {
             "colorbar": {
              "outlinewidth": 0,
              "ticks": ""
             }
            },
            "type": "scattergl"
           }
          ],
          "scattermapbox": [
           {
            "marker": {
             "colorbar": {
              "outlinewidth": 0,
              "ticks": ""
             }
            },
            "type": "scattermapbox"
           }
          ],
          "scatterpolar": [
           {
            "marker": {
             "colorbar": {
              "outlinewidth": 0,
              "ticks": ""
             }
            },
            "type": "scatterpolar"
           }
          ],
          "scatterpolargl": [
           {
            "marker": {
             "colorbar": {
              "outlinewidth": 0,
              "ticks": ""
             }
            },
            "type": "scatterpolargl"
           }
          ],
          "scatterternary": [
           {
            "marker": {
             "colorbar": {
              "outlinewidth": 0,
              "ticks": ""
             }
            },
            "type": "scatterternary"
           }
          ],
          "surface": [
           {
            "colorbar": {
             "outlinewidth": 0,
             "ticks": ""
            },
            "colorscale": [
             [
              0,
              "#0d0887"
             ],
             [
              0.1111111111111111,
              "#46039f"
             ],
             [
              0.2222222222222222,
              "#7201a8"
             ],
             [
              0.3333333333333333,
              "#9c179e"
             ],
             [
              0.4444444444444444,
              "#bd3786"
             ],
             [
              0.5555555555555556,
              "#d8576b"
             ],
             [
              0.6666666666666666,
              "#ed7953"
             ],
             [
              0.7777777777777778,
              "#fb9f3a"
             ],
             [
              0.8888888888888888,
              "#fdca26"
             ],
             [
              1,
              "#f0f921"
             ]
            ],
            "type": "surface"
           }
          ],
          "table": [
           {
            "cells": {
             "fill": {
              "color": "#EBF0F8"
             },
             "line": {
              "color": "white"
             }
            },
            "header": {
             "fill": {
              "color": "#C8D4E3"
             },
             "line": {
              "color": "white"
             }
            },
            "type": "table"
           }
          ]
         },
         "layout": {
          "annotationdefaults": {
           "arrowcolor": "#2a3f5f",
           "arrowhead": 0,
           "arrowwidth": 1
          },
          "autotypenumbers": "strict",
          "coloraxis": {
           "colorbar": {
            "outlinewidth": 0,
            "ticks": ""
           }
          },
          "colorscale": {
           "diverging": [
            [
             0,
             "#8e0152"
            ],
            [
             0.1,
             "#c51b7d"
            ],
            [
             0.2,
             "#de77ae"
            ],
            [
             0.3,
             "#f1b6da"
            ],
            [
             0.4,
             "#fde0ef"
            ],
            [
             0.5,
             "#f7f7f7"
            ],
            [
             0.6,
             "#e6f5d0"
            ],
            [
             0.7,
             "#b8e186"
            ],
            [
             0.8,
             "#7fbc41"
            ],
            [
             0.9,
             "#4d9221"
            ],
            [
             1,
             "#276419"
            ]
           ],
           "sequential": [
            [
             0,
             "#0d0887"
            ],
            [
             0.1111111111111111,
             "#46039f"
            ],
            [
             0.2222222222222222,
             "#7201a8"
            ],
            [
             0.3333333333333333,
             "#9c179e"
            ],
            [
             0.4444444444444444,
             "#bd3786"
            ],
            [
             0.5555555555555556,
             "#d8576b"
            ],
            [
             0.6666666666666666,
             "#ed7953"
            ],
            [
             0.7777777777777778,
             "#fb9f3a"
            ],
            [
             0.8888888888888888,
             "#fdca26"
            ],
            [
             1,
             "#f0f921"
            ]
           ],
           "sequentialminus": [
            [
             0,
             "#0d0887"
            ],
            [
             0.1111111111111111,
             "#46039f"
            ],
            [
             0.2222222222222222,
             "#7201a8"
            ],
            [
             0.3333333333333333,
             "#9c179e"
            ],
            [
             0.4444444444444444,
             "#bd3786"
            ],
            [
             0.5555555555555556,
             "#d8576b"
            ],
            [
             0.6666666666666666,
             "#ed7953"
            ],
            [
             0.7777777777777778,
             "#fb9f3a"
            ],
            [
             0.8888888888888888,
             "#fdca26"
            ],
            [
             1,
             "#f0f921"
            ]
           ]
          },
          "colorway": [
           "#636efa",
           "#EF553B",
           "#00cc96",
           "#ab63fa",
           "#FFA15A",
           "#19d3f3",
           "#FF6692",
           "#B6E880",
           "#FF97FF",
           "#FECB52"
          ],
          "font": {
           "color": "#2a3f5f"
          },
          "geo": {
           "bgcolor": "white",
           "lakecolor": "white",
           "landcolor": "#E5ECF6",
           "showlakes": true,
           "showland": true,
           "subunitcolor": "white"
          },
          "hoverlabel": {
           "align": "left"
          },
          "hovermode": "closest",
          "mapbox": {
           "style": "light"
          },
          "paper_bgcolor": "white",
          "plot_bgcolor": "#E5ECF6",
          "polar": {
           "angularaxis": {
            "gridcolor": "white",
            "linecolor": "white",
            "ticks": ""
           },
           "bgcolor": "#E5ECF6",
           "radialaxis": {
            "gridcolor": "white",
            "linecolor": "white",
            "ticks": ""
           }
          },
          "scene": {
           "xaxis": {
            "backgroundcolor": "#E5ECF6",
            "gridcolor": "white",
            "gridwidth": 2,
            "linecolor": "white",
            "showbackground": true,
            "ticks": "",
            "zerolinecolor": "white"
           },
           "yaxis": {
            "backgroundcolor": "#E5ECF6",
            "gridcolor": "white",
            "gridwidth": 2,
            "linecolor": "white",
            "showbackground": true,
            "ticks": "",
            "zerolinecolor": "white"
           },
           "zaxis": {
            "backgroundcolor": "#E5ECF6",
            "gridcolor": "white",
            "gridwidth": 2,
            "linecolor": "white",
            "showbackground": true,
            "ticks": "",
            "zerolinecolor": "white"
           }
          },
          "shapedefaults": {
           "line": {
            "color": "#2a3f5f"
           }
          },
          "ternary": {
           "aaxis": {
            "gridcolor": "white",
            "linecolor": "white",
            "ticks": ""
           },
           "baxis": {
            "gridcolor": "white",
            "linecolor": "white",
            "ticks": ""
           },
           "bgcolor": "#E5ECF6",
           "caxis": {
            "gridcolor": "white",
            "linecolor": "white",
            "ticks": ""
           }
          },
          "title": {
           "x": 0.05
          },
          "xaxis": {
           "automargin": true,
           "gridcolor": "white",
           "linecolor": "white",
           "ticks": "",
           "title": {
            "standoff": 15
           },
           "zerolinecolor": "white",
           "zerolinewidth": 2
          },
          "yaxis": {
           "automargin": true,
           "gridcolor": "white",
           "linecolor": "white",
           "ticks": "",
           "title": {
            "standoff": 15
           },
           "zerolinecolor": "white",
           "zerolinewidth": 2
          }
         }
        },
        "title": {
         "text": "Bills user res_pros in scenario pv - pie chart"
        },
        "xaxis": {
         "title": {
          "text": "mese"
         }
        }
       }
      }
     },
     "metadata": {},
     "output_type": "display_data"
    },
    {
     "data": {
      "application/vnd.plotly.v1+json": {
       "config": {
        "plotlyServerURL": "https://plot.ly"
       },
       "data": [
        {
         "marker": {
          "color": "rgba(214, 39, 40, 0.7)"
         },
         "name": "me_cost",
         "type": "bar",
         "x": [
          "bau",
          "pv"
         ],
         "y": [
          545.5571994946562,
          131.25644612581047
         ]
        },
        {
         "marker": {
          "color": "rgba(255, 160, 50, 0.7)"
         },
         "name": "transport_cost",
         "type": "bar",
         "x": [
          "bau",
          "pv"
         ],
         "y": [
          197.09499086795364,
          157.08758985916748
         ]
        },
        {
         "marker": {
          "color": "rgba(31, 119, 180, 0.6)"
         },
         "name": "ogs_cost",
         "type": "bar",
         "x": [
          "bau",
          "pv"
         ],
         "y": [
          59.60177539140198,
          2.428849761703201
         ]
        },
        {
         "marker": {
          "color": "rgba(44, 160, 44, 0.7)"
         },
         "name": "duty_cost",
         "type": "bar",
         "x": [
          "bau",
          "pv"
         ],
         "y": [
          75.85923999799998,
          4.4677704160000005
         ]
        },
        {
         "marker": {
          "color": "rgba(148, 103, 189, 0.7)"
         },
         "name": "vat_cost",
         "type": "bar",
         "x": [
          "bau",
          "pv"
         ],
         "y": [
          87.8113205752012,
          29.524065616268068
         ]
        }
       ],
       "layout": {
        "barmode": "stack",
        "plot_bgcolor": "white",
        "template": {
         "data": {
          "bar": [
           {
            "error_x": {
             "color": "#2a3f5f"
            },
            "error_y": {
             "color": "#2a3f5f"
            },
            "marker": {
             "line": {
              "color": "#E5ECF6",
              "width": 0.5
             },
             "pattern": {
              "fillmode": "overlay",
              "size": 10,
              "solidity": 0.2
             }
            },
            "type": "bar"
           }
          ],
          "barpolar": [
           {
            "marker": {
             "line": {
              "color": "#E5ECF6",
              "width": 0.5
             },
             "pattern": {
              "fillmode": "overlay",
              "size": 10,
              "solidity": 0.2
             }
            },
            "type": "barpolar"
           }
          ],
          "carpet": [
           {
            "aaxis": {
             "endlinecolor": "#2a3f5f",
             "gridcolor": "white",
             "linecolor": "white",
             "minorgridcolor": "white",
             "startlinecolor": "#2a3f5f"
            },
            "baxis": {
             "endlinecolor": "#2a3f5f",
             "gridcolor": "white",
             "linecolor": "white",
             "minorgridcolor": "white",
             "startlinecolor": "#2a3f5f"
            },
            "type": "carpet"
           }
          ],
          "choropleth": [
           {
            "colorbar": {
             "outlinewidth": 0,
             "ticks": ""
            },
            "type": "choropleth"
           }
          ],
          "contour": [
           {
            "colorbar": {
             "outlinewidth": 0,
             "ticks": ""
            },
            "colorscale": [
             [
              0,
              "#0d0887"
             ],
             [
              0.1111111111111111,
              "#46039f"
             ],
             [
              0.2222222222222222,
              "#7201a8"
             ],
             [
              0.3333333333333333,
              "#9c179e"
             ],
             [
              0.4444444444444444,
              "#bd3786"
             ],
             [
              0.5555555555555556,
              "#d8576b"
             ],
             [
              0.6666666666666666,
              "#ed7953"
             ],
             [
              0.7777777777777778,
              "#fb9f3a"
             ],
             [
              0.8888888888888888,
              "#fdca26"
             ],
             [
              1,
              "#f0f921"
             ]
            ],
            "type": "contour"
           }
          ],
          "contourcarpet": [
           {
            "colorbar": {
             "outlinewidth": 0,
             "ticks": ""
            },
            "type": "contourcarpet"
           }
          ],
          "heatmap": [
           {
            "colorbar": {
             "outlinewidth": 0,
             "ticks": ""
            },
            "colorscale": [
             [
              0,
              "#0d0887"
             ],
             [
              0.1111111111111111,
              "#46039f"
             ],
             [
              0.2222222222222222,
              "#7201a8"
             ],
             [
              0.3333333333333333,
              "#9c179e"
             ],
             [
              0.4444444444444444,
              "#bd3786"
             ],
             [
              0.5555555555555556,
              "#d8576b"
             ],
             [
              0.6666666666666666,
              "#ed7953"
             ],
             [
              0.7777777777777778,
              "#fb9f3a"
             ],
             [
              0.8888888888888888,
              "#fdca26"
             ],
             [
              1,
              "#f0f921"
             ]
            ],
            "type": "heatmap"
           }
          ],
          "heatmapgl": [
           {
            "colorbar": {
             "outlinewidth": 0,
             "ticks": ""
            },
            "colorscale": [
             [
              0,
              "#0d0887"
             ],
             [
              0.1111111111111111,
              "#46039f"
             ],
             [
              0.2222222222222222,
              "#7201a8"
             ],
             [
              0.3333333333333333,
              "#9c179e"
             ],
             [
              0.4444444444444444,
              "#bd3786"
             ],
             [
              0.5555555555555556,
              "#d8576b"
             ],
             [
              0.6666666666666666,
              "#ed7953"
             ],
             [
              0.7777777777777778,
              "#fb9f3a"
             ],
             [
              0.8888888888888888,
              "#fdca26"
             ],
             [
              1,
              "#f0f921"
             ]
            ],
            "type": "heatmapgl"
           }
          ],
          "histogram": [
           {
            "marker": {
             "pattern": {
              "fillmode": "overlay",
              "size": 10,
              "solidity": 0.2
             }
            },
            "type": "histogram"
           }
          ],
          "histogram2d": [
           {
            "colorbar": {
             "outlinewidth": 0,
             "ticks": ""
            },
            "colorscale": [
             [
              0,
              "#0d0887"
             ],
             [
              0.1111111111111111,
              "#46039f"
             ],
             [
              0.2222222222222222,
              "#7201a8"
             ],
             [
              0.3333333333333333,
              "#9c179e"
             ],
             [
              0.4444444444444444,
              "#bd3786"
             ],
             [
              0.5555555555555556,
              "#d8576b"
             ],
             [
              0.6666666666666666,
              "#ed7953"
             ],
             [
              0.7777777777777778,
              "#fb9f3a"
             ],
             [
              0.8888888888888888,
              "#fdca26"
             ],
             [
              1,
              "#f0f921"
             ]
            ],
            "type": "histogram2d"
           }
          ],
          "histogram2dcontour": [
           {
            "colorbar": {
             "outlinewidth": 0,
             "ticks": ""
            },
            "colorscale": [
             [
              0,
              "#0d0887"
             ],
             [
              0.1111111111111111,
              "#46039f"
             ],
             [
              0.2222222222222222,
              "#7201a8"
             ],
             [
              0.3333333333333333,
              "#9c179e"
             ],
             [
              0.4444444444444444,
              "#bd3786"
             ],
             [
              0.5555555555555556,
              "#d8576b"
             ],
             [
              0.6666666666666666,
              "#ed7953"
             ],
             [
              0.7777777777777778,
              "#fb9f3a"
             ],
             [
              0.8888888888888888,
              "#fdca26"
             ],
             [
              1,
              "#f0f921"
             ]
            ],
            "type": "histogram2dcontour"
           }
          ],
          "mesh3d": [
           {
            "colorbar": {
             "outlinewidth": 0,
             "ticks": ""
            },
            "type": "mesh3d"
           }
          ],
          "parcoords": [
           {
            "line": {
             "colorbar": {
              "outlinewidth": 0,
              "ticks": ""
             }
            },
            "type": "parcoords"
           }
          ],
          "pie": [
           {
            "automargin": true,
            "type": "pie"
           }
          ],
          "scatter": [
           {
            "fillpattern": {
             "fillmode": "overlay",
             "size": 10,
             "solidity": 0.2
            },
            "type": "scatter"
           }
          ],
          "scatter3d": [
           {
            "line": {
             "colorbar": {
              "outlinewidth": 0,
              "ticks": ""
             }
            },
            "marker": {
             "colorbar": {
              "outlinewidth": 0,
              "ticks": ""
             }
            },
            "type": "scatter3d"
           }
          ],
          "scattercarpet": [
           {
            "marker": {
             "colorbar": {
              "outlinewidth": 0,
              "ticks": ""
             }
            },
            "type": "scattercarpet"
           }
          ],
          "scattergeo": [
           {
            "marker": {
             "colorbar": {
              "outlinewidth": 0,
              "ticks": ""
             }
            },
            "type": "scattergeo"
           }
          ],
          "scattergl": [
           {
            "marker": {
             "colorbar": {
              "outlinewidth": 0,
              "ticks": ""
             }
            },
            "type": "scattergl"
           }
          ],
          "scattermapbox": [
           {
            "marker": {
             "colorbar": {
              "outlinewidth": 0,
              "ticks": ""
             }
            },
            "type": "scattermapbox"
           }
          ],
          "scatterpolar": [
           {
            "marker": {
             "colorbar": {
              "outlinewidth": 0,
              "ticks": ""
             }
            },
            "type": "scatterpolar"
           }
          ],
          "scatterpolargl": [
           {
            "marker": {
             "colorbar": {
              "outlinewidth": 0,
              "ticks": ""
             }
            },
            "type": "scatterpolargl"
           }
          ],
          "scatterternary": [
           {
            "marker": {
             "colorbar": {
              "outlinewidth": 0,
              "ticks": ""
             }
            },
            "type": "scatterternary"
           }
          ],
          "surface": [
           {
            "colorbar": {
             "outlinewidth": 0,
             "ticks": ""
            },
            "colorscale": [
             [
              0,
              "#0d0887"
             ],
             [
              0.1111111111111111,
              "#46039f"
             ],
             [
              0.2222222222222222,
              "#7201a8"
             ],
             [
              0.3333333333333333,
              "#9c179e"
             ],
             [
              0.4444444444444444,
              "#bd3786"
             ],
             [
              0.5555555555555556,
              "#d8576b"
             ],
             [
              0.6666666666666666,
              "#ed7953"
             ],
             [
              0.7777777777777778,
              "#fb9f3a"
             ],
             [
              0.8888888888888888,
              "#fdca26"
             ],
             [
              1,
              "#f0f921"
             ]
            ],
            "type": "surface"
           }
          ],
          "table": [
           {
            "cells": {
             "fill": {
              "color": "#EBF0F8"
             },
             "line": {
              "color": "white"
             }
            },
            "header": {
             "fill": {
              "color": "#C8D4E3"
             },
             "line": {
              "color": "white"
             }
            },
            "type": "table"
           }
          ]
         },
         "layout": {
          "annotationdefaults": {
           "arrowcolor": "#2a3f5f",
           "arrowhead": 0,
           "arrowwidth": 1
          },
          "autotypenumbers": "strict",
          "coloraxis": {
           "colorbar": {
            "outlinewidth": 0,
            "ticks": ""
           }
          },
          "colorscale": {
           "diverging": [
            [
             0,
             "#8e0152"
            ],
            [
             0.1,
             "#c51b7d"
            ],
            [
             0.2,
             "#de77ae"
            ],
            [
             0.3,
             "#f1b6da"
            ],
            [
             0.4,
             "#fde0ef"
            ],
            [
             0.5,
             "#f7f7f7"
            ],
            [
             0.6,
             "#e6f5d0"
            ],
            [
             0.7,
             "#b8e186"
            ],
            [
             0.8,
             "#7fbc41"
            ],
            [
             0.9,
             "#4d9221"
            ],
            [
             1,
             "#276419"
            ]
           ],
           "sequential": [
            [
             0,
             "#0d0887"
            ],
            [
             0.1111111111111111,
             "#46039f"
            ],
            [
             0.2222222222222222,
             "#7201a8"
            ],
            [
             0.3333333333333333,
             "#9c179e"
            ],
            [
             0.4444444444444444,
             "#bd3786"
            ],
            [
             0.5555555555555556,
             "#d8576b"
            ],
            [
             0.6666666666666666,
             "#ed7953"
            ],
            [
             0.7777777777777778,
             "#fb9f3a"
            ],
            [
             0.8888888888888888,
             "#fdca26"
            ],
            [
             1,
             "#f0f921"
            ]
           ],
           "sequentialminus": [
            [
             0,
             "#0d0887"
            ],
            [
             0.1111111111111111,
             "#46039f"
            ],
            [
             0.2222222222222222,
             "#7201a8"
            ],
            [
             0.3333333333333333,
             "#9c179e"
            ],
            [
             0.4444444444444444,
             "#bd3786"
            ],
            [
             0.5555555555555556,
             "#d8576b"
            ],
            [
             0.6666666666666666,
             "#ed7953"
            ],
            [
             0.7777777777777778,
             "#fb9f3a"
            ],
            [
             0.8888888888888888,
             "#fdca26"
            ],
            [
             1,
             "#f0f921"
            ]
           ]
          },
          "colorway": [
           "#636efa",
           "#EF553B",
           "#00cc96",
           "#ab63fa",
           "#FFA15A",
           "#19d3f3",
           "#FF6692",
           "#B6E880",
           "#FF97FF",
           "#FECB52"
          ],
          "font": {
           "color": "#2a3f5f"
          },
          "geo": {
           "bgcolor": "white",
           "lakecolor": "white",
           "landcolor": "#E5ECF6",
           "showlakes": true,
           "showland": true,
           "subunitcolor": "white"
          },
          "hoverlabel": {
           "align": "left"
          },
          "hovermode": "closest",
          "mapbox": {
           "style": "light"
          },
          "paper_bgcolor": "white",
          "plot_bgcolor": "#E5ECF6",
          "polar": {
           "angularaxis": {
            "gridcolor": "white",
            "linecolor": "white",
            "ticks": ""
           },
           "bgcolor": "#E5ECF6",
           "radialaxis": {
            "gridcolor": "white",
            "linecolor": "white",
            "ticks": ""
           }
          },
          "scene": {
           "xaxis": {
            "backgroundcolor": "#E5ECF6",
            "gridcolor": "white",
            "gridwidth": 2,
            "linecolor": "white",
            "showbackground": true,
            "ticks": "",
            "zerolinecolor": "white"
           },
           "yaxis": {
            "backgroundcolor": "#E5ECF6",
            "gridcolor": "white",
            "gridwidth": 2,
            "linecolor": "white",
            "showbackground": true,
            "ticks": "",
            "zerolinecolor": "white"
           },
           "zaxis": {
            "backgroundcolor": "#E5ECF6",
            "gridcolor": "white",
            "gridwidth": 2,
            "linecolor": "white",
            "showbackground": true,
            "ticks": "",
            "zerolinecolor": "white"
           }
          },
          "shapedefaults": {
           "line": {
            "color": "#2a3f5f"
           }
          },
          "ternary": {
           "aaxis": {
            "gridcolor": "white",
            "linecolor": "white",
            "ticks": ""
           },
           "baxis": {
            "gridcolor": "white",
            "linecolor": "white",
            "ticks": ""
           },
           "bgcolor": "#E5ECF6",
           "caxis": {
            "gridcolor": "white",
            "linecolor": "white",
            "ticks": ""
           }
          },
          "title": {
           "x": 0.05
          },
          "xaxis": {
           "automargin": true,
           "gridcolor": "white",
           "linecolor": "white",
           "ticks": "",
           "title": {
            "standoff": 15
           },
           "zerolinecolor": "white",
           "zerolinewidth": 2
          },
          "yaxis": {
           "automargin": true,
           "gridcolor": "white",
           "linecolor": "white",
           "ticks": "",
           "title": {
            "standoff": 15
           },
           "zerolinecolor": "white",
           "zerolinewidth": 2
          }
         }
        },
        "title": {
         "text": "Bills user res_pros in scenario pv - bar chart"
        },
        "xaxis": {
         "title": {
          "text": "Scenarios"
         }
        },
        "yaxis": {
         "exponentformat": "none",
         "title": {
          "text": "€/month"
         }
        }
       }
      }
     },
     "metadata": {},
     "output_type": "display_data"
    }
   ],
   "source": [
    "# bollette\n",
    "columns = [\"me_cost\",\"transport_cost\",\"ogs_cost\",\"duty_cost\",\"vat_cost\"]\n",
    "colors = charts[\"colors\"]\n",
    "colors_bills = [colors[\"rosso\"],colors[\"arancione\"],colors[\"blu\"],colors[\"verde\"],colors[\"violetto\"]]\n",
    "path = config[\"foldername_graphs_finance\"]\n",
    "\n",
    "for user_type in user_types:\n",
    "    if not user_types[user_type][\"consuming\"]: continue\n",
    "    if user_types[user_type][\"num\"] == 0: continue\n",
    "\n",
    "    if user_types[user_type][\"type\"] == \"consumer\": \n",
    "        prosumer_flag = False\n",
    "        scenarios = [\"bau\"]\n",
    "    else:\n",
    "        prosumer_flag = True\n",
    "        scenarios = [\"bau\",\"pv\"]\n",
    "\n",
    "    for scenario in scenarios:\n",
    "        df = pd.read_excel(config[\"foldername_bills\"] + \"\\\\\" + user_type + \".xlsx\", sheet_name=scenario, index_col=\"month\")\n",
    "        \n",
    "################################################# PLOT 1\n",
    "        \n",
    "        df_plot = df[columns]\n",
    "        \n",
    "        fig = go.Figure()\n",
    "        title = f\"Bills user {user_type} in scenario {scenario} - line chart\"\n",
    "        \n",
    "        for i, column in enumerate(columns):\n",
    "            fig.add_trace(go.Scatter(\n",
    "                x = df_plot.index, \n",
    "                y = df_plot[column], \n",
    "                marker_color = colors_bills[i], \n",
    "                name = column,\n",
    "                stackgroup='one',\n",
    "                ),\n",
    "                )\n",
    "        \n",
    "        fig.update_layout(plot_bgcolor='white',\n",
    "        title_text = title, \n",
    "        xaxis = dict(title='mese',\n",
    "        # type='category'\n",
    "        ))\n",
    "        \n",
    "        fig.update_yaxes(title_text = '€/month', exponentformat= \"none\")\n",
    "        \n",
    "        if flag_show: fig.show()\n",
    "        fig.write_html(path + title + \".html\")\n",
    "        fig.write_image(path + title + \".png\", width=1000, height=1200/13.2*5, scale = 4)\n",
    "\n",
    "################################################# PLOT 2    \n",
    "        \n",
    "        df_plot = df[columns]\n",
    "        \n",
    "        fig = go.Figure(data=[go.Pie(labels=df_plot.columns, values=df_plot.sum(axis=0), marker_colors=colors_bills, pull=[0.05, 0.05, 0.05, 0.05, 0.05])])\n",
    "        title = f\"Bills user {user_type} in scenario {scenario} - pie chart\"\n",
    "        \n",
    "        fig.update_layout(plot_bgcolor='white',\n",
    "        title_text = title, \n",
    "        xaxis = dict(title='mese',\n",
    "        # type='category'\n",
    "        ))\n",
    "        \n",
    "        if flag_show: fig.show()\n",
    "        fig.write_html(path + title + \".html\")\n",
    "        fig.write_image(path + title + \".png\", width=1000, height=1200/13.2*5, scale = 4)\n",
    "\n",
    "    if prosumer_flag:\n",
    "        ################################################# PLOT 3 \n",
    "        pv = pd.read_excel(config[\"foldername_bills\"] + \"\\\\\" + user_type + \".xlsx\", sheet_name=\"pv\",index_col=\"month\")\n",
    "        bau = pd.read_excel(config[\"foldername_bills\"] + \"\\\\\" + user_type + \".xlsx\", sheet_name=\"bau\",index_col=\"month\")\n",
    "        fig = go.Figure()\n",
    "        \n",
    "        title = f\"Bills user {user_type} in scenario {scenario} - bar chart\"\n",
    "\n",
    "        for i,column in enumerate(columns):\n",
    "\n",
    "            # fig = go.Figure(data=[go.Bar(labels=df_plot.columns, values=df_plot.sum(axis=1), pull=[0.05, 0.05, 0.05, 0.05, 0.05])])\n",
    "            fig.add_trace(go.Bar(\n",
    "            x = [\"bau\",\"pv\"], \n",
    "            y = [sum(bau[column]) / config[\"project_lifetime_yrs\"], sum(pv[column]) / config[\"project_lifetime_yrs\"]], \n",
    "            marker_color = colors_bills[i], \n",
    "            name = column,\n",
    "            # text=round(valori_anno_1/1000,1), textposition='auto',\n",
    "            ))\n",
    "\n",
    "            fig.update_layout(barmode='stack')\n",
    "            fig.update_layout(plot_bgcolor='white',\n",
    "            title_text = title, \n",
    "            xaxis = dict(title='Scenarios',\n",
    "            # type='category'\n",
    "            ))\n",
    "            \n",
    "            fig.update_yaxes(title_text = '€/month', exponentformat= \"none\")\n",
    "\n",
    "        if flag_show: fig.show()\n",
    "                \n",
    "        fig.write_html(path + title + \".html\")\n",
    "        fig.write_image(path + title + \".png\", width=1000, height=1200/13.2*5, scale = 4)"
   ]
  },
  {
   "cell_type": "code",
   "execution_count": 136,
   "metadata": {},
   "outputs": [],
   "source": [
    "df = pd.read_csv(config[\"filename_output_csv_PZO_data\"],index_col=\"datetime\")\n",
    "df.sort_index(inplace=True)\n",
    "x = df.index\n",
    "y = df[\"PZO\"]\n",
    "title = \"Andamento PZO stagionale (€ al kWh)\"\n",
    "output_file = foldername_graphs_finance  + \"Input - \" + title  \n",
    "title_y = \"€/kWh\"\n",
    "plot_scatter(x, y, title, title_y, output_file)"
   ]
  },
  {
   "cell_type": "code",
   "execution_count": 137,
   "metadata": {},
   "outputs": [],
   "source": [
    "df[\"year\"] = df.index.str[0:4]\n",
    "df_yr1 = df[df[\"year\"] == df[\"year\"][0]]\n",
    "x = df_yr1.index\n",
    "y = df_yr1[\"PZO\"]\n",
    "title = \"Andamento PZO stagionale - anno 1 (€ al kWh)\"\n",
    "output_file = foldername_graphs_finance  + \"Input - \" + title  \n",
    "title_y = \"€/kWh\"\n",
    "plot_scatter(x, y, title, title_y, output_file)"
   ]
  },
  {
   "cell_type": "code",
   "execution_count": 138,
   "metadata": {},
   "outputs": [
    {
     "data": {
      "application/vnd.microsoft.datawrangler.viewer.v0+json": {
       "columns": [
        {
         "name": "index",
         "rawType": "object",
         "type": "string"
        },
        {
         "name": "u_D001",
         "rawType": "object",
         "type": "string"
        },
        {
         "name": "u_d002",
         "rawType": "object",
         "type": "unknown"
        },
        {
         "name": "u_d003",
         "rawType": "object",
         "type": "unknown"
        },
        {
         "name": "project",
         "rawType": "float64",
         "type": "float"
        },
        {
         "name": "CP1",
         "rawType": "float64",
         "type": "float"
        }
       ],
       "conversionMethod": "pd.DataFrame",
       "ref": "44880117-8687-4386-a8d2-4f68bc5c9abd",
       "rows": [
        [
         "CP",
         "CP1",
         "CP1",
         "CP1",
         null,
         null
        ],
        [
         "azimuth",
         "180.0",
         null,
         null,
         null,
         null
        ],
        [
         "battery",
         "10",
         "0",
         "0",
         null,
         null
        ],
        [
         "category",
         "domestico",
         "domestico",
         "domestico",
         null,
         null
        ],
        [
         "commissioning_month",
         "4.0",
         "4.0",
         "4.0",
         null,
         null
        ]
       ],
       "shape": {
        "columns": 5,
        "rows": 5
       }
      },
      "text/html": [
       "<div>\n",
       "<style scoped>\n",
       "    .dataframe tbody tr th:only-of-type {\n",
       "        vertical-align: middle;\n",
       "    }\n",
       "\n",
       "    .dataframe tbody tr th {\n",
       "        vertical-align: top;\n",
       "    }\n",
       "\n",
       "    .dataframe thead th {\n",
       "        text-align: right;\n",
       "    }\n",
       "</style>\n",
       "<table border=\"1\" class=\"dataframe\">\n",
       "  <thead>\n",
       "    <tr style=\"text-align: right;\">\n",
       "      <th></th>\n",
       "      <th>u_D001</th>\n",
       "      <th>u_d002</th>\n",
       "      <th>u_d003</th>\n",
       "      <th>project</th>\n",
       "      <th>CP1</th>\n",
       "    </tr>\n",
       "  </thead>\n",
       "  <tbody>\n",
       "    <tr>\n",
       "      <th>CP</th>\n",
       "      <td>CP1</td>\n",
       "      <td>CP1</td>\n",
       "      <td>CP1</td>\n",
       "      <td>NaN</td>\n",
       "      <td>NaN</td>\n",
       "    </tr>\n",
       "    <tr>\n",
       "      <th>azimuth</th>\n",
       "      <td>180.0</td>\n",
       "      <td>NaN</td>\n",
       "      <td>NaN</td>\n",
       "      <td>NaN</td>\n",
       "      <td>NaN</td>\n",
       "    </tr>\n",
       "    <tr>\n",
       "      <th>battery</th>\n",
       "      <td>10</td>\n",
       "      <td>0</td>\n",
       "      <td>0</td>\n",
       "      <td>NaN</td>\n",
       "      <td>NaN</td>\n",
       "    </tr>\n",
       "    <tr>\n",
       "      <th>category</th>\n",
       "      <td>domestico</td>\n",
       "      <td>domestico</td>\n",
       "      <td>domestico</td>\n",
       "      <td>NaN</td>\n",
       "      <td>NaN</td>\n",
       "    </tr>\n",
       "    <tr>\n",
       "      <th>commissioning_month</th>\n",
       "      <td>4.0</td>\n",
       "      <td>4.0</td>\n",
       "      <td>4.0</td>\n",
       "      <td>NaN</td>\n",
       "      <td>NaN</td>\n",
       "    </tr>\n",
       "  </tbody>\n",
       "</table>\n",
       "</div>"
      ],
      "text/plain": [
       "                        u_D001     u_d002     u_d003  project  CP1\n",
       "CP                         CP1        CP1        CP1      NaN  NaN\n",
       "azimuth                  180.0        NaN        NaN      NaN  NaN\n",
       "battery                     10          0          0      NaN  NaN\n",
       "category             domestico  domestico  domestico      NaN  NaN\n",
       "commissioning_month        4.0        4.0        4.0      NaN  NaN"
      ]
     },
     "execution_count": 138,
     "metadata": {},
     "output_type": "execute_result"
    }
   ],
   "source": [
    "df = pd.read_csv(config[\"filename_FM_results_last_simulation\"],index_col=0)"
   ]
  },
  {
   "cell_type": "code",
   "execution_count": 139,
   "metadata": {},
   "outputs": [],
   "source": [
    "df = pd.read_csv(config[\"filename_FM_results_last_simulation\"],index_col=0)\n",
    "df.loc[\"IRR\"] = df.loc[\"IRR\"].replace(\"n.a.\",0)\n",
    "df.loc[\"IRR\",:] = df.loc[\"IRR\",:].astype(float)"
   ]
  },
  {
   "cell_type": "code",
   "execution_count": 140,
   "metadata": {},
   "outputs": [],
   "source": [
    "df_t = df.T\n",
    "df_t.set_index(\"user_type\", inplace=True)\n",
    "df_t\n",
    "for i in df_t.index:\n",
    "    if i == 'ICT_1MW':\n",
    "        df_t.drop(index='ICT_1MW', inplace=True)"
   ]
  },
  {
   "cell_type": "code",
   "execution_count": 141,
   "metadata": {},
   "outputs": [],
   "source": [
    "for i in df_t.index:\n",
    "    if i == 'CER':\n",
    "        df_t.drop(index='CER', inplace=True)"
   ]
  },
  {
   "cell_type": "markdown",
   "metadata": {},
   "source": [
    "Calcolo differenti df per le varie voci economiche"
   ]
  },
  {
   "cell_type": "code",
   "execution_count": 142,
   "metadata": {},
   "outputs": [],
   "source": [
    "users_set = yaml.safe_load(open(config[\"filename_registry_users_yml\"], 'r'))"
   ]
  },
  {
   "cell_type": "code",
   "execution_count": 143,
   "metadata": {},
   "outputs": [
    {
     "name": "stdout",
     "output_type": "stream",
     "text": [
      "res_cons\n",
      "            spesa_energetica        costi     ricavi\n",
      "BAU              1159.472647  1159.472647   0.000000\n",
      "case study       1511.680295  1594.401712  82.721417\n",
      "res_pros\n",
      "            spesa_energetica        costi       ricavi\n",
      "BAU              1159.411333  1159.411333     0.000000\n",
      "case study       1782.128170  3355.029750  1572.901581\n"
     ]
    }
   ],
   "source": [
    "if detailed_report:\n",
    "    df = pd.read_csv(config[\"filename_FM_results_last_simulation\"],index_col=0)\n",
    "\n",
    "    for user_type in user_types:\n",
    "        if user_types[user_type][\"dummy_user\"]: continue # no need to plot dummy users\n",
    "        \n",
    "        users_of_user_type = [user for user in users_set if users_set[user][\"user_type\"] == user_type]    \n",
    "        if users_of_user_type == []: continue # alcune tipologie di utenti in questa simulaizone potrebbero essere in numero pari a 0 (in analisi di sensibilità puo accadere)\n",
    "        \n",
    "        user = users_of_user_type[0]\n",
    "        \n",
    "        df_results = df[user]\n",
    "        \n",
    "        # df_results = read_results_from_all_cases(caso_studio, user_type)\n",
    "        \n",
    "        # VERSIONE 2\n",
    "        # creo una copia senza valori, ma con le colonne e l'indice\n",
    "        df_ricavi = float(df_results.loc[\"revenues_total_taxable\"])\n",
    "        # df.insert(0,'name_of_column',value)\n",
    "        df_ricavi_BAU = 0\n",
    "\n",
    "        df_costi = -(float(df_results.loc[\"capex_total\"]) + float(df_results.loc[\"debt_interest\"]) + float(df_results.loc[\"opex_total\"]) + float(df_results.loc[\"taxes_total\"]) + float(df_results.loc[\"electricity_bills\"]))\n",
    "        # assert len(df_results.loc[\"electricity_bills_bau\"].drop_duplicates()) == 1, \"ERROR: the BAU bills do not match, something wrong\"\n",
    "        df_costi_BAU = - float(df_results.loc[\"electricity_bills_bau\"])\n",
    "        ###############################################################################################################\n",
    "        ###############################################################################################################\n",
    "\n",
    "        ###############################################################################################################\n",
    "\n",
    "        # questi ora avranno le unità di misura corrette. SERIES\n",
    "        df_spesa_energetica = df_costi - df_ricavi\n",
    "\n",
    "        x = [\"BAU\", \"case study\"]\n",
    "        df_plot = pd.DataFrame(index=x)\n",
    "        df_plot.loc[\"case study\",\"spesa_energetica\"] = df_spesa_energetica\n",
    "        df_plot.loc[\"case study\",\"costi\"] = df_costi\n",
    "        df_plot.loc[\"case study\",\"ricavi\"] = df_ricavi\n",
    "        df_plot.loc[\"BAU\",\"ricavi\"] = df_ricavi_BAU\n",
    "        df_plot.loc[\"BAU\",\"costi\"] = df_costi_BAU\n",
    "        df_plot.loc[\"BAU\",\"spesa_energetica\"] = df_costi_BAU - df_ricavi_BAU\n",
    "\n",
    "        # riportiamo tutti i df che ci servono da somma totale di tutto il progetto a valori annuali medi\n",
    "        df_plot = df_plot / config[\"project_lifetime_yrs\"]\n",
    "        \n",
    "        ################################## GRAFICO\n",
    "\n",
    "        formato = \"€{:,.2f}\"\n",
    "            \n",
    "        # si crea un grafico a 3 quadranti su un'unica riga    \n",
    "        fig = make_subplots(rows=1, cols=3, shared_yaxes=True, subplot_titles=(\"Spesa energetica\",\"Costi\", \"Ricavi\")) # creo subplot con 3 grafici, con asse y in comune per mantenere rapporti relativi corretti\n",
    "\n",
    "        if user not in users_set: \n",
    "            user_name = user\n",
    "        else:\n",
    "            user_name = users_set[user][\"denomination\"]\n",
    "\n",
    "        title = \"Analisi investimento per tipologia di utente - \" + str(user_name)\n",
    "\n",
    "        #CICLO SULLA SPESA ENERGETICA\n",
    "        fig.add_trace(go.Bar(\n",
    "            x = x, \n",
    "            y = df_plot[\"spesa_energetica\"], \n",
    "            marker_color = col[\"arancione\"], \n",
    "            # mode = \"text\",\n",
    "            # name = \"Spesa Energetica complessiva\",\n",
    "            name = \"Spesa Energetica complessiva\",\n",
    "            text = df_plot[\"spesa_energetica\"].map('€{:,.0f}'.format), \n",
    "            textposition='auto',\n",
    "            ),\n",
    "            row=1, col=1 # si indica il quadrante in cui si creerà il grafico\n",
    "            )\n",
    "        ### aggiungo il riempitivo in rosso tratteggiato\n",
    "        fig.add_trace(go.Bar(\n",
    "            x = x, \n",
    "            y = df_plot.loc[\"BAU\",\"spesa_energetica\"] - df_plot[\"spesa_energetica\"], # si indicano anche in questo caso due valori, si fissa 0 per lo scenario BAU\n",
    "            marker_color = col[\"rosso\"], \n",
    "            marker_pattern_shape=[\"\",\"/\",\"/\",\"/\"],\n",
    "            # mode = \"text\",\n",
    "            name = \"Risparmio complessivo\",\n",
    "            # text=[round(df_costi_netti_BAU.loc[user].sum(),1), round(df_costi_netti_CER.loc[user].sum(),1)], textposition='auto',\n",
    "            ),\n",
    "            row=1, col=1 # si indica il quadrante in cui si creerà il grafico\n",
    "            )\n",
    "\n",
    "        #### ANNOTATIONS\n",
    "        # max_value = max(df_spesa_energetica_BAU.loc[user], df_spesa_energetica_CER.loc[user])\n",
    "        # risparmio = round(df_spesa_energetica_BAU.loc[user] - df_spesa_energetica_CER.loc[user],1)\n",
    "        # mensilita = round(risparmio/(df_spesa_energetica_BAU.loc[user] /12),1)\n",
    "        # fig.add_annotation(x=1, y=0,\n",
    "        #         text=\"Risparmi annui medi: \" + formato.format(risparmio),\n",
    "        #         showarrow=False,\n",
    "        #         yshift=50)\n",
    "        # fig.add_annotation(x=1, y=0,\n",
    "        #     text=\"(equivalente a \" + str(mensilita) + \" mensilità all'anno)\",\n",
    "        #     showarrow=False,\n",
    "        #     yshift=50-20)\n",
    "\n",
    "        #CICLO SUI COSTI\n",
    "        fig.add_trace(go.Bar(\n",
    "            x = x,\n",
    "            y = df_plot[\"costi\"], \n",
    "            marker_color = \"#9ED4B9\",\n",
    "            # mode = \"text\", \n",
    "            name = \"Costi\",\n",
    "            text = df_plot[\"costi\"].map('€{:,.0f}'.format),\n",
    "            textposition='auto',\n",
    "            ),\n",
    "            row=1, col=2 # si indica il quadrante in cui si creerà il grafico\n",
    "            )\n",
    "\n",
    "        #CICLO SUI RICAVI\n",
    "        fig.add_trace(go.Bar(\n",
    "            x = x, \n",
    "            y = df_plot[\"ricavi\"], \n",
    "            marker_color = \"#FADD75\",\n",
    "            # mode = \"text\", \n",
    "            name = \"Ricavi\",\n",
    "            text = df_plot[\"ricavi\"].map('€{:,.0f}'.format),\n",
    "            textposition='auto',\n",
    "            ),\n",
    "            row=1, col=3 # si indica il quadrante in cui si creerà il grafico\n",
    "            )\n",
    "\n",
    "        fig.update_layout(title_text=title)\n",
    "        fig.update_layout(showlegend=True, barmode='relative')\n",
    "        fig.update_layout(legend=dict(\n",
    "            orientation=\"h\",\n",
    "            yanchor=\"bottom\",\n",
    "            y=-0.3,\n",
    "            xanchor=\"right\",\n",
    "            x=1\n",
    "        ))\n",
    "        # fig.update_yaxes(title_text=\"€ all'anno\", row=1, col=1)\n",
    "        fig.update_yaxes(title_text=\"Yearly amount (€/year)\", row=1, col=1)\n",
    "        ##############################################################################################################################\n",
    "\n",
    "        fig.update_xaxes(\n",
    "            # mirror=True,\n",
    "            # ticks='outside',\n",
    "            # showline=True,\n",
    "            # linecolor='lightgrey',\n",
    "            gridcolor='white'\n",
    "        )\n",
    "\n",
    "        fig.update_yaxes(\n",
    "            # mirror=True,\n",
    "            # ticks='outside',\n",
    "            # showline=True,\n",
    "            # linecolor='lightgrey',\n",
    "            gridcolor='white'\n",
    "        )\n",
    "\n",
    "        fig.update_layout({'plot_bgcolor': 'white',\n",
    "                        'paper_bgcolor': 'white',\n",
    "        })\n",
    "\n",
    "        ##############################################################################################################################\n",
    "\n",
    "        if flag_show: fig.show()\n",
    "            \n",
    "            # path = foldername_graphs_finance\n",
    "            # num_graph+=1\n",
    "\n",
    "            # fig.write_html(path + str(num_graph) + \"_\" + title + \".html\")\n",
    "            # fig.write_image(path + str(num_graph) + \"_\" + title + \".png\", width=1000, height=1100/13.2*5, scale = 4)\n",
    "        path = config[\"foldername_graphs_finance\"]\n",
    "        fig.write_html(path + title + \"_\" + title + \".html\")\n",
    "        fig.write_image(path + title + \"_\" + title + \".png\", width=1000, height=1200/13.2*5, scale = 4)"
   ]
  },
  {
   "cell_type": "code",
   "execution_count": 144,
   "metadata": {},
   "outputs": [
    {
     "data": {
      "application/vnd.microsoft.datawrangler.viewer.v0+json": {
       "columns": [
        {
         "name": "month",
         "rawType": "object",
         "type": "string"
        },
        {
         "name": "incentivo_config_CP1",
         "rawType": "float64",
         "type": "float"
        },
        {
         "name": "valorizzazione_config_CP1",
         "rawType": "float64",
         "type": "float"
        },
        {
         "name": "incentivo",
         "rawType": "float64",
         "type": "float"
        },
        {
         "name": "valorizzazione",
         "rawType": "float64",
         "type": "float"
        }
       ],
       "conversionMethod": "pd.DataFrame",
       "ref": "63ea7438-7114-4f85-80ab-8461858c4f82",
       "rows": [
        [
         "2025-01",
         "17.653650366531906",
         "1.4353775721095556",
         "17.653650366531906",
         "1.4353775721095556"
        ],
        [
         "2025-02",
         "18.90958140741656",
         "1.5374944267414845",
         "18.90958140741656",
         "1.5374944267414845"
        ],
        [
         "2025-03",
         "25.489084884590124",
         "2.0724586710009043",
         "25.489084884590124",
         "2.0724586710009043"
        ],
        [
         "2025-04",
         "27.19413634662099",
         "2.211092470644491",
         "27.19413634662099",
         "2.211092470644491"
        ],
        [
         "2025-05",
         "28.8077408340908",
         "2.3422909278179977",
         "28.8077408340908",
         "2.3422909278179977"
        ]
       ],
       "shape": {
        "columns": 4,
        "rows": 5
       }
      },
      "text/html": [
       "<div>\n",
       "<style scoped>\n",
       "    .dataframe tbody tr th:only-of-type {\n",
       "        vertical-align: middle;\n",
       "    }\n",
       "\n",
       "    .dataframe tbody tr th {\n",
       "        vertical-align: top;\n",
       "    }\n",
       "\n",
       "    .dataframe thead th {\n",
       "        text-align: right;\n",
       "    }\n",
       "</style>\n",
       "<table border=\"1\" class=\"dataframe\">\n",
       "  <thead>\n",
       "    <tr style=\"text-align: right;\">\n",
       "      <th></th>\n",
       "      <th>incentivo_config_CP1</th>\n",
       "      <th>valorizzazione_config_CP1</th>\n",
       "      <th>incentivo</th>\n",
       "      <th>valorizzazione</th>\n",
       "    </tr>\n",
       "    <tr>\n",
       "      <th>month</th>\n",
       "      <th></th>\n",
       "      <th></th>\n",
       "      <th></th>\n",
       "      <th></th>\n",
       "    </tr>\n",
       "  </thead>\n",
       "  <tbody>\n",
       "    <tr>\n",
       "      <th>2025-01</th>\n",
       "      <td>17.653650</td>\n",
       "      <td>1.435378</td>\n",
       "      <td>17.653650</td>\n",
       "      <td>1.435378</td>\n",
       "    </tr>\n",
       "    <tr>\n",
       "      <th>2025-02</th>\n",
       "      <td>18.909581</td>\n",
       "      <td>1.537494</td>\n",
       "      <td>18.909581</td>\n",
       "      <td>1.537494</td>\n",
       "    </tr>\n",
       "    <tr>\n",
       "      <th>2025-03</th>\n",
       "      <td>25.489085</td>\n",
       "      <td>2.072459</td>\n",
       "      <td>25.489085</td>\n",
       "      <td>2.072459</td>\n",
       "    </tr>\n",
       "    <tr>\n",
       "      <th>2025-04</th>\n",
       "      <td>27.194136</td>\n",
       "      <td>2.211092</td>\n",
       "      <td>27.194136</td>\n",
       "      <td>2.211092</td>\n",
       "    </tr>\n",
       "    <tr>\n",
       "      <th>2025-05</th>\n",
       "      <td>28.807741</td>\n",
       "      <td>2.342291</td>\n",
       "      <td>28.807741</td>\n",
       "      <td>2.342291</td>\n",
       "    </tr>\n",
       "  </tbody>\n",
       "</table>\n",
       "</div>"
      ],
      "text/plain": [
       "         incentivo_config_CP1  valorizzazione_config_CP1  incentivo  \\\n",
       "month                                                                 \n",
       "2025-01             17.653650                   1.435378  17.653650   \n",
       "2025-02             18.909581                   1.537494  18.909581   \n",
       "2025-03             25.489085                   2.072459  25.489085   \n",
       "2025-04             27.194136                   2.211092  27.194136   \n",
       "2025-05             28.807741                   2.342291  28.807741   \n",
       "\n",
       "         valorizzazione  \n",
       "month                    \n",
       "2025-01        1.435378  \n",
       "2025-02        1.537494  \n",
       "2025-03        2.072459  \n",
       "2025-04        2.211092  \n",
       "2025-05        2.342291  "
      ]
     },
     "execution_count": 144,
     "metadata": {},
     "output_type": "execute_result"
    }
   ],
   "source": [
    "#incentivo per configurazione\n",
    "df = pd.read_csv(config[\"filename_CACER_incentivi_per_configuration\"], index_col = 0)"
   ]
  },
  {
   "cell_type": "code",
   "execution_count": 145,
   "metadata": {},
   "outputs": [],
   "source": [
    "colori = [col[\"arancione\"], col[\"verde_piemonte\"], col[\"blu_piemonte\"], col[\"rosso_piemonte\"], col[\"giallo\"], col[\"violetto\"]] # aggiungi se ci sono piu di 6 configurazioni"
   ]
  },
  {
   "cell_type": "code",
   "execution_count": 146,
   "metadata": {},
   "outputs": [],
   "source": [
    "df_plot = df.drop(columns=[\"valorizzazione\",\"incentivo\"])\n",
    "title = 'Incentivi divisi per tipologia e configurazione'\n",
    "# labels = ['Energia Autoconsumata dai prosumer', 'Energia acquistata da rete e condivisa dalla CACER', 'Energia Acquistata da rete non condivisa']\n",
    "# title = \"CACER Energy consumption allocation - [%]\"\n",
    "# labels = ['Prosumers energy self-consumption', 'Energy purchased from grid and shared', 'Energy purchased from grid and not shared']\n",
    "# fig = make_subplots(specs=[[{\"secondary_y\": True}]])\n",
    "\n",
    "fig = go.Figure()\n",
    "for column in df_plot.columns:\n",
    "\n",
    "    ################ IN PERCENTUALE\n",
    "    fig.add_trace(go.Bar(\n",
    "        x = df.index, \n",
    "        y = df_plot[column], \n",
    "        # marker_color = colori[i], \n",
    "        name = column,\n",
    "        # text=round(y_perc,1), textposition='middle center',\n",
    "        # stackgroup='one',\n",
    "        ),\n",
    "        # secondary_y= True\n",
    "        )\n",
    "\n",
    "fig.update_layout(plot_bgcolor='white',\n",
    "    title_text = title, \n",
    "    xaxis = dict(title='mese',\n",
    "    # type='category'\n",
    "    ))\n",
    "\n",
    "fig.update_layout(\n",
    "            legend = dict(orientation='h',\n",
    "                        yanchor=\"top\", y = -0.2, xanchor=\"left\", x=0.01), \n",
    "                        )\n",
    "\n",
    "fig.update_layout(barmode='stack')\n",
    "\n",
    "fig.update_yaxes(title_text = 'Euro al mese (€/m)', exponentformat= \"none\")\n",
    "\n",
    "# fig.update_yaxes(title_text = 'Euro al', secondary_y=True, exponentformat= \"none\",\n",
    "#     mirror=True,\n",
    "#     # ticks='outside',\n",
    "#     showline=True,\n",
    "#     # linecolor='black',\n",
    "#     gridcolor='lightgrey')\n",
    "\n",
    "if flag_show: fig.show()\n",
    "\n",
    "\n",
    "path = foldername_graphs_energy\n",
    "num_graph+=1\n",
    "\n",
    "fig.write_html(path + str(num_graph) + \"_\" + title + \"CACER.html\")\n",
    "fig.write_image(path + str(num_graph) + \"_\" + title + \"CACER.png\", width=1000, height=1100/13.2*5, scale = 4)"
   ]
  },
  {
   "cell_type": "code",
   "execution_count": 147,
   "metadata": {},
   "outputs": [],
   "source": [
    "df_agg = df_plot.sum()\n",
    "title = \"Contributo di ogni configurazione alla generazione di incentivi sul totale della CACER\"\n",
    "fig = go.Figure(data=[go.Pie(labels=df_agg.index, values=df_agg, pull = 0.1)])\n",
    "fig.update_layout(plot_bgcolor='white',\n",
    "    title_text = title, \n",
    "    )\n",
    "\n",
    "if flag_show: fig.show()\n",
    "\n",
    "path = foldername_graphs_finance\n",
    "num_graph+=1\n",
    "\n",
    "fig.write_html(path + str(num_graph) + \"_\" + title + \" - CACER.html\")\n",
    "fig.write_image(path + str(num_graph) + \"_\" + title + \" - CACER.png\", width=800, height=400, scale = 4)"
   ]
  },
  {
   "cell_type": "code",
   "execution_count": 148,
   "metadata": {},
   "outputs": [],
   "source": [
    "\n",
    "totals = []\n",
    "for configuration in configurations:\n",
    "    # print(configuration)\n",
    "    cols = [item for item in list(df_agg.index) if configuration in item]\n",
    "    total = df_agg[cols].sum()\n",
    "    totals.append(total)\n",
    "\n",
    "fig = go.Figure(data=[go.Pie(labels=configurations, values=totals, pull = [0.05] * len(configurations))])\n",
    "fig.update_layout(title_text = title)\n",
    "\n",
    "\n",
    "\n",
    "fig.update_traces(marker=dict(colors=colori[:len(configurations)]))\n",
    "# fig.update_traces(marker=dict(colors=[greys[0],greys[2], greys[4]]))\n",
    "\n",
    "fig.update_layout(\n",
    "            legend = dict(orientation='h',\n",
    "                        yanchor=\"top\", y = -0.1, xanchor=\"left\", x=0.01), \n",
    "                        )\n",
    "\n",
    "if flag_show: fig.show()\n",
    "\n",
    "\n",
    "path = foldername_graphs_finance\n",
    "num_graph+=1\n",
    "\n",
    "fig.write_html(path + str(num_graph) + \"_\" + title + \".html\")\n",
    "fig.write_image(path + str(num_graph) + \"_\" + title + \".png\", width=900, height=400, scale = 4)"
   ]
  },
  {
   "cell_type": "markdown",
   "metadata": {},
   "source": [
    "FLUSSI DI CASSA ATTUALIZZATI"
   ]
  },
  {
   "cell_type": "code",
   "execution_count": 149,
   "metadata": {},
   "outputs": [],
   "source": [
    "df = pd.read_csv(config[\"filename_FM_results_last_simulation\"],index_col=0)\n",
    "df_t = df.T"
   ]
  },
  {
   "cell_type": "code",
   "execution_count": 150,
   "metadata": {},
   "outputs": [],
   "source": [
    "colonne_FC = [string for x,string in enumerate(df_t.columns) if string.startswith(\"DCF_yr\")]\n",
    "df_FC = df_t.copy()\n",
    "df_FC = df_FC[colonne_FC].astype(float)\n",
    "df_FC\n",
    "df_FC_cum = df_FC.cumsum(axis=1).T"
   ]
  },
  {
   "cell_type": "markdown",
   "metadata": {},
   "source": [
    "Grafico dei flussi di cassa attualizzati per i vari utenti"
   ]
  },
  {
   "cell_type": "code",
   "execution_count": 151,
   "metadata": {},
   "outputs": [],
   "source": [
    "if detailed_report:\n",
    "    fig = go.Figure()\n",
    "\n",
    "    title = \"Cumulata dei flussi di cassa attualizzati per tipologia di utente\"\n",
    "\n",
    "    ###############################################################################################################################\n",
    "\n",
    "    x = list(df_FC_cum.index)\n",
    "    # x = recap[\"list_user_types_CER\"]\n",
    "\n",
    "    # years for the x axis\n",
    "    x_list = ()\n",
    "    for i, value in enumerate(x):\n",
    "        x_list +=(i+1, )\n",
    "\n",
    "    user_type_list_found = [] # plotting only one user per user_type. initialization of the user type list\n",
    "\n",
    "    ###############################################################################################################################\n",
    "\n",
    "    users = [user for user in df_FC_cum.columns if user.startswith(\"u_\")]\n",
    "\n",
    "    for i, item in enumerate(users):\n",
    "\n",
    "        # plotting only one user per user_type.\n",
    "        if item in users_set:\n",
    "            if users_set[item][\"user_type\"] in user_type_list_found or users_set[item][\"dummy_user\"] == True:\n",
    "                continue  \n",
    "            else: \n",
    "                user_type_list_found.append(users_set[item][\"user_type\"])\n",
    "        \n",
    "        if item in user_type_list_consuming:\n",
    "            item_name = denomination_users[item]\n",
    "        elif item == \"CACER\" or item in recap[\"stakeholders\"]:\n",
    "            item_name = item\n",
    "        else:\n",
    "            item_name = users_set[item][\"denomination\"]\n",
    "        \n",
    "        # adding the trace to the figure\n",
    "        fig.add_trace(go.Bar(\n",
    "            # x = x, \n",
    "            x = x_list, \n",
    "            y = df_FC_cum[item], \n",
    "            # marker_color = colors[utenti[user][\"type\"]], \n",
    "            name = item_name,\n",
    "            # text=round(df_ricavi[item],1), textposition='auto',\n",
    "            ))\n",
    "        \n",
    "        ###############################################################################################################################\n",
    "\n",
    "        # if type(payback_CER) !=  str:\n",
    "        #     fig.add_annotation(x=payback_CER, y=50,\n",
    "        #             text=\"Anno CACER payback: \" + str(payback_CER),\n",
    "        #             showarrow=False,\n",
    "        #             arrowhead=1)\n",
    "        \n",
    "        ###############################################################################################################################\n",
    "\n",
    "        fig.update_layout(\n",
    "            title_text = title, \n",
    "            xaxis = dict(title='anni',\n",
    "                        tickmode = 'linear',\n",
    "                        tick0 = 0,\n",
    "                        dtick = 1\n",
    "                        ),\n",
    "            yaxis = dict(title='€'\n",
    "                        ),\n",
    "\n",
    "            legend = dict(orientation='h',\n",
    "                        yanchor=\"top\", \n",
    "                        y = -0.2, \n",
    "                        xanchor=\"left\", \n",
    "                        x=0.01), \n",
    "                        )\n",
    "\n",
    "    fig.update_layout(showlegend=True)\n",
    "    ##############################################################################################################################\n",
    "\n",
    "    fig.update_xaxes(\n",
    "        # mirror=True,\n",
    "        # ticks='outside',\n",
    "        # showline=True,\n",
    "        # linecolor='lightgrey',\n",
    "        gridcolor='white'\n",
    "    )\n",
    "\n",
    "    fig.update_yaxes(\n",
    "        # mirror=True,\n",
    "        # ticks='outside',\n",
    "        # showline=True,\n",
    "        # linecolor='lightgrey',\n",
    "        gridcolor='white'\n",
    "    )\n",
    "\n",
    "    fig.update_layout({'plot_bgcolor': 'white',\n",
    "                    'paper_bgcolor': 'white',\n",
    "    })\n",
    "\n",
    "    ############################################################################################################################\n",
    "\n",
    "    if flag_show: fig.show()\n",
    "\n",
    "    path = foldername_graphs_finance\n",
    "    num_graph+=1\n",
    "\n",
    "    fig.write_html(path + str(num_graph) + \"_\" + title + \".html\")\n",
    "    fig.write_image(path + str(num_graph) + \"_\" + title + \".png\", width=1000, height=1100/13.2*5, scale = 4)"
   ]
  },
  {
   "cell_type": "code",
   "execution_count": 152,
   "metadata": {},
   "outputs": [],
   "source": [
    "def financial_sums():\n",
    "\n",
    "    for file in glob.glob(config[\"foldername_finance_users\"]+'*.xlsx'): \n",
    "        \n",
    "        user = file.split(\"\\\\\")[-1].split(\".\")[0]\n",
    "        # print(user)\n",
    "        \n",
    "        # discount_factor = pd.read_excel(config[\"foldername_finance_users\"]+user+\".xlsx\", sheet_name=\"totals\", index_col=0).T[\"discount_factor\"] # month_number on index\n",
    "\n",
    "        df = pd.read_excel(config[\"foldername_finance_users\"]+user+\".xlsx\",index_col=0)\n",
    "\n",
    "        # LOOP OVER PLANTS AND CACER SHEETS\n",
    "        sheet_names = pd.ExcelFile(config[\"foldername_finance_users\"]+ user +\".xlsx\").sheet_names\n",
    "        sheets = [sheet for sheet in sheet_names if sheet.startswith(\"p_\")]\n",
    "        sheets.append(\"CACER\")\n",
    "        flag_initialization = True\n",
    "\n",
    "        for sheet in sheets:\n",
    "\n",
    "            df = pd.read_excel(config[\"foldername_finance_users\"]+user+\".xlsx\", sheet_name=sheet, index_col=0).drop(\"month\")\n",
    "\n",
    "            # df = df * discount_factor # Discounting\n",
    "\n",
    "            df_aggregated = df.sum(axis=1)\n",
    "            \n",
    "            capex_index = [index for index in df_aggregated.index if index.startswith(\"capex\")]\n",
    "            if \"debt_interest\" in capex_index: capex_index.append(\"debt_interest\") \n",
    "            opex_index = [index for index in df_aggregated.index if index.startswith(\"opex\")]\n",
    "            revenues_index = [index for index in df_aggregated.index if index.startswith(\"revenues\")]\n",
    "\n",
    "            all_indexes = capex_index + opex_index + revenues_index\n",
    "\n",
    "            df_sheet = pd.DataFrame(df_aggregated[all_indexes], columns=[\"value\"]).reset_index().rename(columns={\"index\":\"item\"})\n",
    "\n",
    "            df_sheet = df_sheet[df_sheet[\"value\"] != 0]\n",
    "\n",
    "            df_sheet[\"source\"] = sheet\n",
    "            df_sheet[\"target\"] = user\n",
    "\n",
    "            # check if df_merged exists already within the variables, if yes just append the dataframe\n",
    "            if not flag_initialization:\n",
    "                df_merged = pd.concat([df_merged, df_sheet], ignore_index=True)\n",
    "            else:\n",
    "                df_merged = df_sheet\n",
    "                flag_initialization = False\n",
    "                \n",
    "        assert not df_merged.isnull().values.any(), f\"ERROR: There are NaN values in the {user} merged dataframe\"\n",
    "        \n",
    "        # check if df_results exists already within the variables, if yes just append the dataframe\n",
    "        if \"df_results\" in locals():\n",
    "            df_results = pd.concat([df_results, df_merged], ignore_index=True)\n",
    "        else:\n",
    "            df_results = df_merged\n",
    "        \n",
    "    df_results[\"sign\"] = \"cost\"\n",
    "    df_results.loc[df_results[\"value\"] > 0, \"sign\"] = \"revenue\"\n",
    "\n",
    "    df_results[\"value\"] = df_results[\"value\"].abs()\n",
    "    \n",
    "    return df_results"
   ]
  },
  {
   "cell_type": "code",
   "execution_count": 153,
   "metadata": {},
   "outputs": [],
   "source": [
    "df_results = financial_sums()"
   ]
  },
  {
   "cell_type": "code",
   "execution_count": 154,
   "metadata": {},
   "outputs": [],
   "source": [
    "title = \"Cash Flows in the CACER\"\n",
    "\n",
    "df_results_raw = df_results.copy()\n",
    "\n",
    "# https://medium.com/@enigma.pythonml/how-to-create-sankey-diagrams-from-data-frames-in-python-plotly-and-kaggles-titanic-data-1f7d56b28096\n",
    "colors = {\"cost\": col[\"rosso\"], \"revenue\": col[\"blu\"]}\n",
    "\n",
    "#for using with 'label' parameter in plotly \n",
    "#https://sparkbyexamples.com/pandas/pandas-find-unique-values-from-columns\n",
    "unique_source_target = list(pd.unique(df_results[['source', 'target']].values.ravel('K')))\n",
    "\n",
    "#for assigning unique number to each source and target\n",
    "mapping_dict = {k: v for v, k in enumerate(unique_source_target)}\n",
    "\n",
    "#mapping of full data\n",
    "df_results['source'] = df_results['source'].map(mapping_dict)\n",
    "df_results['target'] = df_results['target'].map(mapping_dict)\n",
    "\n",
    "df_results['color'] = df_results['sign'].map(colors)\n",
    "\n",
    "#converting full dataframe as list for using with in plotly\n",
    "df_results_dict = df_results.to_dict(orient='list')\n",
    "\n",
    "#Sankey Diagram Code \n",
    "fig = go.Figure(data=[go.Sankey(\n",
    "    node = dict(\n",
    "      pad = 15,\n",
    "      thickness = 20,\n",
    "      line = dict(color = \"black\", width = 0.5),\n",
    "      label = unique_source_target,\n",
    "      \n",
    "    ),\n",
    "    link = dict(\n",
    "      source = df_results_dict[\"source\"],\n",
    "      target = df_results_dict[\"target\"],\n",
    "      value = df_results_dict[\"value\"],\n",
    "      label =  df_results_dict[\"item\"],\n",
    "      color = df_results_dict[\"color\"],\n",
    "  \n",
    "  ))])\n",
    "\n",
    "fig.update_layout(title_text=title, font_size=10, width=1000, height=600)\n",
    "\n",
    "if flag_show: fig.show()\n",
    "\n",
    "path = foldername_graphs_finance\n",
    "num_graph+=1\n",
    "\n",
    "fig.write_html(path + str(num_graph) + \"_\" + title + \".html\")\n",
    "fig.write_image(path + str(num_graph) + \"_\" + title + \".png\", width=1000, height=700, scale = 4)"
   ]
  },
  {
   "cell_type": "code",
   "execution_count": 155,
   "metadata": {},
   "outputs": [],
   "source": [
    "df_results = df_results_raw[df_results_raw[\"sign\"] == \"cost\"]\n",
    "title = \"Cash Flows in the CACER - Costs\"\n",
    "\n",
    "# https://medium.com/@enigma.pythonml/how-to-create-sankey-diagrams-from-data-frames-in-python-plotly-and-kaggles-titanic-data-1f7d56b28096\n",
    "colors = {\"cost\": col[\"rosso\"], \"revenue\": col[\"blu\"]}\n",
    "\n",
    "#for using with 'label' parameter in plotly \n",
    "#https://sparkbyexamples.com/pandas/pandas-find-unique-values-from-columns\n",
    "unique_source_target = list(pd.unique(df_results[['source', 'target']].values.ravel('K')))\n",
    "\n",
    "#for assigning unique number to each source and target\n",
    "mapping_dict = {k: v for v, k in enumerate(unique_source_target)}\n",
    "\n",
    "#mapping of full data\n",
    "df_results['source'] = df_results['source'].map(mapping_dict)\n",
    "df_results['target'] = df_results['target'].map(mapping_dict)\n",
    "\n",
    "df_results['color'] = df_results['sign'].map(colors)\n",
    "\n",
    "#converting full dataframe as list for using with in plotly\n",
    "df_results_dict = df_results.to_dict(orient='list')\n",
    "\n",
    "#Sankey Diagram Code \n",
    "fig = go.Figure(data=[go.Sankey(\n",
    "    node = dict(\n",
    "      pad = 15,\n",
    "      thickness = 20,\n",
    "      line = dict(color = \"black\", width = 0.5),\n",
    "      label = unique_source_target,\n",
    "      \n",
    "    ),\n",
    "    link = dict(\n",
    "      source = df_results_dict[\"source\"],\n",
    "      target = df_results_dict[\"target\"],\n",
    "      value = df_results_dict[\"value\"],\n",
    "      label =  df_results_dict[\"item\"],\n",
    "      color = df_results_dict[\"color\"],\n",
    "  \n",
    "  ))])\n",
    "\n",
    "fig.update_layout(title_text=title, font_size=10, width=1000, height=600)\n",
    "\n",
    "if flag_show: fig.show()\n",
    "\n",
    "path = foldername_graphs_finance\n",
    "num_graph+=1\n",
    "\n",
    "fig.write_html(path + str(num_graph) + \"_\" + title + \".html\")\n",
    "fig.write_image(path + str(num_graph) + \"_\" + title + \".png\", width=1000, height=700, scale = 4)"
   ]
  },
  {
   "cell_type": "code",
   "execution_count": 156,
   "metadata": {},
   "outputs": [],
   "source": [
    "df_results = df_results_raw[df_results_raw[\"sign\"] == \"revenue\"]\n",
    "title = \"Cash Flows in the CACER - Revenues\"\n",
    "\n",
    "# https://medium.com/@enigma.pythonml/how-to-create-sankey-diagrams-from-data-frames-in-python-plotly-and-kaggles-titanic-data-1f7d56b28096\n",
    "colors = {\"cost\": col[\"rosso\"], \"revenue\": col[\"blu\"]}\n",
    "\n",
    "#for using with 'label' parameter in plotly \n",
    "#https://sparkbyexamples.com/pandas/pandas-find-unique-values-from-columns\n",
    "unique_source_target = list(pd.unique(df_results[['source', 'target']].values.ravel('K')))\n",
    "\n",
    "#for assigning unique number to each source and target\n",
    "mapping_dict = {k: v for v, k in enumerate(unique_source_target)}\n",
    "\n",
    "#mapping of full data\n",
    "df_results['source'] = df_results['source'].map(mapping_dict)\n",
    "df_results['target'] = df_results['target'].map(mapping_dict)\n",
    "\n",
    "df_results['color'] = df_results['sign'].map(colors)\n",
    "\n",
    "#converting full dataframe as list for using with in plotly\n",
    "df_results_dict = df_results.to_dict(orient='list')\n",
    "\n",
    "#Sankey Diagram Code \n",
    "fig = go.Figure(data=[go.Sankey(\n",
    "    node = dict(\n",
    "      pad = 15,\n",
    "      thickness = 20,\n",
    "      line = dict(color = \"black\", width = 0.5),\n",
    "      label = unique_source_target,\n",
    "      \n",
    "    ),\n",
    "    link = dict(\n",
    "      source = df_results_dict[\"source\"],\n",
    "      target = df_results_dict[\"target\"],\n",
    "      value = df_results_dict[\"value\"],\n",
    "      label =  df_results_dict[\"item\"],\n",
    "      color = df_results_dict[\"color\"],\n",
    "  \n",
    "  ))])\n",
    "\n",
    "fig.update_layout(title_text=title, font_size=10, width=1000, height=600)\n",
    "\n",
    "if flag_show: fig.show()\n",
    "\n",
    "path = foldername_graphs_finance\n",
    "num_graph+=1\n",
    "\n",
    "fig.write_html(path + str(num_graph) + \"_\" + title + \".html\")\n",
    "fig.write_image(path + str(num_graph) + \"_\" + title + \".png\", width=1000, height=700, scale = 4)"
   ]
  },
  {
   "cell_type": "markdown",
   "metadata": {},
   "source": [
    "## DOCX"
   ]
  },
  {
   "cell_type": "code",
   "execution_count": 166,
   "metadata": {},
   "outputs": [],
   "source": [
    "#dati utili per report\n",
    "provincia = config[\"provincia_it\"]\n",
    "regione = province_to_region()\n",
    "file_recap_yml = config['filename_recap']\n",
    "recap = yaml.safe_load(open(file_recap_yml, 'r'))\n",
    "utenti = yaml.safe_load(open(filename_utenze_yml, 'r'))\n",
    "filename_utenze_yml = config[\"filename_registry_users_yml\"]"
   ]
  },
  {
   "cell_type": "code",
   "execution_count": null,
   "metadata": {},
   "outputs": [
    {
     "name": "stdout",
     "output_type": "stream",
     "text": [
      "REPORT EXPORTED\n"
     ]
    }
   ],
   "source": [
    "from docx import Document\n",
    "from docx.shared import Inches\n",
    "\n",
    "filename_report = config['filename_template_report']\n",
    "\n",
    "document = Document(filename_report)\n",
    "\n",
    "document.add_heading('Report simulazione CACER', 0)\n",
    "\n",
    "p = document.add_paragraph('Prodotto da: RSE - gruppo \"Reti Attive: utente al centro della transizione \\n')\n",
    "p.add_run('Data: ')\n",
    "p.add_run(datetime.now().strftime(\"%d-%m-%Y\")).bold = True\n",
    "\n",
    "########################################### RECAP DATI INPUT #################################\n",
    "\n",
    "document.add_heading('CER - Dati di input della simulazione', level=1)\n",
    "# document.add_paragraph('Intense quote', style='Intense Quote')\n",
    "\n",
    "document.add_paragraph(\n",
    "    'Località: '+ provincia + \" - \" + regione,# style='List Bullet'\n",
    ")\n",
    "\n",
    "document.add_paragraph(\n",
    "    'Utenti della CACER: ' + str(recap['numero_prosumers']+recap['numero_producers']+recap['numero_consumers']) + \":\",\n",
    ").bold = True\n",
    "\n",
    "document.add_paragraph(\n",
    "     'Prosumers: ' + str(recap['numero_prosumers']), style='List Bullet'\n",
    "    )\n",
    "\n",
    "document.add_paragraph(\n",
    "     'Impianti immissione totale: ' + str(recap['numero_producers']), style='List Bullet'\n",
    "    )\n",
    "\n",
    "document.add_paragraph(\n",
    "    'Consumers: ' + str(recap['numero_consumers']), style='List Bullet'\n",
    "    )\n",
    "\n",
    "##################################################################################################\n",
    "\n",
    "# si inseriscono nel documento le due tabelle generate in precendenza\n",
    "\n",
    "for file in glob.glob(foldername_graphs_generali + \"*.png\"):\n",
    "    if \"sun chart\" in file:\n",
    "        w = 4\n",
    "    elif \"Consumi anno 1 per tipologia di utente\" in file:\n",
    "        w = 4\n",
    "    else: \n",
    "        w = 6.5\n",
    "    document.add_picture(file, width=Inches(w))\n",
    "\n",
    "##################################################################################################\n",
    "\n",
    "# si inseriscono nel documento i grafici relativi ai risultati energetici della CACER\n",
    "\n",
    "document.add_heading('CER - Risultati', level=1)\n",
    "\n",
    "for file in glob.glob(foldername_graphs_energy + \"*\" + \"CACER.png\"):\n",
    "    if \"Allocazione\" in file:\n",
    "        w = 4\n",
    "    else: \n",
    "        w = 6.5\n",
    "    document.add_picture(file, width=Inches(w))\n",
    "\n",
    "##################################################################################################\n",
    "\n",
    "# si inseriscono nel documento i grafici relativi ai risultati energetici del prosumer\n",
    "\n",
    "document.add_heading('Prosumers - Risultati energetici', level=1)\n",
    "\n",
    "for prosumer_type in recap[\"list_types_prosumers\"]:\n",
    "    document.add_heading('Prosumer: ' + prosumer_type, level=2)\n",
    "    for file in glob.glob(foldername_graphs_energy + \"*\" + prosumer_type + \".png\"):\n",
    "            if \"Allocazione\" in file:\n",
    "                w = 4\n",
    "            else: \n",
    "                w = 6.5\n",
    "            document.add_picture(file, width=Inches(w))\n",
    "\n",
    "##################################################################################################\n",
    "\n",
    "# si inseriscono nel documento i grafici relativi ai risultati finanziari della CACER\n",
    "\n",
    "document.add_heading('CACER - Risulati finanziari', level=1)\n",
    "# document.add_heading('Input finanziari', level=2)\n",
    "for file in glob.glob(foldername_graphs_finance + \"*.png\"):\n",
    "    document.add_picture(file, width=Inches(6.5))\n",
    "\n",
    "##################################################################################################\n",
    "\n",
    "output_file_docx = config[\"foldername_result_finance\"] + recap[\"case_denomination\"] + '.docx'\n",
    "document.save(output_file_docx)\n",
    "print(\"\\n**** Report exported! ****\")"
   ]
  },
  {
   "cell_type": "code",
   "execution_count": 168,
   "metadata": {},
   "outputs": [],
   "source": [
    "os.startfile(output_file_docx)"
   ]
  }
 ],
 "metadata": {
  "kernelspec": {
   "display_name": "Python 3",
   "language": "python",
   "name": "python3"
  },
  "language_info": {
   "codemirror_mode": {
    "name": "ipython",
    "version": 3
   },
   "file_extension": ".py",
   "mimetype": "text/x-python",
   "name": "python",
   "nbconvert_exporter": "python",
   "pygments_lexer": "ipython3",
   "version": "3.10.11"
  },
  "orig_nbformat": 4
 },
 "nbformat": 4,
 "nbformat_minor": 2
}
