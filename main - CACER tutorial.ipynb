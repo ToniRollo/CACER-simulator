{
 "cells": [
  {
   "cell_type": "code",
   "execution_count": 1,
   "metadata": {},
   "outputs": [],
   "source": [
    "# Run the script with functions to make sure to import the latest saved version\n",
    "%run Funzioni_Generali.py\n",
    "%run Funzioni_Financial_Model.py\n",
    "%run Funzioni_Energy_Model.py\n",
    "%run Funzioni_Demand_Side_Management.py"
   ]
  },
  {
   "cell_type": "code",
   "execution_count": 2,
   "metadata": {},
   "outputs": [],
   "source": [
    "from simple_colors import *"
   ]
  },
  {
   "cell_type": "code",
   "execution_count": 3,
   "metadata": {},
   "outputs": [],
   "source": [
    "# Import single functions\n",
    "\n",
    "# general functions\n",
    "from Funzioni_Generali import (\n",
    "                              #  check_file_status, province_to_region, \n",
    "                               generate_calendar, \n",
    "                              #  get_calendar, \n",
    "                              generate_users_yml, generate_plant_yml, membership_matrix, plant_operation_matrix, \n",
    "                               load_profile_all_users, \n",
    "                               edit_incentive_repartition_scheme, save_simulation_results\n",
    "                               )\n",
    "\n",
    "# functions for energy simulation\n",
    "from Funzioni_Energy_Model import (\n",
    "                                   simulate_configuration_productivity, \n",
    "                                   CACER_energy_flows, \n",
    "                                   CACER_shared_energy, \n",
    "                                #    CACER_injected_energy_optimizer\n",
    "                                   )\n",
    "\n",
    "# functions for financial simulation\n",
    "from Funzioni_Financial_Model import(\n",
    "                                    create_users_bill, \n",
    "                                    add_to_recap_yml, \n",
    "                                    RID_calculation, \n",
    "                                    aggregate_CACER_bills, aggregate_CACER_RID, \n",
    "                                    FM_initialization, \n",
    "                                    incentives, \n",
    "                                    cash_flows_for_all_plants, cash_flows_for_all_users, \n",
    "                                    aggregate_FM, \n",
    "                                    organize_simulation_results_for_reporting\n",
    "                                    )\n",
    "\n",
    "# functions DSM simulation\n",
    "from Funzioni_Demand_Side_Management import (create_emulated_users, \n",
    "                                            #  create_optimal_appliance_start_time_dictionary\n",
    "                                             )"
   ]
  },
  {
   "cell_type": "markdown",
   "metadata": {},
   "source": [
    "---"
   ]
  },
  {
   "cell_type": "markdown",
   "metadata": {},
   "source": [
    "## **External inputs to set before to run the simulation**\n",
    "\n",
    "Before to run the simulation be sure to have set correctly the following input files:\n",
    "        \n",
    "- config.yml [[link yaml](config.yml)]\n",
    "\n",
    "- users CACER.xlsx [[link excel](users%20CACER.xlsx)]"
   ]
  },
  {
   "cell_type": "markdown",
   "metadata": {},
   "source": [
    "---"
   ]
  },
  {
   "cell_type": "markdown",
   "metadata": {},
   "source": [
    "## **Initializing CACER configuration**"
   ]
  },
  {
   "cell_type": "markdown",
   "metadata": {},
   "source": [
    "In this part, all the input files needed for the simulation are created."
   ]
  },
  {
   "cell_type": "markdown",
   "metadata": {},
   "source": [
    "### **1. Generating the calendar file**\n",
    "\n",
    "A csv file is created with the following data:\n",
    "- **datetime**, in format [%Y/%M/%D %h:%m:%s];\n",
    "\n",
    "- **day week**, [1 : monday, 2 : thuesday, etc.];\n",
    "- **holiday**, [True : holiday, False : not holiday];\n",
    "- **fascia**, [1, 2, 3];\n",
    "- **day_flag**, [monday, thuesday, etc.]."
   ]
  },
  {
   "cell_type": "markdown",
   "metadata": {},
   "source": [
    "The csv file has the following structure:\n",
    "\n",
    "| datetime  (type DatetimeIndex)| day_week (type int)| holiday (type boolean)| fascia (type int)| day_flag (type string)|      \n",
    "| :----:| :----:| :----:| :----:| :----:|\n",
    "| 01/01/2025  00:00:00| 2| True| 3| Sunday| \n",
    "| 01/01/2025  00:15:00| 2| True| 3| Sunday| \n",
    "| ...| ...| ...| ...| ...| \n",
    "\n",
    "📂  *files/general/calendar.csv*"
   ]
  },
  {
   "cell_type": "code",
   "execution_count": null,
   "metadata": {},
   "outputs": [],
   "source": [
    "print(blue(\"\\n1. Get calendar:\", ['bold', 'underlined']), '\\n')\n",
    "generate_calendar()"
   ]
  },
  {
   "cell_type": "markdown",
   "metadata": {},
   "source": [
    "---"
   ]
  },
  {
   "cell_type": "markdown",
   "metadata": {},
   "source": [
    "### **2. Generating the yaml and csv files with all the inputs of the CACER configuration**\n",
    "\n",
    "The following files are created:\n",
    "- generate_users_yml() \n",
    "\n",
    "        → files/recap.yml \n",
    "\n",
    "        → files/registry_user_types.yml \n",
    "\n",
    "        → files/registry_users.yml\n",
    "\n",
    "        → files/registry_users.csv\n",
    "\n",
    "- generate_plant_yml() \n",
    "\n",
    "        → files/registry_plant.yml\n",
    "\n",
    "        → files/registry_plant.csv\n",
    "\n",
    "- membership_matrix() \n",
    "\n",
    "        → files/membership_matrix.csv\n",
    "\n",
    "- plant_operation_matrix() \n",
    "\n",
    "        → files/plant_operation_matrix.xlsx\n"
   ]
  },
  {
   "cell_type": "code",
   "execution_count": null,
   "metadata": {},
   "outputs": [],
   "source": [
    "print(blue(\"\\n2. Generate parameters in yaml file from xlsx file:\", ['bold', 'underlined']), '\\n')\n",
    "generate_users_yml(base=10)\n",
    "generate_plant_yml() \n",
    "membership_matrix()\n",
    "plant_operation_matrix()"
   ]
  },
  {
   "cell_type": "markdown",
   "metadata": {},
   "source": [
    "---"
   ]
  },
  {
   "cell_type": "markdown",
   "metadata": {},
   "source": [
    "### **3. Generating the emulated load profile of the users**\n",
    "\n",
    "A csv file is created with the following data:\n",
    "- **datetime**, in format [%Y/%M/%D %h:%m:%s];\n",
    "\n",
    "- quarterly electrical load of each individual user [kWh/15min]."
   ]
  },
  {
   "cell_type": "markdown",
   "metadata": {},
   "source": [
    "The csv file has the following structure:\n",
    "\n",
    "| datetime  (type DatetimeIndex)| user_1 (type float)| user_2 (type float)| ...|      \n",
    "| :----:| :----:| :----: | :----: |\n",
    "| 01/01/2025  00:00:00| 0.109| 0.109| ...| \n",
    "| 01/01/2025  00:15:00| 0.098| 0.098| ...| \n",
    "| ...| ...| ...| ...| \n",
    "\n",
    "**emultated users only*\n",
    "\n",
    "📂 *files/input/emulated_load_profile.csv*"
   ]
  },
  {
   "cell_type": "code",
   "execution_count": null,
   "metadata": {},
   "outputs": [],
   "source": [
    "print(blue(\"\\n3. Create load profile for emulated users:\", ['bold', 'underlined']), '\\n')\n",
    "\n",
    "flag_last_dict = False # if false we create the appliance start time dictionary; if true we import the last one created (default: False)\n",
    "flag_optDSM = False # if true we simulate the optimized DSM case (default: False)\n",
    "flag_all_appliance = True # if true we use all appliance for the load profile emulation (default: True)\n",
    "flag_daily_activation = True # if false we dont'use a daily usage activation for some specified appliances (only washing machine at the moment, default: True)\n",
    "flag_multi_use = True # if true we activate the possibility to have multiple activations for the selected appliances during the day (default: True)\n",
    "\n",
    "create_emulated_users(flag_last_dict, flag_optDSM, flag_all_appliance, flag_daily_activation, flag_multi_use)"
   ]
  },
  {
   "cell_type": "markdown",
   "metadata": {},
   "source": [
    "---"
   ]
  },
  {
   "cell_type": "markdown",
   "metadata": {},
   "source": [
    "### **4. Generating all load profile of the users (domestic users, commercial users, industrial users, etc.)**\n",
    "\n",
    "A csv file is created with the following data:\n",
    "- **datetime**, in format [%Y/%M/%D %h:%m:%s];\n",
    "\n",
    "- quarterly electrical load of each individual user [kWh/15min]."
   ]
  },
  {
   "cell_type": "markdown",
   "metadata": {},
   "source": [
    "The csv file has the following structure (**carichi.csv**):\n",
    "\n",
    "| datetime  (type DatetimeIndex)| user_1 (type float)| user_2 (type float)| ...|      \n",
    "| :----:| :----:| :----: | :----: |\n",
    "| 01/01/2025  00:00:00| 0.109| 0.109| ...| \n",
    "| 01/01/2025  00:15:00| 0.098| 0.098| ...| \n",
    "| ...| ...| ...| ...| \n",
    "\n",
    "**all users*\n",
    "\n",
    "📂 *files/energy/carichi.csv*"
   ]
  },
  {
   "cell_type": "code",
   "execution_count": null,
   "metadata": {},
   "outputs": [],
   "source": [
    "print(blue(\"\\n4. Generate load profile for user types added:\", ['bold', 'underlined']), '\\n')\n",
    "load_profile_all_users()"
   ]
  },
  {
   "cell_type": "markdown",
   "metadata": {},
   "source": [
    "---"
   ]
  },
  {
   "cell_type": "markdown",
   "metadata": {},
   "source": [
    "### **5. Generating productivity of the photovoltaic generators**\n",
    "\n",
    "A csv file is created with the following data:\n",
    "- **datetime**, in format [%Y/%M/%D %h:%m:%s];\n",
    "\n",
    "- quarterly electrical productivity of each individual user [kWh/15min]."
   ]
  },
  {
   "cell_type": "markdown",
   "metadata": {},
   "source": [
    "The csv file has the following structure:\n",
    "\n",
    "| datetime  (type DatetimeIndex)| user_1 (type float)| user_2 (type float)| ...|      \n",
    "| :----:| :----:| :----: | :----: |\n",
    "| 01/01/2025  00:00:00| 0.109| 0.109| ...| \n",
    "| 01/01/2025  00:15:00| 0.098| 0.098| ...| \n",
    "| ...| ...| ...| ...| \n",
    "\n",
    "**all users*\n",
    "\n",
    "📂 *files/output_gen_pv.csv*"
   ]
  },
  {
   "cell_type": "code",
   "execution_count": null,
   "metadata": {},
   "outputs": [],
   "source": [
    "print(blue(\"\\n5. Generate production profile for user types added:\", ['bold', 'underlined']))\n",
    "simulate_configuration_productivity()"
   ]
  },
  {
   "cell_type": "markdown",
   "metadata": {},
   "source": [
    "---"
   ]
  },
  {
   "cell_type": "markdown",
   "metadata": {},
   "source": [
    "### **6. Generating all energy flows of the single users**\n",
    "\n",
    "A csv file is created <u>for each users</u> with the following data:\n",
    "- **datetime**, in format [%Y/%M/%D %h:%m:%s];\n",
    "\n",
    "- **Eprel**, quarterly withdrawn energy [kWh/15min];\n",
    "- **Eut**, quarterly consumed energy [kWh/15min];\n",
    "- **Eimm**, quarterly injected energy [kWh/15min];\n",
    "- **Eprod**, quarterly produced energy [kWh/15min];\n",
    "- **Eperdite**, quarterly lost energy [kWh/15min];\n",
    "- **Eaut**, quarterly self-consumed energy [kWh/15min];\n",
    "- **Eaut_PV**, quarterly self-consumed energy from photovoltaic generator [kWh/15min];\n",
    "- **Eaut_batt**, quarterly self-consumed energy from battery [kWh/15min]."
   ]
  },
  {
   "cell_type": "markdown",
   "metadata": {},
   "source": [
    "The csv files have the following structure:\n",
    "\n",
    "| datetime  (type DatetimeIndex)| Eprel (type float)| Eut (type float)| Eimm (type float)| Eprod (type float)| Eperdite (type float)| Eaut (type float)| Eaut_PV (type float)| Eaut (type float)|      \n",
    "|:----:|:----:|:----:|:----:|:----:|:----:|:----:|:----:|:----:|\n",
    "| 01/01/2025  00:00:00| 0.0899| 0.0899| 0.0899| 0.0899| 0.0899| 0.0899| 0.0899| 0.0899|  \n",
    "| 01/01/2025  00:15:00| 0.0909| 0.0909| 0.0909| 0.0909| 0.0909| 0.0909| 0.0909| 0.0909| \n",
    "| ...| ...| ...| ...| ...| ...| ...| ...| ...| \n",
    "\n",
    "📂 *files/energy/profili_utenti/*"
   ]
  },
  {
   "cell_type": "code",
   "execution_count": null,
   "metadata": {},
   "outputs": [],
   "source": [
    "print(blue(\"\\n6. Generate all CER energy flows:\", ['bold', 'underlined']), '\\n')\n",
    "CACER_energy_flows()"
   ]
  },
  {
   "cell_type": "markdown",
   "metadata": {},
   "source": [
    "---\n",
    "---"
   ]
  },
  {
   "cell_type": "markdown",
   "metadata": {},
   "source": [
    "## **Simulate CACER configuration**"
   ]
  },
  {
   "cell_type": "markdown",
   "metadata": {},
   "source": [
    "In this part, all economic cash flows (aggregated for the project, aggregated for the CACER configuratione and for each user types) are simulated. \n",
    "\n",
    "Finally, a Discounted Cash Flow (DCF) is calculated for each \"actor\" (project, CACER configuration, users).\n",
    "\n",
    "Before to run the simulation be sure to have set correctly the following input files:\n",
    "        \n",
    "- input_FM.xlsx [[link excel](files/input_FM.xlsx)]"
   ]
  },
  {
   "cell_type": "markdown",
   "metadata": {},
   "source": [
    "---"
   ]
  },
  {
   "cell_type": "markdown",
   "metadata": {},
   "source": [
    "### **7. Calculate the electricity bills for each user types**\n",
    "\n",
    "Before to run the simulation be sure to have set correctly the following input files:\n",
    "\n",
    "        → files/mercato.yml\n",
    "\n",
    "A csv file is created <u>for each actor</u> with the following data:\n",
    "- **month**, in format [%Y-%M];\n",
    "\n",
    "- **me_cost**, monthly cost for energy [€/month];\n",
    "- **transport_cost**, monthly cost for transport [€/month];\n",
    "- **ogs_cost**, monthly general system costs [€/month];\n",
    "- **energy_cost**, monthly cost variable with electricity consumption [€/month];\n",
    "- **fixed_cost**, monthly fixed cost [€/month];\n",
    "- **power_cost**, monthly cost variable with contractual power [€/month];\n",
    "- **duty_cost**, monthly cost for duty [€/month];\n",
    "- **vat_cost**, monthly cost for vat [€/month];\n",
    "- **total_bill_cost**, monthly total bill cost [€/month];\n",
    "- **load_active**, monthly consumed energy [kWh/month];\n",
    "- **load_active_corrected**, monthly consumed energy corrected with losses [kWh/month]."
   ]
  },
  {
   "cell_type": "markdown",
   "metadata": {},
   "source": [
    "The csv files have the following structure:\n",
    "\n",
    "| month  (type DatetimeIndex)| me_cost (type float)| transport_cost (type float)| ogs_cost (type float)| energy_cost (type float)| fixed_cost (type float)| power_cost (type float)| duty_cost (type float)| vat_cost (type float)| total_bill_cost (type float)| load_active (type float)| load_active_corrected (type float)|      \n",
    "|:----:|:----:|:----:|:----:|:----:|:----:|:----:|:----:|:----:|:----:|:----:|:----:|\n",
    "| 2025-01| 71.56| 71.56| 71.56| 71.56| 71.56| 71.56| 71.56| 71.56| 71.56| 71.56| 71.56|\n",
    "| 2025-02| 58.89| 58.89| 58.89| 58.89| 58.89| 58.89| 58.89| 58.89| 58.89| 58.89| 58.89|\n",
    "| ...| ...| ...| ...| ...| ...| ...| ...| ...| ...| ...| ...| \n",
    "\n",
    "📂 *files/finance/bills/*\n",
    "\n",
    "&nbsp;\n",
    "\n",
    "🚨 **PAY ATTENTION:**\n",
    "\n",
    "- For consumers there are two sheets: one with the monthly values in BAU scenario (Business As Usual) and another one with the quarterly values.\n",
    "\n",
    "- For prosumers and producers there are four sheets: monthly BAU scenario (without the photovoltaic generator), quarterly BAU scenario, monthly PV scenario (with the photovoltaic generator) and quarterly PV scenario.\n",
    "\n",
    "- For project and for configuration (the xlsx file name is the same as the primary cabin name indicated in the *user CACER.xlsx* file) there are two sheets: monthly BAU scenario (without the photovoltaic generator) and monthly PV scenario (with the photovoltaic generator)."
   ]
  },
  {
   "cell_type": "code",
   "execution_count": null,
   "metadata": {},
   "outputs": [],
   "source": [
    "print(blue(\"\\n7. Create user bills:\", ['bold', 'underlined']), '\\n')\n",
    "create_users_bill()"
   ]
  },
  {
   "cell_type": "markdown",
   "metadata": {},
   "source": [
    "---"
   ]
  },
  {
   "cell_type": "markdown",
   "metadata": {},
   "source": [
    "### **8. Setting name and type of the configuration and editing of the incentive repartition**\n",
    "\n",
    "The \"*case_denomination*\" and the \"*type_of_cacer*\" are added to recap.yml file.\n",
    "\n",
    "The \"*case_denomination*\" is used for the final report with results, for the folder with results, etc.\n",
    "\n",
    "The \"*type_of_cacer*\" is necessary for the calculation of the incentives.\n",
    "\n",
    "Finally, the incentive repartition between the members of the CACER configuration (internal and external) is setted in the following file:\n",
    "\n",
    "        → files/inputs_FM.xlsx\n",
    "\n",
    "&nbsp;\n",
    "\n",
    "🚨 **PAY ATTENTION:**\n",
    "\n",
    "The file *input_FM.xlsx* contains all the inputs for financila simulation.\n",
    "\n",
    "It is possible to set the following repartition for the incentives:\n",
    "\n",
    "* Egualitario\n",
    "* Prosumer\n",
    "* PNRR\n",
    "* Equitario\n",
    "* Misto CER\n",
    "* Misto AUC\n",
    "* Misto - ESCo\n",
    "* Social Fund\n",
    "* Misto - Social Fund\n",
    "* Misto - Social Fund 2\n",
    "* Misto - Social Fund PA\n",
    "* Misto - PA\n",
    "* CACER\n",
    "        "
   ]
  },
  {
   "cell_type": "code",
   "execution_count": null,
   "metadata": {},
   "outputs": [],
   "source": [
    "print(blue(\"\\n8. Setting input financial simulation:\", ['bold', 'underlined']), '\\n')\n",
    "\n",
    "case_denomination = \"prova\"\n",
    "\n",
    "add_to_recap_yml(key = \"case_denomination\", value = case_denomination)\n",
    "add_to_recap_yml(key = \"type_of_cacer\", value = \"CER\")\n",
    "edit_incentive_repartition_scheme(\"Egualitario\")\n",
    "print(\"**** All inputs setted! ****\")"
   ]
  },
  {
   "cell_type": "markdown",
   "metadata": {},
   "source": [
    "---"
   ]
  },
  {
   "cell_type": "markdown",
   "metadata": {},
   "source": [
    "### **9. Calculate CACER energy shared**\n",
    "\n",
    "📘 **Formula**\n",
    "\n",
    "The energy shared in the CACER configuration is calculated with the following formula:\n",
    "\n",
    "\n",
    "$$ Hourly ~ energy ~ shared  = \\min \\left( \\sum_{n_g=1}^{N_{gens}} ~ E_{inj, ~h, ~n_g}  ; \\sum_{n_c=1}^{N_{consumers}} ~  E_{draw, ~h, ~n_c} \\right) $$\n",
    "\n",
    "\n",
    "🔍 **Meaning of the Terms**\n",
    "\n",
    "- $\n",
    "N_{gens}:~ \\text{Number of energy generators (e.g., photovoltaic systems);}\n",
    "$\n",
    "\n",
    "- $\n",
    "N_{consumers}:~ \\text{Number of consumers in the community;}\n",
    "$\n",
    "\n",
    "- $\n",
    "h:~ \\text{Hour of the month;}\n",
    "$\n",
    "\n",
    "- $\n",
    "E_{inj,h}:~ \\text{Energy injected into the grid by a generator at hour } h;\n",
    "$\n",
    "\n",
    "- $\n",
    "E_{draw,h}:~ \\text{Energy drawn from the grid by a consumer at hour } h.\n",
    "$\n",
    "\n"
   ]
  },
  {
   "cell_type": "markdown",
   "metadata": {},
   "source": [
    "💾 **Outputs**\n",
    "\n",
    "- In the csv file (*shared_energy_incentive_hourly.csv*) are collected the hourly values for the entire configuration and for each plants.\n",
    "\n",
    "  The csv file has the following structure:\n",
    "\n",
    "| dayhour  (type DatetimeIndex)| Eimm_CACER (type float)| Econd_config_ *Primary Station name* (type float)| Econd_ *user name* (type float)| ...| Econd_cond_CACER (type float)|\n",
    "|:----:|:----:|:----:|:----:|:----:|:----:|\n",
    "| 2025-01-01 00| 0| 0| 0| ...| 0|\n",
    "| 2025-01-01 01| 0| 0| 0| ...| 0|\n",
    "| ...| ...| ...| ...| ...| ...| \n",
    "\n",
    "📂 *files/energy/shared_energy_incentive_hourly.csv*\n",
    "\n",
    "&nbsp;\n",
    "\n",
    "- In the csv file (*shared_energy_incentive_yearly.csv*) are collected the yearly aggregated values for the entire configuration. \n",
    "\n",
    "  The csv file has the following structure:\n",
    "\n",
    "| year  (type DatetimeIndex)| Eimm (type float)| Econd (type float)| perc_cond_annuale type float|\n",
    "|:----:|:----:|:----:|:----:|\n",
    "| 2025| 24512.54| 2133.47| 0.087|\n",
    "| 2026| 24228.59| 2119.51| 0.087|\n",
    "| ...| ...| ...| ...|\n",
    "\n",
    "📂 *files/energy/shared_energy_incentive_hourly.csv*\n",
    "\n",
    "&nbsp;\n",
    "\n",
    "- In the csv file (*shared_energy_valorization_hourly.csv*) are collected the hourly values for the entire configuration and for each generators. The energy shared used for the calculation of the valorization can be different respect that calculated for the incentives (in this case also the \"old\" plants partecipate).\n",
    "\n",
    "  The csv file has the following structure:\n",
    "\n",
    "| dayhour  (type DatetimeIndex)| Econd_VAL (type float)| Econd_bt_VAL (type float)| Econd_mt_VAL (type float)| Econd_CP_VAL (type float)| Econd_CP_bt_VAL (type float)| Econd_CP_mt_VAL (type float)|\n",
    "|:----:|:----:|:----:|:----:|:----:|:----:|:----:| \n",
    "| 2025-01-01 00| 0| 0| 0| 0| 0| 0|\n",
    "| 2025-01-01 01| 0| 0| 0| 0| 0|  0|\n",
    "| ...| ...| ...| ...| ...| ...| ...|\n",
    "\n",
    "📂 *files/energy/shared_energy_valorization_hourly.csv*"
   ]
  },
  {
   "cell_type": "code",
   "execution_count": null,
   "metadata": {},
   "outputs": [],
   "source": [
    "print(blue(\"\\n9. Calculate CACER shared energy:\", ['bold', 'underlined']))\n",
    "CACER_shared_energy() # si calcola l'energia condivisa mensilmente dalla CER"
   ]
  },
  {
   "cell_type": "markdown",
   "metadata": {},
   "source": [
    "---"
   ]
  },
  {
   "cell_type": "markdown",
   "metadata": {},
   "source": [
    "### **10. Calculate energy sold revenues**\n",
    "\n",
    "📘 **Formula**\n",
    "\n",
    "The energy sold revenues of the generators are calculated with the following formula:\n",
    "\n",
    "\n",
    "$$ Monthly ~ energy ~ sold ~ revenues = \\sum_{n_g=1}^{N_{gens}} ~ \\sum_{h=1}^{H_{month}} E_{inj, ~h, ~n_g} × PZO_h $$\n",
    "\n",
    "\n",
    "🔍 **Meaning of the Terms**\n",
    "\n",
    "- $\n",
    "N_{gens}:~ \\text{Number of energy generators (e.g., photovoltaic systems);}\n",
    "$\n",
    "\n",
    "- $\n",
    "h:~ \\text{Hour of the month;}\n",
    "$\n",
    "\n",
    "- $\n",
    "H_{month}:~ \\text{Total hours of the month;}\n",
    "$\n",
    "\n",
    "- $\n",
    "E_{inj,h}:~ \\text{Energy injected into the grid by a generator at hour } h;\n",
    "$\n",
    "\n",
    "- $\n",
    "PZO_h:~ \\text{Energy cost for the market zone at hour } h.\n",
    "$\n",
    "\n"
   ]
  },
  {
   "cell_type": "markdown",
   "metadata": {},
   "source": [
    "📝 **Inputs**\n",
    "\n",
    "The inputs for the RID calculation are listed in:\n",
    "\n",
    "        → files/RID/RID_input.yml\n",
    "\n",
    "&nbsp;\n",
    "\n",
    "💾 **Outputs**\n",
    "\n",
    "- The first csv file (*output_RID.csv*) has the following structure:\n",
    "\n",
    "| month  (type int)| *plant_id_1* (type float)| *plant_id_2* (type float)| ...|\n",
    "|:----:|:----:|:----:|:----:|\n",
    "| 2025-01| 107.32| 107.32| ...|\n",
    "| 2025-02| 146.81| 146.81| ...| \n",
    "| ...| ...| ...| ...| \n",
    "\n",
    "📂 *files/RID/output_RID.csv*\n",
    "\n",
    "&nbsp;\n",
    "\n",
    "- In the csv file (*output_GSE_RID_fees.csv*) are collected the monthly fees cost for the RID accounting for each generators of the configuration.\n",
    "  \n",
    "  The csv file has the following structure:\n",
    "\n",
    "| month  (type int)| *plants_id_1* (type float)| *plant_id_2* (type float)| ...|\n",
    "|:----:|:----:|:----:|:----:|\n",
    "| GSE_fees| 14| 14| ...|\n",
    "\n",
    "📂 *files/RID/output_GSE_RID_fees.csv*"
   ]
  },
  {
   "cell_type": "code",
   "execution_count": null,
   "metadata": {},
   "outputs": [],
   "source": [
    "print(blue(\"\\n10. Calculate RID:\", ['bold', 'underlined']))\n",
    "RID_calculation()"
   ]
  },
  {
   "cell_type": "markdown",
   "metadata": {},
   "source": [
    "---"
   ]
  },
  {
   "cell_type": "markdown",
   "metadata": {},
   "source": [
    "### **11. Aggregate bills costs and energy sold revenues for the entire CACER configuration**\n"
   ]
  },
  {
   "cell_type": "markdown",
   "metadata": {},
   "source": [
    "All the bills costs and energy sold revenues are aggregated for the entire configuration. In particular:\n",
    "\n",
    "- The function **aggregate_CACER_bills()** create a csv file (*CACER_incentivi_per_configuration.csv*) with the following structure:\n",
    "\n",
    "| month  (type DatetimeIndex)| incentivo (type float)| valorizzazione (type float)| incentivo_totale (type float)| surplus (type float)| social_fund (type float)|\n",
    "|:----:|:----:|:----:|:----:|:----:|:----:|\n",
    "| 2025-01| 17.61| 1.43| 17.61| 0| 0|\n",
    "| 2025-02| 18.90| 1.53| 18.90| 0| 0|\n",
    "| ...| ...| ...| ...| ...| ...| \n",
    "\n",
    "📂 *files/incentivi/CACER_incentivi_per_configuration.csv*\n",
    "\n",
    "&nbsp;\n",
    "\n",
    "- The function **aggregate_CACER_RID()** create a csv file (*output_RID_active_CACER.csv*) with the following structure:\n",
    "\n",
    "| month  (type int)| *plant_id_1* (type float)| *plant_id_2* (type float)| ...| CER (type float)|\n",
    "|:----:|:----:|:----:|:----:|:----:|\n",
    "| 2025-01| 107.32| 107.32| ...| 1065.31|\n",
    "| 2025-02| 146.81| 146.81| ...| 1854.54|\n",
    "| ...| ...| ...| ...| ...| \n",
    "\n",
    "📂 *files/RID/output_RID_active_CACER.csv*"
   ]
  },
  {
   "cell_type": "code",
   "execution_count": null,
   "metadata": {},
   "outputs": [],
   "source": [
    "print(blue(\"\\n11. Aggregate bills and RID for the entire CACER:\\n\", ['bold', 'underlined']))\n",
    "aggregate_CACER_bills()\n",
    "aggregate_CACER_RID()"
   ]
  },
  {
   "cell_type": "markdown",
   "metadata": {},
   "source": [
    "---"
   ]
  },
  {
   "cell_type": "markdown",
   "metadata": {},
   "source": [
    "### **12. Generating the xlsx and csv files with all the financial inputs of the CACER configuration**\n",
    "\n",
    "The following files are created:\n",
    "\n",
    "        → files/finance/FM_template.csv\n",
    "\n",
    "        → files/finance/investment_matrix.csv\n",
    "\n",
    "        → files/finance/ownership_matrix.xlsx\n",
    "\n",
    "        → files/finance/repartition_matrix.xlsx\n",
    "\n",
    "        → files/finance/subscription_matrix.csv\n",
    "\n",
    "        → files/finance/subscription_matrix.xlsx\n",
    "\n",
    "        → files/finance/user_entry_matrix.csv"
   ]
  },
  {
   "cell_type": "code",
   "execution_count": null,
   "metadata": {},
   "outputs": [],
   "source": [
    "print(blue(\"\\n12. Initialize financial simulation:\", ['bold', 'underlined']), '\\n')\n",
    "FM_initialization()"
   ]
  },
  {
   "cell_type": "markdown",
   "metadata": {},
   "source": [
    "---"
   ]
  },
  {
   "cell_type": "markdown",
   "metadata": {},
   "source": [
    "### **13. Calculate incentives revenues**\n",
    "\n",
    "📘 **Formula incentives**\n",
    "\n",
    "The incentives revenues of the configuration are calculated with the following formula:\n",
    "\n",
    "\n",
    "$$ Monthly ~ incentives ~ revenues = \\sum_{h=1}^{H_{month}} E_{shared, ~FIP, ~h} × FIP_h $$\n",
    "\n",
    "\n",
    "🔍 **Meaning of the Terms**\n",
    "\n",
    "- $\n",
    "h:~ \\text{Hour of the month;}\n",
    "$\n",
    "\n",
    "- $\n",
    "H_{month}:~ \\text{Total hours of the month;}\n",
    "$\n",
    "\n",
    "- $\n",
    "E_{shared,FIP,h}:~ \\text{Energy shared into the CACER configuration at hour } h;\n",
    "$\n",
    "\n",
    "- $\n",
    "FIP_h:~ \\text{Feed In Premium at hour } h.\n",
    "$\n",
    "\n",
    "&nbsp;\n",
    "\n",
    "📘 **Formula valorization**\n",
    "\n",
    "The valorization revenues of the configuration are calculated with the following formula:\n",
    "\n",
    "$$ Monthly ~ valorization ~ revenues = CU_{Afa, m} × E_{ACV} + CU_{Afb), m} × E_{ACVC} + \\sum_{i} (E_{ACV, ~i} × CP_{PR, ~i} × Pz) $$\n",
    "\n",
    "🔍 **Meaning of the Terms**\n",
    "\n",
    "- $\n",
    "CU_{Afa, m}:~ \\text{flat-rate monthly self-consumption unit fee }(TRAS_{E});\n",
    "$\n",
    "\n",
    "- $\n",
    "E_{ACV}:~ \\text{Monthly self-consumed energy;}\n",
    "$\n",
    "\n",
    "- $\n",
    "CU_{Afb), m}:~ \\text{flat-rate monthly self-consumption unit fee (BTAU)};\n",
    "$\n",
    "\n",
    "- $\n",
    "E_{ACVC}:~ \\text{Monthly self-consumed energy for voltage level i}\n",
    "$\n",
    "\n",
    "- $\n",
    "E_{ACV, ~i}:~ \\text{Hourly self-consumed energy for voltage level i}\n",
    "$\n",
    "\n",
    "- $\n",
    "CP_{PR, ~i}:~ \\text{coefficient of avoided losses (1.2\\% for medium voltage and 2.6\\% for low voltage)}\n",
    "$\n",
    "\n",
    "- $\n",
    "Pz:~ \\text{Hourly market price}\n",
    "$\n",
    "\n",
    "&nbsp;\n",
    "\n",
    "💾 **Outputs**\n",
    "\n",
    "The csv file (*CACER_incentivi.csv*) has the following structure:\n",
    "\n",
    "| month_number  (type int)| incentivo (type float)| valorizzazione (type float)| incentivo_totale (type float)| surplus (type float)| social_fund (type float)|\n",
    "|:----:|:----:|:----:|:----:|:----:|:----:|\n",
    "| 1| 17.61| 1.43| 17.61| 0| 0|\n",
    "| 2| 18.90| 1.53| 18.90| 0| 0|\n",
    "| ...| ...| ...| ...| ...| ...| \n",
    "\n",
    "📂 *files/incentivi/CACER_incentivi.csv*"
   ]
  },
  {
   "cell_type": "code",
   "execution_count": null,
   "metadata": {},
   "outputs": [],
   "source": [
    "print(blue(\"\\n13. Calculate incentives:\", ['bold', 'underlined']), '\\n')\n",
    "incentives()"
   ]
  },
  {
   "cell_type": "markdown",
   "metadata": {},
   "source": [
    "---"
   ]
  },
  {
   "cell_type": "markdown",
   "metadata": {},
   "source": [
    "### **14. All the economic cash flows for each users and for each stakeholders are calculated**\n",
    "\n",
    "The function **cash_flows_for_all_plants()** calculate all the economic invoicse for the generators of the configuration.\n",
    "\n",
    "A csv file (*plants_id.xlsx*) for each generators are created with the following sheets:\n",
    "\n",
    "- Capex;\n",
    "\n",
    "- D&A;\n",
    "\n",
    "- Debt;\n",
    "\n",
    "- Opex;\n",
    "\n",
    "- Revenues;\n",
    "\n",
    "- Totals.\n",
    "\n",
    "📂 *files/finance/plants/*\n",
    "\n",
    "&nbsp;\n",
    "\n",
    "The function **cash_flows_for_all_users()** calculate all the economic cash flows for the users of the configuration, for the social fund and for the entire CACER configuration.\n",
    "\n",
    "- A csv file (*user_id.xlsx*) for each generators are created with the following sheets:\n",
    "\n",
    "    - plant_id;\n",
    "\n",
    "    - CACER;\n",
    "\n",
    "    - DCF_monthly;\n",
    "\n",
    "    - DCF_yearly;\n",
    "\n",
    "    - Results.\n",
    "\n",
    "- A csv file (*social_fund.xlsx*) for each generators are created with the following economic cash flows:\n",
    "\n",
    "    - month [%Y/%M];\n",
    "\n",
    "    - inflaction_factor;\n",
    "    \n",
    "    - revenues_social_fund\n",
    "\n",
    "- A csv file (*CACER.xlsx*) for each generators are created with the following sheets:\n",
    "\n",
    "    - CACER;\n",
    "\n",
    "    - totals;\n",
    "\n",
    "    - DCF_monthly;\n",
    "\n",
    "    - DCF_yearly;\n",
    "\n",
    "    - Results.\n",
    "\n",
    "📂 *files/finance/users/*"
   ]
  },
  {
   "cell_type": "code",
   "execution_count": 4,
   "metadata": {},
   "outputs": [
    {
     "name": "stdout",
     "output_type": "stream",
     "text": [
      "\u001b[1;4;34m\n",
      "14. Calculate cash flows for all power plants and for all users:\u001b[0m \n",
      "\n",
      "CHECK: item= pv,\t size = 6,\t scale factor found: 1.35,\t capex €: 8910.00\n",
      "CHECK: item= battery,\t size = 10,\t scale factor found: 1.15,\t capex €: 6900.00\n",
      "CHECK: item= pv_inverter,\t size = 4.800000000000001,\t scale factor found: 1.20,\t capex €: 322.56\n",
      "CHECK: item= mv_cabinet,\t size = 1,\t scale factor found: 0.00,\t capex €: 0.00\n",
      "CHECK: item= battery,\t size = 10,\t scale factor found: 1.15,\t capex €: 4830.00\n",
      "CHECK: item= pv,\t size = 20,\t scale factor found: 1.25,\t capex €: 27500.00\n",
      "CHECK: item= pv_inverter,\t size = 16.0,\t scale factor found: 1.15,\t capex €: 1030.40\n",
      "CHECK: item= mv_cabinet,\t size = 1,\t scale factor found: 0.00,\t capex €: 0.00\n",
      "All files in files\\\\finance\\\\plants\\\\ folder deleted\n",
      "\n",
      "Plant: p_D011 of 6kW and 10kWh\n",
      "\t- Capex pv:€ -8,910.00\n",
      "\t- Capex pv_inverter:€ -322.56\n",
      "\t- Capex battery:€ -6,900.00\n",
      "\t- Capex wind:€ -0.00\n",
      "\t- Capex mv_cabinet:€ -0.00\n",
      "TOTAL CAPEX: € -16,132.56\n",
      "Loan: € 0.00 at interest rate of 8.0% for 6 years\n"
     ]
    },
    {
     "ename": "com_error",
     "evalue": "(-2147352567, 'Eccezione.', (0, 'Microsoft Excel', \"Microsoft Excel cannot access the file 'C:\\\\Users\\\\rollo\\\\OneDrive - RSE S.p.A\\\\Desktop\\\\CACER - public repo\\\\CACER-simulator\\\\files\\\\inputs_FM.xlsx'. There are several possible reasons:\\n\\n• The file name or path does not exist.\\n• The file is being used by another program.\\n• The workbook you are trying to save has the same name as a currently open workbook.\", 'xlmain11.chm', 0, -2146827284), None)",
     "output_type": "error",
     "traceback": [
      "\u001b[1;31m---------------------------------------------------------------------------\u001b[0m",
      "\u001b[1;31mcom_error\u001b[0m                                 Traceback (most recent call last)",
      "\u001b[1;32m~\\AppData\\Local\\Packages\\PythonSoftwareFoundation.Python.3.10_qbz5n2kfra8p0\\LocalCache\\local-packages\\Python310\\site-packages\\xlwings\\_xlwindows.py\u001b[0m in \u001b[0;36m?\u001b[1;34m(self, name_or_index)\u001b[0m\n\u001b[0;32m    719\u001b[0m             \u001b[1;32mreturn\u001b[0m \u001b[0mBook\u001b[0m\u001b[1;33m(\u001b[0m\u001b[0mxl\u001b[0m\u001b[1;33m=\u001b[0m\u001b[0mself\u001b[0m\u001b[1;33m.\u001b[0m\u001b[0mxl\u001b[0m\u001b[1;33m(\u001b[0m\u001b[0mname_or_index\u001b[0m\u001b[1;33m)\u001b[0m\u001b[1;33m)\u001b[0m\u001b[1;33m\u001b[0m\u001b[1;33m\u001b[0m\u001b[0m\n\u001b[0;32m    720\u001b[0m         \u001b[1;32mexcept\u001b[0m \u001b[0mpywintypes\u001b[0m\u001b[1;33m.\u001b[0m\u001b[0mcom_error\u001b[0m\u001b[1;33m:\u001b[0m\u001b[1;33m\u001b[0m\u001b[1;33m\u001b[0m\u001b[0m\n\u001b[1;32m--> 721\u001b[1;33m             \u001b[1;32mraise\u001b[0m \u001b[0mKeyError\u001b[0m\u001b[1;33m(\u001b[0m\u001b[0mname_or_index\u001b[0m\u001b[1;33m)\u001b[0m\u001b[1;33m\u001b[0m\u001b[1;33m\u001b[0m\u001b[0m\n\u001b[0m",
      "\u001b[1;32m~\\AppData\\Local\\Packages\\PythonSoftwareFoundation.Python.3.10_qbz5n2kfra8p0\\LocalCache\\local-packages\\Python310\\site-packages\\xlwings\\_xlwindows.py\u001b[0m in \u001b[0;36m?\u001b[1;34m(self, *args, **kwargs)\u001b[0m\n\u001b[0;32m    235\u001b[0m                     \u001b[1;32mcontinue\u001b[0m\u001b[1;33m\u001b[0m\u001b[1;33m\u001b[0m\u001b[0m\n\u001b[0;32m    236\u001b[0m                 \u001b[1;32melse\u001b[0m\u001b[1;33m:\u001b[0m\u001b[1;33m\u001b[0m\u001b[1;33m\u001b[0m\u001b[0m\n\u001b[1;32m--> 237\u001b[1;33m                     \u001b[1;32mraise\u001b[0m\u001b[1;33m\u001b[0m\u001b[1;33m\u001b[0m\u001b[0m\n\u001b[0m\u001b[0;32m    238\u001b[0m             \u001b[1;32mexcept\u001b[0m \u001b[0mAttributeError\u001b[0m\u001b[1;33m:\u001b[0m\u001b[1;33m\u001b[0m\u001b[1;33m\u001b[0m\u001b[0m\n",
      "\u001b[1;32m~\\AppData\\Local\\Temp\\gen_py\\3.10\\00020813-0000-0000-C000-000000000046x0x1x9.py\u001b[0m in \u001b[0;36m?\u001b[1;34m(self, Index)\u001b[0m\n\u001b[0;32m  41397\u001b[0m         \u001b[1;32mdef\u001b[0m \u001b[0m__call__\u001b[0m\u001b[1;33m(\u001b[0m\u001b[0mself\u001b[0m\u001b[1;33m,\u001b[0m \u001b[0mIndex\u001b[0m\u001b[1;33m=\u001b[0m\u001b[0mdefaultNamedNotOptArg\u001b[0m\u001b[1;33m)\u001b[0m\u001b[1;33m:\u001b[0m\u001b[1;33m\u001b[0m\u001b[1;33m\u001b[0m\u001b[0m\n\u001b[1;32m> 41398\u001b[1;33m \t\tret = self._oleobj_.InvokeTypes(0, LCID, 2, (13, 0), ((12, 1),),Index\n\u001b[0m\u001b[0;32m  41399\u001b[0m \t\t\t)\n",
      "\u001b[1;31mcom_error\u001b[0m: (-2147352567, 'Eccezione.', (0, None, None, None, 0, -2147352565), None)",
      "\nDuring handling of the above exception, another exception occurred:\n",
      "\u001b[1;31mKeyError\u001b[0m                                  Traceback (most recent call last)",
      "File \u001b[1;32m~\\AppData\\Local\\Packages\\PythonSoftwareFoundation.Python.3.10_qbz5n2kfra8p0\\LocalCache\\local-packages\\Python310\\site-packages\\xlwings\\main.py:5017\u001b[0m, in \u001b[0;36mBooks.open\u001b[1;34m(self, fullname, update_links, read_only, format, password, write_res_password, ignore_read_only_recommended, origin, delimiter, editable, notify, converter, add_to_mru, local, corrupt_load, json)\u001b[0m\n\u001b[0;32m   5016\u001b[0m \u001b[38;5;28;01mtry\u001b[39;00m:\n\u001b[1;32m-> 5017\u001b[0m     impl \u001b[38;5;241m=\u001b[39m \u001b[38;5;28;43mself\u001b[39;49m\u001b[38;5;241;43m.\u001b[39;49m\u001b[43mimpl\u001b[49m\u001b[43m(\u001b[49m\u001b[43mname\u001b[49m\u001b[43m)\u001b[49m\n\u001b[0;32m   5018\u001b[0m     \u001b[38;5;28;01mif\u001b[39;00m \u001b[38;5;129;01mnot\u001b[39;00m os\u001b[38;5;241m.\u001b[39mpath\u001b[38;5;241m.\u001b[39msamefile(impl\u001b[38;5;241m.\u001b[39mfullname, fullname):\n",
      "File \u001b[1;32m~\\AppData\\Local\\Packages\\PythonSoftwareFoundation.Python.3.10_qbz5n2kfra8p0\\LocalCache\\local-packages\\Python310\\site-packages\\xlwings\\_xlwindows.py:721\u001b[0m, in \u001b[0;36mBooks.__call__\u001b[1;34m(self, name_or_index)\u001b[0m\n\u001b[0;32m    720\u001b[0m \u001b[38;5;28;01mexcept\u001b[39;00m pywintypes\u001b[38;5;241m.\u001b[39mcom_error:\n\u001b[1;32m--> 721\u001b[0m     \u001b[38;5;28;01mraise\u001b[39;00m \u001b[38;5;167;01mKeyError\u001b[39;00m(name_or_index)\n",
      "\u001b[1;31mKeyError\u001b[0m: 'inputs_FM.xlsx'",
      "\nDuring handling of the above exception, another exception occurred:\n",
      "\u001b[1;31mcom_error\u001b[0m                                 Traceback (most recent call last)",
      "\u001b[1;32m~\\AppData\\Local\\Temp\\ipykernel_23508\\3144042311.py\u001b[0m in \u001b[0;36m?\u001b[1;34m()\u001b[0m\n\u001b[0;32m      1\u001b[0m \u001b[0mprint\u001b[0m\u001b[1;33m(\u001b[0m\u001b[0mblue\u001b[0m\u001b[1;33m(\u001b[0m\u001b[1;34m\"\\n14. Calculate cash flows for all power plants and for all users:\"\u001b[0m\u001b[1;33m,\u001b[0m \u001b[1;33m[\u001b[0m\u001b[1;34m'bold'\u001b[0m\u001b[1;33m,\u001b[0m \u001b[1;34m'underlined'\u001b[0m\u001b[1;33m]\u001b[0m\u001b[1;33m)\u001b[0m\u001b[1;33m,\u001b[0m \u001b[1;34m'\\n'\u001b[0m\u001b[1;33m)\u001b[0m\u001b[1;33m\u001b[0m\u001b[1;33m\u001b[0m\u001b[0m\n\u001b[1;32m----> 2\u001b[1;33m \u001b[0mcash_flows_for_all_plants\u001b[0m\u001b[1;33m(\u001b[0m\u001b[1;33m)\u001b[0m \u001b[1;31m# plants first...\u001b[0m\u001b[1;33m\u001b[0m\u001b[1;33m\u001b[0m\u001b[0m\n\u001b[0m\u001b[0;32m      3\u001b[0m \u001b[0mcash_flows_for_all_users\u001b[0m\u001b[1;33m(\u001b[0m\u001b[1;33m)\u001b[0m \u001b[1;31m# ...then users...\u001b[0m\u001b[1;33m\u001b[0m\u001b[1;33m\u001b[0m\u001b[0m\n",
      "\u001b[1;32mc:\\Users\\rollo\\OneDrive - RSE S.P.A\\Desktop\\CACER - public repo\\CACER-simulator\\Funzioni_Financial_Model.py\u001b[0m in \u001b[0;36m?\u001b[1;34m()\u001b[0m\n\u001b[0;32m   2032\u001b[0m \u001b[1;33m\u001b[0m\u001b[0m\n\u001b[0;32m   2033\u001b[0m     \u001b[0mclear_folder_content\u001b[0m\u001b[1;33m(\u001b[0m\u001b[0mconfig\u001b[0m\u001b[1;33m[\u001b[0m\u001b[1;34m\"foldername_finance_plants\"\u001b[0m\u001b[1;33m]\u001b[0m\u001b[1;33m)\u001b[0m\u001b[1;33m\u001b[0m\u001b[1;33m\u001b[0m\u001b[0m\n\u001b[0;32m   2034\u001b[0m \u001b[1;33m\u001b[0m\u001b[0m\n\u001b[0;32m   2035\u001b[0m     \u001b[1;32mfor\u001b[0m \u001b[0mplant\u001b[0m \u001b[1;32min\u001b[0m \u001b[0mregistry_plants\u001b[0m\u001b[1;33m:\u001b[0m\u001b[1;33m\u001b[0m\u001b[1;33m\u001b[0m\u001b[0m\n\u001b[1;32m-> 2036\u001b[1;33m         \u001b[0mcash_flows_per_plant\u001b[0m\u001b[1;33m(\u001b[0m\u001b[0mplant\u001b[0m\u001b[1;33m)\u001b[0m\u001b[1;33m\u001b[0m\u001b[1;33m\u001b[0m\u001b[0m\n\u001b[0m\u001b[0;32m   2037\u001b[0m         \u001b[0mprint\u001b[0m\u001b[1;33m(\u001b[0m\u001b[1;34mf\"Plant {plant} capex calculation successful\"\u001b[0m\u001b[1;33m)\u001b[0m\u001b[1;33m\u001b[0m\u001b[1;33m\u001b[0m\u001b[0m\n\u001b[0;32m   2038\u001b[0m \u001b[1;33m\u001b[0m\u001b[0m\n\u001b[0;32m   2039\u001b[0m     \u001b[0mprint\u001b[0m\u001b[1;33m(\u001b[0m\u001b[1;34m\"\\nAll plants Capex calculation executed\"\u001b[0m\u001b[1;33m)\u001b[0m\u001b[1;33m\u001b[0m\u001b[1;33m\u001b[0m\u001b[0m\n",
      "\u001b[1;32mc:\\Users\\rollo\\OneDrive - RSE S.P.A\\Desktop\\CACER - public repo\\CACER-simulator\\Funzioni_Financial_Model.py\u001b[0m in \u001b[0;36m?\u001b[1;34m(plant)\u001b[0m\n\u001b[0;32m   2252\u001b[0m     \u001b[1;31m###########################################################################################################\u001b[0m\u001b[1;33m\u001b[0m\u001b[1;33m\u001b[0m\u001b[0m\n\u001b[0;32m   2253\u001b[0m     \u001b[1;31m# OPEX ####################################################################################################\u001b[0m\u001b[1;33m\u001b[0m\u001b[1;33m\u001b[0m\u001b[0m\n\u001b[0;32m   2254\u001b[0m     \u001b[1;31m###########################################################################################################\u001b[0m\u001b[1;33m\u001b[0m\u001b[1;33m\u001b[0m\u001b[0m\n\u001b[0;32m   2255\u001b[0m \u001b[1;33m\u001b[0m\u001b[0m\n\u001b[1;32m-> 2256\u001b[1;33m     \u001b[0mdf_opex\u001b[0m \u001b[1;33m=\u001b[0m \u001b[0mopex_per_plant\u001b[0m\u001b[1;33m(\u001b[0m\u001b[0mplant\u001b[0m\u001b[1;33m,\u001b[0m \u001b[0masset_value\u001b[0m\u001b[1;33m=\u001b[0m\u001b[0mtotal_plant_capex\u001b[0m\u001b[1;33m)\u001b[0m\u001b[1;33m\u001b[0m\u001b[1;33m\u001b[0m\u001b[0m\n\u001b[0m\u001b[0;32m   2257\u001b[0m \u001b[1;33m\u001b[0m\u001b[0m\n\u001b[0;32m   2258\u001b[0m     \u001b[1;31m###########################################################################################################\u001b[0m\u001b[1;33m\u001b[0m\u001b[1;33m\u001b[0m\u001b[0m\n\u001b[0;32m   2259\u001b[0m     \u001b[1;31m# revenues ####################################################################################################\u001b[0m\u001b[1;33m\u001b[0m\u001b[1;33m\u001b[0m\u001b[0m\n",
      "\u001b[1;32mc:\\Users\\rollo\\OneDrive - RSE S.P.A\\Desktop\\CACER - public repo\\CACER-simulator\\Funzioni_Financial_Model.py\u001b[0m in \u001b[0;36m?\u001b[1;34m(plant, asset_value)\u001b[0m\n\u001b[0;32m   2335\u001b[0m     Asset value is the economic value of the asset at commissionig, which is used to compute the insurance across asset lifetime\"\"\"\n\u001b[0;32m   2336\u001b[0m \u001b[1;33m\u001b[0m\u001b[0m\n\u001b[0;32m   2337\u001b[0m     \u001b[0mconfig\u001b[0m \u001b[1;33m=\u001b[0m \u001b[0myaml\u001b[0m\u001b[1;33m.\u001b[0m\u001b[0msafe_load\u001b[0m\u001b[1;33m(\u001b[0m\u001b[0mopen\u001b[0m\u001b[1;33m(\u001b[0m\u001b[1;34m\"config.yml\"\u001b[0m\u001b[1;33m,\u001b[0m \u001b[1;34m'r'\u001b[0m\u001b[1;33m)\u001b[0m\u001b[1;33m)\u001b[0m\u001b[1;33m\u001b[0m\u001b[1;33m\u001b[0m\u001b[0m\n\u001b[0;32m   2338\u001b[0m     \u001b[0mapp\u001b[0m \u001b[1;33m=\u001b[0m \u001b[0mxw\u001b[0m\u001b[1;33m.\u001b[0m\u001b[0mApp\u001b[0m\u001b[1;33m(\u001b[0m\u001b[0mvisible\u001b[0m \u001b[1;33m=\u001b[0m \u001b[1;32mFalse\u001b[0m\u001b[1;33m)\u001b[0m\u001b[1;33m\u001b[0m\u001b[1;33m\u001b[0m\u001b[0m\n\u001b[1;32m-> 2339\u001b[1;33m     \u001b[0mwb\u001b[0m \u001b[1;33m=\u001b[0m \u001b[0mxw\u001b[0m\u001b[1;33m.\u001b[0m\u001b[0mBook\u001b[0m\u001b[1;33m(\u001b[0m\u001b[0mconfig\u001b[0m\u001b[1;33m[\u001b[0m\u001b[1;34m\"filename_input_FM_excel\"\u001b[0m\u001b[1;33m]\u001b[0m\u001b[1;33m)\u001b[0m\u001b[1;33m\u001b[0m\u001b[1;33m\u001b[0m\u001b[0m\n\u001b[0m\u001b[0;32m   2340\u001b[0m     \u001b[0mopex_plant_table\u001b[0m \u001b[1;33m=\u001b[0m \u001b[0mwb\u001b[0m\u001b[1;33m.\u001b[0m\u001b[0msheets\u001b[0m\u001b[1;33m[\u001b[0m\u001b[1;34m\"OPEX\"\u001b[0m\u001b[1;33m]\u001b[0m\u001b[1;33m[\u001b[0m\u001b[1;34m\"opex_plant_table\"\u001b[0m\u001b[1;33m]\u001b[0m\u001b[1;33m.\u001b[0m\u001b[0moptions\u001b[0m\u001b[1;33m(\u001b[0m\u001b[0mpd\u001b[0m\u001b[1;33m.\u001b[0m\u001b[0mSeries\u001b[0m\u001b[1;33m,\u001b[0m \u001b[0mheader\u001b[0m\u001b[1;33m=\u001b[0m\u001b[1;36m1\u001b[0m\u001b[1;33m,\u001b[0m \u001b[0mindex\u001b[0m\u001b[1;33m=\u001b[0m\u001b[1;32mTrue\u001b[0m\u001b[1;33m,\u001b[0m \u001b[0mexpand\u001b[0m\u001b[1;33m=\u001b[0m\u001b[1;34m'table'\u001b[0m\u001b[1;33m)\u001b[0m\u001b[1;33m.\u001b[0m\u001b[0mvalue\u001b[0m\u001b[1;33m\u001b[0m\u001b[1;33m\u001b[0m\u001b[0m\n\u001b[0;32m   2341\u001b[0m     \u001b[0mground_mounted_factor\u001b[0m \u001b[1;33m=\u001b[0m \u001b[0mwb\u001b[0m\u001b[1;33m.\u001b[0m\u001b[0msheets\u001b[0m\u001b[1;33m[\u001b[0m\u001b[1;34m\"OPEX\"\u001b[0m\u001b[1;33m]\u001b[0m\u001b[1;33m[\u001b[0m\u001b[1;34m\"opex_ground_factor\"\u001b[0m\u001b[1;33m]\u001b[0m\u001b[1;33m.\u001b[0m\u001b[0mvalue\u001b[0m \u001b[1;31m# valid for both capex and opex\u001b[0m\u001b[1;33m\u001b[0m\u001b[1;33m\u001b[0m\u001b[0m\n\u001b[0;32m   2342\u001b[0m \u001b[1;33m\u001b[0m\u001b[0m\n",
      "\u001b[1;32m~\\AppData\\Local\\Packages\\PythonSoftwareFoundation.Python.3.10_qbz5n2kfra8p0\\LocalCache\\local-packages\\Python310\\site-packages\\xlwings\\main.py\u001b[0m in \u001b[0;36m?\u001b[1;34m(self, fullname, update_links, read_only, format, password, write_res_password, ignore_read_only_recommended, origin, delimiter, editable, notify, converter, add_to_mru, local, corrupt_load, impl, json, mode, engine)\u001b[0m\n\u001b[0;32m    907\u001b[0m                 \u001b[0mapp\u001b[0m \u001b[1;33m=\u001b[0m \u001b[0mapps\u001b[0m\u001b[1;33m.\u001b[0m\u001b[0mactive\u001b[0m\u001b[1;33m\u001b[0m\u001b[1;33m\u001b[0m\u001b[0m\n\u001b[0;32m    908\u001b[0m                 \u001b[1;32mif\u001b[0m \u001b[0mlen\u001b[0m\u001b[1;33m(\u001b[0m\u001b[0mcandidates\u001b[0m\u001b[1;33m)\u001b[0m \u001b[1;33m==\u001b[0m \u001b[1;36m0\u001b[0m\u001b[1;33m:\u001b[0m\u001b[1;33m\u001b[0m\u001b[1;33m\u001b[0m\u001b[0m\n\u001b[0;32m    909\u001b[0m                     \u001b[1;32mif\u001b[0m \u001b[1;32mnot\u001b[0m \u001b[0mapp\u001b[0m\u001b[1;33m:\u001b[0m\u001b[1;33m\u001b[0m\u001b[1;33m\u001b[0m\u001b[0m\n\u001b[0;32m    910\u001b[0m                         \u001b[0mapp\u001b[0m \u001b[1;33m=\u001b[0m \u001b[0mApp\u001b[0m\u001b[1;33m(\u001b[0m\u001b[0madd_book\u001b[0m\u001b[1;33m=\u001b[0m\u001b[1;32mFalse\u001b[0m\u001b[1;33m)\u001b[0m\u001b[1;33m\u001b[0m\u001b[1;33m\u001b[0m\u001b[0m\n\u001b[1;32m--> 911\u001b[1;33m                     impl = app.books.open(\n\u001b[0m\u001b[0;32m    912\u001b[0m                         \u001b[0mfullname\u001b[0m\u001b[1;33m,\u001b[0m\u001b[1;33m\u001b[0m\u001b[1;33m\u001b[0m\u001b[0m\n\u001b[0;32m    913\u001b[0m                         \u001b[0mupdate_links\u001b[0m\u001b[1;33m,\u001b[0m\u001b[1;33m\u001b[0m\u001b[1;33m\u001b[0m\u001b[0m\n\u001b[0;32m    914\u001b[0m                         \u001b[0mread_only\u001b[0m\u001b[1;33m,\u001b[0m\u001b[1;33m\u001b[0m\u001b[1;33m\u001b[0m\u001b[0m\n",
      "\u001b[1;32m~\\AppData\\Local\\Packages\\PythonSoftwareFoundation.Python.3.10_qbz5n2kfra8p0\\LocalCache\\local-packages\\Python310\\site-packages\\xlwings\\main.py\u001b[0m in \u001b[0;36m?\u001b[1;34m(self, fullname, update_links, read_only, format, password, write_res_password, ignore_read_only_recommended, origin, delimiter, editable, notify, converter, add_to_mru, local, corrupt_load, json)\u001b[0m\n\u001b[0;32m   5020\u001b[0m                     \u001b[1;34m\"Cannot open two workbooks named '%s', even if they are saved in\"\u001b[0m\u001b[1;33m\u001b[0m\u001b[1;33m\u001b[0m\u001b[0m\n\u001b[0;32m   5021\u001b[0m                     \u001b[1;34m\"different locations.\"\u001b[0m \u001b[1;33m%\u001b[0m \u001b[0mname\u001b[0m\u001b[1;33m\u001b[0m\u001b[1;33m\u001b[0m\u001b[0m\n\u001b[0;32m   5022\u001b[0m                 )\n\u001b[0;32m   5023\u001b[0m         \u001b[1;32mexcept\u001b[0m \u001b[0mKeyError\u001b[0m\u001b[1;33m:\u001b[0m\u001b[1;33m\u001b[0m\u001b[1;33m\u001b[0m\u001b[0m\n\u001b[1;32m-> 5024\u001b[1;33m             impl = self.impl.open(\n\u001b[0m\u001b[0;32m   5025\u001b[0m                 \u001b[0mfullname\u001b[0m\u001b[1;33m,\u001b[0m\u001b[1;33m\u001b[0m\u001b[1;33m\u001b[0m\u001b[0m\n\u001b[0;32m   5026\u001b[0m                 \u001b[0mupdate_links\u001b[0m\u001b[1;33m,\u001b[0m\u001b[1;33m\u001b[0m\u001b[1;33m\u001b[0m\u001b[0m\n\u001b[0;32m   5027\u001b[0m                 \u001b[0mread_only\u001b[0m\u001b[1;33m,\u001b[0m\u001b[1;33m\u001b[0m\u001b[1;33m\u001b[0m\u001b[0m\n",
      "\u001b[1;32m~\\AppData\\Local\\Packages\\PythonSoftwareFoundation.Python.3.10_qbz5n2kfra8p0\\LocalCache\\local-packages\\Python310\\site-packages\\xlwings\\_xlwindows.py\u001b[0m in \u001b[0;36m?\u001b[1;34m(self, fullname, update_links, read_only, format, password, write_res_password, ignore_read_only_recommended, origin, delimiter, editable, notify, converter, add_to_mru, local, corrupt_load)\u001b[0m\n\u001b[0;32m    748\u001b[0m         \u001b[1;32mif\u001b[0m \u001b[0mupdate_links\u001b[0m\u001b[1;33m:\u001b[0m\u001b[1;33m\u001b[0m\u001b[1;33m\u001b[0m\u001b[0m\n\u001b[0;32m    749\u001b[0m             \u001b[0mupdate_links\u001b[0m \u001b[1;33m=\u001b[0m \u001b[0mUpdateLinks\u001b[0m\u001b[1;33m.\u001b[0m\u001b[0mxlUpdateLinksAlways\u001b[0m\u001b[1;33m\u001b[0m\u001b[1;33m\u001b[0m\u001b[0m\n\u001b[0;32m    750\u001b[0m         \u001b[1;31m# Workbooks.Open params are position only on pywin32\u001b[0m\u001b[1;33m\u001b[0m\u001b[1;33m\u001b[0m\u001b[0m\n\u001b[0;32m    751\u001b[0m         return Book(\n\u001b[1;32m--> 752\u001b[1;33m             xl=self.xl.Open(\n\u001b[0m\u001b[0;32m    753\u001b[0m                 \u001b[0mfullname\u001b[0m\u001b[1;33m,\u001b[0m\u001b[1;33m\u001b[0m\u001b[1;33m\u001b[0m\u001b[0m\n\u001b[0;32m    754\u001b[0m                 \u001b[0mupdate_links\u001b[0m\u001b[1;33m,\u001b[0m\u001b[1;33m\u001b[0m\u001b[1;33m\u001b[0m\u001b[0m\n\u001b[0;32m    755\u001b[0m                 \u001b[0mread_only\u001b[0m\u001b[1;33m,\u001b[0m\u001b[1;33m\u001b[0m\u001b[1;33m\u001b[0m\u001b[0m\n",
      "\u001b[1;32m~\\AppData\\Local\\Packages\\PythonSoftwareFoundation.Python.3.10_qbz5n2kfra8p0\\LocalCache\\local-packages\\Python310\\site-packages\\xlwings\\_xlwindows.py\u001b[0m in \u001b[0;36m?\u001b[1;34m(self, *args, **kwargs)\u001b[0m\n\u001b[0;32m    119\u001b[0m                 ) and e.hresult == -2147418111:\n\u001b[0;32m    120\u001b[0m                     \u001b[0mn_attempt\u001b[0m \u001b[1;33m+=\u001b[0m \u001b[1;36m1\u001b[0m\u001b[1;33m\u001b[0m\u001b[1;33m\u001b[0m\u001b[0m\n\u001b[0;32m    121\u001b[0m                     \u001b[1;32mcontinue\u001b[0m\u001b[1;33m\u001b[0m\u001b[1;33m\u001b[0m\u001b[0m\n\u001b[0;32m    122\u001b[0m                 \u001b[1;32melse\u001b[0m\u001b[1;33m:\u001b[0m\u001b[1;33m\u001b[0m\u001b[1;33m\u001b[0m\u001b[0m\n\u001b[1;32m--> 123\u001b[1;33m                     \u001b[1;32mraise\u001b[0m\u001b[1;33m\u001b[0m\u001b[1;33m\u001b[0m\u001b[0m\n\u001b[0m\u001b[0;32m    124\u001b[0m             \u001b[1;32mexcept\u001b[0m \u001b[0mAttributeError\u001b[0m\u001b[1;33m:\u001b[0m\u001b[1;33m\u001b[0m\u001b[1;33m\u001b[0m\u001b[0m\n\u001b[0;32m    125\u001b[0m                 \u001b[1;32mif\u001b[0m \u001b[1;32mnot\u001b[0m \u001b[0mN_COM_ATTEMPTS\u001b[0m \u001b[1;32mor\u001b[0m \u001b[0mn_attempt\u001b[0m \u001b[1;33m<\u001b[0m \u001b[0mN_COM_ATTEMPTS\u001b[0m\u001b[1;33m:\u001b[0m\u001b[1;33m\u001b[0m\u001b[1;33m\u001b[0m\u001b[0m\n\u001b[0;32m    126\u001b[0m                     \u001b[0mn_attempt\u001b[0m \u001b[1;33m+=\u001b[0m \u001b[1;36m1\u001b[0m\u001b[1;33m\u001b[0m\u001b[1;33m\u001b[0m\u001b[0m\n",
      "\u001b[1;32m~\\AppData\\Local\\Temp\\gen_py\\3.10\\00020813-0000-0000-C000-000000000046x0x1x9.py\u001b[0m in \u001b[0;36m?\u001b[1;34m(self, Filename, UpdateLinks, ReadOnly, Format, Password, WriteResPassword, IgnoreReadOnlyRecommended, Origin, Delimiter, Editable, Notify, Converter, AddToMru, Local, CorruptLoad)\u001b[0m\n\u001b[0;32m  41271\u001b[0m \tdef Open(self, Filename=defaultNamedNotOptArg, UpdateLinks=defaultNamedOptArg, ReadOnly=defaultNamedOptArg, Format=defaultNamedOptArg\n\u001b[0;32m  41272\u001b[0m                         \u001b[1;33m,\u001b[0m \u001b[0mPassword\u001b[0m\u001b[1;33m=\u001b[0m\u001b[0mdefaultNamedOptArg\u001b[0m\u001b[1;33m,\u001b[0m \u001b[0mWriteResPassword\u001b[0m\u001b[1;33m=\u001b[0m\u001b[0mdefaultNamedOptArg\u001b[0m\u001b[1;33m,\u001b[0m \u001b[0mIgnoreReadOnlyRecommended\u001b[0m\u001b[1;33m=\u001b[0m\u001b[0mdefaultNamedOptArg\u001b[0m\u001b[1;33m,\u001b[0m \u001b[0mOrigin\u001b[0m\u001b[1;33m=\u001b[0m\u001b[0mdefaultNamedOptArg\u001b[0m\u001b[1;33m,\u001b[0m \u001b[0mDelimiter\u001b[0m\u001b[1;33m=\u001b[0m\u001b[0mdefaultNamedOptArg\u001b[0m\u001b[1;33m\u001b[0m\u001b[1;33m\u001b[0m\u001b[0m\n\u001b[0;32m  41273\u001b[0m                         \u001b[1;33m,\u001b[0m \u001b[0mEditable\u001b[0m\u001b[1;33m=\u001b[0m\u001b[0mdefaultNamedOptArg\u001b[0m\u001b[1;33m,\u001b[0m \u001b[0mNotify\u001b[0m\u001b[1;33m=\u001b[0m\u001b[0mdefaultNamedOptArg\u001b[0m\u001b[1;33m,\u001b[0m \u001b[0mConverter\u001b[0m\u001b[1;33m=\u001b[0m\u001b[0mdefaultNamedOptArg\u001b[0m\u001b[1;33m,\u001b[0m \u001b[0mAddToMru\u001b[0m\u001b[1;33m=\u001b[0m\u001b[0mdefaultNamedOptArg\u001b[0m\u001b[1;33m,\u001b[0m \u001b[0mLocal\u001b[0m\u001b[1;33m=\u001b[0m\u001b[0mdefaultNamedOptArg\u001b[0m\u001b[1;33m\u001b[0m\u001b[1;33m\u001b[0m\u001b[0m\n\u001b[0;32m  41274\u001b[0m \t\t\t, CorruptLoad=defaultNamedOptArg):\n\u001b[1;32m> 41275\u001b[1;33m \t\tret = self._oleobj_.InvokeTypes(1923, LCID, 1, (13, 0), ((8, 1), (12, 17), (12, 17), (12, 17), (12, 17), (12, 17), (12, 17), (12, 17), (12, 17), (12, 17), (12, 17), (12, 17), (12, 17), (12, 17), (12, 17)),Filename\n\u001b[0m\u001b[0;32m  41276\u001b[0m                         \u001b[1;33m,\u001b[0m \u001b[0mUpdateLinks\u001b[0m\u001b[1;33m,\u001b[0m \u001b[0mReadOnly\u001b[0m\u001b[1;33m,\u001b[0m \u001b[0mFormat\u001b[0m\u001b[1;33m,\u001b[0m \u001b[0mPassword\u001b[0m\u001b[1;33m,\u001b[0m \u001b[0mWriteResPassword\u001b[0m\u001b[1;33m\u001b[0m\u001b[1;33m\u001b[0m\u001b[0m\n\u001b[0;32m  41277\u001b[0m                         \u001b[1;33m,\u001b[0m \u001b[0mIgnoreReadOnlyRecommended\u001b[0m\u001b[1;33m,\u001b[0m \u001b[0mOrigin\u001b[0m\u001b[1;33m,\u001b[0m \u001b[0mDelimiter\u001b[0m\u001b[1;33m,\u001b[0m \u001b[0mEditable\u001b[0m\u001b[1;33m,\u001b[0m \u001b[0mNotify\u001b[0m\u001b[1;33m\u001b[0m\u001b[1;33m\u001b[0m\u001b[0m\n\u001b[0;32m  41278\u001b[0m \t\t\t, Converter, AddToMru, Local, CorruptLoad)\n",
      "\u001b[1;31mcom_error\u001b[0m: (-2147352567, 'Eccezione.', (0, 'Microsoft Excel', \"Microsoft Excel cannot access the file 'C:\\\\Users\\\\rollo\\\\OneDrive - RSE S.p.A\\\\Desktop\\\\CACER - public repo\\\\CACER-simulator\\\\files\\\\inputs_FM.xlsx'. There are several possible reasons:\\n\\n• The file name or path does not exist.\\n• The file is being used by another program.\\n• The workbook you are trying to save has the same name as a currently open workbook.\", 'xlmain11.chm', 0, -2146827284), None)"
     ]
    }
   ],
   "source": [
    "print(blue(\"\\n14. Calculate cash flows for all power plants and for all users:\", ['bold', 'underlined']), '\\n')\n",
    "cash_flows_for_all_plants() # plants first...\n",
    "cash_flows_for_all_users() # ...then users..."
   ]
  },
  {
   "cell_type": "markdown",
   "metadata": {},
   "source": [
    "---"
   ]
  },
  {
   "cell_type": "markdown",
   "metadata": {},
   "source": [
    "### **15. All the economic cash flows are aggregated for the project and for the CACER configuration (<u>for single primary station</u>)**\n",
    "\n",
    "A csv file (*project.xlsx*) is created with the following sheets:\n",
    "\n",
    "- plants;\n",
    "\n",
    "- CACER;\n",
    "\n",
    "- totals;\n",
    "\n",
    "- DCF_monthly;\n",
    "\n",
    "- DCF_yearly;\n",
    "\n",
    "- Results.\n",
    "\n",
    "&nbsp;\n",
    "\n",
    "A csv file (*primary_station_id.xlsx*) for each primary stations are created with the following sheets:\n",
    "\n",
    "- plants;\n",
    "\n",
    "- CACER;\n",
    "\n",
    "- totals;\n",
    "\n",
    "- DCF_monthly;\n",
    "\n",
    "- DCF_yearly;\n",
    "\n",
    "- Results.\n",
    "\n",
    "📂 *files/finance/configurations/*"
   ]
  },
  {
   "cell_type": "code",
   "execution_count": null,
   "metadata": {},
   "outputs": [],
   "source": [
    "print(blue(\"\\n15. Run financial model for each configurations:\", ['bold', 'underlined']), '\\n')\n",
    "aggregate_FM() # ...then configurations!"
   ]
  },
  {
   "cell_type": "markdown",
   "metadata": {},
   "source": [
    "---"
   ]
  },
  {
   "cell_type": "markdown",
   "metadata": {},
   "source": [
    "### **16.1 The simulation results are organized for the export and for the creation of the report**\n",
    "\n",
    "Different results are added to *files/recap.yml* and the following file is created:\n",
    "\n",
    "        → files/results_finance/results_FM_last_simulation.csv"
   ]
  },
  {
   "cell_type": "code",
   "execution_count": null,
   "metadata": {},
   "outputs": [],
   "source": [
    "print(blue(\"\\n16.1 Organize results for report:\", ['bold', 'underlined']), '\\n')\n",
    "organize_simulation_results_for_reporting()"
   ]
  },
  {
   "cell_type": "markdown",
   "metadata": {},
   "source": [
    "---"
   ]
  },
  {
   "cell_type": "markdown",
   "metadata": {},
   "source": [
    "### **16.2 Creating the report with results**\n",
    "\n",
    "A report with the main results is created."
   ]
  },
  {
   "cell_type": "code",
   "execution_count": null,
   "metadata": {},
   "outputs": [],
   "source": [
    "print(blue(\"\\n16.2 Create report:\", ['bold', 'underlined']), '\\n')\n",
    "%run reporting_v3.ipynb"
   ]
  },
  {
   "cell_type": "markdown",
   "metadata": {},
   "source": [
    "---"
   ]
  },
  {
   "cell_type": "markdown",
   "metadata": {},
   "source": [
    "### **16.3 Creating the report with results**\n",
    "\n",
    "All the following files and results are collected in a folder.\n",
    "\n",
    "        → all files stored in files/finance/\n",
    "        → files/energy/CACER_energy_monthly.xlsx\n",
    "        → files/incentivi/CACER_incentivi.csv\n",
    "        → files/membership_matrix.csv\n",
    "        → files/plant_operation_matrix.xlsx\n",
    "        → files/inputs_FM.xlsx\n",
    "        → files/registry_plants.yml\n",
    "        → files/registry_user_types.yml\n",
    "        → files/registry_users.yml\n",
    "        → files/results_finance/results_FM_last_simulation.csv\n",
    "        → files/recap.yml\n",
    "        → the report stored in files/results_finance/case_denomination_id.docx\n",
    "\n",
    "📂 *files/results_finance/case_denomination/*"
   ]
  },
  {
   "cell_type": "code",
   "execution_count": null,
   "metadata": {},
   "outputs": [],
   "source": [
    "print(blue(\"\\n16.3 Save all finance results:\", ['bold', 'underlined']), '\\n')\n",
    "save_simulation_results(simulation_name = case_denomination)"
   ]
  },
  {
   "cell_type": "markdown",
   "metadata": {},
   "source": [
    "---\n",
    "---"
   ]
  }
 ],
 "metadata": {
  "kernelspec": {
   "display_name": "Python 3",
   "language": "python",
   "name": "python3"
  },
  "language_info": {
   "codemirror_mode": {
    "name": "ipython",
    "version": 3
   },
   "file_extension": ".py",
   "mimetype": "text/x-python",
   "name": "python",
   "nbconvert_exporter": "python",
   "pygments_lexer": "ipython3",
   "version": "3.10.11"
  },
  "orig_nbformat": 4
 },
 "nbformat": 4,
 "nbformat_minor": 2
}
